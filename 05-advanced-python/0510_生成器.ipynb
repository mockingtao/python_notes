{
 "cells": [
  {
   "cell_type": "markdown",
   "metadata": {},
   "source": [
    "# 生成器"
   ]
  },
  {
   "cell_type": "markdown",
   "metadata": {},
   "source": [
    "`while` 循环通常有这样的形式：\n",
    "\n",
    "```python\n",
    "<do setup>\n",
    "result = []\n",
    "while True:\n",
    "    <generate value>\n",
    "    result.append(value)\n",
    "    if <done>:\n",
    "        break\n",
    "```\n",
    "\n",
    "使用迭代器实现这样的循环：\n",
    "\n",
    "```python\n",
    "class GenericIterator(object):\n",
    "    def __init__(self, ...):\n",
    "        <do setup>\n",
    "        # 需要额外储存状态\n",
    "        <store state>\n",
    "    def __next__(self): \n",
    "        <load state>\n",
    "        <generate value>\n",
    "        if <done>:\n",
    "            raise StopIteration()\n",
    "        <store state>\n",
    "        return value\n",
    "```\n",
    "\n",
    "更简单的，可以使用生成器：\n",
    "\n",
    "```python\n",
    "def generator(...):\n",
    "    <do setup>\n",
    "    while True:\n",
    "        <generate value>\n",
    "        # yield 说明这个函数可以返回多个值！\n",
    "        yield value\n",
    "        if <done>:\n",
    "            break\n",
    "```\n",
    "\n",
    "生成器使用 `yield` 关键字将值输出，而迭代器则通过 `next` 的 `return` 将值返回；与迭代器不同的是，生成器会自动记录当前的状态，而迭代器则需要进行额外的操作来记录当前的状态。\n",
    "\n",
    "对于之前的 `collatz` 猜想，简单循环的实现如下："
   ]
  },
  {
   "cell_type": "code",
   "execution_count": 1,
   "metadata": {
    "ExecuteTime": {
     "end_time": "2022-09-20T23:59:46.905939Z",
     "start_time": "2022-09-20T23:59:46.878847Z"
    }
   },
   "outputs": [
    {
     "name": "stdout",
     "output_type": "stream",
     "text": [
      "22\n",
      "11.0\n",
      "34.0\n",
      "17.0\n",
      "52.0\n",
      "26.0\n",
      "13.0\n",
      "40.0\n",
      "20.0\n",
      "10.0\n",
      "5.0\n",
      "16.0\n",
      "8.0\n",
      "4.0\n",
      "2.0\n",
      "1.0\n"
     ]
    }
   ],
   "source": [
    "def collatz(n):\n",
    "    sequence = []\n",
    "    while n != 1:\n",
    "        if n % 2 == 0:\n",
    "            n /= 2\n",
    "        else:\n",
    "            n = 3*n + 1\n",
    "        sequence.append(n)\n",
    "    return sequence\n",
    "\n",
    "for x in collatz(7):\n",
    "    print (x)\n",
    "\n",
    "# cc：这是最简单朴素的方法。直接用循环解决；"
   ]
  },
  {
   "cell_type": "markdown",
   "metadata": {},
   "source": [
    "迭代器的版本如下："
   ]
  },
  {
   "cell_type": "code",
   "execution_count": 2,
   "metadata": {
    "ExecuteTime": {
     "end_time": "2022-09-21T00:00:19.793236Z",
     "start_time": "2022-09-21T00:00:19.769589Z"
    }
   },
   "outputs": [
    {
     "name": "stdout",
     "output_type": "stream",
     "text": [
      "22\n",
      "11.0\n",
      "34.0\n",
      "17.0\n",
      "52.0\n",
      "26.0\n",
      "13.0\n",
      "40.0\n",
      "20.0\n",
      "10.0\n",
      "5.0\n",
      "16.0\n",
      "8.0\n",
      "4.0\n",
      "2.0\n",
      "1.0\n"
     ]
    }
   ],
   "source": [
    "class Collatz(object):\n",
    "    def __init__(self, start):\n",
    "        self.value = start\n",
    "\n",
    "    def __iter__(self):\n",
    "        return self\n",
    "    \n",
    "    def __next__(self):\n",
    "        if self.value == 1:\n",
    "            raise StopIteration()\n",
    "        elif self.value % 2 == 0:\n",
    "            self.value = self.value/2\n",
    "        else:\n",
    "            self.value = 3*self.value + 1\n",
    "        return self.value\n",
    "\n",
    "for x in Collatz(7):\n",
    "    print(x,)\n",
    "# 这里用上了迭代器，如上一章讲的。"
   ]
  },
  {
   "cell_type": "markdown",
   "metadata": {},
   "source": [
    "生成器的版本如下："
   ]
  },
  {
   "cell_type": "code",
   "execution_count": 3,
   "metadata": {},
   "outputs": [
    {
     "name": "stdout",
     "output_type": "stream",
     "text": [
      "22 11 34 17 52 26 13 40 20 10 5 16 8 4 2 1\n"
     ]
    }
   ],
   "source": [
    "def collatz(n):\n",
    "    while n != 1:\n",
    "        if n % 2 == 0:\n",
    "            n /= 2\n",
    "        else:\n",
    "            n = 3*n + 1\n",
    "        yield n\n",
    "\n",
    "for x in collatz(7):\n",
    "    print x,"
   ]
  },
  {
   "cell_type": "code",
   "execution_count": 7,
   "metadata": {
    "ExecuteTime": {
     "end_time": "2022-09-21T00:05:32.598473Z",
     "start_time": "2022-09-21T00:05:32.585215Z"
    }
   },
   "outputs": [
    {
     "name": "stdout",
     "output_type": "stream",
     "text": [
      "22\n",
      "11.0\n",
      "34.0\n",
      "17.0\n",
      "52.0\n",
      "26.0\n",
      "13.0\n",
      "40.0\n",
      "20.0\n",
      "10.0\n",
      "5.0\n",
      "16.0\n",
      "8.0\n",
      "4.0\n",
      "2.0\n",
      "1.0\n"
     ]
    }
   ],
   "source": [
    "# cc ：生成器真是简单，不过和循环比也差不多。\n",
    "\n",
    "def collatz(n):\n",
    "    while n != 1:\n",
    "        if n % 2 == 0:\n",
    "            n /= 2\n",
    "        else:\n",
    "            n = 3*n + 1\n",
    "        yield n # 这里就直接返回当前value，并记录当前状态继续执行“迭代”\n",
    "\n",
    "for x in collatz(7):\n",
    "    print(x)\n",
    "\n",
    "# print('\\n')\n",
    "    \n",
    "# # 把循环拿过来再对比一下：\n",
    "# def collatz(n):\n",
    "#     sequence = [] # 发现这需要先声明一个空list\n",
    "#     while n != 1:\n",
    "#         if n % 2 == 0:\n",
    "#             n /= 2\n",
    "#         else:\n",
    "#             n = 3*n + 1\n",
    "#         sequence.append(n)\n",
    "#     return sequence\n",
    "\n",
    "# for x in collatz(7):\n",
    "#     print (x)"
   ]
  },
  {
   "cell_type": "markdown",
   "metadata": {},
   "source": [
    "事实上，生成器也是一种迭代器："
   ]
  },
  {
   "cell_type": "code",
   "execution_count": 11,
   "metadata": {
    "ExecuteTime": {
     "end_time": "2022-09-21T00:05:49.016626Z",
     "start_time": "2022-09-21T00:05:49.010619Z"
    }
   },
   "outputs": [
    {
     "name": "stdout",
     "output_type": "stream",
     "text": [
      "<generator object collatz at 0x7f794b79b040>\n"
     ]
    }
   ],
   "source": [
    "x = collatz(7)\n",
    "print(x)"
   ]
  },
  {
   "cell_type": "markdown",
   "metadata": {},
   "source": [
    "它支持 `__next__` 方法，返回下一个 `yield` 的值："
   ]
  },
  {
   "cell_type": "code",
   "execution_count": 13,
   "metadata": {
    "ExecuteTime": {
     "end_time": "2022-09-21T00:06:19.657724Z",
     "start_time": "2022-09-21T00:06:19.648443Z"
    }
   },
   "outputs": [
    {
     "name": "stdout",
     "output_type": "stream",
     "text": [
      "22\n",
      "11.0\n"
     ]
    }
   ],
   "source": [
    "print(x.__next__())\n",
    "print(x.__next__())"
   ]
  },
  {
   "cell_type": "markdown",
   "metadata": {},
   "source": [
    "`__iter__` 方法返回的是它本身："
   ]
  },
  {
   "cell_type": "code",
   "execution_count": 14,
   "metadata": {
    "ExecuteTime": {
     "end_time": "2022-09-21T00:06:27.866454Z",
     "start_time": "2022-09-21T00:06:27.855960Z"
    }
   },
   "outputs": [
    {
     "name": "stdout",
     "output_type": "stream",
     "text": [
      "<generator object collatz at 0x7f794b79b040>\n"
     ]
    }
   ],
   "source": [
    "print(x.__iter__())"
   ]
  },
  {
   "cell_type": "markdown",
   "metadata": {},
   "source": [
    "之前的二叉树迭代器可以改写为更简单的生成器模式来进行中序遍历："
   ]
  },
  {
   "cell_type": "code",
   "execution_count": 7,
   "metadata": {
    "collapsed": true
   },
   "outputs": [],
   "source": [
    "class BinaryTree(object):\n",
    "    def __init__(self, value, left=None, right=None):\n",
    "        self.value = value\n",
    "        self.left = left\n",
    "        self.right = right\n",
    "\n",
    "    def __iter__(self):\n",
    "        # 将迭代器设为生成器方法\n",
    "        return self.inorder()\n",
    "    \n",
    "    def inorder(self):\n",
    "        # traverse the left branch\n",
    "        if self.left is not None:\n",
    "            for value in self.left:\n",
    "                yield value\n",
    "                \n",
    "        # yield node's value\n",
    "        yield self.value\n",
    "        \n",
    "        # traverse the right branch\n",
    "        if self.right is not None:\n",
    "            for value in self.right:\n",
    "                yield value"
   ]
  },
  {
   "cell_type": "markdown",
   "metadata": {},
   "source": [
    "非递归的实现："
   ]
  },
  {
   "cell_type": "code",
   "execution_count": 9,
   "metadata": {
    "collapsed": true
   },
   "outputs": [],
   "source": [
    "def inorder(self):\n",
    "    node = self\n",
    "    stack = []\n",
    "    while len(stack) > 0 or node is not None:\n",
    "        while node is not None:\n",
    "            stack.append(node)\n",
    "            node = node.left\n",
    "        node = stack.pop()\n",
    "        yield node.value\n",
    "        node = node.right"
   ]
  },
  {
   "cell_type": "code",
   "execution_count": 10,
   "metadata": {},
   "outputs": [
    {
     "name": "stdout",
     "output_type": "stream",
     "text": [
      "1 2 3 4 5 6 7 8\n"
     ]
    }
   ],
   "source": [
    "tree = BinaryTree(\n",
    "    left=BinaryTree(\n",
    "        left=BinaryTree(1),\n",
    "        value=2,\n",
    "        right=BinaryTree(\n",
    "            left=BinaryTree(3),\n",
    "            value=4,\n",
    "            right=BinaryTree(5)\n",
    "        ),\n",
    "    ),\n",
    "    value=6,\n",
    "    right=BinaryTree(\n",
    "        value=7,\n",
    "        right=BinaryTree(8)\n",
    "    )\n",
    ")\n",
    "for value in tree:\n",
    "    print value,"
   ]
  }
 ],
 "metadata": {
  "kernelspec": {
   "display_name": "Python 3",
   "language": "python",
   "name": "python3"
  },
  "language_info": {
   "codemirror_mode": {
    "name": "ipython",
    "version": 3
   },
   "file_extension": ".py",
   "mimetype": "text/x-python",
   "name": "python",
   "nbconvert_exporter": "python",
   "pygments_lexer": "ipython3",
   "version": "3.8.8"
  }
 },
 "nbformat": 4,
 "nbformat_minor": 1
}
