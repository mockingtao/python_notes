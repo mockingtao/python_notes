{
 "cells": [
  {
   "cell_type": "markdown",
   "metadata": {},
   "source": [
    "# 修饰符的使用"
   ]
  },
  {
   "cell_type": "markdown",
   "metadata": {},
   "source": [
    "## @classmethod 修饰符"
   ]
  },
  {
   "cell_type": "markdown",
   "metadata": {
    "collapsed": true
   },
   "source": [
    "在 `Python` 标准库中，有很多自带的修饰符，例如 `classmethod` 将一个对象方法转换了类方法： "
   ]
  },
  {
   "cell_type": "code",
   "execution_count": null,
   "metadata": {},
   "outputs": [],
   "source": [
    "class Foo(object):\n",
    "    @classmethod\n",
    "    def bar(cls, x):\n",
    "        print 'the input is', x\n",
    "        \n",
    "    def __init__(self):\n",
    "        pass\n"
   ]
  },
  {
   "cell_type": "markdown",
   "metadata": {},
   "source": [
    "类方法可以通过 `类名.方法` 来调用："
   ]
  },
  {
   "cell_type": "code",
   "execution_count": 2,
   "metadata": {},
   "outputs": [
    {
     "name": "stdout",
     "output_type": "stream",
     "text": [
      "the input is 12\n"
     ]
    }
   ],
   "source": [
    "Foo.bar(12)"
   ]
  },
  {
   "cell_type": "code",
   "execution_count": 3,
   "metadata": {
    "ExecuteTime": {
     "end_time": "2022-09-21T00:32:55.826230Z",
     "start_time": "2022-09-21T00:32:55.797910Z"
    }
   },
   "outputs": [
    {
     "ename": "TypeError",
     "evalue": "bar() missing 1 required positional argument: 'x'",
     "output_type": "error",
     "traceback": [
      "\u001b[0;31m---------------------------------------------------------------------------\u001b[0m",
      "\u001b[0;31mTypeError\u001b[0m                                 Traceback (most recent call last)",
      "\u001b[0;32m<ipython-input-3-57c4f509487d>\u001b[0m in \u001b[0;36m<module>\u001b[0;34m\u001b[0m\n\u001b[1;32m      8\u001b[0m         \u001b[0;32mpass\u001b[0m\u001b[0;34m\u001b[0m\u001b[0;34m\u001b[0m\u001b[0m\n\u001b[1;32m      9\u001b[0m \u001b[0;34m\u001b[0m\u001b[0m\n\u001b[0;32m---> 10\u001b[0;31m \u001b[0mFoo\u001b[0m\u001b[0;34m.\u001b[0m\u001b[0mbar\u001b[0m\u001b[0;34m(\u001b[0m\u001b[0;36m12\u001b[0m\u001b[0;34m)\u001b[0m\u001b[0;34m\u001b[0m\u001b[0;34m\u001b[0m\u001b[0m\n\u001b[0m",
      "\u001b[0;31mTypeError\u001b[0m: bar() missing 1 required positional argument: 'x'"
     ]
    }
   ],
   "source": [
    "# cc\n",
    "class Foo(object):\n",
    "#     @classmethod\n",
    "    def bar(cls, x):\n",
    "        print('the input is', x)\n",
    "    \n",
    "    def __init__(self):\n",
    "        pass\n",
    "    \n",
    "Foo.bar(12)"
   ]
  },
  {
   "cell_type": "code",
   "execution_count": 4,
   "metadata": {
    "ExecuteTime": {
     "end_time": "2022-09-21T00:33:49.500730Z",
     "start_time": "2022-09-21T00:33:49.491829Z"
    }
   },
   "outputs": [
    {
     "name": "stdout",
     "output_type": "stream",
     "text": [
      "the input is 12\n"
     ]
    }
   ],
   "source": [
    "# cc\n",
    "class Foo(object):\n",
    "    @classmethod\n",
    "    def bar(cls, x):\n",
    "        print('the input is', x)\n",
    "    \n",
    "    def __init__(self):\n",
    "        pass\n",
    "    \n",
    "Foo.bar(12)"
   ]
  },
  {
   "cell_type": "markdown",
   "metadata": {},
   "source": [
    "## @property 修饰符"
   ]
  },
  {
   "cell_type": "markdown",
   "metadata": {},
   "source": [
    "有时候，我们希望像 __Java__ 一样支持 `getters` 和 `setters` 的方法，这时候就可以使用 `property` 修饰符："
   ]
  },
  {
   "cell_type": "code",
   "execution_count": 3,
   "metadata": {
    "collapsed": true
   },
   "outputs": [],
   "source": [
    "class Foo(object):\n",
    "    def __init__(self, data):\n",
    "        self.data = data\n",
    "    \n",
    "    @property\n",
    "    def x(self):\n",
    "        return self.data"
   ]
  },
  {
   "cell_type": "markdown",
   "metadata": {},
   "source": [
    "此时可以使用 `.x` 这个属性查看数据（不需要加上括号）："
   ]
  },
  {
   "cell_type": "code",
   "execution_count": 4,
   "metadata": {},
   "outputs": [
    {
     "data": {
      "text/plain": [
       "23"
      ]
     },
     "execution_count": 4,
     "metadata": {},
     "output_type": "execute_result"
    }
   ],
   "source": [
    "foo = Foo(23)\n",
    "foo.x"
   ]
  },
  {
   "cell_type": "markdown",
   "metadata": {},
   "source": [
    "这样做的好处在于，这个属性是只读的："
   ]
  },
  {
   "cell_type": "code",
   "execution_count": 5,
   "metadata": {},
   "outputs": [
    {
     "ename": "AttributeError",
     "evalue": "can't set attribute",
     "output_type": "error",
     "traceback": [
      "\u001b[1;31m---------------------------------------------------------------------------\u001b[0m",
      "\u001b[1;31mAttributeError\u001b[0m                            Traceback (most recent call last)",
      "\u001b[1;32m<ipython-input-5-e5e7e6c675ef>\u001b[0m in \u001b[0;36m<module>\u001b[1;34m()\u001b[0m\n\u001b[1;32m----> 1\u001b[1;33m \u001b[0mfoo\u001b[0m\u001b[1;33m.\u001b[0m\u001b[0mx\u001b[0m \u001b[1;33m=\u001b[0m \u001b[1;36m1\u001b[0m\u001b[1;33m\u001b[0m\u001b[0m\n\u001b[0m",
      "\u001b[1;31mAttributeError\u001b[0m: can't set attribute"
     ]
    }
   ],
   "source": [
    "foo.x = 1"
   ]
  },
  {
   "cell_type": "markdown",
   "metadata": {},
   "source": [
    "如果想让它变成可读写，可以加上一个修饰符 `@x.setter`："
   ]
  },
  {
   "cell_type": "code",
   "execution_count": 6,
   "metadata": {
    "collapsed": true
   },
   "outputs": [],
   "source": [
    "class Foo(object):\n",
    "    def __init__(self, data):\n",
    "        self.data = data\n",
    "    \n",
    "    @property\n",
    "    def x(self):\n",
    "        return self.data\n",
    "    \n",
    "    @x.setter\n",
    "    def x(self, value):\n",
    "        self.data = value"
   ]
  },
  {
   "cell_type": "code",
   "execution_count": 7,
   "metadata": {},
   "outputs": [
    {
     "name": "stdout",
     "output_type": "stream",
     "text": [
      "23\n"
     ]
    }
   ],
   "source": [
    "foo = Foo(23)\n",
    "print(foo.x)"
   ]
  },
  {
   "cell_type": "markdown",
   "metadata": {},
   "source": [
    "可以通过属性改变它的值："
   ]
  },
  {
   "cell_type": "code",
   "execution_count": 7,
   "metadata": {
    "ExecuteTime": {
     "end_time": "2022-09-27T00:23:19.917419Z",
     "start_time": "2022-09-27T00:23:19.912367Z"
    }
   },
   "outputs": [
    {
     "name": "stdout",
     "output_type": "stream",
     "text": [
      "1\n"
     ]
    }
   ],
   "source": [
    "foo.x = 1\n",
    "print (foo.x)"
   ]
  },
  {
   "cell_type": "markdown",
   "metadata": {},
   "source": [
    "## Numpy 的 @vectorize 修饰符"
   ]
  },
  {
   "cell_type": "markdown",
   "metadata": {},
   "source": [
    "`numpy` 的 `vectorize` 函数将一个函数转换为 `ufunc`，事实上它也是一个修饰符；\n",
    "\n",
    "通函数（或简称为`ufunc`） 是一种ndarrays以逐元素方式操作的函数，支持数组广播，类型转换和其他一些标准功能。也就是说，ufunc是一个函数的 “ 矢量化 ” 包装器，它接受固定数量的特定输入并产生固定数量的特定输出。\n",
    "\n",
    "【Python效率】五种Pandas循环方法效率对比：https://zhuanlan.zhihu.com/p/80880493\n",
    "\n",
    "vectorize与apply性能对比相关：https://stackoverflow.com/questions/52673285/performance-of-pandas-apply-vs-np-vectorize-to-create-new-column-from-existing-c"
   ]
  },
  {
   "cell_type": "code",
   "execution_count": 9,
   "metadata": {},
   "outputs": [
    {
     "data": {
      "text/plain": [
       "array([-10.,  -9.,  -8.,  -7.,  -6.,  -5.,  -4.,  -3.,  -2.,  -1.,   0.,\n",
       "         0.,   0.,   0.,   0.,   0.,   0.,   0.,   0.,   0.])"
      ]
     },
     "execution_count": 9,
     "metadata": {},
     "output_type": "execute_result"
    }
   ],
   "source": [
    "from numpy import vectorize, arange\n",
    "\n",
    "@vectorize\n",
    "def f(x):\n",
    "    if x <= 0:\n",
    "        return x\n",
    "    else:\n",
    "        return 0\n",
    "\n",
    "f(arange(-10.0,10.0))"
   ]
  },
  {
   "cell_type": "code",
   "execution_count": 9,
   "metadata": {
    "ExecuteTime": {
     "end_time": "2022-09-27T00:27:28.235713Z",
     "start_time": "2022-09-27T00:27:28.207658Z"
    }
   },
   "outputs": [
    {
     "ename": "ValueError",
     "evalue": "The truth value of an array with more than one element is ambiguous. Use a.any() or a.all()",
     "output_type": "error",
     "traceback": [
      "\u001b[0;31m---------------------------------------------------------------------------\u001b[0m",
      "\u001b[0;31mValueError\u001b[0m                                Traceback (most recent call last)",
      "\u001b[0;32m<ipython-input-9-c6aef9e6d6c9>\u001b[0m in \u001b[0;36m<module>\u001b[0;34m\u001b[0m\n\u001b[1;32m      8\u001b[0m         \u001b[0;32mreturn\u001b[0m \u001b[0;36m0\u001b[0m\u001b[0;34m\u001b[0m\u001b[0;34m\u001b[0m\u001b[0m\n\u001b[1;32m      9\u001b[0m \u001b[0;34m\u001b[0m\u001b[0m\n\u001b[0;32m---> 10\u001b[0;31m \u001b[0mf\u001b[0m\u001b[0;34m(\u001b[0m\u001b[0marange\u001b[0m\u001b[0;34m(\u001b[0m\u001b[0;34m-\u001b[0m\u001b[0;36m10.0\u001b[0m\u001b[0;34m,\u001b[0m\u001b[0;36m10.0\u001b[0m\u001b[0;34m)\u001b[0m\u001b[0;34m)\u001b[0m\u001b[0;34m\u001b[0m\u001b[0;34m\u001b[0m\u001b[0m\n\u001b[0m",
      "\u001b[0;32m<ipython-input-9-c6aef9e6d6c9>\u001b[0m in \u001b[0;36mf\u001b[0;34m(x)\u001b[0m\n\u001b[1;32m      3\u001b[0m \u001b[0;31m# @vectorize\u001b[0m\u001b[0;34m\u001b[0m\u001b[0;34m\u001b[0m\u001b[0;34m\u001b[0m\u001b[0m\n\u001b[1;32m      4\u001b[0m \u001b[0;32mdef\u001b[0m \u001b[0mf\u001b[0m\u001b[0;34m(\u001b[0m\u001b[0mx\u001b[0m\u001b[0;34m)\u001b[0m\u001b[0;34m:\u001b[0m\u001b[0;34m\u001b[0m\u001b[0;34m\u001b[0m\u001b[0m\n\u001b[0;32m----> 5\u001b[0;31m     \u001b[0;32mif\u001b[0m \u001b[0mx\u001b[0m \u001b[0;34m<=\u001b[0m \u001b[0;36m0\u001b[0m\u001b[0;34m:\u001b[0m\u001b[0;34m\u001b[0m\u001b[0;34m\u001b[0m\u001b[0m\n\u001b[0m\u001b[1;32m      6\u001b[0m         \u001b[0;32mreturn\u001b[0m \u001b[0mx\u001b[0m\u001b[0;34m\u001b[0m\u001b[0;34m\u001b[0m\u001b[0m\n\u001b[1;32m      7\u001b[0m     \u001b[0;32melse\u001b[0m\u001b[0;34m:\u001b[0m\u001b[0;34m\u001b[0m\u001b[0;34m\u001b[0m\u001b[0m\n",
      "\u001b[0;31mValueError\u001b[0m: The truth value of an array with more than one element is ambiguous. Use a.any() or a.all()"
     ]
    }
   ],
   "source": [
    "# cc: 如果不加@vectorize，f传进去的只能是一个x值\n",
    "from numpy import vectorize, arange\n",
    "\n",
    "# @vectorize\n",
    "def f(x):\n",
    "    if x <= 0:\n",
    "        return x\n",
    "    else:\n",
    "        return 0\n",
    "\n",
    "f(arange(-10.0,10.0))"
   ]
  },
  {
   "cell_type": "code",
   "execution_count": 10,
   "metadata": {
    "ExecuteTime": {
     "end_time": "2022-09-27T00:28:29.438765Z",
     "start_time": "2022-09-27T00:28:29.428982Z"
    }
   },
   "outputs": [
    {
     "data": {
      "text/plain": [
       "array([-10.,  -9.,  -8.,  -7.,  -6.,  -5.,  -4.,  -3.,  -2.,  -1.,   0.,\n",
       "         0.,   0.,   0.,   0.,   0.,   0.,   0.,   0.,   0.])"
      ]
     },
     "execution_count": 10,
     "metadata": {},
     "output_type": "execute_result"
    }
   ],
   "source": [
    "# cc：加了@vectorize之后，就是将函数向量化\n",
    "from numpy import vectorize, arange\n",
    "\n",
    "@vectorize\n",
    "def f(x):\n",
    "    if x <= 0:\n",
    "        return x\n",
    "    else:\n",
    "        return 0\n",
    "\n",
    "f(arange(-10.0,10.0))"
   ]
  },
  {
   "cell_type": "code",
   "execution_count": 13,
   "metadata": {
    "ExecuteTime": {
     "end_time": "2022-09-27T00:38:52.031612Z",
     "start_time": "2022-09-27T00:38:51.413105Z"
    }
   },
   "outputs": [
    {
     "data": {
      "text/html": [
       "<div>\n",
       "<style scoped>\n",
       "    .dataframe tbody tr th:only-of-type {\n",
       "        vertical-align: middle;\n",
       "    }\n",
       "\n",
       "    .dataframe tbody tr th {\n",
       "        vertical-align: top;\n",
       "    }\n",
       "\n",
       "    .dataframe thead th {\n",
       "        text-align: right;\n",
       "    }\n",
       "</style>\n",
       "<table border=\"1\" class=\"dataframe\">\n",
       "  <thead>\n",
       "    <tr style=\"text-align: right;\">\n",
       "      <th></th>\n",
       "      <th>A</th>\n",
       "      <th>B</th>\n",
       "    </tr>\n",
       "  </thead>\n",
       "  <tbody>\n",
       "    <tr>\n",
       "      <th>0</th>\n",
       "      <td>70</td>\n",
       "      <td>43</td>\n",
       "    </tr>\n",
       "    <tr>\n",
       "      <th>1</th>\n",
       "      <td>43</td>\n",
       "      <td>71</td>\n",
       "    </tr>\n",
       "    <tr>\n",
       "      <th>2</th>\n",
       "      <td>91</td>\n",
       "      <td>3</td>\n",
       "    </tr>\n",
       "    <tr>\n",
       "      <th>3</th>\n",
       "      <td>89</td>\n",
       "      <td>46</td>\n",
       "    </tr>\n",
       "    <tr>\n",
       "      <th>4</th>\n",
       "      <td>22</td>\n",
       "      <td>2</td>\n",
       "    </tr>\n",
       "  </tbody>\n",
       "</table>\n",
       "</div>"
      ],
      "text/plain": [
       "    A   B\n",
       "0  70  43\n",
       "1  43  71\n",
       "2  91   3\n",
       "3  89  46\n",
       "4  22   2"
      ]
     },
     "execution_count": 13,
     "metadata": {},
     "output_type": "execute_result"
    }
   ],
   "source": [
    "# cc：拓展，关于pd.apply() 和 @vectorize 性能\n",
    "import numpy as np\n",
    "import pandas as pd\n",
    "N = 10\n",
    "A_list = np.random.randint(1, 100, N)\n",
    "B_list = np.random.randint(1, 100, N)\n",
    "df = pd.DataFrame({'A': A_list, 'B': B_list})\n",
    "df.head()\n"
   ]
  },
  {
   "cell_type": "code",
   "execution_count": 15,
   "metadata": {
    "ExecuteTime": {
     "end_time": "2022-09-27T00:40:03.734651Z",
     "start_time": "2022-09-27T00:40:03.711037Z"
    }
   },
   "outputs": [
    {
     "data": {
      "text/html": [
       "<div>\n",
       "<style scoped>\n",
       "    .dataframe tbody tr th:only-of-type {\n",
       "        vertical-align: middle;\n",
       "    }\n",
       "\n",
       "    .dataframe tbody tr th {\n",
       "        vertical-align: top;\n",
       "    }\n",
       "\n",
       "    .dataframe thead th {\n",
       "        text-align: right;\n",
       "    }\n",
       "</style>\n",
       "<table border=\"1\" class=\"dataframe\">\n",
       "  <thead>\n",
       "    <tr style=\"text-align: right;\">\n",
       "      <th></th>\n",
       "      <th>A</th>\n",
       "      <th>B</th>\n",
       "      <th>result</th>\n",
       "      <th>result2</th>\n",
       "    </tr>\n",
       "  </thead>\n",
       "  <tbody>\n",
       "    <tr>\n",
       "      <th>0</th>\n",
       "      <td>70</td>\n",
       "      <td>43</td>\n",
       "      <td>1.627907</td>\n",
       "      <td>1.627907</td>\n",
       "    </tr>\n",
       "    <tr>\n",
       "      <th>1</th>\n",
       "      <td>43</td>\n",
       "      <td>71</td>\n",
       "      <td>0.605634</td>\n",
       "      <td>0.605634</td>\n",
       "    </tr>\n",
       "    <tr>\n",
       "      <th>2</th>\n",
       "      <td>91</td>\n",
       "      <td>3</td>\n",
       "      <td>30.333333</td>\n",
       "      <td>30.333333</td>\n",
       "    </tr>\n",
       "    <tr>\n",
       "      <th>3</th>\n",
       "      <td>89</td>\n",
       "      <td>46</td>\n",
       "      <td>1.934783</td>\n",
       "      <td>1.934783</td>\n",
       "    </tr>\n",
       "    <tr>\n",
       "      <th>4</th>\n",
       "      <td>22</td>\n",
       "      <td>2</td>\n",
       "      <td>11.000000</td>\n",
       "      <td>11.000000</td>\n",
       "    </tr>\n",
       "  </tbody>\n",
       "</table>\n",
       "</div>"
      ],
      "text/plain": [
       "    A   B     result    result2\n",
       "0  70  43   1.627907   1.627907\n",
       "1  43  71   0.605634   0.605634\n",
       "2  91   3  30.333333  30.333333\n",
       "3  89  46   1.934783   1.934783\n",
       "4  22   2  11.000000  11.000000"
      ]
     },
     "execution_count": 15,
     "metadata": {},
     "output_type": "execute_result"
    }
   ],
   "source": [
    "def divide(a, b):\n",
    "    if b == 0:\n",
    "        return 0.0\n",
    "    return float(a)/b\n",
    "\n",
    "df['result'] = df.apply(lambda row: divide(row['A'], row['B']), axis=1)\n",
    "\n",
    "df['result2'] = np.vectorize(divide)(df['A'], df['B'])\n",
    "\n",
    "df.head()"
   ]
  },
  {
   "cell_type": "code",
   "execution_count": 20,
   "metadata": {
    "ExecuteTime": {
     "end_time": "2022-09-27T00:45:00.708520Z",
     "start_time": "2022-09-27T00:44:58.431519Z"
    }
   },
   "outputs": [
    {
     "name": "stdout",
     "output_type": "stream",
     "text": [
      "\n",
      "N=1000, df.apply: 0 sec, np.vectorize: 0 sec\n",
      "\n",
      "N=10000, df.apply: 0 sec, np.vectorize: 0 sec\n",
      "\n",
      "N=100000, df.apply: 2 sec, np.vectorize: 0 sec\n"
     ]
    }
   ],
   "source": [
    "import pandas as pd\n",
    "import numpy as np\n",
    "import time\n",
    "\n",
    "def divide(a, b):\n",
    "    if b == 0:\n",
    "        return 0.0\n",
    "    return float(a)/b\n",
    "\n",
    "# for N in [1000, 10000, 100000, 1000000, 10000000]:    \n",
    "for N in [1000, 10000, 100000]:\n",
    "    print('')\n",
    "    A_list = np.random.randint(1, 100, N)\n",
    "    B_list = np.random.randint(1, 100, N)\n",
    "    df = pd.DataFrame({'A': A_list, 'B': B_list})\n",
    "\n",
    "    start_epoch_sec = int(time.time())\n",
    "    df['result'] = df.apply(lambda row: divide(row['A'], row['B']), axis=1)\n",
    "    end_epoch_sec = int(time.time())\n",
    "    result_apply = end_epoch_sec - start_epoch_sec\n",
    "\n",
    "    start_epoch_sec = int(time.time())\n",
    "    df['result2'] = np.vectorize(divide)(df['A'], df['B'])\n",
    "    end_epoch_sec = int(time.time())\n",
    "    result_vectorize = end_epoch_sec - start_epoch_sec\n",
    "\n",
    "\n",
    "    print('N=%d, df.apply: %d sec, np.vectorize: %d sec' % \\\n",
    "            (N, result_apply, result_vectorize))\n",
    "\n",
    "    # Make sure results from df.apply and np.vectorize match.\n",
    "    assert(df['result'].equals(df['result2']))"
   ]
  },
  {
   "cell_type": "markdown",
   "metadata": {},
   "source": [
    "## 注册一个函数"
   ]
  },
  {
   "cell_type": "markdown",
   "metadata": {},
   "source": [
    "来看这样的一个例子，定义一个类："
   ]
  },
  {
   "cell_type": "code",
   "execution_count": 10,
   "metadata": {
    "collapsed": true
   },
   "outputs": [],
   "source": [
    "class Registry(object):\n",
    "    def __init__(self):\n",
    "        self._data = {}\n",
    "    def register(self, f, name=None):\n",
    "        if name == None:\n",
    "            name = f.__name__\n",
    "        self._data[name] = f\n",
    "        setattr(self, name, f)"
   ]
  },
  {
   "cell_type": "markdown",
   "metadata": {},
   "source": [
    "`register` 方法接受一个函数，将这个函数名作为属性注册到对象中。\n",
    "\n",
    "产生该类的一个对象："
   ]
  },
  {
   "cell_type": "code",
   "execution_count": 11,
   "metadata": {
    "collapsed": true
   },
   "outputs": [],
   "source": [
    "registry = Registry()"
   ]
  },
  {
   "cell_type": "markdown",
   "metadata": {},
   "source": [
    "使用该对象的 `register` 方法作为修饰符："
   ]
  },
  {
   "cell_type": "code",
   "execution_count": 12,
   "metadata": {
    "collapsed": true
   },
   "outputs": [],
   "source": [
    "@registry.register\n",
    "def greeting():\n",
    "    print \"hello world\""
   ]
  },
  {
   "cell_type": "markdown",
   "metadata": {},
   "source": [
    "这样这个函数就被注册到 `registry` 这个对象中去了："
   ]
  },
  {
   "cell_type": "code",
   "execution_count": 13,
   "metadata": {},
   "outputs": [
    {
     "data": {
      "text/plain": [
       "{'greeting': <function __main__.greeting>}"
      ]
     },
     "execution_count": 13,
     "metadata": {},
     "output_type": "execute_result"
    }
   ],
   "source": [
    "registry._data"
   ]
  },
  {
   "cell_type": "code",
   "execution_count": 14,
   "metadata": {
    "scrolled": true
   },
   "outputs": [
    {
     "data": {
      "text/plain": [
       "<function __main__.greeting>"
      ]
     },
     "execution_count": 14,
     "metadata": {},
     "output_type": "execute_result"
    }
   ],
   "source": [
    "registry.greeting"
   ]
  },
  {
   "cell_type": "markdown",
   "metadata": {},
   "source": [
    "[flask](flask.pocoo.org) ，一个常用的网络应用，处理 url 的机制跟这个类似。"
   ]
  },
  {
   "cell_type": "markdown",
   "metadata": {},
   "source": [
    "## 使用 @wraps"
   ]
  },
  {
   "cell_type": "markdown",
   "metadata": {},
   "source": [
    "一个通常的问题在于："
   ]
  },
  {
   "cell_type": "code",
   "execution_count": 15,
   "metadata": {},
   "outputs": [
    {
     "name": "stdout",
     "output_type": "stream",
     "text": [
      "None wrapper\n"
     ]
    }
   ],
   "source": [
    "def logging_call(f):\n",
    "    def wrapper(*a, **kw):\n",
    "        print 'calling {}'.format(f.__name__)\n",
    "        return f(*a, **kw)\n",
    "    return wrapper\n",
    "\n",
    "@logging_call\n",
    "def square(x):\n",
    "    '''\n",
    "    square function.\n",
    "    '''\n",
    "    return x ** 2\n",
    "\n",
    "print square.__doc__, square.__name__"
   ]
  },
  {
   "cell_type": "code",
   "execution_count": 23,
   "metadata": {
    "ExecuteTime": {
     "end_time": "2022-09-28T00:00:20.764992Z",
     "start_time": "2022-09-28T00:00:20.758679Z"
    }
   },
   "outputs": [
    {
     "name": "stdout",
     "output_type": "stream",
     "text": [
      "\n",
      "    square function.\n",
      "     square\n"
     ]
    }
   ],
   "source": [
    "# def logging_call(f):\n",
    "#     def wrapper(*a, **kw):\n",
    "#         print ('calling {}'.format(f.__name__))\n",
    "#         return f(*a, **kw)\n",
    "#     return wrapper\n",
    "\n",
    "# @logging_call\n",
    "def square(x):\n",
    "    '''\n",
    "    square function.\n",
    "    '''\n",
    "    return x ** 2\n",
    "\n",
    "print (square.__doc__, square.__name__)\n",
    "\n",
    "# cc：如果注释掉 修饰符以上的代码，你会发现doc 和 name 是对的上的；\n",
    "# 但是这里用了修饰符之后，会有问题；"
   ]
  },
  {
   "cell_type": "markdown",
   "metadata": {},
   "source": [
    "我们使用修饰符之后，`square` 的 `metadata` 完全丢失了，返回的函数名与函数的 `docstring` 都不对。\n",
    "\n",
    "一个解决的方法是从 `functools` 模块导入 `wraps` 修饰符来修饰我们的修饰符："
   ]
  },
  {
   "cell_type": "code",
   "execution_count": 16,
   "metadata": {},
   "outputs": [
    {
     "name": "stdout",
     "output_type": "stream",
     "text": [
      "\n",
      "    square function.\n",
      "     square\n"
     ]
    }
   ],
   "source": [
    "import functools\n",
    "\n",
    "def logging_call(f):\n",
    "    @functools.wraps(f)\n",
    "    def wrapper(*a, **kw):\n",
    "        print 'calling {}'.format(f.__name__)\n",
    "        return f(*a, **kw)\n",
    "    return wrapper\n",
    "\n",
    "@logging_call\n",
    "def square(x):\n",
    "    '''\n",
    "    square function.\n",
    "    '''\n",
    "    return x ** 2\n",
    "\n",
    "print square.__doc__, square.__name__"
   ]
  },
  {
   "cell_type": "code",
   "execution_count": 24,
   "metadata": {
    "ExecuteTime": {
     "end_time": "2022-09-28T00:02:43.774881Z",
     "start_time": "2022-09-28T00:02:43.765997Z"
    }
   },
   "outputs": [
    {
     "name": "stdout",
     "output_type": "stream",
     "text": [
      "\n",
      "    square function.\n",
      "     square\n"
     ]
    }
   ],
   "source": [
    "import functools\n",
    "\n",
    "def logging_call(f):\n",
    "    @functools.wraps(f)\n",
    "    def wrapper(*a, **kw):\n",
    "        print ('calling {}'.format(f.__name__))\n",
    "        return f(*a, **kw)\n",
    "    return wrapper\n",
    "\n",
    "@logging_call\n",
    "def square(x):\n",
    "    '''\n",
    "    square function.\n",
    "    '''\n",
    "    return x ** 2\n",
    "\n",
    "print (square.__doc__, square.__name__)\n",
    "\n",
    "# cc:这里就成功了。用wraps 来修饰修饰符~~~ 是不是有点绕！"
   ]
  },
  {
   "cell_type": "markdown",
   "metadata": {},
   "source": [
    "现在这个问题解决了，所以在自定义修饰符方法的时候为了避免出现不必要的麻烦，尽量使用 `wraps` 来修饰修饰符！"
   ]
  },
  {
   "cell_type": "markdown",
   "metadata": {},
   "source": [
    "## Class 修饰符"
   ]
  },
  {
   "cell_type": "markdown",
   "metadata": {},
   "source": [
    "与函数修饰符类似，类修饰符是这样一类函数，接受一个类作为参数，通常返回一个新的类。"
   ]
  }
 ],
 "metadata": {
  "kernelspec": {
   "display_name": "Python 3",
   "language": "python",
   "name": "python3"
  },
  "language_info": {
   "codemirror_mode": {
    "name": "ipython",
    "version": 3
   },
   "file_extension": ".py",
   "mimetype": "text/x-python",
   "name": "python",
   "nbconvert_exporter": "python",
   "pygments_lexer": "ipython3",
   "version": "3.8.8"
  }
 },
 "nbformat": 4,
 "nbformat_minor": 1
}
