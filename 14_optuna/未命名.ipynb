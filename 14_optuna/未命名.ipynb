{
 "cells": [
  {
   "cell_type": "code",
   "execution_count": 2,
   "id": "fcace528",
   "metadata": {
    "ExecuteTime": {
     "end_time": "2023-01-12T03:05:07.663874Z",
     "start_time": "2023-01-12T03:04:58.814079Z"
    }
   },
   "outputs": [],
   "source": [
    "import optuna"
   ]
  },
  {
   "cell_type": "code",
   "execution_count": 3,
   "id": "3a010ec4",
   "metadata": {
    "ExecuteTime": {
     "end_time": "2023-01-12T03:05:23.804257Z",
     "start_time": "2023-01-12T03:05:23.801260Z"
    }
   },
   "outputs": [],
   "source": [
    "def objective(trial):\n",
    "    x = trial.suggest_uniform('x', -10, 10)\n",
    "    return (x - 2) ** 2"
   ]
  },
  {
   "cell_type": "code",
   "execution_count": 5,
   "id": "a870ee9d",
   "metadata": {
    "ExecuteTime": {
     "end_time": "2023-01-12T03:06:35.550601Z",
     "start_time": "2023-01-12T03:06:35.014492Z"
    }
   },
   "outputs": [
    {
     "name": "stderr",
     "output_type": "stream",
     "text": [
      "\u001b[32m[I 2023-01-12 11:06:35,015]\u001b[0m A new study created in memory with name: no-name-828d101f-07f9-4e98-ac21-fe6864255c59\u001b[0m\n",
      "\u001b[32m[I 2023-01-12 11:06:35,018]\u001b[0m Trial 0 finished with value: 12.225726049689788 and parameters: {'x': -1.4965305732525476}. Best is trial 0 with value: 12.225726049689788.\u001b[0m\n",
      "\u001b[32m[I 2023-01-12 11:06:35,019]\u001b[0m Trial 1 finished with value: 32.6142912394491 and parameters: {'x': -3.7108923330289727}. Best is trial 0 with value: 12.225726049689788.\u001b[0m\n",
      "\u001b[32m[I 2023-01-12 11:06:35,021]\u001b[0m Trial 2 finished with value: 37.6504537326583 and parameters: {'x': 8.135996555789312}. Best is trial 0 with value: 12.225726049689788.\u001b[0m\n",
      "\u001b[32m[I 2023-01-12 11:06:35,022]\u001b[0m Trial 3 finished with value: 9.000771720975646 and parameters: {'x': 5.000128617405535}. Best is trial 3 with value: 9.000771720975646.\u001b[0m\n",
      "\u001b[32m[I 2023-01-12 11:06:35,024]\u001b[0m Trial 4 finished with value: 0.11626805826449818 and parameters: {'x': 1.6590189766797891}. Best is trial 4 with value: 0.11626805826449818.\u001b[0m\n",
      "\u001b[32m[I 2023-01-12 11:06:35,025]\u001b[0m Trial 5 finished with value: 60.20363826136481 and parameters: {'x': 9.759100351288467}. Best is trial 4 with value: 0.11626805826449818.\u001b[0m\n",
      "\u001b[32m[I 2023-01-12 11:06:35,026]\u001b[0m Trial 6 finished with value: 11.241165195010899 and parameters: {'x': -1.3527846926116354}. Best is trial 4 with value: 0.11626805826449818.\u001b[0m\n",
      "\u001b[32m[I 2023-01-12 11:06:35,028]\u001b[0m Trial 7 finished with value: 42.42313011010981 and parameters: {'x': 8.513304085493768}. Best is trial 4 with value: 0.11626805826449818.\u001b[0m\n",
      "\u001b[32m[I 2023-01-12 11:06:35,029]\u001b[0m Trial 8 finished with value: 14.57562110232642 and parameters: {'x': -1.8178031775258425}. Best is trial 4 with value: 0.11626805826449818.\u001b[0m\n",
      "\u001b[32m[I 2023-01-12 11:06:35,031]\u001b[0m Trial 9 finished with value: 88.87607930183 and parameters: {'x': -7.427411060404124}. Best is trial 4 with value: 0.11626805826449818.\u001b[0m\n",
      "\u001b[32m[I 2023-01-12 11:06:35,036]\u001b[0m Trial 10 finished with value: 9.730690506211246 and parameters: {'x': 5.119405473196975}. Best is trial 4 with value: 0.11626805826449818.\u001b[0m\n",
      "\u001b[32m[I 2023-01-12 11:06:35,041]\u001b[0m Trial 11 finished with value: 1.6513160086005472 and parameters: {'x': 3.285035411418902}. Best is trial 4 with value: 0.11626805826449818.\u001b[0m\n",
      "\u001b[32m[I 2023-01-12 11:06:35,046]\u001b[0m Trial 12 finished with value: 1.1987642375056853 and parameters: {'x': 3.094880923893409}. Best is trial 4 with value: 0.11626805826449818.\u001b[0m\n",
      "\u001b[32m[I 2023-01-12 11:06:35,051]\u001b[0m Trial 13 finished with value: 0.03520122013634837 and parameters: {'x': 1.8123801179609464}. Best is trial 13 with value: 0.03520122013634837.\u001b[0m\n",
      "\u001b[32m[I 2023-01-12 11:06:35,056]\u001b[0m Trial 14 finished with value: 0.17437148546507533 and parameters: {'x': 1.5824218810029969}. Best is trial 13 with value: 0.03520122013634837.\u001b[0m\n",
      "\u001b[32m[I 2023-01-12 11:06:35,061]\u001b[0m Trial 15 finished with value: 70.6961966896959 and parameters: {'x': -6.408103037528495}. Best is trial 13 with value: 0.03520122013634837.\u001b[0m\n",
      "\u001b[32m[I 2023-01-12 11:06:35,066]\u001b[0m Trial 16 finished with value: 1.3446295550237186 and parameters: {'x': 0.8404183706941032}. Best is trial 13 with value: 0.03520122013634837.\u001b[0m\n",
      "\u001b[32m[I 2023-01-12 11:06:35,071]\u001b[0m Trial 17 finished with value: 42.30895848412627 and parameters: {'x': -4.504533686908407}. Best is trial 13 with value: 0.03520122013634837.\u001b[0m\n",
      "\u001b[32m[I 2023-01-12 11:06:35,076]\u001b[0m Trial 18 finished with value: 141.53167726042335 and parameters: {'x': -9.896708673428266}. Best is trial 13 with value: 0.03520122013634837.\u001b[0m\n",
      "\u001b[32m[I 2023-01-12 11:06:35,082]\u001b[0m Trial 19 finished with value: 15.147807009273473 and parameters: {'x': 5.8920183721654595}. Best is trial 13 with value: 0.03520122013634837.\u001b[0m\n",
      "\u001b[32m[I 2023-01-12 11:06:35,087]\u001b[0m Trial 20 finished with value: 0.14649553902722906 and parameters: {'x': 2.3827473566560964}. Best is trial 13 with value: 0.03520122013634837.\u001b[0m\n",
      "\u001b[32m[I 2023-01-12 11:06:35,092]\u001b[0m Trial 21 finished with value: 0.10101596473255539 and parameters: {'x': 2.31783008783398}. Best is trial 13 with value: 0.03520122013634837.\u001b[0m\n",
      "\u001b[32m[I 2023-01-12 11:06:35,096]\u001b[0m Trial 22 finished with value: 3.563301517097676 and parameters: {'x': 0.1123290760575677}. Best is trial 13 with value: 0.03520122013634837.\u001b[0m\n",
      "\u001b[32m[I 2023-01-12 11:06:35,101]\u001b[0m Trial 23 finished with value: 3.2162055579556177 and parameters: {'x': 3.793378252894692}. Best is trial 13 with value: 0.03520122013634837.\u001b[0m\n",
      "\u001b[32m[I 2023-01-12 11:06:35,106]\u001b[0m Trial 24 finished with value: 21.34706592486362 and parameters: {'x': 6.620288510998379}. Best is trial 13 with value: 0.03520122013634837.\u001b[0m\n",
      "\u001b[32m[I 2023-01-12 11:06:35,111]\u001b[0m Trial 25 finished with value: 1.6926130687523546 and parameters: {'x': 0.6989953617483315}. Best is trial 13 with value: 0.03520122013634837.\u001b[0m\n",
      "\u001b[32m[I 2023-01-12 11:06:35,116]\u001b[0m Trial 26 finished with value: 8.94509070814652 and parameters: {'x': -0.9908344501403819}. Best is trial 13 with value: 0.03520122013634837.\u001b[0m\n",
      "\u001b[32m[I 2023-01-12 11:06:35,121]\u001b[0m Trial 27 finished with value: 25.41359783241823 and parameters: {'x': -3.0411901206380056}. Best is trial 13 with value: 0.03520122013634837.\u001b[0m\n",
      "\u001b[32m[I 2023-01-12 11:06:35,128]\u001b[0m Trial 28 finished with value: 4.929463813722478 and parameters: {'x': 4.220239584757122}. Best is trial 13 with value: 0.03520122013634837.\u001b[0m\n",
      "\u001b[32m[I 2023-01-12 11:06:35,133]\u001b[0m Trial 29 finished with value: 0.4747259079114708 and parameters: {'x': 1.3109964383898507}. Best is trial 13 with value: 0.03520122013634837.\u001b[0m\n",
      "\u001b[32m[I 2023-01-12 11:06:35,140]\u001b[0m Trial 30 finished with value: 0.006326615754975105 and parameters: {'x': 2.079540026118773}. Best is trial 30 with value: 0.006326615754975105.\u001b[0m\n",
      "\u001b[32m[I 2023-01-12 11:06:35,146]\u001b[0m Trial 31 finished with value: 0.20149250454867748 and parameters: {'x': 2.44887916475225}. Best is trial 30 with value: 0.006326615754975105.\u001b[0m\n",
      "\u001b[32m[I 2023-01-12 11:06:35,151]\u001b[0m Trial 32 finished with value: 5.156909759888316 and parameters: {'x': -0.27088303527247204}. Best is trial 30 with value: 0.006326615754975105.\u001b[0m\n",
      "\u001b[32m[I 2023-01-12 11:06:35,156]\u001b[0m Trial 33 finished with value: 0.010410312644245679 and parameters: {'x': 1.8979690603579205}. Best is trial 30 with value: 0.006326615754975105.\u001b[0m\n",
      "\u001b[32m[I 2023-01-12 11:06:35,161]\u001b[0m Trial 34 finished with value: 21.72228506403821 and parameters: {'x': -2.660717226354567}. Best is trial 30 with value: 0.006326615754975105.\u001b[0m\n",
      "\u001b[32m[I 2023-01-12 11:06:35,167]\u001b[0m Trial 35 finished with value: 23.844667961114354 and parameters: {'x': 6.883100240739929}. Best is trial 30 with value: 0.006326615754975105.\u001b[0m\n",
      "\u001b[32m[I 2023-01-12 11:06:35,172]\u001b[0m Trial 36 finished with value: 4.895776011780251 and parameters: {'x': 4.212640054726537}. Best is trial 30 with value: 0.006326615754975105.\u001b[0m\n",
      "\u001b[32m[I 2023-01-12 11:06:35,177]\u001b[0m Trial 37 finished with value: 0.12415604910523849 and parameters: {'x': 2.352357842406322}. Best is trial 30 with value: 0.006326615754975105.\u001b[0m\n",
      "\u001b[32m[I 2023-01-12 11:06:35,182]\u001b[0m Trial 38 finished with value: 9.319270411999092 and parameters: {'x': 5.052748009908301}. Best is trial 30 with value: 0.006326615754975105.\u001b[0m\n",
      "\u001b[32m[I 2023-01-12 11:06:35,188]\u001b[0m Trial 39 finished with value: 5.965461560201487 and parameters: {'x': -0.44242943812129143}. Best is trial 30 with value: 0.006326615754975105.\u001b[0m\n",
      "\u001b[32m[I 2023-01-12 11:06:35,193]\u001b[0m Trial 40 finished with value: 17.34670894072572 and parameters: {'x': -2.164938047645573}. Best is trial 30 with value: 0.006326615754975105.\u001b[0m\n",
      "\u001b[32m[I 2023-01-12 11:06:35,200]\u001b[0m Trial 41 finished with value: 0.09761919063795277 and parameters: {'x': 1.6875593006057745}. Best is trial 30 with value: 0.006326615754975105.\u001b[0m\n",
      "\u001b[32m[I 2023-01-12 11:06:35,206]\u001b[0m Trial 42 finished with value: 0.0001742017832555057 and parameters: {'x': 1.986801447683344}. Best is trial 42 with value: 0.0001742017832555057.\u001b[0m\n",
      "\u001b[32m[I 2023-01-12 11:06:35,212]\u001b[0m Trial 43 finished with value: 3.6351216974629157 and parameters: {'x': 0.09340048844469817}. Best is trial 42 with value: 0.0001742017832555057.\u001b[0m\n",
      "\u001b[32m[I 2023-01-12 11:06:35,218]\u001b[0m Trial 44 finished with value: 0.6063309909909643 and parameters: {'x': 1.2213274173370656}. Best is trial 42 with value: 0.0001742017832555057.\u001b[0m\n"
     ]
    },
    {
     "name": "stderr",
     "output_type": "stream",
     "text": [
      "\u001b[32m[I 2023-01-12 11:06:35,223]\u001b[0m Trial 45 finished with value: 2.2468338282475813 and parameters: {'x': 3.498944237871303}. Best is trial 42 with value: 0.0001742017832555057.\u001b[0m\n",
      "\u001b[32m[I 2023-01-12 11:06:35,229]\u001b[0m Trial 46 finished with value: 10.034498051910713 and parameters: {'x': -1.1677275848643793}. Best is trial 42 with value: 0.0001742017832555057.\u001b[0m\n",
      "\u001b[32m[I 2023-01-12 11:06:35,234]\u001b[0m Trial 47 finished with value: 0.014602000228052506 and parameters: {'x': 1.8791612635449522}. Best is trial 42 with value: 0.0001742017832555057.\u001b[0m\n",
      "\u001b[32m[I 2023-01-12 11:06:35,239]\u001b[0m Trial 48 finished with value: 1.3818633276757557 and parameters: {'x': 3.1755268298408827}. Best is trial 42 with value: 0.0001742017832555057.\u001b[0m\n",
      "\u001b[32m[I 2023-01-12 11:06:35,244]\u001b[0m Trial 49 finished with value: 6.467974491381204 and parameters: {'x': 4.543221282425343}. Best is trial 42 with value: 0.0001742017832555057.\u001b[0m\n",
      "\u001b[32m[I 2023-01-12 11:06:35,250]\u001b[0m Trial 50 finished with value: 14.99743574260016 and parameters: {'x': 5.8726522878513325}. Best is trial 42 with value: 0.0001742017832555057.\u001b[0m\n",
      "\u001b[32m[I 2023-01-12 11:06:35,254]\u001b[0m Trial 51 finished with value: 0.0028484219437490727 and parameters: {'x': 1.9466293906372705}. Best is trial 42 with value: 0.0001742017832555057.\u001b[0m\n",
      "\u001b[32m[I 2023-01-12 11:06:35,259]\u001b[0m Trial 52 finished with value: 0.08389267282207957 and parameters: {'x': 1.7103576812306607}. Best is trial 42 with value: 0.0001742017832555057.\u001b[0m\n",
      "\u001b[32m[I 2023-01-12 11:06:35,265]\u001b[0m Trial 53 finished with value: 1.9874633895139289 and parameters: {'x': 0.5902257664739616}. Best is trial 42 with value: 0.0001742017832555057.\u001b[0m\n",
      "\u001b[32m[I 2023-01-12 11:06:35,271]\u001b[0m Trial 54 finished with value: 0.2583726660474146 and parameters: {'x': 2.508303714374993}. Best is trial 42 with value: 0.0001742017832555057.\u001b[0m\n",
      "\u001b[32m[I 2023-01-12 11:06:35,276]\u001b[0m Trial 55 finished with value: 0.7411592379821704 and parameters: {'x': 2.860906056420891}. Best is trial 42 with value: 0.0001742017832555057.\u001b[0m\n",
      "\u001b[32m[I 2023-01-12 11:06:35,283]\u001b[0m Trial 56 finished with value: 2.795250696641455 and parameters: {'x': 3.671900324971993}. Best is trial 42 with value: 0.0001742017832555057.\u001b[0m\n",
      "\u001b[32m[I 2023-01-12 11:06:35,289]\u001b[0m Trial 57 finished with value: 2.0414373990580295 and parameters: {'x': 0.5712112125796796}. Best is trial 42 with value: 0.0001742017832555057.\u001b[0m\n",
      "\u001b[32m[I 2023-01-12 11:06:35,295]\u001b[0m Trial 58 finished with value: 7.534066615493452 and parameters: {'x': -0.744825425321882}. Best is trial 42 with value: 0.0001742017832555057.\u001b[0m\n",
      "\u001b[32m[I 2023-01-12 11:06:35,300]\u001b[0m Trial 59 finished with value: 0.1318259382493946 and parameters: {'x': 1.6369215811296483}. Best is trial 42 with value: 0.0001742017832555057.\u001b[0m\n",
      "\u001b[32m[I 2023-01-12 11:06:35,305]\u001b[0m Trial 60 finished with value: 61.95029448882387 and parameters: {'x': 9.870850938038648}. Best is trial 42 with value: 0.0001742017832555057.\u001b[0m\n",
      "\u001b[32m[I 2023-01-12 11:06:35,310]\u001b[0m Trial 61 finished with value: 0.07722691587975149 and parameters: {'x': 1.7221026882466268}. Best is trial 42 with value: 0.0001742017832555057.\u001b[0m\n",
      "\u001b[32m[I 2023-01-12 11:06:35,315]\u001b[0m Trial 62 finished with value: 0.03179974030868638 and parameters: {'x': 1.8216751831385032}. Best is trial 42 with value: 0.0001742017832555057.\u001b[0m\n",
      "\u001b[32m[I 2023-01-12 11:06:35,321]\u001b[0m Trial 63 finished with value: 3.09016942269587 and parameters: {'x': 0.24211222693373569}. Best is trial 42 with value: 0.0001742017832555057.\u001b[0m\n",
      "\u001b[32m[I 2023-01-12 11:06:35,326]\u001b[0m Trial 64 finished with value: 1.1357125750059187 and parameters: {'x': 0.9343018368196749}. Best is trial 42 with value: 0.0001742017832555057.\u001b[0m\n",
      "\u001b[32m[I 2023-01-12 11:06:35,332]\u001b[0m Trial 65 finished with value: 0.9111014856999308 and parameters: {'x': 2.9545163621960238}. Best is trial 42 with value: 0.0001742017832555057.\u001b[0m\n",
      "\u001b[32m[I 2023-01-12 11:06:35,338]\u001b[0m Trial 66 finished with value: 0.007134897647889223 and parameters: {'x': 2.084468323340109}. Best is trial 42 with value: 0.0001742017832555057.\u001b[0m\n",
      "\u001b[32m[I 2023-01-12 11:06:35,344]\u001b[0m Trial 67 finished with value: 13.783561930776802 and parameters: {'x': 5.7126219752052325}. Best is trial 42 with value: 0.0001742017832555057.\u001b[0m\n",
      "\u001b[32m[I 2023-01-12 11:06:35,350]\u001b[0m Trial 68 finished with value: 4.277087388057298 and parameters: {'x': 4.068112034696694}. Best is trial 42 with value: 0.0001742017832555057.\u001b[0m\n",
      "\u001b[32m[I 2023-01-12 11:06:35,356]\u001b[0m Trial 69 finished with value: 12.983040896123017 and parameters: {'x': -1.6031987033916149}. Best is trial 42 with value: 0.0001742017832555057.\u001b[0m\n",
      "\u001b[32m[I 2023-01-12 11:06:35,361]\u001b[0m Trial 70 finished with value: 0.004637168364777655 and parameters: {'x': 2.0680967573734437}. Best is trial 42 with value: 0.0001742017832555057.\u001b[0m\n",
      "\u001b[32m[I 2023-01-12 11:06:35,366]\u001b[0m Trial 71 finished with value: 3.126118683351869e-05 and parameters: {'x': 2.005591170435027}. Best is trial 71 with value: 3.126118683351869e-05.\u001b[0m\n",
      "\u001b[32m[I 2023-01-12 11:06:35,372]\u001b[0m Trial 72 finished with value: 0.14825661563653558 and parameters: {'x': 2.3850410570790284}. Best is trial 71 with value: 3.126118683351869e-05.\u001b[0m\n",
      "\u001b[32m[I 2023-01-12 11:06:35,378]\u001b[0m Trial 73 finished with value: 0.8108421149625302 and parameters: {'x': 1.0995322798886513}. Best is trial 71 with value: 3.126118683351869e-05.\u001b[0m\n",
      "\u001b[32m[I 2023-01-12 11:06:35,383]\u001b[0m Trial 74 finished with value: 6.8712518854751234 and parameters: {'x': 4.621307285587694}. Best is trial 71 with value: 3.126118683351869e-05.\u001b[0m\n",
      "\u001b[32m[I 2023-01-12 11:06:35,390]\u001b[0m Trial 75 finished with value: 0.789007517912683 and parameters: {'x': 2.8882609514735424}. Best is trial 71 with value: 3.126118683351869e-05.\u001b[0m\n",
      "\u001b[32m[I 2023-01-12 11:06:35,398]\u001b[0m Trial 76 finished with value: 0.015894069241043737 and parameters: {'x': 2.126071682946821}. Best is trial 71 with value: 3.126118683351869e-05.\u001b[0m\n",
      "\u001b[32m[I 2023-01-12 11:06:35,403]\u001b[0m Trial 77 finished with value: 2.3741561869566397 and parameters: {'x': 3.5408297073189625}. Best is trial 71 with value: 3.126118683351869e-05.\u001b[0m\n",
      "\u001b[32m[I 2023-01-12 11:06:35,410]\u001b[0m Trial 78 finished with value: 3.4002198708326676 and parameters: {'x': 0.15603148865479066}. Best is trial 71 with value: 3.126118683351869e-05.\u001b[0m\n",
      "\u001b[32m[I 2023-01-12 11:06:35,416]\u001b[0m Trial 79 finished with value: 45.02575671091717 and parameters: {'x': -4.710123449752409}. Best is trial 71 with value: 3.126118683351869e-05.\u001b[0m\n",
      "\u001b[32m[I 2023-01-12 11:06:35,421]\u001b[0m Trial 80 finished with value: 6.0548728827637355 and parameters: {'x': -0.46066513015561195}. Best is trial 71 with value: 3.126118683351869e-05.\u001b[0m\n",
      "\u001b[32m[I 2023-01-12 11:06:35,427]\u001b[0m Trial 81 finished with value: 0.04027637056089494 and parameters: {'x': 2.2006897370592102}. Best is trial 71 with value: 3.126118683351869e-05.\u001b[0m\n",
      "\u001b[32m[I 2023-01-12 11:06:35,432]\u001b[0m Trial 82 finished with value: 0.5429236804049704 and parameters: {'x': 1.263166450000429}. Best is trial 71 with value: 3.126118683351869e-05.\u001b[0m\n",
      "\u001b[32m[I 2023-01-12 11:06:35,438]\u001b[0m Trial 83 finished with value: 0.0273038897738132 and parameters: {'x': 2.1652388869903607}. Best is trial 71 with value: 3.126118683351869e-05.\u001b[0m\n",
      "\u001b[32m[I 2023-01-12 11:06:35,444]\u001b[0m Trial 84 finished with value: 0.6921377388048536 and parameters: {'x': 2.8319481587243605}. Best is trial 71 with value: 3.126118683351869e-05.\u001b[0m\n",
      "\u001b[32m[I 2023-01-12 11:06:35,451]\u001b[0m Trial 85 finished with value: 1.8182673822395623 and parameters: {'x': 0.6515685474450092}. Best is trial 71 with value: 3.126118683351869e-05.\u001b[0m\n",
      "\u001b[32m[I 2023-01-12 11:06:35,458]\u001b[0m Trial 86 finished with value: 1.7440194582697834 and parameters: {'x': 3.320613288691956}. Best is trial 71 with value: 3.126118683351869e-05.\u001b[0m\n",
      "\u001b[32m[I 2023-01-12 11:06:35,464]\u001b[0m Trial 87 finished with value: 3.6413096773945344 and parameters: {'x': 3.908221600704314}. Best is trial 71 with value: 3.126118683351869e-05.\u001b[0m\n",
      "\u001b[32m[I 2023-01-12 11:06:35,471]\u001b[0m Trial 88 finished with value: 0.7805601570270336 and parameters: {'x': 1.1165068438142638}. Best is trial 71 with value: 3.126118683351869e-05.\u001b[0m\n",
      "\u001b[32m[I 2023-01-12 11:06:35,480]\u001b[0m Trial 89 finished with value: 0.011706378185861755 and parameters: {'x': 1.8918039825785544}. Best is trial 71 with value: 3.126118683351869e-05.\u001b[0m\n"
     ]
    },
    {
     "name": "stderr",
     "output_type": "stream",
     "text": [
      "\u001b[32m[I 2023-01-12 11:06:35,488]\u001b[0m Trial 90 finished with value: 114.83752151897535 and parameters: {'x': -8.716227018824085}. Best is trial 71 with value: 3.126118683351869e-05.\u001b[0m\n",
      "\u001b[32m[I 2023-01-12 11:06:35,496]\u001b[0m Trial 91 finished with value: 0.0030542440489279583 and parameters: {'x': 1.9447347844577807}. Best is trial 71 with value: 3.126118683351869e-05.\u001b[0m\n",
      "\u001b[32m[I 2023-01-12 11:06:35,501]\u001b[0m Trial 92 finished with value: 0.38280001067546954 and parameters: {'x': 2.6187083405575438}. Best is trial 71 with value: 3.126118683351869e-05.\u001b[0m\n",
      "\u001b[32m[I 2023-01-12 11:06:35,509]\u001b[0m Trial 93 finished with value: 0.0008322620618428956 and parameters: {'x': 1.971151047474078}. Best is trial 71 with value: 3.126118683351869e-05.\u001b[0m\n",
      "\u001b[32m[I 2023-01-12 11:06:35,517]\u001b[0m Trial 94 finished with value: 48.667004683261105 and parameters: {'x': 8.976174072029819}. Best is trial 71 with value: 3.126118683351869e-05.\u001b[0m\n",
      "\u001b[32m[I 2023-01-12 11:06:35,523]\u001b[0m Trial 95 finished with value: 0.24322379854654474 and parameters: {'x': 1.5068227513899848}. Best is trial 71 with value: 3.126118683351869e-05.\u001b[0m\n",
      "\u001b[32m[I 2023-01-12 11:06:35,529]\u001b[0m Trial 96 finished with value: 1.7113540316450684 and parameters: {'x': 3.3081873075538795}. Best is trial 71 with value: 3.126118683351869e-05.\u001b[0m\n",
      "\u001b[32m[I 2023-01-12 11:06:35,535]\u001b[0m Trial 97 finished with value: 6.848256327080594 and parameters: {'x': 4.616917332870986}. Best is trial 71 with value: 3.126118683351869e-05.\u001b[0m\n",
      "\u001b[32m[I 2023-01-12 11:06:35,542]\u001b[0m Trial 98 finished with value: 2.163654461635186 and parameters: {'x': 0.5290634066571103}. Best is trial 71 with value: 3.126118683351869e-05.\u001b[0m\n",
      "\u001b[32m[I 2023-01-12 11:06:35,548]\u001b[0m Trial 99 finished with value: 4.811851865921803 and parameters: {'x': -0.19359336840760055}. Best is trial 71 with value: 3.126118683351869e-05.\u001b[0m\n"
     ]
    }
   ],
   "source": [
    "study = optuna.create_study()\n",
    "study.optimize(objective, n_trials=100)"
   ]
  },
  {
   "cell_type": "code",
   "execution_count": 6,
   "id": "90ab61bd",
   "metadata": {
    "ExecuteTime": {
     "end_time": "2023-01-12T03:06:58.957896Z",
     "start_time": "2023-01-12T03:06:58.952362Z"
    }
   },
   "outputs": [
    {
     "data": {
      "text/plain": [
       "{'x': 2.005591170435027}"
      ]
     },
     "execution_count": 6,
     "metadata": {},
     "output_type": "execute_result"
    }
   ],
   "source": [
    "study.best_params"
   ]
  },
  {
   "cell_type": "code",
   "execution_count": null,
   "id": "32fe7094",
   "metadata": {},
   "outputs": [],
   "source": []
  },
  {
   "cell_type": "code",
   "execution_count": null,
   "id": "91f7af4c",
   "metadata": {},
   "outputs": [],
   "source": []
  },
  {
   "cell_type": "code",
   "execution_count": null,
   "id": "914d84bb",
   "metadata": {},
   "outputs": [],
   "source": []
  },
  {
   "cell_type": "code",
   "execution_count": null,
   "id": "d6470f7a",
   "metadata": {},
   "outputs": [],
   "source": []
  },
  {
   "cell_type": "markdown",
   "id": "429890b7",
   "metadata": {},
   "source": [
    "# lgbm + optuna"
   ]
  },
  {
   "cell_type": "code",
   "execution_count": 10,
   "id": "9ed1c1be",
   "metadata": {
    "ExecuteTime": {
     "end_time": "2023-01-13T06:40:09.062650Z",
     "start_time": "2023-01-13T06:40:09.057133Z"
    }
   },
   "outputs": [],
   "source": [
    "import optuna  # pip install optuna\n",
    "from sklearn.metrics import log_loss\n",
    "from sklearn.model_selection import StratifiedKFold\n",
    "import numpy as np\n",
    "\n",
    "def objective(trial, X, y):\n",
    "    # 后面填充\n",
    "    param_grid = {}\n",
    "    cv = StratifiedKFold(n_splits=5, shuffle=True, random_state=1121218)\n",
    "\n",
    "    cv_scores = np.empty(5)\n",
    "    for idx, (train_idx, test_idx) in enumerate(cv.split(X, y)):\n",
    "        X_train, X_test = X.iloc[train_idx], X.iloc[test_idx]\n",
    "        y_train, y_test = y[train_idx], y[test_idx]\n",
    "\n",
    "        model = lgbm.LGBMClassifier(objective=\"binary\", **param_grid)\n",
    "        model.fit(\n",
    "            X_train,\n",
    "            y_train,\n",
    "            eval_set=[(X_test, y_test)],\n",
    "            eval_metric=\"binary_logloss\",\n",
    "            early_stopping_rounds=100,\n",
    "        )\n",
    "        preds = model.predict_proba(X_test)\n",
    "        cv_scores[idx] = preds\n",
    "\n",
    "    return np.mean(cv_scores)"
   ]
  },
  {
   "cell_type": "code",
   "execution_count": null,
   "id": "cb97433f",
   "metadata": {},
   "outputs": [],
   "source": []
  },
  {
   "cell_type": "code",
   "execution_count": 13,
   "id": "05db3734",
   "metadata": {
    "ExecuteTime": {
     "end_time": "2023-01-13T06:41:07.793358Z",
     "start_time": "2023-01-13T06:41:07.781030Z"
    }
   },
   "outputs": [
    {
     "ename": "NameError",
     "evalue": "name 'X' is not defined",
     "output_type": "error",
     "traceback": [
      "\u001b[0;31m---------------------------------------------------------------------------\u001b[0m",
      "\u001b[0;31mNameError\u001b[0m                                 Traceback (most recent call last)",
      "\u001b[0;32m<ipython-input-13-ed6ecf8f4784>\u001b[0m in \u001b[0;36m<module>\u001b[0;34m\u001b[0m\n\u001b[1;32m      1\u001b[0m \u001b[0mcv\u001b[0m \u001b[0;34m=\u001b[0m \u001b[0mStratifiedKFold\u001b[0m\u001b[0;34m(\u001b[0m\u001b[0mn_splits\u001b[0m\u001b[0;34m=\u001b[0m\u001b[0;36m5\u001b[0m\u001b[0;34m,\u001b[0m \u001b[0mshuffle\u001b[0m\u001b[0;34m=\u001b[0m\u001b[0;32mTrue\u001b[0m\u001b[0;34m,\u001b[0m \u001b[0mrandom_state\u001b[0m\u001b[0;34m=\u001b[0m\u001b[0;36m1121218\u001b[0m\u001b[0;34m)\u001b[0m\u001b[0;34m\u001b[0m\u001b[0;34m\u001b[0m\u001b[0m\n\u001b[0;32m----> 2\u001b[0;31m \u001b[0;32mfor\u001b[0m \u001b[0midx\u001b[0m\u001b[0;34m,\u001b[0m \u001b[0;34m(\u001b[0m\u001b[0mtrain_idx\u001b[0m\u001b[0;34m,\u001b[0m \u001b[0mtest_idx\u001b[0m\u001b[0;34m)\u001b[0m \u001b[0;32min\u001b[0m \u001b[0menumerate\u001b[0m\u001b[0;34m(\u001b[0m\u001b[0mcv\u001b[0m\u001b[0;34m.\u001b[0m\u001b[0msplit\u001b[0m\u001b[0;34m(\u001b[0m\u001b[0mX\u001b[0m\u001b[0;34m,\u001b[0m \u001b[0my\u001b[0m\u001b[0;34m)\u001b[0m\u001b[0;34m)\u001b[0m\u001b[0;34m:\u001b[0m\u001b[0;34m\u001b[0m\u001b[0;34m\u001b[0m\u001b[0m\n\u001b[0m\u001b[1;32m      3\u001b[0m     \u001b[0mX_train\u001b[0m\u001b[0;34m,\u001b[0m \u001b[0mX_test\u001b[0m \u001b[0;34m=\u001b[0m \u001b[0mX\u001b[0m\u001b[0;34m.\u001b[0m\u001b[0miloc\u001b[0m\u001b[0;34m[\u001b[0m\u001b[0mtrain_idx\u001b[0m\u001b[0;34m]\u001b[0m\u001b[0;34m,\u001b[0m \u001b[0mX\u001b[0m\u001b[0;34m.\u001b[0m\u001b[0miloc\u001b[0m\u001b[0;34m[\u001b[0m\u001b[0mtest_idx\u001b[0m\u001b[0;34m]\u001b[0m\u001b[0;34m\u001b[0m\u001b[0;34m\u001b[0m\u001b[0m\n\u001b[1;32m      4\u001b[0m     \u001b[0my_train\u001b[0m\u001b[0;34m,\u001b[0m \u001b[0my_test\u001b[0m \u001b[0;34m=\u001b[0m \u001b[0my\u001b[0m\u001b[0;34m[\u001b[0m\u001b[0mtrain_idx\u001b[0m\u001b[0;34m]\u001b[0m\u001b[0;34m,\u001b[0m \u001b[0my\u001b[0m\u001b[0;34m[\u001b[0m\u001b[0mtest_idx\u001b[0m\u001b[0;34m]\u001b[0m\u001b[0;34m\u001b[0m\u001b[0;34m\u001b[0m\u001b[0m\n\u001b[1;32m      5\u001b[0m     \u001b[0mprint\u001b[0m\u001b[0;34m(\u001b[0m\u001b[0mX_train\u001b[0m\u001b[0;34m,\u001b[0m \u001b[0mX_test\u001b[0m\u001b[0;34m)\u001b[0m\u001b[0;34m\u001b[0m\u001b[0;34m\u001b[0m\u001b[0m\n",
      "\u001b[0;31mNameError\u001b[0m: name 'X' is not defined"
     ]
    }
   ],
   "source": [
    "cv = StratifiedKFold(n_splits=5, shuffle=True, random_state=1121218)\n",
    "for idx, (train_idx, test_idx) in enumerate(cv.split(X, y)):\n",
    "    X_train, X_test = X.iloc[train_idx], X.iloc[test_idx]\n",
    "    y_train, y_test = y[train_idx], y[test_idx]\n",
    "    print(X_train, X_test)\n",
    "        \n",
    "# cv_scores = np.empty(5)"
   ]
  },
  {
   "cell_type": "code",
   "execution_count": null,
   "id": "20a73725",
   "metadata": {},
   "outputs": [],
   "source": [
    "from lightgbm import LGBMRegressor\n",
    "import optuna\n",
    "from sklearn.metrics import mean_squared_error\n",
    "from sklearn.model_selection import train_test_split, KFold\n",
    "import optuna.integration.lightgbm as oplgb\n",
    "\n",
    "def objective(trial):\n",
    "    X_train, X_test, y_train, y_test=train_test_split(data, target, train_size=0.3)# 数据集划分\n",
    "    param = {\n",
    "        'metric': 'rmse', \n",
    "        'random_state': 48,\n",
    "        'n_estimators': 20000,\n",
    "        'reg_alpha': trial.suggest_loguniform('reg_alpha', 1e-3, 10.0),\n",
    "        'reg_lambda': trial.suggest_loguniform('reg_lambda', 1e-3, 10.0),\n",
    "        'colsample_bytree': trial.suggest_categorical('colsample_bytree', [0.3,0.4,0.5,0.6,0.7,0.8,0.9, 1.0]),\n",
    "        'subsample': trial.suggest_categorical('subsample', [0.4,0.5,0.6,0.7,0.8,1.0]),\n",
    "        'learning_rate': trial.suggest_categorical('learning_rate', [0.006,0.008,0.01,0.014,0.017,0.02]),\n",
    "        'max_depth': trial.suggest_categorical('max_depth', [5, 7, 9, 11, 13, 15, 17, 20, 50]),\n",
    "        'num_leaves' : trial.suggest_int('num_leaves', 1, 1000),\n",
    "        'min_child_samples': trial.suggest_int('min_child_samples', 1, 300),\n",
    "        'cat_smooth' : trial.suggest_int('cat_smooth', 1, 100)      \n",
    "    }\n",
    "    \n",
    "    lgb=LGBMRegressor(**param)\n",
    "    lgb.fit(X_train, y_train, eval_set=[(X_test, y_test)], early_stopping_rounds=100, verbose=False)\n",
    "    pred_lgb=lgb.predict(X_test)\n",
    "    rmse = mean_squared_error(y_test, pred_lgb, squared=False)\n",
    "    return rmse\n"
   ]
  },
  {
   "cell_type": "code",
   "execution_count": null,
   "id": "8f60fb65",
   "metadata": {},
   "outputs": [],
   "source": []
  },
  {
   "cell_type": "code",
   "execution_count": null,
   "id": "dfd6b547",
   "metadata": {},
   "outputs": [],
   "source": []
  },
  {
   "cell_type": "markdown",
   "id": "c8b6a50a",
   "metadata": {},
   "source": [
    "# project"
   ]
  },
  {
   "cell_type": "code",
   "execution_count": null,
   "id": "d49033f7",
   "metadata": {},
   "outputs": [],
   "source": [
    "from gaia.metrics import symmetric_mean_absolute_percentage_error as smape, forecast_bias as kpi_fb\n",
    "import optuna\n",
    "def objective(trial):\n",
    "    model_params = {\n",
    "        'boosting_type': 'gbdt',\n",
    "        'objective': trial.suggest_categorical('objective', ['quantile']),\n",
    "        'alpha':trial.suggest_float(\"alpha\", 0.4, 0.95),\n",
    "        'num_leaves': trial.suggest_int(\"num_leaves\", 2, 256),\n",
    "        'learning_rate': trial.suggest_float(\"learning_rate\", 1e-3, 0.5),\n",
    "        'n_estimators': trial.suggest_int(\"n_estimators\", 100, 700, 50),\n",
    "        'metric': 'quantile',\n",
    "        'feature_fraction': trial.suggest_float(\"feature_fraction\", 0.4, 1.0),\n",
    "        'bagging_fraction': trial.suggest_float(\"bagging_fraction\", 0.4, 1.0),\n",
    "        'max_bin': trial.suggest_int(\"max_bin\", 100, 250, 10),\n",
    "        'max_depth': trial.suggest_int(\"max_depth\", 7, 15, 1),\n",
    "        'reg_alpha': trial.suggest_float(\"reg_alpha\", 1e-8, 10.0),\n",
    "        'reg_lambda': trial.suggest_float(\"reg_lambda\", 1e-8, 10.0),\n",
    "        'min_data_in_leaf': trial.suggest_int('min_data_in_leaf', 1, 256),\n",
    "        'min_data_in_bin': trial.suggest_int('min_data_in_bin', 1, 256),\n",
    "        'min_gain_to_split' : trial.suggest_discrete_uniform('min_gain_to_split', 0.1, 5, 0.01),      \n",
    "        'n_jobs':16,\n",
    "    }\n",
    "    brand_cate = [\n",
    "                (\"COMFORT\", \"FABRIC ENHANCERS\")\n",
    "                 ]\n",
    "    res_df_list = []\n",
    "    features_list = []\n",
    "    models = []\n",
    "    cate_feats_list = []\n",
    "    \n",
    "    for brand, category in brand_cate:\n",
    "        for fcst_date in range(202115, 202120):\n",
    "            full_df = make_full_df(weekly_sales, fcstlist, fcst_date, 9, category, brand )\n",
    "            merge_df = data_prepare(full_df, barcode_master, store_master, promotion, calendar_features, wm_yr_wk_week, new_agg_holiday_df, fcst_date)\n",
    "            processed_df = data_process(merge_df, brand)\n",
    "\n",
    "    #         processed_df = processed_df.rename(columns={'year_week':'wm_yr_wk', 'prom_type':'promo_type'})\n",
    "            for horizon in range(1, 10):\n",
    "                print('%%%%%% horizon start:', horizon)\n",
    "                feature_df = features_create(processed_df, horizon, used_weekend_sales=False)\n",
    "                print('%%%%%% feature done, and encoding start')\n",
    "                encoded_df, features, cate_feats = features_encoding(feature_df, fcst_date)\n",
    "                print('%%%%%% encoding done, and fcst start')\n",
    "                encoded_df = set_weight(encoded_df)\n",
    "                test_lgb, m = one_round_fcst(encoded_df, fcst_date, horizon, features, cate_feats, \n",
    "                                             model_params, eval_metric=lgbm_smape) \n",
    "                print('%%%%%% fcst done')\n",
    "                fcst_df = test_lgb.copy()\n",
    "                fcst_df['index'] = horizon - 1\n",
    "                res_df_list.append(fcst_df)\n",
    "                features_list.append(features)\n",
    "                models.append(m)\n",
    "        test_lgb = pd.concat(res_df_list).reset_index(drop=True)\n",
    "        return smape(test_lgb['fcst'], test_lgb['sales_qty'])\n",
    "\n",
    "if __name__ == \"__main__\":\n",
    "    study = optuna.create_study(direction=\"minimize\", pruner = optuna.pruners.MedianPruner(n_warmup_steps = 10))\n",
    "    study.optimize(objective, n_trials=20)\n",
    "\n",
    "    print(\"Number of finished trials: {}\".format(len(study.trials)))\n",
    "\n",
    "    print(\"Best trial:\")\n",
    "    trial = study.best_trial\n",
    "\n",
    "    print(\"  Value: {}\".format(trial.value))\n",
    "\n",
    "    print(\"  Params: \")\n",
    "    for key, value in trial.params.items():\n",
    "        print(\"    {}: {}\".format(key, value))"
   ]
  },
  {
   "cell_type": "code",
   "execution_count": null,
   "id": "8bb0ddd6",
   "metadata": {},
   "outputs": [],
   "source": []
  },
  {
   "cell_type": "code",
   "execution_count": null,
   "id": "45b6e53b",
   "metadata": {},
   "outputs": [],
   "source": []
  },
  {
   "cell_type": "code",
   "execution_count": null,
   "id": "f7e8106b",
   "metadata": {},
   "outputs": [],
   "source": [
    "# regression\n",
    "pred_list = []\n",
    "for class_name in class_list:\n",
    "    model_params = params[class_name]\n",
    "    if class_name == 'default':\n",
    "        feature_class = feature_df\n",
    "    else:\n",
    "        feature_class = feature_df[feature_df[model_split_label] == class_name]\n",
    "    model = LGBModel(objective='regression',\n",
    "                     feature_name=features,\n",
    "                     categorical_feature=category_features,\n",
    "                     feature_df=feature_class,\n",
    "                     date_col=date_col,\n",
    "                     target_col=target_col,\n",
    "                     params=model_params)\n",
    "    create_models_folder(model_version, class_name)\n",
    "    model.train_test_split()\n",
    "    model.train()\n",
    "    _ = model.predict()\n",
    "    save_lgb_model(model.model, horizon, model_version, class_name)\n",
    "    pred_list.append(model.pred_df)\n",
    "pred_df = pd.concat(pred_list)[output_cols]"
   ]
  }
 ],
 "metadata": {
  "kernelspec": {
   "display_name": "Python 3",
   "language": "python",
   "name": "python3"
  },
  "language_info": {
   "codemirror_mode": {
    "name": "ipython",
    "version": 3
   },
   "file_extension": ".py",
   "mimetype": "text/x-python",
   "name": "python",
   "nbconvert_exporter": "python",
   "pygments_lexer": "ipython3",
   "version": "3.8.8"
  },
  "toc": {
   "base_numbering": 1,
   "nav_menu": {},
   "number_sections": true,
   "sideBar": true,
   "skip_h1_title": false,
   "title_cell": "Table of Contents",
   "title_sidebar": "Contents",
   "toc_cell": false,
   "toc_position": {},
   "toc_section_display": true,
   "toc_window_display": false
  }
 },
 "nbformat": 4,
 "nbformat_minor": 5
}
