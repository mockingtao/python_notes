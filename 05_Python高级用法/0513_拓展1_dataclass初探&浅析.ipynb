{
 "cells": [
  {
   "cell_type": "markdown",
   "id": "d5fa1092",
   "metadata": {},
   "source": [
    "# dataclass 初探\n",
    "\n",
    "参考：https://zhuanlan.zhihu.com/p/59885432"
   ]
  },
  {
   "cell_type": "markdown",
   "id": "cee14de4",
   "metadata": {},
   "source": [
    "Python 3.7 引入了一个新的模块，这个模块就是今天要试探的 dataclass。\n",
    "\n",
    "dataclass 的用法和普通的类装饰器没有任何区别，它的作用是替换定义类的时候的：`def __init__()`\n",
    "\n",
    "我们来看看如何使用它"
   ]
  },
  {
   "cell_type": "code",
   "execution_count": 5,
   "id": "ea86ee3b",
   "metadata": {
    "ExecuteTime": {
     "end_time": "2022-10-25T03:23:48.614529Z",
     "start_time": "2022-10-25T03:23:48.605710Z"
    }
   },
   "outputs": [
    {
     "name": "stdout",
     "output_type": "stream",
     "text": [
      "A(a=1, b=2, c='3', d='test')\n"
     ]
    }
   ],
   "source": [
    "# 我们需要引入 dataclass 包\n",
    "from dataclasses import dataclass \n",
    "\n",
    "@dataclass\n",
    "class A:\n",
    "    a: int\n",
    "    b: int\n",
    "    c: str\n",
    "    d: str = \"test\"\n",
    "\n",
    "a = A(1, 2, \"3\")\n",
    "print(a)"
   ]
  },
  {
   "cell_type": "code",
   "execution_count": 2,
   "id": "49b2021f",
   "metadata": {
    "ExecuteTime": {
     "end_time": "2022-10-25T03:21:19.041816Z",
     "start_time": "2022-10-25T03:21:19.035186Z"
    }
   },
   "outputs": [
    {
     "name": "stdout",
     "output_type": "stream",
     "text": [
      "<__main__.A object at 0x7f99ef6ad820>\n"
     ]
    }
   ],
   "source": [
    "# 它的效果和以下代码完全一样\n",
    "class A:\n",
    "    def __init__(self, a, b, c, d=\"test\"):\n",
    "        self.a = a\n",
    "        self.b = b\n",
    "        self.c = c\n",
    "        self.d = d\n",
    "a = A(1, 2, \"3\")\n",
    "print(a)"
   ]
  },
  {
   "cell_type": "markdown",
   "id": "ef9719f2",
   "metadata": {},
   "source": [
    "使用了 dataclass 可以省下很多代码，可以帮我们节约很多时间，代码也变得很简洁了。\n",
    "\n"
   ]
  },
  {
   "cell_type": "markdown",
   "id": "ddd99f32",
   "metadata": {},
   "source": [
    "## 定义类型\n",
    "\n",
    "我们发现，使用 dataclass 的时候，需要对初始化的参数进行类型定义，比如上面的例子里面，我为 a, b, c, d 定义的类型分别是 int, int, str 和 str。\n",
    "\n",
    "那我建立实例的时候，传递非定义的类型的数据进去，会报错么？\n",
    "\n",
    "答案是很明显的，是不会报错的，毕竟 python 是解释性语言嘛。如下例子：\n"
   ]
  },
  {
   "cell_type": "code",
   "execution_count": 6,
   "id": "7c1c6804",
   "metadata": {
    "ExecuteTime": {
     "end_time": "2022-10-25T03:23:51.047230Z",
     "start_time": "2022-10-25T03:23:51.041651Z"
    }
   },
   "outputs": [
    {
     "name": "stdout",
     "output_type": "stream",
     "text": [
      "A(a='name', b='age', c=123, d=123)\n"
     ]
    }
   ],
   "source": [
    "a = A(\"name\", \"age\", 123, 123)\n",
    "print(a)\n",
    "\n",
    "# cc：记着，这里需要重新运行一下 被dataclass修饰的A类\n",
    "\n",
    "# 但是在 pycharm 之类的 IDE 里面，是会提醒修改的。"
   ]
  },
  {
   "cell_type": "markdown",
   "id": "4183be2c",
   "metadata": {},
   "source": [
    "那么我们可以使用万能的类型的么？当然是可以的，但是不建议（毕竟现在都建议写 python 的工程师加上类型检查了）\n",
    "\n",
    "做法如下:"
   ]
  },
  {
   "cell_type": "code",
   "execution_count": 7,
   "id": "bc13c7c2",
   "metadata": {
    "ExecuteTime": {
     "end_time": "2022-10-25T03:25:57.914956Z",
     "start_time": "2022-10-25T03:25:57.911349Z"
    }
   },
   "outputs": [],
   "source": [
    "@dataclass\n",
    "class A:\n",
    "    a: \"\"\n",
    "    b: 1\n",
    "        "
   ]
  },
  {
   "cell_type": "markdown",
   "id": "1ac4d2bb",
   "metadata": {
    "ExecuteTime": {
     "end_time": "2022-10-25T03:26:16.359156Z",
     "start_time": "2022-10-25T03:26:16.352376Z"
    }
   },
   "source": [
    "这样就可以随意传参了。\n",
    "\n",
    "我们只需要随意给一个字符串就可以了，也可以是任何的其他类型"
   ]
  },
  {
   "cell_type": "markdown",
   "id": "e458f905",
   "metadata": {},
   "source": [
    "## 继承"
   ]
  },
  {
   "cell_type": "markdown",
   "id": "5967ab71",
   "metadata": {},
   "source": [
    "使用了 dataclass 之后，类的继承还是之前的那样么？\n",
    "\n",
    "我们来试试"
   ]
  },
  {
   "cell_type": "code",
   "execution_count": 9,
   "id": "35b84812",
   "metadata": {
    "ExecuteTime": {
     "end_time": "2022-10-25T03:28:19.806000Z",
     "start_time": "2022-10-25T03:28:19.791315Z"
    }
   },
   "outputs": [
    {
     "data": {
      "text/plain": [
       "B(a=1, b='2', c=3, d=4)"
      ]
     },
     "execution_count": 9,
     "metadata": {},
     "output_type": "execute_result"
    }
   ],
   "source": [
    "@dataclass\n",
    "class A:\n",
    "    a: int\n",
    "    b: str\n",
    "\n",
    "\n",
    "@dataclass\n",
    "class B(A):\n",
    "    c: int\n",
    "    d: int\n",
    "\n",
    "b = B(a=1, b=\"2\", c=3, d=4)\n",
    "b"
   ]
  },
  {
   "cell_type": "markdown",
   "id": "0c438bdc",
   "metadata": {},
   "source": [
    "就完了。\n",
    "\n",
    "再来想想我们之前的继承 __init__ 是怎么写的"
   ]
  },
  {
   "cell_type": "code",
   "execution_count": 11,
   "id": "e4bb1a87",
   "metadata": {
    "ExecuteTime": {
     "end_time": "2022-10-25T03:28:57.589194Z",
     "start_time": "2022-10-25T03:28:57.581739Z"
    }
   },
   "outputs": [
    {
     "data": {
      "text/plain": [
       "<__main__.B at 0x7f99ef7800a0>"
      ]
     },
     "execution_count": 11,
     "metadata": {},
     "output_type": "execute_result"
    }
   ],
   "source": [
    "class A:\n",
    "    def __init__(self, a: int, b: str):\n",
    "        self.a = a\n",
    "        self.b = b\n",
    "\n",
    "\n",
    "class B(A):\n",
    "    def __init__(self, a: int, b: str, c: int, d: int):\n",
    "        super().__init__(a, b)\n",
    "        self.c = c\n",
    "        self.d = d\n",
    "\n",
    "b = B(a=1, b=\"2\", c=3, d=4)\n",
    "b"
   ]
  },
  {
   "cell_type": "markdown",
   "id": "e2c74feb",
   "metadata": {},
   "source": [
    "一对比，是不是上面的代码简洁太多太多了！简直的优化利器！"
   ]
  },
  {
   "cell_type": "markdown",
   "id": "4255bb19",
   "metadata": {},
   "source": [
    "## 使用 make_dataclass 快速创建类\n",
    "\n",
    "除此之外，dataclasses 还提供了一个方法 make_dataclass 让我们可以快速创建类"
   ]
  },
  {
   "cell_type": "code",
   "execution_count": 14,
   "id": "5646f567",
   "metadata": {
    "ExecuteTime": {
     "end_time": "2022-10-25T03:30:00.545422Z",
     "start_time": "2022-10-25T03:30:00.536854Z"
    }
   },
   "outputs": [
    {
     "data": {
      "text/plain": [
       "A(a=1, b=2, c=3, d=1)"
      ]
     },
     "execution_count": 14,
     "metadata": {},
     "output_type": "execute_result"
    }
   ],
   "source": [
    "from dataclasses import make_dataclass\n",
    "\n",
    "A = make_dataclass(\n",
    "    \"A\", \n",
    "    [(\"a\", int), \"b\", (\"c\", str), (\"d\", int, 1)],\n",
    "    namespace={'add_one': lambda self: self.a + 1})\n",
    "\n",
    "a = A(1,2,3)\n",
    "a\n",
    "\n",
    "# 和下面代码意思一样的"
   ]
  },
  {
   "cell_type": "code",
   "execution_count": 15,
   "id": "37202123",
   "metadata": {
    "ExecuteTime": {
     "end_time": "2022-10-25T03:31:07.940871Z",
     "start_time": "2022-10-25T03:31:07.932105Z"
    }
   },
   "outputs": [
    {
     "data": {
      "text/plain": [
       "A(a=1, b=2, c=3, d=1)"
      ]
     },
     "execution_count": 15,
     "metadata": {},
     "output_type": "execute_result"
    }
   ],
   "source": [
    "@dataclass\n",
    "class A:\n",
    "    a: int\n",
    "    b: \"\"\n",
    "    c: str\n",
    "    d: int = 1\n",
    "\n",
    "    def add_one(self):\n",
    "        self.a += 1\n",
    "        \n",
    "a = A(1,2,3)\n",
    "a\n",
    "# cc： 那还是这个更清晰一些；"
   ]
  },
  {
   "cell_type": "markdown",
   "id": "9681b48a",
   "metadata": {},
   "source": [
    "## 小结\n",
    "\n",
    "我们只是初步的使用 dataclass 来替换了以往的 __init__ 而已，还有很多新带入的东西没有使用，比如 field 还有其他的强大的功能。\n",
    "\n",
    "见下文"
   ]
  },
  {
   "cell_type": "markdown",
   "id": "732108d7",
   "metadata": {},
   "source": [
    "# dataclass 浅析\n",
    "\n",
    "参考链接：https://zhuanlan.zhihu.com/p/60009941\n"
   ]
  },
  {
   "cell_type": "markdown",
   "id": "af5d55c3",
   "metadata": {
    "ExecuteTime": {
     "end_time": "2022-10-25T02:47:31.746691Z",
     "start_time": "2022-10-25T02:47:31.739559Z"
    }
   },
   "source": [
    "## field\n",
    "field 在 dataclasses 里面是比较重要的功能， 用于初处理定义的参数非常有用\n",
    "在 PEP 557 中是这样描述 field 的\n",
    "\n",
    "`Field objects describe each defined field. These objects are created internally, and are returned by the fields() module-level method (see below). Users should never instantiate a Field object directly.`\n",
    "\n",
    "大致意思就是 Field 对象是用于描述定义的字段的，这些对象是内部定义好了的。然后由 field() 方法返回，用户不用直接实例化 Field。\n",
    "我们先看看 field 是如何使用的"
   ]
  },
  {
   "cell_type": "code",
   "execution_count": 3,
   "id": "c8285adb",
   "metadata": {
    "ExecuteTime": {
     "end_time": "2022-10-25T03:22:05.633133Z",
     "start_time": "2022-10-25T03:22:05.628662Z"
    }
   },
   "outputs": [],
   "source": [
    "from dataclasses import dataclass, field\n",
    "\n",
    "\n",
    "@dataclass\n",
    "class A:\n",
    "    a: str = field(default=\"123\")"
   ]
  },
  {
   "cell_type": "markdown",
   "id": "6c909d0e",
   "metadata": {},
   "source": [
    "可以用于设立默认值，和 a: str = \"123\" 一个效果，那为什么我们还需要 field 呢？\n",
    "因为 field 的功能远不止这一个设置默认值，他还有很多有用的功能"
   ]
  },
  {
   "cell_type": "markdown",
   "id": "a779426c",
   "metadata": {},
   "source": [
    "### 1. 设置是否加载到 __init__ 里面去"
   ]
  },
  {
   "cell_type": "code",
   "execution_count": 18,
   "id": "1919c3b2",
   "metadata": {
    "ExecuteTime": {
     "end_time": "2022-10-25T02:49:12.310644Z",
     "start_time": "2022-10-25T02:49:12.290216Z"
    }
   },
   "outputs": [
    {
     "data": {
      "text/plain": [
       "A(a=1, b=10)"
      ]
     },
     "execution_count": 18,
     "metadata": {},
     "output_type": "execute_result"
    }
   ],
   "source": [
    "@dataclass\n",
    "class A:\n",
    "    a: int\n",
    "    b: int = field(default=10, init=False)\n",
    "a = A(1) # 注意，实例化 A 的时候只需要一个参数，赋给 a 的\n",
    "a"
   ]
  },
  {
   "cell_type": "code",
   "execution_count": 20,
   "id": "7b4055c4",
   "metadata": {
    "ExecuteTime": {
     "end_time": "2022-10-25T02:49:25.989124Z",
     "start_time": "2022-10-25T02:49:25.973752Z"
    }
   },
   "outputs": [
    {
     "data": {
      "text/plain": [
       "<__main__.A at 0x7fb261005d90>"
      ]
     },
     "execution_count": 20,
     "metadata": {},
     "output_type": "execute_result"
    }
   ],
   "source": [
    "# 等价于\n",
    "class A:\n",
    "    b = 10\n",
    "    def __init__(self, a: int):\n",
    "        self.a = a\n",
    "\n",
    "a = A(1)\n",
    "a\n",
    "# cc：这里因为init=False，所以不会加入到init里面。\n",
    "\n",
    "# 另外，可以看到通过filed定义和下面这段的定义，在实例化对象的时候输出是不一样的。"
   ]
  },
  {
   "cell_type": "markdown",
   "id": "2c10e81a",
   "metadata": {
    "ExecuteTime": {
     "end_time": "2022-10-25T02:33:29.571625Z",
     "start_time": "2022-10-25T02:33:29.566149Z"
    }
   },
   "source": [
    "### 2.  设置是否成为 __repr__ 返回参数\n",
    "我们在之前实例化 A 的时候，把实例化对象打印出来的话，是这样的：A(a=1, b=10)\n",
    "\n",
    "那如果我们不想把特定的对象打印出来，可以这样写:"
   ]
  },
  {
   "cell_type": "code",
   "execution_count": 21,
   "id": "bdd6ea44",
   "metadata": {
    "ExecuteTime": {
     "end_time": "2022-10-25T02:51:28.009548Z",
     "start_time": "2022-10-25T02:51:27.991921Z"
    }
   },
   "outputs": [
    {
     "name": "stdout",
     "output_type": "stream",
     "text": [
      "A(a=1)\n"
     ]
    }
   ],
   "source": [
    "@dataclass\n",
    "class A:\n",
    "    a: int\n",
    "    b: int = field(default=1, repr=False)\n",
    "\n",
    "a = A(1)\n",
    "print(a)\n",
    "# 这时候，打印的结果为 A(a=1)"
   ]
  },
  {
   "cell_type": "markdown",
   "id": "7d6a24c7",
   "metadata": {},
   "source": [
    "### 3. 设置是否计算 hash 的对象之一\n",
    "a: int = field(hash=False)\n",
    "### 4. 设置是否成为和其他类进行对比的值之一\n",
    "a: int = field(compare=False)"
   ]
  },
  {
   "cell_type": "markdown",
   "id": "fa13ab98",
   "metadata": {},
   "source": [
    "### 5. 定义 field 信息"
   ]
  },
  {
   "cell_type": "code",
   "execution_count": 7,
   "id": "66a46c7a",
   "metadata": {
    "ExecuteTime": {
     "end_time": "2022-10-25T02:40:28.942728Z",
     "start_time": "2022-10-25T02:40:28.935261Z"
    }
   },
   "outputs": [
    {
     "name": "stdout",
     "output_type": "stream",
     "text": [
      "(Field(name='a',type=<class 'int'>,default=<dataclasses._MISSING_TYPE object at 0x7fb260fba550>,default_factory=<dataclasses._MISSING_TYPE object at 0x7fb260fba550>,init=True,repr=True,hash=None,compare=True,metadata=mappingproxy({'name': 'a'}),_field_type=_FIELD),)\n"
     ]
    }
   ],
   "source": [
    "from dataclasses import field, dataclass, fields\n",
    "@dataclass\n",
    "class A:\n",
    "    a: int = field(metadata={\"name\": \"a\"}) # metadata 需要接受一个映射对象，也就是 python 的字典\n",
    "\n",
    "metadata = fields(A)\n",
    "print(metadata)\n"
   ]
  },
  {
   "cell_type": "markdown",
   "id": "1a09083d",
   "metadata": {},
   "source": [
    "打印的结果如上。\n",
    "\n",
    "以上输出是一个 tuple，第一个即是 a 字段的 field 定义。\n",
    "\n",
    "可以通过 metadata[0].metadata[\"name\"] 获取值"
   ]
  },
  {
   "cell_type": "code",
   "execution_count": 11,
   "id": "04b8453e",
   "metadata": {
    "ExecuteTime": {
     "end_time": "2022-10-25T02:42:16.503407Z",
     "start_time": "2022-10-25T02:42:16.494410Z"
    }
   },
   "outputs": [
    {
     "data": {
      "text/plain": [
       "'a'"
      ]
     },
     "execution_count": 11,
     "metadata": {},
     "output_type": "execute_result"
    }
   ],
   "source": [
    "metadata[0].metadata[\"name\"] "
   ]
  },
  {
   "cell_type": "markdown",
   "id": "9291c139",
   "metadata": {},
   "source": [
    "### 6. 自定义处理定义的参数\n",
    "\n",
    "有些字段需要我们进行一些预处理，不用传递初始值，由其他函数返回\n",
    "\n",
    "我们可以这么写"
   ]
  },
  {
   "cell_type": "code",
   "execution_count": 13,
   "id": "295de983",
   "metadata": {
    "ExecuteTime": {
     "end_time": "2022-10-25T02:43:45.600445Z",
     "start_time": "2022-10-25T02:43:45.584506Z"
    }
   },
   "outputs": [
    {
     "name": "stdout",
     "output_type": "stream",
     "text": [
      "123\n"
     ]
    }
   ],
   "source": [
    "def value():\n",
    "    return \"123\"\n",
    "\n",
    "@dataclass\n",
    "class A:\n",
    "    a: str = field(default_factory=value)\n",
    "\n",
    "print(A().a) # 实例化 A 的时候已经可以不传递值了\n"
   ]
  },
  {
   "cell_type": "code",
   "execution_count": 14,
   "id": "46e8b9e0",
   "metadata": {
    "ExecuteTime": {
     "end_time": "2022-10-25T02:44:47.649316Z",
     "start_time": "2022-10-25T02:44:47.642090Z"
    }
   },
   "outputs": [
    {
     "data": {
      "text/plain": [
       "'123'"
      ]
     },
     "execution_count": 14,
     "metadata": {},
     "output_type": "execute_result"
    }
   ],
   "source": [
    "A().a"
   ]
  },
  {
   "cell_type": "markdown",
   "id": "05b5ed13",
   "metadata": {},
   "source": [
    "## 使用 dataclass 设定初始方法\n",
    "\n",
    "使用装饰器 dataclass 的时候，设定一些参数，即可选择是否需要这些初始方法"
   ]
  },
  {
   "cell_type": "markdown",
   "id": "14f28777",
   "metadata": {
    "ExecuteTime": {
     "end_time": "2022-10-25T02:55:54.961619Z",
     "start_time": "2022-10-25T02:55:54.957629Z"
    }
   },
   "source": [
    "### 1. `__init__`"
   ]
  },
  {
   "cell_type": "code",
   "execution_count": 29,
   "id": "c5106990",
   "metadata": {
    "ExecuteTime": {
     "end_time": "2022-10-25T02:57:20.390983Z",
     "start_time": "2022-10-25T02:57:20.384697Z"
    }
   },
   "outputs": [
    {
     "name": "stdout",
     "output_type": "stream",
     "text": [
      "<class '__main__.A'>\n"
     ]
    }
   ],
   "source": [
    "@dataclass(init=False)\n",
    "class A:\n",
    "    a: int = 1\n",
    "\n",
    "print(A)\n"
   ]
  },
  {
   "cell_type": "markdown",
   "id": "5f7571b6",
   "metadata": {},
   "source": [
    "### 2. __repr__\n",
    "\n",
    "field 可以设置哪个参数不加入类返回值，设置\n",
    "`@dataclass(repr=False)` 即可"
   ]
  },
  {
   "cell_type": "markdown",
   "id": "757c9ace",
   "metadata": {},
   "source": [
    "### 3. __hash__\n",
    "设置是否需要对类进行 hash，可以结合 `a: int = field(hash=True)` 一起设置\n",
    "\n",
    "### 4. __eq__\n",
    "这是类之间比较使用的方法，\n",
    "同样可以结合 `a: int = field(compare=True)` 一起设置"
   ]
  },
  {
   "cell_type": "markdown",
   "id": "7dfaaaaa",
   "metadata": {},
   "source": [
    "## 源码剖析\n",
    "\n",
    "dataclasses 这个库这么强大，我们来一步步剖析它的源码吧!"
   ]
  },
  {
   "cell_type": "markdown",
   "id": "49983cdc",
   "metadata": {},
   "source": [
    "### field 源码剖析"
   ]
  },
  {
   "cell_type": "code",
   "execution_count": null,
   "id": "20a3af5a",
   "metadata": {},
   "outputs": [],
   "source": [
    "# 首先我们看看 field 的源码\n",
    "\n",
    "def field(*, \n",
    "          default=MISSING, \n",
    "          default_factory=MISSING, \n",
    "          init=True, \n",
    "          repr=True,\n",
    "          hash=None, \n",
    "          compare=True, \n",
    "          metadata=None):\n",
    "    \n",
    "    if default is not MISSING and default_factory is not MISSING:\n",
    "        raise ValueError('cannot specify both default and default_factory')\n",
    "        \n",
    "    return Field(default, default_factory, init, repr, hash, compare, metadata)"
   ]
  },
  {
   "cell_type": "markdown",
   "id": "4603dda8",
   "metadata": {},
   "source": [
    "这段代码很简单，对传入的参数进行判断之后，返回 Field 实例。\n",
    "\n",
    "注意 default 和 default_factory 缺一不可，都是作为定义初始值的。"
   ]
  },
  {
   "cell_type": "code",
   "execution_count": null,
   "id": "df580b1a",
   "metadata": {},
   "outputs": [],
   "source": [
    "# 然后我们来看看 Field 的源码：\n",
    "class Field:\n",
    "    __slots__ = ('name',\n",
    "                 'type',\n",
    "                 'default',\n",
    "                 'default_factory',\n",
    "                 'repr',\n",
    "                 'hash',\n",
    "                 'init',\n",
    "                 'compare',\n",
    "                 'metadata',\n",
    "                 '_field_type',\n",
    "                 )\n",
    "\n",
    "    def __init__(self, default, default_factory, init, repr, hash, compare,\n",
    "                 metadata):\n",
    "        self.name = None\n",
    "        self.type = None\n",
    "        self.default = default\n",
    "        self.default_factory = default_factory\n",
    "        self.init = init\n",
    "        self.repr = repr\n",
    "        self.hash = hash\n",
    "        self.compare = compare\n",
    "        self.metadata = (_EMPTY_METADATA\n",
    "                         if metadata is None or len(metadata) == 0 else\n",
    "                         types.MappingProxyType(metadata))\n",
    "        self._field_type = None\n",
    "\n",
    "    def __repr__(self):\n",
    "        return ('Field('\n",
    "                f'name={self.name!r},'\n",
    "                f'type={self.type!r},'\n",
    "                f'default={self.default!r},'\n",
    "                f'default_factory={self.default_factory!r},'\n",
    "                f'init={self.init!r},'\n",
    "                f'repr={self.repr!r},'\n",
    "                f'hash={self.hash!r},'\n",
    "                f'compare={self.compare!r},'\n",
    "                f'metadata={self.metadata!r},'\n",
    "                f'_field_type={self._field_type}'\n",
    "                ')')\n",
    "\n",
    "    def __set_name__(self, owner, name):\n",
    "        func = getattr(type(self.default), '__set_name__', None)\n",
    "        if func:\n",
    "            # There is a __set_name__ method on the descriptor, call\n",
    "            # it.\n",
    "            func(self.default, owner, name)\n"
   ]
  },
  {
   "cell_type": "markdown",
   "id": "76809d1b",
   "metadata": {},
   "source": [
    "简单的一个类，功能也就一个 __set_name__\n",
    "\n",
    "我们注意一下 __repr__ 里面的有个细节:\n",
    "\n",
    "f'name={self.name!r},', 比如 self.name 为 \"name\", 这里会返回 \"name='name',\""
   ]
  },
  {
   "cell_type": "markdown",
   "id": "42addb87",
   "metadata": {},
   "source": [
    "### dataclass 源码剖析 "
   ]
  },
  {
   "cell_type": "code",
   "execution_count": null,
   "id": "31863973",
   "metadata": {},
   "outputs": [],
   "source": [
    "def dataclass(_cls=None, *, init=True, repr=True, eq=True, order=False,\n",
    "              unsafe_hash=False, frozen=False):\n",
    "\n",
    "    def wrap(cls):\n",
    "        return _process_class(cls, init, repr, eq, order, unsafe_hash, frozen)\n",
    "\n",
    "    if _cls is None:\n",
    "        return wrap\n",
    "    return wrap(_cls)\n"
   ]
  },
  {
   "cell_type": "markdown",
   "id": "21e0e59b",
   "metadata": {},
   "source": [
    "这是一个很常见的装饰器\n",
    "\n",
    "当我们定义类的时候，把类本身作为 _cls 参数传递进去，这时候返回一个 _process_class 函数的值\n",
    "\n",
    "实例化类的时候，这时候 _cls 为 None, 返回 wrap 对象"
   ]
  },
  {
   "cell_type": "markdown",
   "id": "84557217",
   "metadata": {
    "ExecuteTime": {
     "end_time": "2022-10-25T03:11:38.667089Z",
     "start_time": "2022-10-25T03:11:38.642523Z"
    }
   },
   "source": [
    "接着我们来看 _process_class 源码\n",
    "\n",
    "这段代码比较长，我们删减部分（不影响核心功能），删除的是生成初始化函数的部分，有兴趣的读者可以自己查看一下。\n"
   ]
  },
  {
   "cell_type": "code",
   "execution_count": null,
   "id": "9c48317c",
   "metadata": {},
   "outputs": [],
   "source": [
    "def _process_class(cls, init, repr, eq, order, unsafe_hash, frozen):\n",
    "    fields = {}\n",
    "\n",
    "    setattr(cls, _PARAMS, _DataclassParams(init, repr, eq, order,\n",
    "                                           unsafe_hash, frozen))\n",
    "    any_frozen_base = False\n",
    "    has_dataclass_bases = False\n",
    "    for b in cls.__mro__[-1:0:-1]:\n",
    "        base_fields = getattr(b, _FIELDS, None)\n",
    "        if base_fields:\n",
    "            has_dataclass_bases = True\n",
    "            for f in base_fields.values():\n",
    "                fields[f.name] = f\n",
    "            if getattr(b, _PARAMS).frozen:\n",
    "                any_frozen_base = True\n",
    "    cls_annotations = cls.__dict__.get('__annotations__', {})\n",
    "    cls_fields = [_get_field(cls, name, type)\n",
    "                  for name, type in cls_annotations.items()]\n",
    "    for f in cls_fields:\n",
    "        fields[f.name] = f\n",
    "        if isinstance(getattr(cls, f.name, None), Field):\n",
    "            if f.default is MISSING:\n",
    "                delattr(cls, f.name)\n",
    "            else:\n",
    "                setattr(cls, f.name, f.default)\n",
    "    setattr(cls, _FIELDS, fields)\n",
    "\n",
    "    if init:\n",
    "        has_post_init = hasattr(cls, _POST_INIT_NAME)\n",
    "        flds = [f for f in fields.values()\n",
    "                if f._field_type in (_FIELD, _FIELD_INITVAR)]\n",
    "        _set_new_attribute(cls, '__init__',\n",
    "                           _init_fn(flds,\n",
    "                                    frozen,\n",
    "                                    has_post_init,\n",
    "                                    '__dataclass_self__' if 'self' in fields\n",
    "                                            else 'self',\n",
    "                          ))\n",
    "\n",
    "    return cls"
   ]
  },
  {
   "cell_type": "code",
   "execution_count": null,
   "id": "bb0824aa",
   "metadata": {},
   "outputs": [],
   "source": []
  },
  {
   "cell_type": "code",
   "execution_count": null,
   "id": "329e5b2b",
   "metadata": {},
   "outputs": [],
   "source": []
  },
  {
   "cell_type": "code",
   "execution_count": null,
   "id": "4f913a78",
   "metadata": {},
   "outputs": [],
   "source": []
  },
  {
   "cell_type": "code",
   "execution_count": null,
   "id": "389e211b",
   "metadata": {},
   "outputs": [],
   "source": []
  },
  {
   "cell_type": "markdown",
   "id": "93c81576",
   "metadata": {},
   "source": [
    "## 尾声\n",
    "从功能上来看，dataclass 为我们带来了比较好优化类方案，提供的各类方法也足够用，可以在之后的项目里面逐渐使用起来。\n",
    "从源码上来看，源码整体比较简洁，使用了比较少见的 __annotations__，技巧足够，代码简单易学。\n",
    "建议新手可以从此入手，即可学习装饰器也可学习优秀代码。\n",
    "\n"
   ]
  },
  {
   "cell_type": "code",
   "execution_count": null,
   "id": "39674a32",
   "metadata": {},
   "outputs": [],
   "source": []
  }
 ],
 "metadata": {
  "kernelspec": {
   "display_name": "Python 3",
   "language": "python",
   "name": "python3"
  },
  "language_info": {
   "codemirror_mode": {
    "name": "ipython",
    "version": 3
   },
   "file_extension": ".py",
   "mimetype": "text/x-python",
   "name": "python",
   "nbconvert_exporter": "python",
   "pygments_lexer": "ipython3",
   "version": "3.8.8"
  }
 },
 "nbformat": 4,
 "nbformat_minor": 5
}
