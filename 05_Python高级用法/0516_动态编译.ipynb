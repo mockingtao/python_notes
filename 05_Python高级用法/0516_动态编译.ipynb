{
 "cells": [
  {
   "cell_type": "markdown",
   "metadata": {},
   "source": [
    "# 动态编译"
   ]
  },
  {
   "cell_type": "markdown",
   "metadata": {},
   "source": [
    "## 标准编程语言"
   ]
  },
  {
   "cell_type": "markdown",
   "metadata": {},
   "source": [
    "对于 **C** 语言，代码一般要先编译，再执行。\n",
    "\n",
    "    .c -> .exe"
   ]
  },
  {
   "cell_type": "markdown",
   "metadata": {},
   "source": [
    "## 解释器语言"
   ]
  },
  {
   "cell_type": "markdown",
   "metadata": {},
   "source": [
    "shell 脚本\n",
    "\n",
    "    .sh -> interpreter"
   ]
  },
  {
   "cell_type": "markdown",
   "metadata": {},
   "source": [
    "## Byte Code 编译"
   ]
  },
  {
   "cell_type": "markdown",
   "metadata": {},
   "source": [
    "**Python, Java** 等语言先将代码编译为 byte code（不是机器码），然后再处理：\n",
    "\n",
    "    .py -> .pyc -> interpreter"
   ]
  },
  {
   "cell_type": "markdown",
   "metadata": {},
   "source": [
    "## eval 函数\n",
    "\n",
    "eval是Python的一个内置函数，功能十分强大，这个函数的作用是，返回传入字符串的表达式的结果。就是说：将字符串当成有效的表达式 来求值 并 返回计算结果。\n",
    "\n",
    "详情见链接：https://blog.csdn.net/qq_26442553/article/details/94396532\n",
    "\n",
    "即，eval函数就是实现list、dict、tuple与str之间的转化，同样str函数把list，dict，tuple转为为字符串"
   ]
  },
  {
   "cell_type": "markdown",
   "metadata": {},
   "source": [
    "语法：\n",
    "\n",
    "    eval(expression[, globals[, locals]])\n",
    "    expression ： 表达式。\n",
    "    globals ： （可选参数)变量作用域，全局命名空间，如果被提供，则必须是一个字典对象。\n",
    "    locals ： (可选参数)变量作用域，局部命名空间，如果被提供，可以是任何映射对象。\n",
    "\n",
    "\n",
    "\n",
    "使用 `eval` 函数动态执行代码，返回执行的值："
   ]
  },
  {
   "cell_type": "code",
   "execution_count": 1,
   "metadata": {},
   "outputs": [
    {
     "data": {
      "text/plain": [
       "2"
      ]
     },
     "execution_count": 1,
     "metadata": {},
     "output_type": "execute_result"
    }
   ],
   "source": [
    "a = 1\n",
    "\n",
    "eval(\"a+1\")"
   ]
  },
  {
   "cell_type": "markdown",
   "metadata": {},
   "source": [
    "可以接收明明空间参数："
   ]
  },
  {
   "cell_type": "code",
   "execution_count": 2,
   "metadata": {},
   "outputs": [
    {
     "data": {
      "text/plain": [
       "3"
      ]
     },
     "execution_count": 2,
     "metadata": {},
     "output_type": "execute_result"
    }
   ],
   "source": [
    "local = dict(a=2)\n",
    "glob = {}\n",
    "eval(\"a+1\", glob, local)"
   ]
  },
  {
   "cell_type": "code",
   "execution_count": 9,
   "metadata": {},
   "outputs": [
    {
     "name": "stdout",
     "output_type": "stream",
     "text": [
      "16 \n",
      "\n",
      "3 \n",
      "\n",
      "{'name': 'linux', 'age': 18}\n",
      "<class 'dict'> \n",
      "\n",
      "{'name': 'linux', 'age': 1822}\n",
      "{'name': 'linux', 'age': 1823} \n",
      "\n",
      "{'name': 'linux', 'age': 18}\n",
      "-----------------\n",
      "{'name': 'linux', 'age': 18}\n"
     ]
    }
   ],
   "source": [
    "#1.eval无参实现字符串转化\n",
    "s = '1+2+3*5-2'\n",
    "print(eval(s),'\\n')  #16\n",
    " \n",
    "#2.字符串中有变量也可以\n",
    "x = 1\n",
    "print(eval('x+2'), '\\n')  #3\n",
    " \n",
    "#3.字符串转字典\n",
    "dict1 = eval(\"{'name':'linux','age':18}\")\n",
    "print(dict1)\n",
    "print(type(dict1), '\\n')\n",
    "\n",
    "#输出结果：{'name':'linux','age':18}\n",
    " \n",
    "#4.eval传递全局变量参数,注意字典里的:age中的age没有带引号，说明它是个变量，而不是字符串。\n",
    "#这里两个参数都是全局的\n",
    "print(eval(\"{'name':'linux','age':age}\",{\"age\":1822}))\n",
    "#输出结果：{'name': 'linux', 'age': 1822}\n",
    "print(eval(\"{'name':'linux','age':age}\",{\"age\":1822},{\"age\":1823}), '\\n')\n",
    "#输出结果：{'name': 'linux', 'age': 1823} \n",
    "#eval传递本地变量，既有global和local时，变量值先从local中查找。\n",
    "\n",
    "# cc：这里也是同理：eval传递本地变量，既有global和local时，变量值先从local中查找。\n",
    "age=18\n",
    "print(eval(\"{'name':'linux','age':age}\",{\"age\":1822},locals()))\n",
    "#输出结果：{'name': 'linux', 'age': 18}\n",
    "print(\"-----------------\")\n",
    " \n",
    "print(eval(\"{'name':'linux','age':age}\"))"
   ]
  },
  {
   "cell_type": "code",
   "execution_count": null,
   "metadata": {},
   "outputs": [],
   "source": []
  },
  {
   "cell_type": "markdown",
   "metadata": {},
   "source": [
    "这里 `local` 中的 `a` 先被找到。"
   ]
  },
  {
   "cell_type": "markdown",
   "metadata": {},
   "source": [
    "## exec 函数"
   ]
  },
  {
   "cell_type": "markdown",
   "metadata": {},
   "source": [
    "    exec(statement, glob, local)\n",
    "\n",
    "使用 `exec` 可以添加修改原有的变量。"
   ]
  },
  {
   "cell_type": "code",
   "execution_count": 3,
   "metadata": {},
   "outputs": [
    {
     "name": "stdout",
     "output_type": "stream",
     "text": [
      "2\n"
     ]
    }
   ],
   "source": [
    "a = 1\n",
    "\n",
    "exec(\"b = a+1\")\n",
    "\n",
    "print b"
   ]
  },
  {
   "cell_type": "code",
   "execution_count": 4,
   "metadata": {},
   "outputs": [
    {
     "name": "stdout",
     "output_type": "stream",
     "text": [
      "{'a': 2, 'b': 3}\n"
     ]
    }
   ],
   "source": [
    "local = dict(a=2)\n",
    "glob = {}\n",
    "exec(\"b = a+1\", glob, local)\n",
    "\n",
    "print local"
   ]
  },
  {
   "cell_type": "markdown",
   "metadata": {},
   "source": [
    "执行之后，`b` 在 `local` 命名空间中。"
   ]
  },
  {
   "cell_type": "markdown",
   "metadata": {},
   "source": [
    "## 警告"
   ]
  },
  {
   "cell_type": "markdown",
   "metadata": {},
   "source": [
    "动态执行的时候要注意，不要执行不信任的用户输入，因为它们拥有 `Python` 的全部权限。"
   ]
  },
  {
   "cell_type": "markdown",
   "metadata": {},
   "source": [
    "## compile 函数生成 byte code"
   ]
  },
  {
   "cell_type": "markdown",
   "metadata": {},
   "source": [
    "    compile(str, filename, mode)"
   ]
  },
  {
   "cell_type": "code",
   "execution_count": 5,
   "metadata": {},
   "outputs": [
    {
     "data": {
      "text/plain": [
       "3"
      ]
     },
     "execution_count": 5,
     "metadata": {},
     "output_type": "execute_result"
    }
   ],
   "source": [
    "a = 1\n",
    "c = compile(\"a+2\", \"\", 'eval')\n",
    "\n",
    "eval(c)"
   ]
  },
  {
   "cell_type": "code",
   "execution_count": 6,
   "metadata": {},
   "outputs": [
    {
     "data": {
      "text/plain": [
       "3"
      ]
     },
     "execution_count": 6,
     "metadata": {},
     "output_type": "execute_result"
    }
   ],
   "source": [
    "a = 1\n",
    "c = compile(\"b=a+2\", \"\", 'exec')\n",
    "\n",
    "exec(c)\n",
    "b"
   ]
  },
  {
   "cell_type": "markdown",
   "metadata": {},
   "source": [
    "## abstract syntax trees"
   ]
  },
  {
   "cell_type": "code",
   "execution_count": 7,
   "metadata": {
    "collapsed": true
   },
   "outputs": [],
   "source": [
    "import ast"
   ]
  },
  {
   "cell_type": "code",
   "execution_count": 8,
   "metadata": {},
   "outputs": [
    {
     "data": {
      "text/plain": [
       "\"Expression(body=BinOp(left=Name(id='a', ctx=Load()), op=Add(), right=Num(n=2)))\""
      ]
     },
     "execution_count": 8,
     "metadata": {},
     "output_type": "execute_result"
    }
   ],
   "source": [
    "tree = ast.parse(\"a+2\", \"\", \"eval\")\n",
    "\n",
    "ast.dump(tree)"
   ]
  },
  {
   "cell_type": "markdown",
   "metadata": {},
   "source": [
    "改变常数的值："
   ]
  },
  {
   "cell_type": "code",
   "execution_count": 9,
   "metadata": {},
   "outputs": [
    {
     "data": {
      "text/plain": [
       "\"Expression(body=BinOp(left=Name(id='a', ctx=Load()), op=Add(), right=Num(n=3)))\""
      ]
     },
     "execution_count": 9,
     "metadata": {},
     "output_type": "execute_result"
    }
   ],
   "source": [
    "tree.body.right.n = 3\n",
    "\n",
    "ast.dump(tree)"
   ]
  },
  {
   "cell_type": "code",
   "execution_count": 10,
   "metadata": {},
   "outputs": [
    {
     "data": {
      "text/plain": [
       "4"
      ]
     },
     "execution_count": 10,
     "metadata": {},
     "output_type": "execute_result"
    }
   ],
   "source": [
    "a = 1\n",
    "c = compile(tree, '', 'eval')\n",
    "\n",
    "eval(c)"
   ]
  },
  {
   "cell_type": "markdown",
   "metadata": {},
   "source": [
    "安全的使用方法 `literal_eval` ，只支持基本值的操作："
   ]
  },
  {
   "cell_type": "code",
   "execution_count": 11,
   "metadata": {},
   "outputs": [
    {
     "data": {
      "text/plain": [
       "[10.0, 2, True, 'foo']"
      ]
     },
     "execution_count": 11,
     "metadata": {},
     "output_type": "execute_result"
    }
   ],
   "source": [
    "ast.literal_eval(\"[10.0, 2, True, 'foo']\")"
   ]
  }
 ],
 "metadata": {
  "kernelspec": {
   "display_name": "Python 3.8.8 ('base')",
   "language": "python",
   "name": "python3"
  },
  "language_info": {
   "codemirror_mode": {
    "name": "ipython",
    "version": 3
   },
   "file_extension": ".py",
   "mimetype": "text/x-python",
   "name": "python",
   "nbconvert_exporter": "python",
   "pygments_lexer": "ipython3",
   "version": "3.8.8"
  },
  "vscode": {
   "interpreter": {
    "hash": "cfd8cd7a69a970efc7244ffe4f72e0e34414b380f95a0e79d3fe2a1dfe858bee"
   }
  }
 },
 "nbformat": 4,
 "nbformat_minor": 1
}
