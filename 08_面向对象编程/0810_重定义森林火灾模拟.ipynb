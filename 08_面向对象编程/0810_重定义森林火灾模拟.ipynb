{
 "cells": [
  {
   "cell_type": "markdown",
   "metadata": {},
   "source": [
    "# 重定义森林火灾模拟"
   ]
  },
  {
   "cell_type": "markdown",
   "metadata": {},
   "source": [
    "在前面的例子中，我们定义了一个 `BurnableForest`，实现了一个循序渐进的生长和燃烧过程。\n",
    "\n",
    "假设我们现在想要定义一个立即燃烧的过程（每次着火之后燃烧到不能燃烧为止，之后再生长，而不是每次只燃烧周围的一圈树木），由于燃烧过程不同，我们需要从 `BurnableForest` 中派生出两个新的子类 `SlowBurnForest`（原来的燃烧过程） 和 `InsantBurnForest`，为此\n",
    "\n",
    "- 将 `BurnableForest` 中的 `burn_trees()` 方法改写，不做任何操作，直接 `pass`（因为在 `advance_one_step()` 中调用了它，所以不能直接去掉）\n",
    "- 在两个子类中定义新的 `burn_trees()` 方法。"
   ]
  },
  {
   "cell_type": "code",
   "execution_count": 16,
   "metadata": {
    "ExecuteTime": {
     "end_time": "2022-10-09T08:11:43.450975Z",
     "start_time": "2022-10-09T08:11:43.428647Z"
    }
   },
   "outputs": [],
   "source": [
    "import numpy as np\n",
    "from scipy.ndimage.measurements import label\n",
    "\n",
    "class Forest(object):\n",
    "    \"\"\" Forest can grow trees which eventually die.\"\"\"\n",
    "    def __init__(self, size=(150,150), p_sapling=0.0025):\n",
    "        self.size = size\n",
    "        self.trees = np.zeros(self.size, dtype=bool)\n",
    "        self.p_sapling = p_sapling\n",
    "        \n",
    "    def __repr__(self):\n",
    "        my_repr = \"{}(size={})\".format(self.__class__.__name__, self.size)\n",
    "        return my_repr\n",
    "    \n",
    "    def __str__(self):\n",
    "        return self.__class__.__name__\n",
    "    \n",
    "    @property\n",
    "    def num_cells(self):\n",
    "        \"\"\"Number of cells available for growing trees\"\"\"\n",
    "        return np.prod(self.size)\n",
    "    \n",
    "    @property\n",
    "    def tree_fraction(self):\n",
    "        \"\"\"\n",
    "        Fraction of trees\n",
    "        \"\"\"\n",
    "        num_trees = self.trees.sum()\n",
    "        return float(num_trees) / self.num_cells\n",
    "    \n",
    "    def _rand_bool(self, p):\n",
    "        \"\"\"\n",
    "        Random boolean distributed according to p, less than p will be True\n",
    "        \"\"\"\n",
    "        return np.random.uniform(size=self.trees.shape) < p\n",
    "    \n",
    "    def grow_trees(self):\n",
    "        \"\"\"\n",
    "        Growing trees.\n",
    "        \"\"\"\n",
    "        growth_sites = self._rand_bool(self.p_sapling)\n",
    "        self.trees[growth_sites] = True    \n",
    "        \n",
    "    def advance_one_step(self):\n",
    "        \"\"\"\n",
    "        Advance one step\n",
    "        \"\"\"\n",
    "        self.grow_trees()\n",
    "\n",
    "class BurnableForest(Forest):\n",
    "    \"\"\"\n",
    "    Burnable forest support fires\n",
    "    \"\"\"    \n",
    "    def __init__(self, p_lightning=5.0e-6, **kwargs):\n",
    "        super(BurnableForest, self).__init__(**kwargs)\n",
    "        self.p_lightning = p_lightning        \n",
    "        self.fires = np.zeros((self.size), dtype=bool)\n",
    "    \n",
    "    def advance_one_step(self):\n",
    "        \"\"\"\n",
    "        Advance one step\n",
    "        \"\"\"\n",
    "        super(BurnableForest, self).advance_one_step()\n",
    "        self.start_fires()\n",
    "        self.burn_trees()\n",
    "        \n",
    "    @property\n",
    "    def fire_fraction(self):\n",
    "        \"\"\"\n",
    "        Fraction of fires\n",
    "        \"\"\"\n",
    "        num_fires = self.fires.sum()\n",
    "        return float(num_fires) / self.num_cells\n",
    "    \n",
    "    def start_fires(self):\n",
    "        \"\"\"\n",
    "        Start of fire.\n",
    "        \"\"\"\n",
    "        lightning_strikes = (self._rand_bool(self.p_lightning) & \n",
    "            self.trees)\n",
    "        self.fires[lightning_strikes] = True\n",
    "    \n",
    "    def burn_trees(self):    \n",
    "        pass\n",
    "    \n",
    "class SlowBurnForest(BurnableForest):\n",
    "    def burn_trees(self):\n",
    "        \"\"\"\n",
    "        Burn trees.\n",
    "        \"\"\"\n",
    "        fires = np.zeros((self.size[0] + 2, self.size[1] + 2), dtype=bool)\n",
    "        fires[1:-1, 1:-1] = self.fires\n",
    "        north = fires[:-2, 1:-1]\n",
    "        south = fires[2:, 1:-1]\n",
    "        east = fires[1:-1, :-2]\n",
    "        west = fires[1:-1, 2:]\n",
    "        new_fires = (north | south | east | west) & self.trees\n",
    "        self.trees[self.fires] = False\n",
    "        self.fires = new_fires\n",
    "\n",
    "class InstantBurnForest(BurnableForest):\n",
    "    def burn_trees(self):\n",
    "        # 起火点\n",
    "        strikes = self.fires\n",
    "        # 找到连通区域\n",
    "        groves, num_groves = label(self.trees) # cc：这个方法非常牛逼！\n",
    "        fires = set(groves[strikes])\n",
    "        self.fires.fill(False)\n",
    "        # 将与着火点相连的区域都烧掉\n",
    "        for fire in fires:\n",
    "            self.fires[groves == fire] = True\n",
    "        self.trees[self.fires] = False\n",
    "        self.fires.fill(False)"
   ]
  },
  {
   "cell_type": "markdown",
   "metadata": {},
   "source": [
    "测试："
   ]
  },
  {
   "cell_type": "code",
   "execution_count": 2,
   "metadata": {
    "collapsed": true
   },
   "outputs": [],
   "source": [
    "forest = Forest()\n",
    "sb_forest = SlowBurnForest()\n",
    "ib_forest = InstantBurnForest()\n",
    "\n",
    "forests = [forest, sb_forest, ib_forest]\n",
    "\n",
    "tree_history = []\n",
    "\n",
    "for i in xrange(1500):\n",
    "    for fst in forests:\n",
    "        fst.advance_one_step()\n",
    "    tree_history.append(tuple(fst.tree_fraction for fst in forests))"
   ]
  },
  {
   "cell_type": "code",
   "execution_count": 21,
   "metadata": {
    "ExecuteTime": {
     "end_time": "2022-10-09T08:15:02.087095Z",
     "start_time": "2022-10-09T08:14:59.241546Z"
    }
   },
   "outputs": [],
   "source": [
    "# cc\n",
    "forest = Forest()\n",
    "sb_forest = SlowBurnForest()\n",
    "ib_forest = InstantBurnForest()\n",
    "\n",
    "forests = [forest, sb_forest, ib_forest]\n",
    "\n",
    "tree_history = []\n",
    "\n",
    "for i in range(1500):\n",
    "    for fst in forests:\n",
    "        fst.advance_one_step()\n",
    "    tree_history.append(tuple(fst.tree_fraction for fst in forests))"
   ]
  },
  {
   "cell_type": "markdown",
   "metadata": {},
   "source": [
    "显示结果："
   ]
  },
  {
   "cell_type": "code",
   "execution_count": 15,
   "metadata": {
    "ExecuteTime": {
     "end_time": "2022-10-09T08:08:21.659864Z",
     "start_time": "2022-10-09T08:08:20.981261Z"
    }
   },
   "outputs": [
    {
     "data": {
      "text/plain": [
       "[<matplotlib.lines.Line2D at 0x7fdf22b492e0>,\n",
       " <matplotlib.lines.Line2D at 0x7fdf22b493d0>,\n",
       " <matplotlib.lines.Line2D at 0x7fdf22b49490>]"
      ]
     },
     "execution_count": 15,
     "metadata": {},
     "output_type": "execute_result"
    },
    {
     "data": {
      "image/png": "[encoded data removed]",
      "text/plain": [
       "<Figure size 720x432 with 1 Axes>"
      ]
     },
     "metadata": {
      "needs_background": "light"
     },
     "output_type": "display_data"
    }
   ],
   "source": [
    "import matplotlib.pyplot as plt\n",
    "%matplotlib inline\n",
    "\n",
    "plt.figure(figsize=(10,6))\n",
    "\n",
    "plt.plot(tree_history)\n",
    "plt.legend([f.__str__() for f in forests])\n",
    "\n",
    "plt.show()"
   ]
  },
  {
   "cell_type": "code",
   "execution_count": null,
   "metadata": {},
   "outputs": [],
   "source": []
  }
 ],
 "metadata": {
  "kernelspec": {
   "display_name": "Python 3",
   "language": "python",
   "name": "python3"
  },
  "language_info": {
   "codemirror_mode": {
    "name": "ipython",
    "version": 3
   },
   "file_extension": ".py",
   "mimetype": "text/x-python",
   "name": "python",
   "nbconvert_exporter": "python",
   "pygments_lexer": "ipython3",
   "version": "3.8.8"
  }
 },
 "nbformat": 4,
 "nbformat_minor": 1
}
