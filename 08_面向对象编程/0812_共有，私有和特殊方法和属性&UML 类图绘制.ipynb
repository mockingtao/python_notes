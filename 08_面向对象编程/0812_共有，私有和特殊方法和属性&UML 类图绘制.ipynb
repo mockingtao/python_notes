{
 "cells": [
  {
   "cell_type": "markdown",
   "metadata": {},
   "source": [
    "# 共有，私有和特殊方法和属性"
   ]
  },
  {
   "cell_type": "markdown",
   "metadata": {},
   "source": [
    "- 我们之前已经见过 `special` 方法和属性，即以 `__` 开头和结尾的方法和属性\n",
    "- 私有方法和属性，以 `_` 开头，不过不是真正私有，而是可以调用的，但是不会被代码自动完成所记录（即 Tab 键之后不会显示）\n",
    "- 其他都是共有的方法和属性\n",
    "- 以 `__` 开头不以 `__` 结尾的属性是更加特殊的方法，调用方式也不同："
   ]
  },
  {
   "cell_type": "markdown",
   "metadata": {},
   "source": [
    "### public类型\n",
    "\n",
    "在python中数据和方法默认都是pubic类型的，此时方法和变量名都没有下划线。\n",
    "1. `xx` 没有以下划线开头的变量或者方法是public类型。\n",
    "2. public类型可以被子类、类内以及类外被访问。\n",
    "\n",
    "### protected类型\n",
    "\n",
    "1. `_xx` 以单下划线开头表示的是protected类型的变量或者方法。\n",
    "2. 保护类型只能允许其本身与子类进行访问。\n",
    "\n",
    "### private类型\n",
    "\n",
    "1. `__xx` 双下划线表示的是私有类型的变量或者方法。\n",
    "2. private类型只能允许类内进行访问。\n",
    "\n",
    "#### 注意\n",
    "- private是完全私有的，只有自己可以访问，派生类和外部都不可以访问\n",
    "- protected是受保护的，只有派生类可以访问，外部不能访问\n",
    "\n",
    "### 特列方法\n",
    "\n",
    "1. `__xx__`定义的是特列方法。用户控制的命名空间内的变量或是属性，只有当文档有说明时使用，不要自己定义这类变量。 （就是说这些是python内部定义的变量名）\n",
    "\n",
    "\n",
    "需要特殊说明的是，在python中没有像其他类似语言的public,private等关键字修饰。同时若方法或者变量是private类型时，其方法或者变量实际上是被转换了，转换规则是 在变量的前端插入类名,再类名前添加一个下划线\"_\",形成\"_ClassName__变量名\".\n",
    "\n",
    "如果我们使用转换后的变量或者方法，我们仍然可以进行访问，即python没有严格意义上的private类型。"
   ]
  },
  {
   "cell_type": "code",
   "execution_count": 1,
   "metadata": {
    "collapsed": true
   },
   "outputs": [],
   "source": [
    "class MyClass(object):\n",
    "    def __init__(self):\n",
    "        print \"I'm special!\"\n",
    "    def _private(self):\n",
    "        print \"I'm private!\"\n",
    "    def public(self):\n",
    "        print \"I'm public!\"\n",
    "    def __really_special(self): # cc：所以这个是干啥用的呢？\n",
    "        print \"I'm really special!\""
   ]
  },
  {
   "cell_type": "code",
   "execution_count": 2,
   "metadata": {
    "scrolled": true
   },
   "outputs": [
    {
     "name": "stdout",
     "output_type": "stream",
     "text": [
      "I'm special!\n"
     ]
    }
   ],
   "source": [
    "m = MyClass()"
   ]
  },
  {
   "cell_type": "code",
   "execution_count": 3,
   "metadata": {
    "scrolled": true
   },
   "outputs": [
    {
     "name": "stdout",
     "output_type": "stream",
     "text": [
      "I'm public!\n"
     ]
    }
   ],
   "source": [
    "m.public()"
   ]
  },
  {
   "cell_type": "code",
   "execution_count": 4,
   "metadata": {
    "scrolled": true
   },
   "outputs": [
    {
     "name": "stdout",
     "output_type": "stream",
     "text": [
      "I'm private!\n"
     ]
    }
   ],
   "source": [
    "m._private()"
   ]
  },
  {
   "cell_type": "markdown",
   "metadata": {},
   "source": [
    "注意调用方式："
   ]
  },
  {
   "cell_type": "code",
   "execution_count": 5,
   "metadata": {},
   "outputs": [
    {
     "name": "stdout",
     "output_type": "stream",
     "text": [
      "I'm really special!\n"
     ]
    }
   ],
   "source": [
    "m._MyClass__really_special()"
   ]
  },
  {
   "cell_type": "markdown",
   "metadata": {},
   "source": [
    "## 关于UML 类图绘制\n"
   ]
  },
  {
   "cell_type": "markdown",
   "metadata": {
    "ExecuteTime": {
     "end_time": "2022-10-25T04:18:57.112413Z",
     "start_time": "2022-10-25T04:18:57.098593Z"
    }
   },
   "source": [
    "如图\n",
    "\n",
    "<img src=\"img/0812.png\" alt=\"Drawing\" style=\"width: 300px;\"/>\n"
   ]
  },
  {
   "cell_type": "markdown",
   "metadata": {},
   "source": [
    "### 类的符号是三层矩形框\n",
    "- 第一层显示类名。若是斜体，表示abstract；若有下划线，表示static\n",
    "\n",
    "- 第二层是属性。\n",
    "    - 冒号后是类型；\n",
    "    - 前面的符号指的是修饰符：\n",
    "        - `+` 表示public，\n",
    "        - `-` 表示private，\n",
    "        - `#` 表示protected，\n",
    "        - `~` 或不写表示default；\n",
    "        - `_` 下划线,表示static。\n",
    "\n",
    "- 第三层是方法。\n",
    "    - 冒号后是返回值类型，当返回值为空或无返回值时可以不写；\n",
    "    - 前面的符号指的是修饰符，\n",
    "        - `+` 表示public，\n",
    "        - `-` 表示private，\n",
    "        - `#` 表示protected，\n",
    "        - `~` 或不写表示default；\n",
    "        - `_` 下划线，表示static。\n",
    "    - 括号内是参数和参数类型，用逗号分隔，可以如图所示来写，也可以写成java的参数列表格式。\n"
   ]
  },
  {
   "cell_type": "code",
   "execution_count": null,
   "metadata": {},
   "outputs": [],
   "source": []
  },
  {
   "cell_type": "code",
   "execution_count": null,
   "metadata": {},
   "outputs": [],
   "source": []
  }
 ],
 "metadata": {
  "kernelspec": {
   "display_name": "Python 3",
   "language": "python",
   "name": "python3"
  },
  "language_info": {
   "codemirror_mode": {
    "name": "ipython",
    "version": 3
   },
   "file_extension": ".py",
   "mimetype": "text/x-python",
   "name": "python",
   "nbconvert_exporter": "python",
   "pygments_lexer": "ipython3",
   "version": "3.8.8"
  }
 },
 "nbformat": 4,
 "nbformat_minor": 1
}
