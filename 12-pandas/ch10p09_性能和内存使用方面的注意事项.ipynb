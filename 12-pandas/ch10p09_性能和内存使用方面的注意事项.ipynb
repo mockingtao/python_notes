{
 "cells": [
  {
   "cell_type": "markdown",
   "id": "f05aeb85",
   "metadata": {},
   "source": [
    "# 性能和内存使用方面的注意事项"
   ]
  },
  {
   "cell_type": "code",
   "execution_count": 1,
   "id": "b49daaba",
   "metadata": {
    "ExecuteTime": {
     "end_time": "2022-10-14T12:05:18.463796Z",
     "start_time": "2022-10-14T12:05:16.633743Z"
    }
   },
   "outputs": [],
   "source": [
    "import numpy as np\n",
    "import pandas as pd\n",
    "from datetime import datetime\n",
    "from datetime import timedelta\n",
    "from dateutil.parser import parse\n",
    "from pandas import DataFrame, Series"
   ]
  },
  {
   "cell_type": "code",
   "execution_count": 2,
   "id": "9a93864f",
   "metadata": {
    "ExecuteTime": {
     "end_time": "2022-10-14T12:05:24.464046Z",
     "start_time": "2022-10-14T12:05:23.937865Z"
    }
   },
   "outputs": [
    {
     "data": {
      "text/plain": [
       "2000-01-01 00:00:00.000   -2.089222\n",
       "2000-01-01 00:00:00.010   -0.447719\n",
       "2000-01-01 00:00:00.020   -0.823750\n",
       "2000-01-01 00:00:00.030   -0.295528\n",
       "2000-01-01 00:00:00.040    2.461842\n",
       "Freq: 10L, dtype: float64"
      ]
     },
     "execution_count": 2,
     "metadata": {},
     "output_type": "execute_result"
    }
   ],
   "source": [
    "rng = pd.date_range('1/1/2000', periods=10000000, freq='10ms')\n",
    "ts = Series(np.random.randn(len(rng)), index=rng)\n",
    "ts.head()"
   ]
  },
  {
   "cell_type": "code",
   "execution_count": 3,
   "id": "a5ce668d",
   "metadata": {
    "ExecuteTime": {
     "end_time": "2022-10-14T12:05:30.410506Z",
     "start_time": "2022-10-14T12:05:29.908745Z"
    }
   },
   "outputs": [
    {
     "data": {
      "text/html": [
       "<div>\n",
       "<style scoped>\n",
       "    .dataframe tbody tr th:only-of-type {\n",
       "        vertical-align: middle;\n",
       "    }\n",
       "\n",
       "    .dataframe tbody tr th {\n",
       "        vertical-align: top;\n",
       "    }\n",
       "\n",
       "    .dataframe thead th {\n",
       "        text-align: right;\n",
       "    }\n",
       "</style>\n",
       "<table border=\"1\" class=\"dataframe\">\n",
       "  <thead>\n",
       "    <tr style=\"text-align: right;\">\n",
       "      <th></th>\n",
       "      <th>open</th>\n",
       "      <th>high</th>\n",
       "      <th>low</th>\n",
       "      <th>close</th>\n",
       "    </tr>\n",
       "  </thead>\n",
       "  <tbody>\n",
       "    <tr>\n",
       "      <th>2000-01-01 00:00:00</th>\n",
       "      <td>-2.089222</td>\n",
       "      <td>5.340151</td>\n",
       "      <td>-4.083344</td>\n",
       "      <td>1.476769</td>\n",
       "    </tr>\n",
       "    <tr>\n",
       "      <th>2000-01-01 00:15:00</th>\n",
       "      <td>-1.283020</td>\n",
       "      <td>4.218857</td>\n",
       "      <td>-4.039650</td>\n",
       "      <td>-0.315353</td>\n",
       "    </tr>\n",
       "    <tr>\n",
       "      <th>2000-01-01 00:30:00</th>\n",
       "      <td>0.613160</td>\n",
       "      <td>4.520750</td>\n",
       "      <td>-4.239149</td>\n",
       "      <td>-0.165478</td>\n",
       "    </tr>\n",
       "    <tr>\n",
       "      <th>2000-01-01 00:45:00</th>\n",
       "      <td>-1.059716</td>\n",
       "      <td>4.426680</td>\n",
       "      <td>-4.164264</td>\n",
       "      <td>1.543280</td>\n",
       "    </tr>\n",
       "    <tr>\n",
       "      <th>2000-01-01 01:00:00</th>\n",
       "      <td>-0.043359</td>\n",
       "      <td>4.059028</td>\n",
       "      <td>-4.095064</td>\n",
       "      <td>-0.075433</td>\n",
       "    </tr>\n",
       "  </tbody>\n",
       "</table>\n",
       "</div>"
      ],
      "text/plain": [
       "                         open      high       low     close\n",
       "2000-01-01 00:00:00 -2.089222  5.340151 -4.083344  1.476769\n",
       "2000-01-01 00:15:00 -1.283020  4.218857 -4.039650 -0.315353\n",
       "2000-01-01 00:30:00  0.613160  4.520750 -4.239149 -0.165478\n",
       "2000-01-01 00:45:00 -1.059716  4.426680 -4.164264  1.543280\n",
       "2000-01-01 01:00:00 -0.043359  4.059028 -4.095064 -0.075433"
      ]
     },
     "execution_count": 3,
     "metadata": {},
     "output_type": "execute_result"
    }
   ],
   "source": [
    "ts.resample('15min').ohlc().head()\n"
   ]
  },
  {
   "cell_type": "code",
   "execution_count": 4,
   "id": "8ceab292",
   "metadata": {
    "ExecuteTime": {
     "end_time": "2022-10-14T12:05:46.372274Z",
     "start_time": "2022-10-14T12:05:37.627207Z"
    }
   },
   "outputs": [
    {
     "name": "stdout",
     "output_type": "stream",
     "text": [
      "108 ms ± 8.17 ms per loop (mean ± std. dev. of 7 runs, 10 loops each)\n"
     ]
    }
   ],
   "source": [
    "%timeit ts.resample('15min').ohlc()\n"
   ]
  },
  {
   "cell_type": "code",
   "execution_count": 5,
   "id": "7eb5f121",
   "metadata": {
    "ExecuteTime": {
     "end_time": "2022-10-14T12:05:49.716938Z",
     "start_time": "2022-10-14T12:05:48.111441Z"
    }
   },
   "outputs": [
    {
     "name": "stdout",
     "output_type": "stream",
     "text": [
      "134 ms ± 16.9 ms per loop (mean ± std. dev. of 7 runs, 1 loop each)\n"
     ]
    }
   ],
   "source": [
    "rng = pd.date_range('1/1/2000', periods=10000000, freq='1s')\n",
    "ts = Series(np.random.randn(len(rng)), index=rng)\n",
    "%timeit ts.resample('15s').ohlc()"
   ]
  },
  {
   "cell_type": "code",
   "execution_count": null,
   "id": "8ad7c77e",
   "metadata": {},
   "outputs": [],
   "source": []
  },
  {
   "cell_type": "code",
   "execution_count": null,
   "id": "5a9f24a7",
   "metadata": {},
   "outputs": [],
   "source": []
  },
  {
   "cell_type": "code",
   "execution_count": null,
   "id": "d55fb7a5",
   "metadata": {},
   "outputs": [],
   "source": []
  },
  {
   "cell_type": "code",
   "execution_count": null,
   "id": "b7dc0a3a",
   "metadata": {},
   "outputs": [],
   "source": []
  }
 ],
 "metadata": {
  "kernelspec": {
   "display_name": "Python 3",
   "language": "python",
   "name": "python3"
  },
  "language_info": {
   "codemirror_mode": {
    "name": "ipython",
    "version": 3
   },
   "file_extension": ".py",
   "mimetype": "text/x-python",
   "name": "python",
   "nbconvert_exporter": "python",
   "pygments_lexer": "ipython3",
   "version": "3.8.8"
  }
 },
 "nbformat": 4,
 "nbformat_minor": 5
}
