{
 "cells": [
  {
   "cell_type": "markdown",
   "id": "732a1057",
   "metadata": {},
   "source": [
    "# 日期和时间数据类型及工具"
   ]
  },
  {
   "cell_type": "code",
   "execution_count": 1,
   "id": "c55004e9",
   "metadata": {
    "ExecuteTime": {
     "end_time": "2022-10-14T02:15:09.950357Z",
     "start_time": "2022-10-14T02:15:07.503017Z"
    }
   },
   "outputs": [],
   "source": [
    "import numpy as np\n",
    "import pandas as pd\n",
    "from datetime import datetime\n",
    "from datetime import timedelta\n",
    "from dateutil.parser import parse\n",
    "from pandas import DataFrame, Series"
   ]
  },
  {
   "cell_type": "markdown",
   "id": "e156edfd",
   "metadata": {},
   "source": [
    "## 日期和时间数据类型及工具"
   ]
  },
  {
   "cell_type": "code",
   "execution_count": 2,
   "id": "7d536f44",
   "metadata": {
    "ExecuteTime": {
     "end_time": "2022-10-14T03:10:29.103170Z",
     "start_time": "2022-10-14T03:10:29.058834Z"
    }
   },
   "outputs": [
    {
     "data": {
      "text/plain": [
       "datetime.datetime(2022, 10, 14, 11, 10, 29, 61990)"
      ]
     },
     "execution_count": 2,
     "metadata": {},
     "output_type": "execute_result"
    }
   ],
   "source": [
    "now = datetime.now()\n",
    "now"
   ]
  },
  {
   "cell_type": "code",
   "execution_count": 3,
   "id": "8a424b61",
   "metadata": {
    "ExecuteTime": {
     "end_time": "2022-10-14T03:10:37.794511Z",
     "start_time": "2022-10-14T03:10:37.760253Z"
    }
   },
   "outputs": [
    {
     "name": "stdout",
     "output_type": "stream",
     "text": [
      "2022 10 14\n"
     ]
    }
   ],
   "source": [
    "print(now.year, now.month, now.day)\n"
   ]
  },
  {
   "cell_type": "code",
   "execution_count": 4,
   "id": "99ff186c",
   "metadata": {
    "ExecuteTime": {
     "end_time": "2022-10-14T03:10:59.880268Z",
     "start_time": "2022-10-14T03:10:59.857598Z"
    }
   },
   "outputs": [
    {
     "name": "stdout",
     "output_type": "stream",
     "text": [
      "<class 'datetime.timedelta'>\n",
      "['__abs__', '__add__', '__bool__', '__class__', '__delattr__', '__dir__', '__divmod__', '__doc__', '__eq__', '__floordiv__', '__format__', '__ge__', '__getattribute__', '__gt__', '__hash__', '__init__', '__init_subclass__', '__le__', '__lt__', '__mod__', '__mul__', '__ne__', '__neg__', '__new__', '__pos__', '__radd__', '__rdivmod__', '__reduce__', '__reduce_ex__', '__repr__', '__rfloordiv__', '__rmod__', '__rmul__', '__rsub__', '__rtruediv__', '__setattr__', '__sizeof__', '__str__', '__sub__', '__subclasshook__', '__truediv__', 'days', 'max', 'microseconds', 'min', 'resolution', 'seconds', 'total_seconds']\n",
      "926\n",
      "56700\n"
     ]
    }
   ],
   "source": [
    "delta = datetime(2011, 1, 7) - datetime(2008, 6, 24, 8, 15)\n",
    "print(type(delta))\n",
    "print(dir(delta))\n",
    "print(delta.days)\n",
    "print(delta.seconds)"
   ]
  },
  {
   "cell_type": "code",
   "execution_count": 5,
   "id": "624dea79",
   "metadata": {
    "ExecuteTime": {
     "end_time": "2022-10-14T03:11:34.626044Z",
     "start_time": "2022-10-14T03:11:34.593777Z"
    }
   },
   "outputs": [
    {
     "data": {
      "text/plain": [
       "datetime.datetime(2011, 1, 19, 0, 0)"
      ]
     },
     "execution_count": 5,
     "metadata": {},
     "output_type": "execute_result"
    }
   ],
   "source": [
    "start = datetime(2011, 1, 7)\n",
    "start + timedelta(12)"
   ]
  },
  {
   "cell_type": "code",
   "execution_count": 6,
   "id": "8ebb1d84",
   "metadata": {
    "ExecuteTime": {
     "end_time": "2022-10-14T03:11:45.311062Z",
     "start_time": "2022-10-14T03:11:45.280373Z"
    }
   },
   "outputs": [
    {
     "data": {
      "text/plain": [
       "datetime.datetime(2010, 12, 14, 0, 0)"
      ]
     },
     "execution_count": 6,
     "metadata": {},
     "output_type": "execute_result"
    }
   ],
   "source": [
    "start - 2 * timedelta(12)\n"
   ]
  },
  {
   "cell_type": "markdown",
   "id": "42792470",
   "metadata": {},
   "source": [
    "## 字符串和datetime的相互转换"
   ]
  },
  {
   "cell_type": "code",
   "execution_count": 7,
   "id": "baf8925b",
   "metadata": {
    "ExecuteTime": {
     "end_time": "2022-10-14T03:13:51.767587Z",
     "start_time": "2022-10-14T03:13:51.738203Z"
    }
   },
   "outputs": [
    {
     "name": "stdout",
     "output_type": "stream",
     "text": [
      "2011-01-03 00:00:00\n",
      "2011-01-03\n"
     ]
    }
   ],
   "source": [
    "stamp = datetime(2011, 1, 3)\n",
    "print(str(stamp)) # 默认格式转换\n",
    "print(stamp.strftime('%Y-%m-%d')) # 指定转换格式"
   ]
  },
  {
   "cell_type": "code",
   "execution_count": 8,
   "id": "2fa9083f",
   "metadata": {
    "ExecuteTime": {
     "end_time": "2022-10-14T03:17:21.557353Z",
     "start_time": "2022-10-14T03:17:21.511473Z"
    }
   },
   "outputs": [
    {
     "data": {
      "text/plain": [
       "datetime.datetime(2011, 1, 3, 0, 0)"
      ]
     },
     "execution_count": 8,
     "metadata": {},
     "output_type": "execute_result"
    }
   ],
   "source": [
    "value = '2011-01-03'\n",
    "datetime.strptime(value, '%Y-%m-%d')"
   ]
  },
  {
   "cell_type": "code",
   "execution_count": 9,
   "id": "4adb9604",
   "metadata": {
    "ExecuteTime": {
     "end_time": "2022-10-14T03:18:10.889713Z",
     "start_time": "2022-10-14T03:18:10.842068Z"
    }
   },
   "outputs": [
    {
     "data": {
      "text/plain": [
       "[datetime.datetime(2011, 7, 6, 0, 0), datetime.datetime(2011, 8, 6, 0, 0)]"
      ]
     },
     "execution_count": 9,
     "metadata": {},
     "output_type": "execute_result"
    }
   ],
   "source": [
    "datestrs = ['7/6/2011', '8/6/2011']\n",
    "[datetime.strptime(x, '%m/%d/%Y') for x in datestrs]"
   ]
  },
  {
   "cell_type": "code",
   "execution_count": 10,
   "id": "f20652ed",
   "metadata": {
    "ExecuteTime": {
     "end_time": "2022-10-14T03:18:34.619232Z",
     "start_time": "2022-10-14T03:18:34.570161Z"
    }
   },
   "outputs": [
    {
     "data": {
      "text/plain": [
       "datetime.datetime(2011, 1, 3, 0, 0)"
      ]
     },
     "execution_count": 10,
     "metadata": {},
     "output_type": "execute_result"
    }
   ],
   "source": [
    "parse('2011-01-03') # 自动解析，默认月在前\n"
   ]
  },
  {
   "cell_type": "code",
   "execution_count": 11,
   "id": "9e09efb0",
   "metadata": {
    "ExecuteTime": {
     "end_time": "2022-10-14T03:18:50.839654Z",
     "start_time": "2022-10-14T03:18:50.808833Z"
    }
   },
   "outputs": [
    {
     "data": {
      "text/plain": [
       "datetime.datetime(1997, 1, 31, 22, 45)"
      ]
     },
     "execution_count": 11,
     "metadata": {},
     "output_type": "execute_result"
    }
   ],
   "source": [
    "parse('Jan 31, 1997 10:45 PM')\n"
   ]
  },
  {
   "cell_type": "code",
   "execution_count": 12,
   "id": "659119d9",
   "metadata": {
    "ExecuteTime": {
     "end_time": "2022-10-14T03:33:01.511382Z",
     "start_time": "2022-10-14T03:33:01.463556Z"
    }
   },
   "outputs": [
    {
     "data": {
      "text/plain": [
       "datetime.datetime(2011, 12, 6, 0, 0)"
      ]
     },
     "execution_count": 12,
     "metadata": {},
     "output_type": "execute_result"
    }
   ],
   "source": [
    "parse('6/12/2011', dayfirst=True) # 日在月前\n"
   ]
  },
  {
   "cell_type": "code",
   "execution_count": 13,
   "id": "dac0f516",
   "metadata": {
    "ExecuteTime": {
     "end_time": "2022-10-14T03:34:22.571705Z",
     "start_time": "2022-10-14T03:34:22.522827Z"
    }
   },
   "outputs": [
    {
     "data": {
      "text/plain": [
       "DatetimeIndex(['2011-07-06', '2011-08-06'], dtype='datetime64[ns]', freq=None)"
      ]
     },
     "execution_count": 13,
     "metadata": {},
     "output_type": "execute_result"
    }
   ],
   "source": [
    "datestrs = ['7/6/2011', '8/6/2011']\n",
    "pd.to_datetime(datestrs) # 变成时间索引对象"
   ]
  },
  {
   "cell_type": "code",
   "execution_count": 14,
   "id": "bc30668b",
   "metadata": {
    "ExecuteTime": {
     "end_time": "2022-10-14T03:34:54.373641Z",
     "start_time": "2022-10-14T03:34:54.303720Z"
    }
   },
   "outputs": [
    {
     "data": {
      "text/plain": [
       "DatetimeIndex(['2011-07-06', '2011-08-06', 'NaT'], dtype='datetime64[ns]', freq=None)"
      ]
     },
     "execution_count": 14,
     "metadata": {},
     "output_type": "execute_result"
    }
   ],
   "source": [
    "idx = pd.to_datetime(datestrs + [None])\n",
    "idx"
   ]
  },
  {
   "cell_type": "code",
   "execution_count": 15,
   "id": "a67463ab",
   "metadata": {
    "ExecuteTime": {
     "end_time": "2022-10-14T03:36:47.599508Z",
     "start_time": "2022-10-14T03:36:47.556095Z"
    }
   },
   "outputs": [
    {
     "data": {
      "text/plain": [
       "array([False, False,  True])"
      ]
     },
     "execution_count": 15,
     "metadata": {},
     "output_type": "execute_result"
    }
   ],
   "source": [
    "pd.isnull(idx)\n"
   ]
  },
  {
   "cell_type": "markdown",
   "id": "4044b30e",
   "metadata": {},
   "source": [
    " datetime格式定义：\n",
    "\n",
    "- %Y：4位数的年\n",
    "- %y：2位数的年\n",
    "- %m：2位数的月[01,- 12]\n",
    "- %d：2位数的日[01,- 31]\n",
    "- %H：小时，24小时制。\n",
    "- %I：小时，12小时制。\n",
    "- %M：2位数的分钟[00,- 59]\n",
    "- %S：秒[00,- 61]（61是闰秒）\n",
    "- %w：整数表示星期七[0（星期天）,- 6]\n",
    "- %W：每月的第几周，从0开始。\n",
    "- %F：%Y-%m-%d的缩写\n",
    "- %D：%m/%d/%y的缩写\n",
    "- %a：星期几的缩写\n",
    "- %A：星期几的全称\n",
    "- %b：月份的缩写\n",
    "- %B：月份的全称\n"
   ]
  },
  {
   "cell_type": "code",
   "execution_count": null,
   "id": "b820bf30",
   "metadata": {},
   "outputs": [],
   "source": []
  }
 ],
 "metadata": {
  "kernelspec": {
   "display_name": "Python 3",
   "language": "python",
   "name": "python3"
  },
  "language_info": {
   "codemirror_mode": {
    "name": "ipython",
    "version": 3
   },
   "file_extension": ".py",
   "mimetype": "text/x-python",
   "name": "python",
   "nbconvert_exporter": "python",
   "pygments_lexer": "ipython3",
   "version": "3.8.8"
  }
 },
 "nbformat": 4,
 "nbformat_minor": 5
}
