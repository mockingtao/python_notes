{
 "cells": [
  {
   "cell_type": "markdown",
   "id": "ef853d84",
   "metadata": {},
   "source": [
    "# GroupBy技术"
   ]
  },
  {
   "cell_type": "code",
   "execution_count": 1,
   "id": "df549e86",
   "metadata": {
    "ExecuteTime": {
     "end_time": "2022-10-13T07:18:20.639071Z",
     "start_time": "2022-10-13T07:18:18.645162Z"
    }
   },
   "outputs": [],
   "source": [
    "import numpy as np\n",
    "import pandas as pd\n",
    "from pandas import DataFrame, Series"
   ]
  },
  {
   "cell_type": "code",
   "execution_count": 2,
   "id": "1a304723",
   "metadata": {
    "ExecuteTime": {
     "end_time": "2022-10-13T07:18:52.159958Z",
     "start_time": "2022-10-13T07:18:52.121315Z"
    }
   },
   "outputs": [
    {
     "name": "stdout",
     "output_type": "stream",
     "text": [
      "  key1 key2     data1     data2\n",
      "0    a  one -0.493010  0.171321\n",
      "1    a  two -0.356854  0.431356\n",
      "2    b  one  0.129551 -0.832662\n",
      "3    b  two  0.869675 -1.651974\n",
      "4    a  one  0.662207 -2.536450\n"
     ]
    },
    {
     "data": {
      "text/plain": [
       "key1\n",
       "a   -0.062552\n",
       "b    0.499613\n",
       "Name: data1, dtype: float64"
      ]
     },
     "execution_count": 2,
     "metadata": {},
     "output_type": "execute_result"
    }
   ],
   "source": [
    "df = DataFrame({'key1' : ['a', 'a', 'b', 'b', 'a'],\n",
    "                'key2' : ['one', 'two', 'one', 'two', 'one'],\n",
    "                'data1' : np.random.randn(5),\n",
    "                'data2' : np.random.randn(5)})\n",
    "grouped = df['data1'].groupby(df['key1']) # 根据key1的值分组\n",
    "print(df)\n",
    "grouped.mean() # 对分组后数字型的列求平均值"
   ]
  },
  {
   "cell_type": "code",
   "execution_count": 3,
   "id": "4ca02918",
   "metadata": {
    "ExecuteTime": {
     "end_time": "2022-10-13T07:19:37.940445Z",
     "start_time": "2022-10-13T07:19:37.920626Z"
    }
   },
   "outputs": [
    {
     "data": {
      "text/plain": [
       "key1  key2\n",
       "a     one     0.084598\n",
       "      two    -0.356854\n",
       "b     one     0.129551\n",
       "      two     0.869675\n",
       "Name: data1, dtype: float64"
      ]
     },
     "execution_count": 3,
     "metadata": {},
     "output_type": "execute_result"
    }
   ],
   "source": [
    "means = df['data1'].groupby([df['key1'], df['key2']]).mean() # 根据key1/2分组,产生多重索引\n",
    "means"
   ]
  },
  {
   "cell_type": "code",
   "execution_count": 4,
   "id": "a80ae768",
   "metadata": {
    "ExecuteTime": {
     "end_time": "2022-10-13T07:19:59.125531Z",
     "start_time": "2022-10-13T07:19:59.102083Z"
    }
   },
   "outputs": [
    {
     "data": {
      "text/html": [
       "<div>\n",
       "<style scoped>\n",
       "    .dataframe tbody tr th:only-of-type {\n",
       "        vertical-align: middle;\n",
       "    }\n",
       "\n",
       "    .dataframe tbody tr th {\n",
       "        vertical-align: top;\n",
       "    }\n",
       "\n",
       "    .dataframe thead th {\n",
       "        text-align: right;\n",
       "    }\n",
       "</style>\n",
       "<table border=\"1\" class=\"dataframe\">\n",
       "  <thead>\n",
       "    <tr style=\"text-align: right;\">\n",
       "      <th>key2</th>\n",
       "      <th>one</th>\n",
       "      <th>two</th>\n",
       "    </tr>\n",
       "    <tr>\n",
       "      <th>key1</th>\n",
       "      <th></th>\n",
       "      <th></th>\n",
       "    </tr>\n",
       "  </thead>\n",
       "  <tbody>\n",
       "    <tr>\n",
       "      <th>a</th>\n",
       "      <td>0.084598</td>\n",
       "      <td>-0.356854</td>\n",
       "    </tr>\n",
       "    <tr>\n",
       "      <th>b</th>\n",
       "      <td>0.129551</td>\n",
       "      <td>0.869675</td>\n",
       "    </tr>\n",
       "  </tbody>\n",
       "</table>\n",
       "</div>"
      ],
      "text/plain": [
       "key2       one       two\n",
       "key1                    \n",
       "a     0.084598 -0.356854\n",
       "b     0.129551  0.869675"
      ]
     },
     "execution_count": 4,
     "metadata": {},
     "output_type": "execute_result"
    }
   ],
   "source": [
    "means.unstack() # 把内层索引变成列\n"
   ]
  },
  {
   "cell_type": "code",
   "execution_count": 6,
   "id": "5a0953f1",
   "metadata": {
    "ExecuteTime": {
     "end_time": "2022-10-13T07:21:46.078796Z",
     "start_time": "2022-10-13T07:21:46.060876Z"
    }
   },
   "outputs": [
    {
     "data": {
      "text/html": [
       "<div>\n",
       "<style scoped>\n",
       "    .dataframe tbody tr th:only-of-type {\n",
       "        vertical-align: middle;\n",
       "    }\n",
       "\n",
       "    .dataframe tbody tr th {\n",
       "        vertical-align: top;\n",
       "    }\n",
       "\n",
       "    .dataframe thead th {\n",
       "        text-align: right;\n",
       "    }\n",
       "</style>\n",
       "<table border=\"1\" class=\"dataframe\">\n",
       "  <thead>\n",
       "    <tr style=\"text-align: right;\">\n",
       "      <th></th>\n",
       "      <th>key1</th>\n",
       "      <th>key2</th>\n",
       "      <th>data1</th>\n",
       "      <th>data2</th>\n",
       "    </tr>\n",
       "  </thead>\n",
       "  <tbody>\n",
       "    <tr>\n",
       "      <th>0</th>\n",
       "      <td>a</td>\n",
       "      <td>one</td>\n",
       "      <td>-0.493010</td>\n",
       "      <td>0.171321</td>\n",
       "    </tr>\n",
       "    <tr>\n",
       "      <th>1</th>\n",
       "      <td>a</td>\n",
       "      <td>two</td>\n",
       "      <td>-0.356854</td>\n",
       "      <td>0.431356</td>\n",
       "    </tr>\n",
       "    <tr>\n",
       "      <th>2</th>\n",
       "      <td>b</td>\n",
       "      <td>one</td>\n",
       "      <td>0.129551</td>\n",
       "      <td>-0.832662</td>\n",
       "    </tr>\n",
       "    <tr>\n",
       "      <th>3</th>\n",
       "      <td>b</td>\n",
       "      <td>two</td>\n",
       "      <td>0.869675</td>\n",
       "      <td>-1.651974</td>\n",
       "    </tr>\n",
       "    <tr>\n",
       "      <th>4</th>\n",
       "      <td>a</td>\n",
       "      <td>one</td>\n",
       "      <td>0.662207</td>\n",
       "      <td>-2.536450</td>\n",
       "    </tr>\n",
       "  </tbody>\n",
       "</table>\n",
       "</div>"
      ],
      "text/plain": [
       "  key1 key2     data1     data2\n",
       "0    a  one -0.493010  0.171321\n",
       "1    a  two -0.356854  0.431356\n",
       "2    b  one  0.129551 -0.832662\n",
       "3    b  two  0.869675 -1.651974\n",
       "4    a  one  0.662207 -2.536450"
      ]
     },
     "execution_count": 6,
     "metadata": {},
     "output_type": "execute_result"
    }
   ],
   "source": [
    "df"
   ]
  },
  {
   "cell_type": "code",
   "execution_count": 5,
   "id": "0ed14c80",
   "metadata": {
    "ExecuteTime": {
     "end_time": "2022-10-13T07:20:25.469622Z",
     "start_time": "2022-10-13T07:20:25.443155Z"
    }
   },
   "outputs": [
    {
     "data": {
      "text/plain": [
       "California  2005   -0.356854\n",
       "            2006    0.129551\n",
       "Ohio        2005    0.188332\n",
       "            2006    0.662207\n",
       "Name: data1, dtype: float64"
      ]
     },
     "execution_count": 5,
     "metadata": {},
     "output_type": "execute_result"
    }
   ],
   "source": [
    "states = np.array(['Ohio', 'California', 'California', 'Ohio', 'Ohio'])\n",
    "years = np.array([2005, 2005, 2006, 2005, 2006])\n",
    "df['data1'].groupby([states, years]).mean()\n",
    "# 使用group后，原始数据可以认为变为如下形式：\n",
    "#   data1      data2      key1  key2  states      years\n",
    "# 0 -0.127927   0.026962  a     one   Ohio        2005\n",
    "# 1 -1.424594  -0.800712  a     two   California  2005\n",
    "# 2  1.619073  -0.165311  b     one   California  2006\n",
    "# 3 -0.996192  -0.367086  b     two   Ohio        2005\n",
    "# 4  0.020317  -1.238209  a     one   Ohio        2006\n",
    "\n",
    "# cc：有意思！"
   ]
  },
  {
   "cell_type": "code",
   "execution_count": 7,
   "id": "172c29b6",
   "metadata": {
    "ExecuteTime": {
     "end_time": "2022-10-13T07:22:40.785698Z",
     "start_time": "2022-10-13T07:22:40.761312Z"
    }
   },
   "outputs": [
    {
     "data": {
      "text/html": [
       "<div>\n",
       "<style scoped>\n",
       "    .dataframe tbody tr th:only-of-type {\n",
       "        vertical-align: middle;\n",
       "    }\n",
       "\n",
       "    .dataframe tbody tr th {\n",
       "        vertical-align: top;\n",
       "    }\n",
       "\n",
       "    .dataframe thead th {\n",
       "        text-align: right;\n",
       "    }\n",
       "</style>\n",
       "<table border=\"1\" class=\"dataframe\">\n",
       "  <thead>\n",
       "    <tr style=\"text-align: right;\">\n",
       "      <th></th>\n",
       "      <th>data1</th>\n",
       "      <th>data2</th>\n",
       "    </tr>\n",
       "    <tr>\n",
       "      <th>key1</th>\n",
       "      <th></th>\n",
       "      <th></th>\n",
       "    </tr>\n",
       "  </thead>\n",
       "  <tbody>\n",
       "    <tr>\n",
       "      <th>a</th>\n",
       "      <td>-0.062552</td>\n",
       "      <td>-0.644591</td>\n",
       "    </tr>\n",
       "    <tr>\n",
       "      <th>b</th>\n",
       "      <td>0.499613</td>\n",
       "      <td>-1.242318</td>\n",
       "    </tr>\n",
       "  </tbody>\n",
       "</table>\n",
       "</div>"
      ],
      "text/plain": [
       "         data1     data2\n",
       "key1                    \n",
       "a    -0.062552 -0.644591\n",
       "b     0.499613 -1.242318"
      ]
     },
     "execution_count": 7,
     "metadata": {},
     "output_type": "execute_result"
    }
   ],
   "source": [
    "df.groupby('key1').mean()\n"
   ]
  },
  {
   "cell_type": "code",
   "execution_count": 8,
   "id": "2a81f882",
   "metadata": {
    "ExecuteTime": {
     "end_time": "2022-10-13T07:22:49.073076Z",
     "start_time": "2022-10-13T07:22:49.046038Z"
    }
   },
   "outputs": [
    {
     "data": {
      "text/html": [
       "<div>\n",
       "<style scoped>\n",
       "    .dataframe tbody tr th:only-of-type {\n",
       "        vertical-align: middle;\n",
       "    }\n",
       "\n",
       "    .dataframe tbody tr th {\n",
       "        vertical-align: top;\n",
       "    }\n",
       "\n",
       "    .dataframe thead th {\n",
       "        text-align: right;\n",
       "    }\n",
       "</style>\n",
       "<table border=\"1\" class=\"dataframe\">\n",
       "  <thead>\n",
       "    <tr style=\"text-align: right;\">\n",
       "      <th></th>\n",
       "      <th></th>\n",
       "      <th>data1</th>\n",
       "      <th>data2</th>\n",
       "    </tr>\n",
       "    <tr>\n",
       "      <th>key1</th>\n",
       "      <th>key2</th>\n",
       "      <th></th>\n",
       "      <th></th>\n",
       "    </tr>\n",
       "  </thead>\n",
       "  <tbody>\n",
       "    <tr>\n",
       "      <th rowspan=\"2\" valign=\"top\">a</th>\n",
       "      <th>one</th>\n",
       "      <td>0.084598</td>\n",
       "      <td>-1.182565</td>\n",
       "    </tr>\n",
       "    <tr>\n",
       "      <th>two</th>\n",
       "      <td>-0.356854</td>\n",
       "      <td>0.431356</td>\n",
       "    </tr>\n",
       "    <tr>\n",
       "      <th rowspan=\"2\" valign=\"top\">b</th>\n",
       "      <th>one</th>\n",
       "      <td>0.129551</td>\n",
       "      <td>-0.832662</td>\n",
       "    </tr>\n",
       "    <tr>\n",
       "      <th>two</th>\n",
       "      <td>0.869675</td>\n",
       "      <td>-1.651974</td>\n",
       "    </tr>\n",
       "  </tbody>\n",
       "</table>\n",
       "</div>"
      ],
      "text/plain": [
       "              data1     data2\n",
       "key1 key2                    \n",
       "a    one   0.084598 -1.182565\n",
       "     two  -0.356854  0.431356\n",
       "b    one   0.129551 -0.832662\n",
       "     two   0.869675 -1.651974"
      ]
     },
     "execution_count": 8,
     "metadata": {},
     "output_type": "execute_result"
    }
   ],
   "source": [
    "df.groupby(['key1', 'key2']).mean()\n"
   ]
  },
  {
   "cell_type": "code",
   "execution_count": 10,
   "id": "ad386d60",
   "metadata": {
    "ExecuteTime": {
     "end_time": "2022-10-13T07:24:16.838716Z",
     "start_time": "2022-10-13T07:24:16.777904Z"
    }
   },
   "outputs": [
    {
     "data": {
      "text/plain": [
       "key1  key2\n",
       "a     one     2\n",
       "      two     1\n",
       "b     one     1\n",
       "      two     1\n",
       "dtype: int64"
      ]
     },
     "execution_count": 10,
     "metadata": {},
     "output_type": "execute_result"
    }
   ],
   "source": [
    "df.groupby(['key1', 'key2']).size() # 统计记录条数，类似SQL的group by然后再count。\n",
    "\n",
    "# cc：这个会经常用到，原来是用size，可以用来进行查重检查~"
   ]
  },
  {
   "cell_type": "markdown",
   "id": "32097e63",
   "metadata": {},
   "source": [
    "## 对分组进行迭代"
   ]
  },
  {
   "cell_type": "code",
   "execution_count": 11,
   "id": "ea460a9d",
   "metadata": {
    "ExecuteTime": {
     "end_time": "2022-10-13T07:25:12.442188Z",
     "start_time": "2022-10-13T07:25:12.416206Z"
    }
   },
   "outputs": [
    {
     "name": "stdout",
     "output_type": "stream",
     "text": [
      "a\n",
      "---\n",
      "  key1 key2     data1     data2\n",
      "0    a  one -0.493010  0.171321\n",
      "1    a  two -0.356854  0.431356\n",
      "4    a  one  0.662207 -2.536450\n",
      "***\n",
      "b\n",
      "---\n",
      "  key1 key2     data1     data2\n",
      "2    b  one  0.129551 -0.832662\n",
      "3    b  two  0.869675 -1.651974\n",
      "***\n"
     ]
    }
   ],
   "source": [
    "for name, group in df.groupby('key1'): # 单列分组\n",
    "    print(name)\n",
    "    print('---')\n",
    "    print(group)\n",
    "    print('***')"
   ]
  },
  {
   "cell_type": "code",
   "execution_count": 12,
   "id": "9d3c8774",
   "metadata": {
    "ExecuteTime": {
     "end_time": "2022-10-13T07:26:00.528945Z",
     "start_time": "2022-10-13T07:26:00.498898Z"
    }
   },
   "outputs": [
    {
     "name": "stdout",
     "output_type": "stream",
     "text": [
      "a one\n",
      "---\n",
      "  key1 key2     data1     data2\n",
      "0    a  one -0.493010  0.171321\n",
      "4    a  one  0.662207 -2.536450\n",
      "***\n",
      "a two\n",
      "---\n",
      "  key1 key2     data1     data2\n",
      "1    a  two -0.356854  0.431356\n",
      "***\n",
      "b one\n",
      "---\n",
      "  key1 key2     data1     data2\n",
      "2    b  one  0.129551 -0.832662\n",
      "***\n",
      "b two\n",
      "---\n",
      "  key1 key2     data1     data2\n",
      "3    b  two  0.869675 -1.651974\n",
      "***\n"
     ]
    }
   ],
   "source": [
    "for (k1, k2), group in df.groupby(['key1', 'key2']): # 多列分组\n",
    "    print(k1, k2)\n",
    "    print('---')\n",
    "    print(group)\n",
    "    print('***')"
   ]
  },
  {
   "cell_type": "code",
   "execution_count": 13,
   "id": "2c6987bb",
   "metadata": {
    "ExecuteTime": {
     "end_time": "2022-10-13T07:26:47.439958Z",
     "start_time": "2022-10-13T07:26:47.420966Z"
    }
   },
   "outputs": [
    {
     "name": "stdout",
     "output_type": "stream",
     "text": [
      "a\n",
      "---\n",
      "  key1 key2     data1     data2\n",
      "0    a  one -0.493010  0.171321\n",
      "1    a  two -0.356854  0.431356\n",
      "4    a  one  0.662207 -2.536450\n",
      "***\n",
      "b\n",
      "---\n",
      "  key1 key2     data1     data2\n",
      "2    b  one  0.129551 -0.832662\n",
      "3    b  two  0.869675 -1.651974\n",
      "***\n"
     ]
    }
   ],
   "source": [
    "pieces = dict(list(df.groupby('key1')))\n",
    "for k, v in pieces.items():\n",
    "    print(k)\n",
    "    print('---')\n",
    "    print(v)\n",
    "    print('***')"
   ]
  },
  {
   "cell_type": "code",
   "execution_count": 14,
   "id": "37f8152b",
   "metadata": {
    "ExecuteTime": {
     "end_time": "2022-10-13T07:27:39.715852Z",
     "start_time": "2022-10-13T07:27:39.686108Z"
    }
   },
   "outputs": [
    {
     "name": "stdout",
     "output_type": "stream",
     "text": [
      "('a', 'one')\n",
      "---\n",
      "  key1 key2     data1     data2\n",
      "0    a  one -0.493010  0.171321\n",
      "4    a  one  0.662207 -2.536450\n",
      "***\n",
      "('a', 'two')\n",
      "---\n",
      "  key1 key2     data1     data2\n",
      "1    a  two -0.356854  0.431356\n",
      "***\n",
      "('b', 'one')\n",
      "---\n",
      "  key1 key2     data1     data2\n",
      "2    b  one  0.129551 -0.832662\n",
      "***\n",
      "('b', 'two')\n",
      "---\n",
      "  key1 key2     data1     data2\n",
      "3    b  two  0.869675 -1.651974\n",
      "***\n"
     ]
    }
   ],
   "source": [
    "# cc：这种方式还是挺好用的！直接转成字典；\n",
    "pieces = dict(list(df.groupby(['key1', 'key2'])))\n",
    "for k, v in pieces.items():\n",
    "    print(k)\n",
    "    print('---')\n",
    "    print(v)\n",
    "    print('***')"
   ]
  },
  {
   "cell_type": "code",
   "execution_count": 15,
   "id": "f1eaab43",
   "metadata": {
    "ExecuteTime": {
     "end_time": "2022-10-13T07:29:03.287402Z",
     "start_time": "2022-10-13T07:29:03.267237Z"
    }
   },
   "outputs": [
    {
     "name": "stdout",
     "output_type": "stream",
     "text": [
      "float64\n",
      "---\n",
      "      data1     data2\n",
      "0 -0.493010  0.171321\n",
      "1 -0.356854  0.431356\n",
      "2  0.129551 -0.832662\n",
      "3  0.869675 -1.651974\n",
      "4  0.662207 -2.536450\n",
      "***\n",
      "object\n",
      "---\n",
      "  key1 key2\n",
      "0    a  one\n",
      "1    a  two\n",
      "2    b  one\n",
      "3    b  two\n",
      "4    a  one\n",
      "***\n"
     ]
    }
   ],
   "source": [
    "grouped = df.groupby(df.dtypes, axis=1) # 默认根据列上的值做分组，axis=1使用行上的类型做分组。\n",
    "for k, v in dict(list(grouped)).items():\n",
    "    print(k)\n",
    "    print('---')\n",
    "    print(v)\n",
    "    print('***')\n",
    "\n",
    "# cc：这在数据分析EDA的时候可以用到，来快速查看数据类型；"
   ]
  },
  {
   "cell_type": "markdown",
   "id": "e24021cb",
   "metadata": {},
   "source": [
    "## 选取一个或一组列"
   ]
  },
  {
   "cell_type": "code",
   "execution_count": 16,
   "id": "4e1843c9",
   "metadata": {
    "ExecuteTime": {
     "end_time": "2022-10-13T07:30:33.504784Z",
     "start_time": "2022-10-13T07:30:33.492784Z"
    }
   },
   "outputs": [
    {
     "name": "stdout",
     "output_type": "stream",
     "text": [
      "<pandas.core.groupby.generic.SeriesGroupBy object at 0x7fe814c37580>\n",
      "<pandas.core.groupby.generic.DataFrameGroupBy object at 0x7fe814c37370>\n"
     ]
    }
   ],
   "source": [
    "print(df.groupby('key1')['data1']) # 等价df['data1'].groupby(df['key1'])\n",
    "print(df.groupby('key1')[['data2']]) # df[['data2']].groupby(df['key1'])"
   ]
  },
  {
   "cell_type": "code",
   "execution_count": 17,
   "id": "a14f080b",
   "metadata": {
    "ExecuteTime": {
     "end_time": "2022-10-13T07:30:41.507423Z",
     "start_time": "2022-10-13T07:30:41.483966Z"
    }
   },
   "outputs": [
    {
     "data": {
      "text/html": [
       "<div>\n",
       "<style scoped>\n",
       "    .dataframe tbody tr th:only-of-type {\n",
       "        vertical-align: middle;\n",
       "    }\n",
       "\n",
       "    .dataframe tbody tr th {\n",
       "        vertical-align: top;\n",
       "    }\n",
       "\n",
       "    .dataframe thead th {\n",
       "        text-align: right;\n",
       "    }\n",
       "</style>\n",
       "<table border=\"1\" class=\"dataframe\">\n",
       "  <thead>\n",
       "    <tr style=\"text-align: right;\">\n",
       "      <th></th>\n",
       "      <th></th>\n",
       "      <th>data2</th>\n",
       "    </tr>\n",
       "    <tr>\n",
       "      <th>key1</th>\n",
       "      <th>key2</th>\n",
       "      <th></th>\n",
       "    </tr>\n",
       "  </thead>\n",
       "  <tbody>\n",
       "    <tr>\n",
       "      <th rowspan=\"2\" valign=\"top\">a</th>\n",
       "      <th>one</th>\n",
       "      <td>-1.182565</td>\n",
       "    </tr>\n",
       "    <tr>\n",
       "      <th>two</th>\n",
       "      <td>0.431356</td>\n",
       "    </tr>\n",
       "    <tr>\n",
       "      <th rowspan=\"2\" valign=\"top\">b</th>\n",
       "      <th>one</th>\n",
       "      <td>-0.832662</td>\n",
       "    </tr>\n",
       "    <tr>\n",
       "      <th>two</th>\n",
       "      <td>-1.651974</td>\n",
       "    </tr>\n",
       "  </tbody>\n",
       "</table>\n",
       "</div>"
      ],
      "text/plain": [
       "              data2\n",
       "key1 key2          \n",
       "a    one  -1.182565\n",
       "     two   0.431356\n",
       "b    one  -0.832662\n",
       "     two  -1.651974"
      ]
     },
     "execution_count": 17,
     "metadata": {},
     "output_type": "execute_result"
    }
   ],
   "source": [
    "df.groupby(['key1', 'key2'])[['data2']].mean()\n"
   ]
  },
  {
   "cell_type": "code",
   "execution_count": 18,
   "id": "65641e66",
   "metadata": {
    "ExecuteTime": {
     "end_time": "2022-10-13T07:32:08.004655Z",
     "start_time": "2022-10-13T07:32:07.988435Z"
    }
   },
   "outputs": [
    {
     "data": {
      "text/plain": [
       "key1  key2\n",
       "a     one    -1.182565\n",
       "      two     0.431356\n",
       "b     one    -0.832662\n",
       "      two    -1.651974\n",
       "Name: data2, dtype: float64"
      ]
     },
     "execution_count": 18,
     "metadata": {},
     "output_type": "execute_result"
    }
   ],
   "source": [
    "s_grouped = df.groupby(['key1', 'key2'])['data2'] # 这里用'data2'而不是['data2']返回Series\n",
    "s_grouped.mean()"
   ]
  },
  {
   "cell_type": "markdown",
   "id": "e9b77e08",
   "metadata": {},
   "source": [
    "## 通过字典或Series进行分组"
   ]
  },
  {
   "cell_type": "code",
   "execution_count": 19,
   "id": "a855f413",
   "metadata": {
    "ExecuteTime": {
     "end_time": "2022-10-13T07:33:05.818121Z",
     "start_time": "2022-10-13T07:33:05.785802Z"
    }
   },
   "outputs": [
    {
     "name": "stderr",
     "output_type": "stream",
     "text": [
      "<ipython-input-19-9b96384e2d49>:4: FutureWarning: Slicing a positional slice with .loc is not supported, and will raise TypeError in a future version.  Use .loc with labels or .iloc with positions instead.\n",
      "  people.loc[2:3, ['b', 'c']] = np.nan # 添加空值\n"
     ]
    },
    {
     "data": {
      "text/html": [
       "<div>\n",
       "<style scoped>\n",
       "    .dataframe tbody tr th:only-of-type {\n",
       "        vertical-align: middle;\n",
       "    }\n",
       "\n",
       "    .dataframe tbody tr th {\n",
       "        vertical-align: top;\n",
       "    }\n",
       "\n",
       "    .dataframe thead th {\n",
       "        text-align: right;\n",
       "    }\n",
       "</style>\n",
       "<table border=\"1\" class=\"dataframe\">\n",
       "  <thead>\n",
       "    <tr style=\"text-align: right;\">\n",
       "      <th></th>\n",
       "      <th>a</th>\n",
       "      <th>b</th>\n",
       "      <th>c</th>\n",
       "      <th>d</th>\n",
       "      <th>e</th>\n",
       "    </tr>\n",
       "  </thead>\n",
       "  <tbody>\n",
       "    <tr>\n",
       "      <th>Joe</th>\n",
       "      <td>-0.247591</td>\n",
       "      <td>0.027931</td>\n",
       "      <td>-1.767600</td>\n",
       "      <td>-0.525491</td>\n",
       "      <td>-0.800097</td>\n",
       "    </tr>\n",
       "    <tr>\n",
       "      <th>Steve</th>\n",
       "      <td>0.357923</td>\n",
       "      <td>1.582008</td>\n",
       "      <td>0.458303</td>\n",
       "      <td>-0.690434</td>\n",
       "      <td>0.126138</td>\n",
       "    </tr>\n",
       "    <tr>\n",
       "      <th>Wes</th>\n",
       "      <td>2.640612</td>\n",
       "      <td>NaN</td>\n",
       "      <td>NaN</td>\n",
       "      <td>-0.066969</td>\n",
       "      <td>-0.210371</td>\n",
       "    </tr>\n",
       "    <tr>\n",
       "      <th>Jim</th>\n",
       "      <td>0.385138</td>\n",
       "      <td>-0.264671</td>\n",
       "      <td>-1.272215</td>\n",
       "      <td>0.747196</td>\n",
       "      <td>-0.076634</td>\n",
       "    </tr>\n",
       "    <tr>\n",
       "      <th>Travis</th>\n",
       "      <td>0.286672</td>\n",
       "      <td>-0.802990</td>\n",
       "      <td>-0.942094</td>\n",
       "      <td>0.041461</td>\n",
       "      <td>-0.314216</td>\n",
       "    </tr>\n",
       "  </tbody>\n",
       "</table>\n",
       "</div>"
      ],
      "text/plain": [
       "               a         b         c         d         e\n",
       "Joe    -0.247591  0.027931 -1.767600 -0.525491 -0.800097\n",
       "Steve   0.357923  1.582008  0.458303 -0.690434  0.126138\n",
       "Wes     2.640612       NaN       NaN -0.066969 -0.210371\n",
       "Jim     0.385138 -0.264671 -1.272215  0.747196 -0.076634\n",
       "Travis  0.286672 -0.802990 -0.942094  0.041461 -0.314216"
      ]
     },
     "execution_count": 19,
     "metadata": {},
     "output_type": "execute_result"
    }
   ],
   "source": [
    "people = DataFrame(np.random.randn(5, 5),\n",
    "                   columns=['a', 'b', 'c', 'd', 'e'],\n",
    "                   index=['Joe', 'Steve', 'Wes', 'Jim', 'Travis'])\n",
    "people.loc[2:3, ['b', 'c']] = np.nan # 添加空值\n",
    "people"
   ]
  },
  {
   "cell_type": "code",
   "execution_count": 20,
   "id": "f29f8e96",
   "metadata": {
    "ExecuteTime": {
     "end_time": "2022-10-13T07:34:11.201487Z",
     "start_time": "2022-10-13T07:34:11.174513Z"
    }
   },
   "outputs": [
    {
     "data": {
      "text/html": [
       "<div>\n",
       "<style scoped>\n",
       "    .dataframe tbody tr th:only-of-type {\n",
       "        vertical-align: middle;\n",
       "    }\n",
       "\n",
       "    .dataframe tbody tr th {\n",
       "        vertical-align: top;\n",
       "    }\n",
       "\n",
       "    .dataframe thead th {\n",
       "        text-align: right;\n",
       "    }\n",
       "</style>\n",
       "<table border=\"1\" class=\"dataframe\">\n",
       "  <thead>\n",
       "    <tr style=\"text-align: right;\">\n",
       "      <th></th>\n",
       "      <th>blue</th>\n",
       "      <th>red</th>\n",
       "    </tr>\n",
       "  </thead>\n",
       "  <tbody>\n",
       "    <tr>\n",
       "      <th>Joe</th>\n",
       "      <td>-2.293091</td>\n",
       "      <td>-1.019757</td>\n",
       "    </tr>\n",
       "    <tr>\n",
       "      <th>Steve</th>\n",
       "      <td>-0.232131</td>\n",
       "      <td>2.066069</td>\n",
       "    </tr>\n",
       "    <tr>\n",
       "      <th>Wes</th>\n",
       "      <td>-0.066969</td>\n",
       "      <td>2.430241</td>\n",
       "    </tr>\n",
       "    <tr>\n",
       "      <th>Jim</th>\n",
       "      <td>-0.525019</td>\n",
       "      <td>0.043833</td>\n",
       "    </tr>\n",
       "    <tr>\n",
       "      <th>Travis</th>\n",
       "      <td>-0.900633</td>\n",
       "      <td>-0.830534</td>\n",
       "    </tr>\n",
       "  </tbody>\n",
       "</table>\n",
       "</div>"
      ],
      "text/plain": [
       "            blue       red\n",
       "Joe    -2.293091 -1.019757\n",
       "Steve  -0.232131  2.066069\n",
       "Wes    -0.066969  2.430241\n",
       "Jim    -0.525019  0.043833\n",
       "Travis -0.900633 -0.830534"
      ]
     },
     "execution_count": 20,
     "metadata": {},
     "output_type": "execute_result"
    }
   ],
   "source": [
    "mapping = {'a': 'red', 'b': 'red', 'c': 'blue', 'd': 'blue', 'e': 'red', 'f' : 'orange'}\n",
    "by_column = people.groupby(mapping, axis=1) # 每一行根据a/b/c/d/e对应的颜色求sum\n",
    "by_column.sum()"
   ]
  },
  {
   "cell_type": "code",
   "execution_count": 21,
   "id": "e7339f57",
   "metadata": {
    "ExecuteTime": {
     "end_time": "2022-10-13T07:35:11.424717Z",
     "start_time": "2022-10-13T07:35:11.401960Z"
    }
   },
   "outputs": [
    {
     "data": {
      "text/html": [
       "<div>\n",
       "<style scoped>\n",
       "    .dataframe tbody tr th:only-of-type {\n",
       "        vertical-align: middle;\n",
       "    }\n",
       "\n",
       "    .dataframe tbody tr th {\n",
       "        vertical-align: top;\n",
       "    }\n",
       "\n",
       "    .dataframe thead th {\n",
       "        text-align: right;\n",
       "    }\n",
       "</style>\n",
       "<table border=\"1\" class=\"dataframe\">\n",
       "  <thead>\n",
       "    <tr style=\"text-align: right;\">\n",
       "      <th></th>\n",
       "      <th>blue</th>\n",
       "      <th>red</th>\n",
       "    </tr>\n",
       "  </thead>\n",
       "  <tbody>\n",
       "    <tr>\n",
       "      <th>Joe</th>\n",
       "      <td>2</td>\n",
       "      <td>3</td>\n",
       "    </tr>\n",
       "    <tr>\n",
       "      <th>Steve</th>\n",
       "      <td>2</td>\n",
       "      <td>3</td>\n",
       "    </tr>\n",
       "    <tr>\n",
       "      <th>Wes</th>\n",
       "      <td>1</td>\n",
       "      <td>2</td>\n",
       "    </tr>\n",
       "    <tr>\n",
       "      <th>Jim</th>\n",
       "      <td>2</td>\n",
       "      <td>3</td>\n",
       "    </tr>\n",
       "    <tr>\n",
       "      <th>Travis</th>\n",
       "      <td>2</td>\n",
       "      <td>3</td>\n",
       "    </tr>\n",
       "  </tbody>\n",
       "</table>\n",
       "</div>"
      ],
      "text/plain": [
       "        blue  red\n",
       "Joe        2    3\n",
       "Steve      2    3\n",
       "Wes        1    2\n",
       "Jim        2    3\n",
       "Travis     2    3"
      ]
     },
     "execution_count": 21,
     "metadata": {},
     "output_type": "execute_result"
    }
   ],
   "source": [
    "map_series = Series(mapping)\n",
    "people.groupby(map_series, axis=1).count()"
   ]
  },
  {
   "cell_type": "markdown",
   "id": "fc5be8f8",
   "metadata": {},
   "source": [
    "## 通过函数进行分组"
   ]
  },
  {
   "cell_type": "code",
   "execution_count": 23,
   "id": "a4b7d9dc",
   "metadata": {
    "ExecuteTime": {
     "end_time": "2022-10-13T07:38:18.351109Z",
     "start_time": "2022-10-13T07:38:18.327072Z"
    }
   },
   "outputs": [
    {
     "data": {
      "text/html": [
       "<div>\n",
       "<style scoped>\n",
       "    .dataframe tbody tr th:only-of-type {\n",
       "        vertical-align: middle;\n",
       "    }\n",
       "\n",
       "    .dataframe tbody tr th {\n",
       "        vertical-align: top;\n",
       "    }\n",
       "\n",
       "    .dataframe thead th {\n",
       "        text-align: right;\n",
       "    }\n",
       "</style>\n",
       "<table border=\"1\" class=\"dataframe\">\n",
       "  <thead>\n",
       "    <tr style=\"text-align: right;\">\n",
       "      <th></th>\n",
       "      <th>a</th>\n",
       "      <th>b</th>\n",
       "      <th>c</th>\n",
       "      <th>d</th>\n",
       "      <th>e</th>\n",
       "    </tr>\n",
       "  </thead>\n",
       "  <tbody>\n",
       "    <tr>\n",
       "      <th>Joe</th>\n",
       "      <td>-0.247591</td>\n",
       "      <td>0.027931</td>\n",
       "      <td>-1.767600</td>\n",
       "      <td>-0.525491</td>\n",
       "      <td>-0.800097</td>\n",
       "    </tr>\n",
       "    <tr>\n",
       "      <th>Steve</th>\n",
       "      <td>0.357923</td>\n",
       "      <td>1.582008</td>\n",
       "      <td>0.458303</td>\n",
       "      <td>-0.690434</td>\n",
       "      <td>0.126138</td>\n",
       "    </tr>\n",
       "    <tr>\n",
       "      <th>Wes</th>\n",
       "      <td>2.640612</td>\n",
       "      <td>NaN</td>\n",
       "      <td>NaN</td>\n",
       "      <td>-0.066969</td>\n",
       "      <td>-0.210371</td>\n",
       "    </tr>\n",
       "    <tr>\n",
       "      <th>Jim</th>\n",
       "      <td>0.385138</td>\n",
       "      <td>-0.264671</td>\n",
       "      <td>-1.272215</td>\n",
       "      <td>0.747196</td>\n",
       "      <td>-0.076634</td>\n",
       "    </tr>\n",
       "    <tr>\n",
       "      <th>Travis</th>\n",
       "      <td>0.286672</td>\n",
       "      <td>-0.802990</td>\n",
       "      <td>-0.942094</td>\n",
       "      <td>0.041461</td>\n",
       "      <td>-0.314216</td>\n",
       "    </tr>\n",
       "  </tbody>\n",
       "</table>\n",
       "</div>"
      ],
      "text/plain": [
       "               a         b         c         d         e\n",
       "Joe    -0.247591  0.027931 -1.767600 -0.525491 -0.800097\n",
       "Steve   0.357923  1.582008  0.458303 -0.690434  0.126138\n",
       "Wes     2.640612       NaN       NaN -0.066969 -0.210371\n",
       "Jim     0.385138 -0.264671 -1.272215  0.747196 -0.076634\n",
       "Travis  0.286672 -0.802990 -0.942094  0.041461 -0.314216"
      ]
     },
     "execution_count": 23,
     "metadata": {},
     "output_type": "execute_result"
    }
   ],
   "source": [
    "people"
   ]
  },
  {
   "cell_type": "code",
   "execution_count": 24,
   "id": "8c9d060f",
   "metadata": {
    "ExecuteTime": {
     "end_time": "2022-10-13T07:38:20.357748Z",
     "start_time": "2022-10-13T07:38:20.327116Z"
    }
   },
   "outputs": [
    {
     "data": {
      "text/html": [
       "<div>\n",
       "<style scoped>\n",
       "    .dataframe tbody tr th:only-of-type {\n",
       "        vertical-align: middle;\n",
       "    }\n",
       "\n",
       "    .dataframe tbody tr th {\n",
       "        vertical-align: top;\n",
       "    }\n",
       "\n",
       "    .dataframe thead th {\n",
       "        text-align: right;\n",
       "    }\n",
       "</style>\n",
       "<table border=\"1\" class=\"dataframe\">\n",
       "  <thead>\n",
       "    <tr style=\"text-align: right;\">\n",
       "      <th></th>\n",
       "      <th>a</th>\n",
       "      <th>b</th>\n",
       "      <th>c</th>\n",
       "      <th>d</th>\n",
       "      <th>e</th>\n",
       "    </tr>\n",
       "  </thead>\n",
       "  <tbody>\n",
       "    <tr>\n",
       "      <th>3</th>\n",
       "      <td>2.778159</td>\n",
       "      <td>-0.236739</td>\n",
       "      <td>-3.039815</td>\n",
       "      <td>0.154735</td>\n",
       "      <td>-1.087102</td>\n",
       "    </tr>\n",
       "    <tr>\n",
       "      <th>5</th>\n",
       "      <td>0.357923</td>\n",
       "      <td>1.582008</td>\n",
       "      <td>0.458303</td>\n",
       "      <td>-0.690434</td>\n",
       "      <td>0.126138</td>\n",
       "    </tr>\n",
       "    <tr>\n",
       "      <th>6</th>\n",
       "      <td>0.286672</td>\n",
       "      <td>-0.802990</td>\n",
       "      <td>-0.942094</td>\n",
       "      <td>0.041461</td>\n",
       "      <td>-0.314216</td>\n",
       "    </tr>\n",
       "  </tbody>\n",
       "</table>\n",
       "</div>"
      ],
      "text/plain": [
       "          a         b         c         d         e\n",
       "3  2.778159 -0.236739 -3.039815  0.154735 -1.087102\n",
       "5  0.357923  1.582008  0.458303 -0.690434  0.126138\n",
       "6  0.286672 -0.802990 -0.942094  0.041461 -0.314216"
      ]
     },
     "execution_count": 24,
     "metadata": {},
     "output_type": "execute_result"
    }
   ],
   "source": [
    "people.groupby(len).sum() # 根据索引名字的长度做group，然后求sum\n"
   ]
  },
  {
   "cell_type": "code",
   "execution_count": 25,
   "id": "569a349b",
   "metadata": {
    "ExecuteTime": {
     "end_time": "2022-10-13T07:38:34.724353Z",
     "start_time": "2022-10-13T07:38:34.693681Z"
    }
   },
   "outputs": [
    {
     "data": {
      "text/html": [
       "<div>\n",
       "<style scoped>\n",
       "    .dataframe tbody tr th:only-of-type {\n",
       "        vertical-align: middle;\n",
       "    }\n",
       "\n",
       "    .dataframe tbody tr th {\n",
       "        vertical-align: top;\n",
       "    }\n",
       "\n",
       "    .dataframe thead th {\n",
       "        text-align: right;\n",
       "    }\n",
       "</style>\n",
       "<table border=\"1\" class=\"dataframe\">\n",
       "  <thead>\n",
       "    <tr style=\"text-align: right;\">\n",
       "      <th></th>\n",
       "      <th></th>\n",
       "      <th>a</th>\n",
       "      <th>b</th>\n",
       "      <th>c</th>\n",
       "      <th>d</th>\n",
       "      <th>e</th>\n",
       "    </tr>\n",
       "  </thead>\n",
       "  <tbody>\n",
       "    <tr>\n",
       "      <th rowspan=\"2\" valign=\"top\">3</th>\n",
       "      <th>one</th>\n",
       "      <td>-0.247591</td>\n",
       "      <td>0.027931</td>\n",
       "      <td>-1.767600</td>\n",
       "      <td>-0.525491</td>\n",
       "      <td>-0.800097</td>\n",
       "    </tr>\n",
       "    <tr>\n",
       "      <th>two</th>\n",
       "      <td>0.385138</td>\n",
       "      <td>-0.264671</td>\n",
       "      <td>-1.272215</td>\n",
       "      <td>0.747196</td>\n",
       "      <td>-0.076634</td>\n",
       "    </tr>\n",
       "    <tr>\n",
       "      <th>5</th>\n",
       "      <th>one</th>\n",
       "      <td>0.357923</td>\n",
       "      <td>1.582008</td>\n",
       "      <td>0.458303</td>\n",
       "      <td>-0.690434</td>\n",
       "      <td>0.126138</td>\n",
       "    </tr>\n",
       "    <tr>\n",
       "      <th>6</th>\n",
       "      <th>two</th>\n",
       "      <td>0.286672</td>\n",
       "      <td>-0.802990</td>\n",
       "      <td>-0.942094</td>\n",
       "      <td>0.041461</td>\n",
       "      <td>-0.314216</td>\n",
       "    </tr>\n",
       "  </tbody>\n",
       "</table>\n",
       "</div>"
      ],
      "text/plain": [
       "              a         b         c         d         e\n",
       "3 one -0.247591  0.027931 -1.767600 -0.525491 -0.800097\n",
       "  two  0.385138 -0.264671 -1.272215  0.747196 -0.076634\n",
       "5 one  0.357923  1.582008  0.458303 -0.690434  0.126138\n",
       "6 two  0.286672 -0.802990 -0.942094  0.041461 -0.314216"
      ]
     },
     "execution_count": 25,
     "metadata": {},
     "output_type": "execute_result"
    }
   ],
   "source": [
    "key_list = ['one', 'one', 'one', 'two', 'two']\n",
    "people.groupby([len, key_list]).min()\n",
    "# key_list等于新加一列，结合len，形状如下：--- cc：这点就很有意思；\n",
    "#                  a         b         c         d         e\n",
    "# Joe(3)     one,  0.254889 -0.812035  2.765460  1.113513  0.646795\n",
    "# Steve(5)   one,  1.507490  0.463545 -1.396887  0.728163  1.078788\n",
    "# Wes(3)     one, -2.099479       NaN       NaN  0.438572  0.134136\n",
    "# Jim(3)     two,  0.167685  1.772127  1.372546 -0.758560 -1.241066\n",
    "# Travis(6)  two, -0.834662 -0.933228  1.026441 -0.074524 -0.830303"
   ]
  },
  {
   "cell_type": "markdown",
   "id": "05991661",
   "metadata": {},
   "source": [
    "## 根据索引级别分组"
   ]
  },
  {
   "cell_type": "code",
   "execution_count": 26,
   "id": "bb6c7e6c",
   "metadata": {
    "ExecuteTime": {
     "end_time": "2022-10-13T07:40:06.428658Z",
     "start_time": "2022-10-13T07:40:06.401863Z"
    }
   },
   "outputs": [
    {
     "data": {
      "text/html": [
       "<div>\n",
       "<style scoped>\n",
       "    .dataframe tbody tr th:only-of-type {\n",
       "        vertical-align: middle;\n",
       "    }\n",
       "\n",
       "    .dataframe tbody tr th {\n",
       "        vertical-align: top;\n",
       "    }\n",
       "\n",
       "    .dataframe thead tr th {\n",
       "        text-align: left;\n",
       "    }\n",
       "</style>\n",
       "<table border=\"1\" class=\"dataframe\">\n",
       "  <thead>\n",
       "    <tr>\n",
       "      <th>cty</th>\n",
       "      <th colspan=\"3\" halign=\"left\">US</th>\n",
       "      <th colspan=\"2\" halign=\"left\">JP</th>\n",
       "    </tr>\n",
       "    <tr>\n",
       "      <th>tenor</th>\n",
       "      <th>1</th>\n",
       "      <th>3</th>\n",
       "      <th>5</th>\n",
       "      <th>1</th>\n",
       "      <th>3</th>\n",
       "    </tr>\n",
       "  </thead>\n",
       "  <tbody>\n",
       "    <tr>\n",
       "      <th>0</th>\n",
       "      <td>1.865956</td>\n",
       "      <td>-0.656825</td>\n",
       "      <td>0.144248</td>\n",
       "      <td>0.253493</td>\n",
       "      <td>0.168063</td>\n",
       "    </tr>\n",
       "    <tr>\n",
       "      <th>1</th>\n",
       "      <td>-0.143796</td>\n",
       "      <td>-1.099260</td>\n",
       "      <td>0.041759</td>\n",
       "      <td>-0.742731</td>\n",
       "      <td>-2.051739</td>\n",
       "    </tr>\n",
       "    <tr>\n",
       "      <th>2</th>\n",
       "      <td>-1.557372</td>\n",
       "      <td>1.286113</td>\n",
       "      <td>1.259506</td>\n",
       "      <td>1.347115</td>\n",
       "      <td>0.265384</td>\n",
       "    </tr>\n",
       "    <tr>\n",
       "      <th>3</th>\n",
       "      <td>-0.060767</td>\n",
       "      <td>-0.058229</td>\n",
       "      <td>-0.140133</td>\n",
       "      <td>-0.061002</td>\n",
       "      <td>0.647741</td>\n",
       "    </tr>\n",
       "  </tbody>\n",
       "</table>\n",
       "</div>"
      ],
      "text/plain": [
       "cty          US                            JP          \n",
       "tenor         1         3         5         1         3\n",
       "0      1.865956 -0.656825  0.144248  0.253493  0.168063\n",
       "1     -0.143796 -1.099260  0.041759 -0.742731 -2.051739\n",
       "2     -1.557372  1.286113  1.259506  1.347115  0.265384\n",
       "3     -0.060767 -0.058229 -0.140133 -0.061002  0.647741"
      ]
     },
     "execution_count": 26,
     "metadata": {},
     "output_type": "execute_result"
    }
   ],
   "source": [
    "columns = pd.MultiIndex.from_arrays([['US', 'US', 'US', 'JP', 'JP'],\n",
    "                                     [1, 3, 5, 1, 3]],\n",
    "                                    names=['cty', 'tenor'])\n",
    "hier_df = DataFrame(np.random.randn(4, 5), columns=columns)\n",
    "hier_df"
   ]
  },
  {
   "cell_type": "code",
   "execution_count": 32,
   "id": "2692ff63",
   "metadata": {
    "ExecuteTime": {
     "end_time": "2022-10-13T08:27:17.854672Z",
     "start_time": "2022-10-13T08:27:17.822108Z"
    }
   },
   "outputs": [
    {
     "data": {
      "text/html": [
       "<div>\n",
       "<style scoped>\n",
       "    .dataframe tbody tr th:only-of-type {\n",
       "        vertical-align: middle;\n",
       "    }\n",
       "\n",
       "    .dataframe tbody tr th {\n",
       "        vertical-align: top;\n",
       "    }\n",
       "\n",
       "    .dataframe thead th {\n",
       "        text-align: right;\n",
       "    }\n",
       "</style>\n",
       "<table border=\"1\" class=\"dataframe\">\n",
       "  <thead>\n",
       "    <tr style=\"text-align: right;\">\n",
       "      <th>cty</th>\n",
       "      <th>JP</th>\n",
       "      <th>US</th>\n",
       "    </tr>\n",
       "  </thead>\n",
       "  <tbody>\n",
       "    <tr>\n",
       "      <th>0</th>\n",
       "      <td>2</td>\n",
       "      <td>3</td>\n",
       "    </tr>\n",
       "    <tr>\n",
       "      <th>1</th>\n",
       "      <td>2</td>\n",
       "      <td>3</td>\n",
       "    </tr>\n",
       "    <tr>\n",
       "      <th>2</th>\n",
       "      <td>2</td>\n",
       "      <td>3</td>\n",
       "    </tr>\n",
       "    <tr>\n",
       "      <th>3</th>\n",
       "      <td>2</td>\n",
       "      <td>3</td>\n",
       "    </tr>\n",
       "  </tbody>\n",
       "</table>\n",
       "</div>"
      ],
      "text/plain": [
       "cty  JP  US\n",
       "0     2   3\n",
       "1     2   3\n",
       "2     2   3\n",
       "3     2   3"
      ]
     },
     "execution_count": 32,
     "metadata": {},
     "output_type": "execute_result"
    }
   ],
   "source": [
    "hier_df.groupby(level='cty', axis=1).count()\n"
   ]
  },
  {
   "cell_type": "code",
   "execution_count": null,
   "id": "8cfbcbc0",
   "metadata": {},
   "outputs": [],
   "source": []
  },
  {
   "cell_type": "code",
   "execution_count": null,
   "id": "92a58175",
   "metadata": {},
   "outputs": [],
   "source": []
  },
  {
   "cell_type": "code",
   "execution_count": null,
   "id": "d5cfb937",
   "metadata": {},
   "outputs": [],
   "source": []
  },
  {
   "cell_type": "code",
   "execution_count": null,
   "id": "4df14029",
   "metadata": {},
   "outputs": [],
   "source": []
  },
  {
   "cell_type": "code",
   "execution_count": null,
   "id": "f0118ebd",
   "metadata": {},
   "outputs": [],
   "source": []
  },
  {
   "cell_type": "code",
   "execution_count": null,
   "id": "5fa2068f",
   "metadata": {},
   "outputs": [],
   "source": []
  }
 ],
 "metadata": {
  "kernelspec": {
   "display_name": "Python 3",
   "language": "python",
   "name": "python3"
  },
  "language_info": {
   "codemirror_mode": {
    "name": "ipython",
    "version": 3
   },
   "file_extension": ".py",
   "mimetype": "text/x-python",
   "name": "python",
   "nbconvert_exporter": "python",
   "pygments_lexer": "ipython3",
   "version": "3.8.8"
  }
 },
 "nbformat": 4,
 "nbformat_minor": 5
}
