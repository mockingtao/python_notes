{
 "cells": [
  {
   "cell_type": "markdown",
   "id": "08cea7be",
   "metadata": {},
   "source": [
    "# 分组级运算和转换"
   ]
  },
  {
   "cell_type": "code",
   "execution_count": 1,
   "id": "56aaae79",
   "metadata": {
    "ExecuteTime": {
     "end_time": "2022-10-13T08:43:56.120370Z",
     "start_time": "2022-10-13T08:43:42.705003Z"
    }
   },
   "outputs": [],
   "source": [
    "import numpy as np\n",
    "import pandas as pd\n",
    "import statsmodels.api as sm\n",
    "from pandas import DataFrame, Series"
   ]
  },
  {
   "cell_type": "code",
   "execution_count": 2,
   "id": "0c9614e2",
   "metadata": {
    "ExecuteTime": {
     "end_time": "2022-10-13T08:45:02.248892Z",
     "start_time": "2022-10-13T08:45:02.206104Z"
    }
   },
   "outputs": [
    {
     "data": {
      "text/html": [
       "<div>\n",
       "<style scoped>\n",
       "    .dataframe tbody tr th:only-of-type {\n",
       "        vertical-align: middle;\n",
       "    }\n",
       "\n",
       "    .dataframe tbody tr th {\n",
       "        vertical-align: top;\n",
       "    }\n",
       "\n",
       "    .dataframe thead th {\n",
       "        text-align: right;\n",
       "    }\n",
       "</style>\n",
       "<table border=\"1\" class=\"dataframe\">\n",
       "  <thead>\n",
       "    <tr style=\"text-align: right;\">\n",
       "      <th></th>\n",
       "      <th>key1</th>\n",
       "      <th>key2</th>\n",
       "      <th>data1</th>\n",
       "      <th>data2</th>\n",
       "    </tr>\n",
       "  </thead>\n",
       "  <tbody>\n",
       "    <tr>\n",
       "      <th>0</th>\n",
       "      <td>a</td>\n",
       "      <td>one</td>\n",
       "      <td>1.772639</td>\n",
       "      <td>-3.352329</td>\n",
       "    </tr>\n",
       "    <tr>\n",
       "      <th>1</th>\n",
       "      <td>a</td>\n",
       "      <td>two</td>\n",
       "      <td>1.533222</td>\n",
       "      <td>1.422569</td>\n",
       "    </tr>\n",
       "    <tr>\n",
       "      <th>2</th>\n",
       "      <td>b</td>\n",
       "      <td>one</td>\n",
       "      <td>0.159989</td>\n",
       "      <td>-0.491793</td>\n",
       "    </tr>\n",
       "    <tr>\n",
       "      <th>3</th>\n",
       "      <td>b</td>\n",
       "      <td>two</td>\n",
       "      <td>-2.341067</td>\n",
       "      <td>-0.098958</td>\n",
       "    </tr>\n",
       "    <tr>\n",
       "      <th>4</th>\n",
       "      <td>a</td>\n",
       "      <td>one</td>\n",
       "      <td>-0.073373</td>\n",
       "      <td>1.279004</td>\n",
       "    </tr>\n",
       "  </tbody>\n",
       "</table>\n",
       "</div>"
      ],
      "text/plain": [
       "  key1 key2     data1     data2\n",
       "0    a  one  1.772639 -3.352329\n",
       "1    a  two  1.533222  1.422569\n",
       "2    b  one  0.159989 -0.491793\n",
       "3    b  two -2.341067 -0.098958\n",
       "4    a  one -0.073373  1.279004"
      ]
     },
     "execution_count": 2,
     "metadata": {},
     "output_type": "execute_result"
    }
   ],
   "source": [
    "df = DataFrame({'key1' : ['a', 'a', 'b', 'b', 'a'],\n",
    "                'key2' : ['one', 'two', 'one', 'two', 'one'],\n",
    "                'data1' : np.random.randn(5),\n",
    "                'data2' : np.random.randn(5)})\n",
    "df"
   ]
  },
  {
   "cell_type": "code",
   "execution_count": 3,
   "id": "0b9098d7",
   "metadata": {
    "ExecuteTime": {
     "end_time": "2022-10-13T08:45:21.858835Z",
     "start_time": "2022-10-13T08:45:21.837680Z"
    }
   },
   "outputs": [
    {
     "data": {
      "text/html": [
       "<div>\n",
       "<style scoped>\n",
       "    .dataframe tbody tr th:only-of-type {\n",
       "        vertical-align: middle;\n",
       "    }\n",
       "\n",
       "    .dataframe tbody tr th {\n",
       "        vertical-align: top;\n",
       "    }\n",
       "\n",
       "    .dataframe thead th {\n",
       "        text-align: right;\n",
       "    }\n",
       "</style>\n",
       "<table border=\"1\" class=\"dataframe\">\n",
       "  <thead>\n",
       "    <tr style=\"text-align: right;\">\n",
       "      <th></th>\n",
       "      <th>mean_data1</th>\n",
       "      <th>mean_data2</th>\n",
       "    </tr>\n",
       "    <tr>\n",
       "      <th>key1</th>\n",
       "      <th></th>\n",
       "      <th></th>\n",
       "    </tr>\n",
       "  </thead>\n",
       "  <tbody>\n",
       "    <tr>\n",
       "      <th>a</th>\n",
       "      <td>1.077496</td>\n",
       "      <td>-0.216919</td>\n",
       "    </tr>\n",
       "    <tr>\n",
       "      <th>b</th>\n",
       "      <td>-1.090539</td>\n",
       "      <td>-0.295376</td>\n",
       "    </tr>\n",
       "  </tbody>\n",
       "</table>\n",
       "</div>"
      ],
      "text/plain": [
       "      mean_data1  mean_data2\n",
       "key1                        \n",
       "a       1.077496   -0.216919\n",
       "b      -1.090539   -0.295376"
      ]
     },
     "execution_count": 3,
     "metadata": {},
     "output_type": "execute_result"
    }
   ],
   "source": [
    "k1_means = df.groupby('key1').mean().add_prefix('mean_')\n",
    "k1_means"
   ]
  },
  {
   "cell_type": "code",
   "execution_count": 4,
   "id": "be8563a4",
   "metadata": {
    "ExecuteTime": {
     "end_time": "2022-10-13T08:45:53.208891Z",
     "start_time": "2022-10-13T08:45:53.134918Z"
    }
   },
   "outputs": [
    {
     "data": {
      "text/html": [
       "<div>\n",
       "<style scoped>\n",
       "    .dataframe tbody tr th:only-of-type {\n",
       "        vertical-align: middle;\n",
       "    }\n",
       "\n",
       "    .dataframe tbody tr th {\n",
       "        vertical-align: top;\n",
       "    }\n",
       "\n",
       "    .dataframe thead th {\n",
       "        text-align: right;\n",
       "    }\n",
       "</style>\n",
       "<table border=\"1\" class=\"dataframe\">\n",
       "  <thead>\n",
       "    <tr style=\"text-align: right;\">\n",
       "      <th></th>\n",
       "      <th>key1</th>\n",
       "      <th>key2</th>\n",
       "      <th>data1</th>\n",
       "      <th>data2</th>\n",
       "      <th>mean_data1</th>\n",
       "      <th>mean_data2</th>\n",
       "    </tr>\n",
       "  </thead>\n",
       "  <tbody>\n",
       "    <tr>\n",
       "      <th>0</th>\n",
       "      <td>a</td>\n",
       "      <td>one</td>\n",
       "      <td>1.772639</td>\n",
       "      <td>-3.352329</td>\n",
       "      <td>1.077496</td>\n",
       "      <td>-0.216919</td>\n",
       "    </tr>\n",
       "    <tr>\n",
       "      <th>1</th>\n",
       "      <td>a</td>\n",
       "      <td>two</td>\n",
       "      <td>1.533222</td>\n",
       "      <td>1.422569</td>\n",
       "      <td>1.077496</td>\n",
       "      <td>-0.216919</td>\n",
       "    </tr>\n",
       "    <tr>\n",
       "      <th>4</th>\n",
       "      <td>a</td>\n",
       "      <td>one</td>\n",
       "      <td>-0.073373</td>\n",
       "      <td>1.279004</td>\n",
       "      <td>1.077496</td>\n",
       "      <td>-0.216919</td>\n",
       "    </tr>\n",
       "    <tr>\n",
       "      <th>2</th>\n",
       "      <td>b</td>\n",
       "      <td>one</td>\n",
       "      <td>0.159989</td>\n",
       "      <td>-0.491793</td>\n",
       "      <td>-1.090539</td>\n",
       "      <td>-0.295376</td>\n",
       "    </tr>\n",
       "    <tr>\n",
       "      <th>3</th>\n",
       "      <td>b</td>\n",
       "      <td>two</td>\n",
       "      <td>-2.341067</td>\n",
       "      <td>-0.098958</td>\n",
       "      <td>-1.090539</td>\n",
       "      <td>-0.295376</td>\n",
       "    </tr>\n",
       "  </tbody>\n",
       "</table>\n",
       "</div>"
      ],
      "text/plain": [
       "  key1 key2     data1     data2  mean_data1  mean_data2\n",
       "0    a  one  1.772639 -3.352329    1.077496   -0.216919\n",
       "1    a  two  1.533222  1.422569    1.077496   -0.216919\n",
       "4    a  one -0.073373  1.279004    1.077496   -0.216919\n",
       "2    b  one  0.159989 -0.491793   -1.090539   -0.295376\n",
       "3    b  two -2.341067 -0.098958   -1.090539   -0.295376"
      ]
     },
     "execution_count": 4,
     "metadata": {},
     "output_type": "execute_result"
    }
   ],
   "source": [
    "pd.merge(df, k1_means, left_on='key1', right_index=True)\n"
   ]
  },
  {
   "cell_type": "code",
   "execution_count": 5,
   "id": "e2f766ac",
   "metadata": {
    "ExecuteTime": {
     "end_time": "2022-10-13T08:46:57.525006Z",
     "start_time": "2022-10-13T08:46:57.495892Z"
    }
   },
   "outputs": [
    {
     "data": {
      "text/html": [
       "<div>\n",
       "<style scoped>\n",
       "    .dataframe tbody tr th:only-of-type {\n",
       "        vertical-align: middle;\n",
       "    }\n",
       "\n",
       "    .dataframe tbody tr th {\n",
       "        vertical-align: top;\n",
       "    }\n",
       "\n",
       "    .dataframe thead th {\n",
       "        text-align: right;\n",
       "    }\n",
       "</style>\n",
       "<table border=\"1\" class=\"dataframe\">\n",
       "  <thead>\n",
       "    <tr style=\"text-align: right;\">\n",
       "      <th></th>\n",
       "      <th>a</th>\n",
       "      <th>b</th>\n",
       "      <th>c</th>\n",
       "      <th>d</th>\n",
       "      <th>e</th>\n",
       "    </tr>\n",
       "  </thead>\n",
       "  <tbody>\n",
       "    <tr>\n",
       "      <th>Joe</th>\n",
       "      <td>0.033100</td>\n",
       "      <td>1.680563</td>\n",
       "      <td>0.779147</td>\n",
       "      <td>0.399730</td>\n",
       "      <td>0.082306</td>\n",
       "    </tr>\n",
       "    <tr>\n",
       "      <th>Steve</th>\n",
       "      <td>1.026243</td>\n",
       "      <td>0.129428</td>\n",
       "      <td>0.899122</td>\n",
       "      <td>-0.106352</td>\n",
       "      <td>0.186312</td>\n",
       "    </tr>\n",
       "    <tr>\n",
       "      <th>Wes</th>\n",
       "      <td>-1.117596</td>\n",
       "      <td>1.625927</td>\n",
       "      <td>-0.783645</td>\n",
       "      <td>-0.272723</td>\n",
       "      <td>-0.107360</td>\n",
       "    </tr>\n",
       "    <tr>\n",
       "      <th>Jim</th>\n",
       "      <td>-0.790478</td>\n",
       "      <td>-1.929630</td>\n",
       "      <td>1.138231</td>\n",
       "      <td>-0.925137</td>\n",
       "      <td>-2.030326</td>\n",
       "    </tr>\n",
       "    <tr>\n",
       "      <th>Travis</th>\n",
       "      <td>-1.843511</td>\n",
       "      <td>-0.765685</td>\n",
       "      <td>-1.317907</td>\n",
       "      <td>-0.415259</td>\n",
       "      <td>0.193282</td>\n",
       "    </tr>\n",
       "  </tbody>\n",
       "</table>\n",
       "</div>"
      ],
      "text/plain": [
       "               a         b         c         d         e\n",
       "Joe     0.033100  1.680563  0.779147  0.399730  0.082306\n",
       "Steve   1.026243  0.129428  0.899122 -0.106352  0.186312\n",
       "Wes    -1.117596  1.625927 -0.783645 -0.272723 -0.107360\n",
       "Jim    -0.790478 -1.929630  1.138231 -0.925137 -2.030326\n",
       "Travis -1.843511 -0.765685 -1.317907 -0.415259  0.193282"
      ]
     },
     "execution_count": 5,
     "metadata": {},
     "output_type": "execute_result"
    }
   ],
   "source": [
    "people = DataFrame(np.random.randn(5, 5),\n",
    "                   columns=['a', 'b', 'c', 'd', 'e'],\n",
    "                   index=['Joe', 'Steve', 'Wes', 'Jim', 'Travis'])\n",
    "people"
   ]
  },
  {
   "cell_type": "code",
   "execution_count": 6,
   "id": "8718d95c",
   "metadata": {
    "ExecuteTime": {
     "end_time": "2022-10-13T08:47:24.844376Z",
     "start_time": "2022-10-13T08:47:24.818502Z"
    }
   },
   "outputs": [
    {
     "data": {
      "text/html": [
       "<div>\n",
       "<style scoped>\n",
       "    .dataframe tbody tr th:only-of-type {\n",
       "        vertical-align: middle;\n",
       "    }\n",
       "\n",
       "    .dataframe tbody tr th {\n",
       "        vertical-align: top;\n",
       "    }\n",
       "\n",
       "    .dataframe thead th {\n",
       "        text-align: right;\n",
       "    }\n",
       "</style>\n",
       "<table border=\"1\" class=\"dataframe\">\n",
       "  <thead>\n",
       "    <tr style=\"text-align: right;\">\n",
       "      <th></th>\n",
       "      <th>a</th>\n",
       "      <th>b</th>\n",
       "      <th>c</th>\n",
       "      <th>d</th>\n",
       "      <th>e</th>\n",
       "    </tr>\n",
       "  </thead>\n",
       "  <tbody>\n",
       "    <tr>\n",
       "      <th>one</th>\n",
       "      <td>-0.976002</td>\n",
       "      <td>0.846935</td>\n",
       "      <td>-0.440802</td>\n",
       "      <td>-0.096084</td>\n",
       "      <td>0.056076</td>\n",
       "    </tr>\n",
       "    <tr>\n",
       "      <th>two</th>\n",
       "      <td>0.117882</td>\n",
       "      <td>-0.900101</td>\n",
       "      <td>1.018676</td>\n",
       "      <td>-0.515745</td>\n",
       "      <td>-0.922007</td>\n",
       "    </tr>\n",
       "  </tbody>\n",
       "</table>\n",
       "</div>"
      ],
      "text/plain": [
       "            a         b         c         d         e\n",
       "one -0.976002  0.846935 -0.440802 -0.096084  0.056076\n",
       "two  0.117882 -0.900101  1.018676 -0.515745 -0.922007"
      ]
     },
     "execution_count": 6,
     "metadata": {},
     "output_type": "execute_result"
    }
   ],
   "source": [
    "key = ['one', 'two', 'one', 'two', 'one'] # 每一行的名称\n",
    "people.groupby(key).mean()"
   ]
  },
  {
   "cell_type": "code",
   "execution_count": 7,
   "id": "6ed9eab5",
   "metadata": {
    "ExecuteTime": {
     "end_time": "2022-10-13T08:47:43.933708Z",
     "start_time": "2022-10-13T08:47:43.908326Z"
    }
   },
   "outputs": [
    {
     "data": {
      "text/html": [
       "<div>\n",
       "<style scoped>\n",
       "    .dataframe tbody tr th:only-of-type {\n",
       "        vertical-align: middle;\n",
       "    }\n",
       "\n",
       "    .dataframe tbody tr th {\n",
       "        vertical-align: top;\n",
       "    }\n",
       "\n",
       "    .dataframe thead th {\n",
       "        text-align: right;\n",
       "    }\n",
       "</style>\n",
       "<table border=\"1\" class=\"dataframe\">\n",
       "  <thead>\n",
       "    <tr style=\"text-align: right;\">\n",
       "      <th></th>\n",
       "      <th>a</th>\n",
       "      <th>b</th>\n",
       "      <th>c</th>\n",
       "      <th>d</th>\n",
       "      <th>e</th>\n",
       "    </tr>\n",
       "  </thead>\n",
       "  <tbody>\n",
       "    <tr>\n",
       "      <th>Joe</th>\n",
       "      <td>-0.976002</td>\n",
       "      <td>0.846935</td>\n",
       "      <td>-0.440802</td>\n",
       "      <td>-0.096084</td>\n",
       "      <td>0.056076</td>\n",
       "    </tr>\n",
       "    <tr>\n",
       "      <th>Steve</th>\n",
       "      <td>0.117882</td>\n",
       "      <td>-0.900101</td>\n",
       "      <td>1.018676</td>\n",
       "      <td>-0.515745</td>\n",
       "      <td>-0.922007</td>\n",
       "    </tr>\n",
       "    <tr>\n",
       "      <th>Wes</th>\n",
       "      <td>-0.976002</td>\n",
       "      <td>0.846935</td>\n",
       "      <td>-0.440802</td>\n",
       "      <td>-0.096084</td>\n",
       "      <td>0.056076</td>\n",
       "    </tr>\n",
       "    <tr>\n",
       "      <th>Jim</th>\n",
       "      <td>0.117882</td>\n",
       "      <td>-0.900101</td>\n",
       "      <td>1.018676</td>\n",
       "      <td>-0.515745</td>\n",
       "      <td>-0.922007</td>\n",
       "    </tr>\n",
       "    <tr>\n",
       "      <th>Travis</th>\n",
       "      <td>-0.976002</td>\n",
       "      <td>0.846935</td>\n",
       "      <td>-0.440802</td>\n",
       "      <td>-0.096084</td>\n",
       "      <td>0.056076</td>\n",
       "    </tr>\n",
       "  </tbody>\n",
       "</table>\n",
       "</div>"
      ],
      "text/plain": [
       "               a         b         c         d         e\n",
       "Joe    -0.976002  0.846935 -0.440802 -0.096084  0.056076\n",
       "Steve   0.117882 -0.900101  1.018676 -0.515745 -0.922007\n",
       "Wes    -0.976002  0.846935 -0.440802 -0.096084  0.056076\n",
       "Jim     0.117882 -0.900101  1.018676 -0.515745 -0.922007\n",
       "Travis -0.976002  0.846935 -0.440802 -0.096084  0.056076"
      ]
     },
     "execution_count": 7,
     "metadata": {},
     "output_type": "execute_result"
    }
   ],
   "source": [
    "people.groupby(key).transform(np.mean) # transform变回原来形状，但是用前面分组聚合的值填空。\n"
   ]
  },
  {
   "cell_type": "code",
   "execution_count": 8,
   "id": "4ca3e057",
   "metadata": {
    "ExecuteTime": {
     "end_time": "2022-10-13T08:48:23.712509Z",
     "start_time": "2022-10-13T08:48:23.659665Z"
    }
   },
   "outputs": [
    {
     "data": {
      "text/html": [
       "<div>\n",
       "<style scoped>\n",
       "    .dataframe tbody tr th:only-of-type {\n",
       "        vertical-align: middle;\n",
       "    }\n",
       "\n",
       "    .dataframe tbody tr th {\n",
       "        vertical-align: top;\n",
       "    }\n",
       "\n",
       "    .dataframe thead th {\n",
       "        text-align: right;\n",
       "    }\n",
       "</style>\n",
       "<table border=\"1\" class=\"dataframe\">\n",
       "  <thead>\n",
       "    <tr style=\"text-align: right;\">\n",
       "      <th></th>\n",
       "      <th>a</th>\n",
       "      <th>b</th>\n",
       "      <th>c</th>\n",
       "      <th>d</th>\n",
       "      <th>e</th>\n",
       "    </tr>\n",
       "  </thead>\n",
       "  <tbody>\n",
       "    <tr>\n",
       "      <th>Joe</th>\n",
       "      <td>1.009103</td>\n",
       "      <td>0.833628</td>\n",
       "      <td>1.219948</td>\n",
       "      <td>0.495814</td>\n",
       "      <td>0.026230</td>\n",
       "    </tr>\n",
       "    <tr>\n",
       "      <th>Steve</th>\n",
       "      <td>0.908361</td>\n",
       "      <td>1.029529</td>\n",
       "      <td>-0.119555</td>\n",
       "      <td>0.409392</td>\n",
       "      <td>1.108319</td>\n",
       "    </tr>\n",
       "    <tr>\n",
       "      <th>Wes</th>\n",
       "      <td>-0.141594</td>\n",
       "      <td>0.778992</td>\n",
       "      <td>-0.342843</td>\n",
       "      <td>-0.176639</td>\n",
       "      <td>-0.163436</td>\n",
       "    </tr>\n",
       "    <tr>\n",
       "      <th>Jim</th>\n",
       "      <td>-0.908361</td>\n",
       "      <td>-1.029529</td>\n",
       "      <td>0.119555</td>\n",
       "      <td>-0.409392</td>\n",
       "      <td>-1.108319</td>\n",
       "    </tr>\n",
       "    <tr>\n",
       "      <th>Travis</th>\n",
       "      <td>-0.867509</td>\n",
       "      <td>-1.612620</td>\n",
       "      <td>-0.877105</td>\n",
       "      <td>-0.319175</td>\n",
       "      <td>0.137206</td>\n",
       "    </tr>\n",
       "  </tbody>\n",
       "</table>\n",
       "</div>"
      ],
      "text/plain": [
       "               a         b         c         d         e\n",
       "Joe     1.009103  0.833628  1.219948  0.495814  0.026230\n",
       "Steve   0.908361  1.029529 -0.119555  0.409392  1.108319\n",
       "Wes    -0.141594  0.778992 -0.342843 -0.176639 -0.163436\n",
       "Jim    -0.908361 -1.029529  0.119555 -0.409392 -1.108319\n",
       "Travis -0.867509 -1.612620 -0.877105 -0.319175  0.137206"
      ]
     },
     "execution_count": 8,
     "metadata": {},
     "output_type": "execute_result"
    }
   ],
   "source": [
    "def demean(arr):\n",
    "    return arr - arr.mean()\n",
    "demeaned = people.groupby(key).transform(demean) # \n",
    "demeaned"
   ]
  },
  {
   "cell_type": "code",
   "execution_count": 9,
   "id": "f66dc44c",
   "metadata": {
    "ExecuteTime": {
     "end_time": "2022-10-13T08:48:52.153212Z",
     "start_time": "2022-10-13T08:48:52.127076Z"
    }
   },
   "outputs": [
    {
     "data": {
      "text/html": [
       "<div>\n",
       "<style scoped>\n",
       "    .dataframe tbody tr th:only-of-type {\n",
       "        vertical-align: middle;\n",
       "    }\n",
       "\n",
       "    .dataframe tbody tr th {\n",
       "        vertical-align: top;\n",
       "    }\n",
       "\n",
       "    .dataframe thead th {\n",
       "        text-align: right;\n",
       "    }\n",
       "</style>\n",
       "<table border=\"1\" class=\"dataframe\">\n",
       "  <thead>\n",
       "    <tr style=\"text-align: right;\">\n",
       "      <th></th>\n",
       "      <th>a</th>\n",
       "      <th>b</th>\n",
       "      <th>c</th>\n",
       "      <th>d</th>\n",
       "      <th>e</th>\n",
       "    </tr>\n",
       "  </thead>\n",
       "  <tbody>\n",
       "    <tr>\n",
       "      <th>one</th>\n",
       "      <td>-7.401487e-17</td>\n",
       "      <td>1.480297e-16</td>\n",
       "      <td>0.000000e+00</td>\n",
       "      <td>1.850372e-17</td>\n",
       "      <td>0.0</td>\n",
       "    </tr>\n",
       "    <tr>\n",
       "      <th>two</th>\n",
       "      <td>0.000000e+00</td>\n",
       "      <td>0.000000e+00</td>\n",
       "      <td>-5.551115e-17</td>\n",
       "      <td>0.000000e+00</td>\n",
       "      <td>0.0</td>\n",
       "    </tr>\n",
       "  </tbody>\n",
       "</table>\n",
       "</div>"
      ],
      "text/plain": [
       "                a             b             c             d    e\n",
       "one -7.401487e-17  1.480297e-16  0.000000e+00  1.850372e-17  0.0\n",
       "two  0.000000e+00  0.000000e+00 -5.551115e-17  0.000000e+00  0.0"
      ]
     },
     "execution_count": 9,
     "metadata": {},
     "output_type": "execute_result"
    }
   ],
   "source": [
    "demeaned.groupby(key).mean() # 因为前面每个值都减去了平均值，所以应该是0。显示不为0是因为浮点数计算误差。\n"
   ]
  },
  {
   "cell_type": "markdown",
   "id": "f9f23fd8",
   "metadata": {},
   "source": [
    "## apply：一般性的“拆分－应用－合并”"
   ]
  },
  {
   "cell_type": "code",
   "execution_count": 56,
   "id": "2b6f433e",
   "metadata": {
    "ExecuteTime": {
     "end_time": "2022-10-14T01:42:07.279185Z",
     "start_time": "2022-10-14T01:42:07.228238Z"
    }
   },
   "outputs": [
    {
     "data": {
      "text/html": [
       "<div>\n",
       "<style scoped>\n",
       "    .dataframe tbody tr th:only-of-type {\n",
       "        vertical-align: middle;\n",
       "    }\n",
       "\n",
       "    .dataframe tbody tr th {\n",
       "        vertical-align: top;\n",
       "    }\n",
       "\n",
       "    .dataframe thead th {\n",
       "        text-align: right;\n",
       "    }\n",
       "</style>\n",
       "<table border=\"1\" class=\"dataframe\">\n",
       "  <thead>\n",
       "    <tr style=\"text-align: right;\">\n",
       "      <th></th>\n",
       "      <th>total_bill</th>\n",
       "      <th>tip</th>\n",
       "      <th>smoker</th>\n",
       "      <th>day</th>\n",
       "      <th>time</th>\n",
       "      <th>size</th>\n",
       "      <th>tip_pct</th>\n",
       "    </tr>\n",
       "  </thead>\n",
       "  <tbody>\n",
       "    <tr>\n",
       "      <th>0</th>\n",
       "      <td>16.99</td>\n",
       "      <td>1.01</td>\n",
       "      <td>No</td>\n",
       "      <td>Sun</td>\n",
       "      <td>Dinner</td>\n",
       "      <td>2</td>\n",
       "      <td>0.059447</td>\n",
       "    </tr>\n",
       "    <tr>\n",
       "      <th>1</th>\n",
       "      <td>10.34</td>\n",
       "      <td>1.66</td>\n",
       "      <td>No</td>\n",
       "      <td>Sun</td>\n",
       "      <td>Dinner</td>\n",
       "      <td>3</td>\n",
       "      <td>0.160542</td>\n",
       "    </tr>\n",
       "    <tr>\n",
       "      <th>2</th>\n",
       "      <td>21.01</td>\n",
       "      <td>3.50</td>\n",
       "      <td>No</td>\n",
       "      <td>Sun</td>\n",
       "      <td>Dinner</td>\n",
       "      <td>3</td>\n",
       "      <td>0.166587</td>\n",
       "    </tr>\n",
       "    <tr>\n",
       "      <th>3</th>\n",
       "      <td>23.68</td>\n",
       "      <td>3.31</td>\n",
       "      <td>No</td>\n",
       "      <td>Sun</td>\n",
       "      <td>Dinner</td>\n",
       "      <td>2</td>\n",
       "      <td>0.139780</td>\n",
       "    </tr>\n",
       "    <tr>\n",
       "      <th>4</th>\n",
       "      <td>24.59</td>\n",
       "      <td>3.61</td>\n",
       "      <td>No</td>\n",
       "      <td>Sun</td>\n",
       "      <td>Dinner</td>\n",
       "      <td>4</td>\n",
       "      <td>0.146808</td>\n",
       "    </tr>\n",
       "  </tbody>\n",
       "</table>\n",
       "</div>"
      ],
      "text/plain": [
       "   total_bill   tip smoker  day    time  size   tip_pct\n",
       "0       16.99  1.01     No  Sun  Dinner     2  0.059447\n",
       "1       10.34  1.66     No  Sun  Dinner     3  0.160542\n",
       "2       21.01  3.50     No  Sun  Dinner     3  0.166587\n",
       "3       23.68  3.31     No  Sun  Dinner     2  0.139780\n",
       "4       24.59  3.61     No  Sun  Dinner     4  0.146808"
      ]
     },
     "execution_count": 56,
     "metadata": {},
     "output_type": "execute_result"
    }
   ],
   "source": [
    "tips = pd.read_csv('data/tips.csv')\n",
    "tips['tip_pct'] = tips['tip'] / tips['total_bill'] # 新加一列，小费与账单金额的比例。\n",
    "tips.head()"
   ]
  },
  {
   "cell_type": "code",
   "execution_count": 11,
   "id": "0c324a69",
   "metadata": {
    "ExecuteTime": {
     "end_time": "2022-10-13T08:50:14.246393Z",
     "start_time": "2022-10-13T08:50:14.219973Z"
    }
   },
   "outputs": [
    {
     "data": {
      "text/html": [
       "<div>\n",
       "<style scoped>\n",
       "    .dataframe tbody tr th:only-of-type {\n",
       "        vertical-align: middle;\n",
       "    }\n",
       "\n",
       "    .dataframe tbody tr th {\n",
       "        vertical-align: top;\n",
       "    }\n",
       "\n",
       "    .dataframe thead th {\n",
       "        text-align: right;\n",
       "    }\n",
       "</style>\n",
       "<table border=\"1\" class=\"dataframe\">\n",
       "  <thead>\n",
       "    <tr style=\"text-align: right;\">\n",
       "      <th></th>\n",
       "      <th>total_bill</th>\n",
       "      <th>tip</th>\n",
       "      <th>smoker</th>\n",
       "      <th>day</th>\n",
       "      <th>time</th>\n",
       "      <th>size</th>\n",
       "      <th>tip_pct</th>\n",
       "    </tr>\n",
       "  </thead>\n",
       "  <tbody>\n",
       "    <tr>\n",
       "      <th>4</th>\n",
       "      <td>24.59</td>\n",
       "      <td>3.61</td>\n",
       "      <td>No</td>\n",
       "      <td>Sun</td>\n",
       "      <td>Dinner</td>\n",
       "      <td>4</td>\n",
       "      <td>0.146808</td>\n",
       "    </tr>\n",
       "    <tr>\n",
       "      <th>1</th>\n",
       "      <td>10.34</td>\n",
       "      <td>1.66</td>\n",
       "      <td>No</td>\n",
       "      <td>Sun</td>\n",
       "      <td>Dinner</td>\n",
       "      <td>3</td>\n",
       "      <td>0.160542</td>\n",
       "    </tr>\n",
       "    <tr>\n",
       "      <th>2</th>\n",
       "      <td>21.01</td>\n",
       "      <td>3.50</td>\n",
       "      <td>No</td>\n",
       "      <td>Sun</td>\n",
       "      <td>Dinner</td>\n",
       "      <td>3</td>\n",
       "      <td>0.166587</td>\n",
       "    </tr>\n",
       "  </tbody>\n",
       "</table>\n",
       "</div>"
      ],
      "text/plain": [
       "   total_bill   tip smoker  day    time  size   tip_pct\n",
       "4       24.59  3.61     No  Sun  Dinner     4  0.146808\n",
       "1       10.34  1.66     No  Sun  Dinner     3  0.160542\n",
       "2       21.01  3.50     No  Sun  Dinner     3  0.166587"
      ]
     },
     "execution_count": 11,
     "metadata": {},
     "output_type": "execute_result"
    }
   ],
   "source": [
    "def top(df, n=5, column='tip_pct'):\n",
    "    return df.sort_values(by=column)[-n:] # 获取小费比例最高的n条数据\n",
    "top(tips, n=3)"
   ]
  },
  {
   "cell_type": "code",
   "execution_count": 12,
   "id": "fe6abdb3",
   "metadata": {
    "ExecuteTime": {
     "end_time": "2022-10-13T08:51:16.219421Z",
     "start_time": "2022-10-13T08:51:16.193314Z"
    }
   },
   "outputs": [
    {
     "data": {
      "text/html": [
       "<div>\n",
       "<style scoped>\n",
       "    .dataframe tbody tr th:only-of-type {\n",
       "        vertical-align: middle;\n",
       "    }\n",
       "\n",
       "    .dataframe tbody tr th {\n",
       "        vertical-align: top;\n",
       "    }\n",
       "\n",
       "    .dataframe thead th {\n",
       "        text-align: right;\n",
       "    }\n",
       "</style>\n",
       "<table border=\"1\" class=\"dataframe\">\n",
       "  <thead>\n",
       "    <tr style=\"text-align: right;\">\n",
       "      <th></th>\n",
       "      <th></th>\n",
       "      <th>total_bill</th>\n",
       "      <th>tip</th>\n",
       "      <th>smoker</th>\n",
       "      <th>day</th>\n",
       "      <th>time</th>\n",
       "      <th>size</th>\n",
       "      <th>tip_pct</th>\n",
       "    </tr>\n",
       "    <tr>\n",
       "      <th>smoker</th>\n",
       "      <th></th>\n",
       "      <th></th>\n",
       "      <th></th>\n",
       "      <th></th>\n",
       "      <th></th>\n",
       "      <th></th>\n",
       "      <th></th>\n",
       "      <th></th>\n",
       "    </tr>\n",
       "  </thead>\n",
       "  <tbody>\n",
       "    <tr>\n",
       "      <th rowspan=\"2\" valign=\"top\">No</th>\n",
       "      <th>1</th>\n",
       "      <td>10.34</td>\n",
       "      <td>1.66</td>\n",
       "      <td>No</td>\n",
       "      <td>Sun</td>\n",
       "      <td>Dinner</td>\n",
       "      <td>3</td>\n",
       "      <td>0.160542</td>\n",
       "    </tr>\n",
       "    <tr>\n",
       "      <th>2</th>\n",
       "      <td>21.01</td>\n",
       "      <td>3.50</td>\n",
       "      <td>No</td>\n",
       "      <td>Sun</td>\n",
       "      <td>Dinner</td>\n",
       "      <td>3</td>\n",
       "      <td>0.166587</td>\n",
       "    </tr>\n",
       "  </tbody>\n",
       "</table>\n",
       "</div>"
      ],
      "text/plain": [
       "          total_bill   tip smoker  day    time  size   tip_pct\n",
       "smoker                                                        \n",
       "No     1       10.34  1.66     No  Sun  Dinner     3  0.160542\n",
       "       2       21.01  3.50     No  Sun  Dinner     3  0.166587"
      ]
     },
     "execution_count": 12,
     "metadata": {},
     "output_type": "execute_result"
    }
   ],
   "source": [
    "tips.groupby('smoker').apply(top, n=2, column='tip_pct') # 先按是否吸烟分组，再分别查看小费比例。\n",
    "\n",
    "# cc：top这个function的参数就直接放到了apply中"
   ]
  },
  {
   "cell_type": "code",
   "execution_count": 13,
   "id": "63436149",
   "metadata": {
    "ExecuteTime": {
     "end_time": "2022-10-13T08:51:44.192118Z",
     "start_time": "2022-10-13T08:51:44.163461Z"
    }
   },
   "outputs": [
    {
     "data": {
      "text/html": [
       "<div>\n",
       "<style scoped>\n",
       "    .dataframe tbody tr th:only-of-type {\n",
       "        vertical-align: middle;\n",
       "    }\n",
       "\n",
       "    .dataframe tbody tr th {\n",
       "        vertical-align: top;\n",
       "    }\n",
       "\n",
       "    .dataframe thead th {\n",
       "        text-align: right;\n",
       "    }\n",
       "</style>\n",
       "<table border=\"1\" class=\"dataframe\">\n",
       "  <thead>\n",
       "    <tr style=\"text-align: right;\">\n",
       "      <th></th>\n",
       "      <th></th>\n",
       "      <th></th>\n",
       "      <th>total_bill</th>\n",
       "      <th>tip</th>\n",
       "      <th>smoker</th>\n",
       "      <th>day</th>\n",
       "      <th>time</th>\n",
       "      <th>size</th>\n",
       "      <th>tip_pct</th>\n",
       "    </tr>\n",
       "    <tr>\n",
       "      <th>smoker</th>\n",
       "      <th>day</th>\n",
       "      <th></th>\n",
       "      <th></th>\n",
       "      <th></th>\n",
       "      <th></th>\n",
       "      <th></th>\n",
       "      <th></th>\n",
       "      <th></th>\n",
       "      <th></th>\n",
       "    </tr>\n",
       "  </thead>\n",
       "  <tbody>\n",
       "    <tr>\n",
       "      <th>No</th>\n",
       "      <th>Sun</th>\n",
       "      <th>4</th>\n",
       "      <td>24.59</td>\n",
       "      <td>3.61</td>\n",
       "      <td>No</td>\n",
       "      <td>Sun</td>\n",
       "      <td>Dinner</td>\n",
       "      <td>4</td>\n",
       "      <td>0.146808</td>\n",
       "    </tr>\n",
       "  </tbody>\n",
       "</table>\n",
       "</div>"
      ],
      "text/plain": [
       "              total_bill   tip smoker  day    time  size   tip_pct\n",
       "smoker day                                                        \n",
       "No     Sun 4       24.59  3.61     No  Sun  Dinner     4  0.146808"
      ]
     },
     "execution_count": 13,
     "metadata": {},
     "output_type": "execute_result"
    }
   ],
   "source": [
    "tips.groupby(['smoker', 'day']).apply(top, n=1, column='total_bill')\n"
   ]
  },
  {
   "cell_type": "code",
   "execution_count": 14,
   "id": "9ed10a49",
   "metadata": {
    "ExecuteTime": {
     "end_time": "2022-10-13T08:52:15.153103Z",
     "start_time": "2022-10-13T08:52:15.115830Z"
    }
   },
   "outputs": [
    {
     "data": {
      "text/html": [
       "<div>\n",
       "<style scoped>\n",
       "    .dataframe tbody tr th:only-of-type {\n",
       "        vertical-align: middle;\n",
       "    }\n",
       "\n",
       "    .dataframe tbody tr th {\n",
       "        vertical-align: top;\n",
       "    }\n",
       "\n",
       "    .dataframe thead th {\n",
       "        text-align: right;\n",
       "    }\n",
       "</style>\n",
       "<table border=\"1\" class=\"dataframe\">\n",
       "  <thead>\n",
       "    <tr style=\"text-align: right;\">\n",
       "      <th></th>\n",
       "      <th>count</th>\n",
       "      <th>mean</th>\n",
       "      <th>std</th>\n",
       "      <th>min</th>\n",
       "      <th>25%</th>\n",
       "      <th>50%</th>\n",
       "      <th>75%</th>\n",
       "      <th>max</th>\n",
       "    </tr>\n",
       "    <tr>\n",
       "      <th>smoker</th>\n",
       "      <th></th>\n",
       "      <th></th>\n",
       "      <th></th>\n",
       "      <th></th>\n",
       "      <th></th>\n",
       "      <th></th>\n",
       "      <th></th>\n",
       "      <th></th>\n",
       "    </tr>\n",
       "  </thead>\n",
       "  <tbody>\n",
       "    <tr>\n",
       "      <th>No</th>\n",
       "      <td>5.0</td>\n",
       "      <td>0.134633</td>\n",
       "      <td>0.043359</td>\n",
       "      <td>0.059447</td>\n",
       "      <td>0.13978</td>\n",
       "      <td>0.146808</td>\n",
       "      <td>0.160542</td>\n",
       "      <td>0.166587</td>\n",
       "    </tr>\n",
       "  </tbody>\n",
       "</table>\n",
       "</div>"
      ],
      "text/plain": [
       "        count      mean       std       min      25%       50%       75%  \\\n",
       "smoker                                                                     \n",
       "No        5.0  0.134633  0.043359  0.059447  0.13978  0.146808  0.160542   \n",
       "\n",
       "             max  \n",
       "smoker            \n",
       "No      0.166587  "
      ]
     },
     "execution_count": 14,
     "metadata": {},
     "output_type": "execute_result"
    }
   ],
   "source": [
    "result = tips.groupby('smoker')['tip_pct'].describe()\n",
    "result"
   ]
  },
  {
   "cell_type": "code",
   "execution_count": 15,
   "id": "789f954d",
   "metadata": {
    "ExecuteTime": {
     "end_time": "2022-10-13T08:52:28.821554Z",
     "start_time": "2022-10-13T08:52:28.802984Z"
    }
   },
   "outputs": [
    {
     "data": {
      "text/plain": [
       "       smoker\n",
       "count  No        5.000000\n",
       "mean   No        0.134633\n",
       "std    No        0.043359\n",
       "min    No        0.059447\n",
       "25%    No        0.139780\n",
       "50%    No        0.146808\n",
       "75%    No        0.160542\n",
       "max    No        0.166587\n",
       "dtype: float64"
      ]
     },
     "execution_count": 15,
     "metadata": {},
     "output_type": "execute_result"
    }
   ],
   "source": [
    "result.unstack('smoker') # 把列添加到索引，作用在smoker外。\n"
   ]
  },
  {
   "cell_type": "code",
   "execution_count": 16,
   "id": "45659859",
   "metadata": {
    "ExecuteTime": {
     "end_time": "2022-10-13T08:53:08.866528Z",
     "start_time": "2022-10-13T08:53:08.815877Z"
    }
   },
   "outputs": [
    {
     "data": {
      "text/html": [
       "<div>\n",
       "<style scoped>\n",
       "    .dataframe tbody tr th:only-of-type {\n",
       "        vertical-align: middle;\n",
       "    }\n",
       "\n",
       "    .dataframe tbody tr th {\n",
       "        vertical-align: top;\n",
       "    }\n",
       "\n",
       "    .dataframe thead th {\n",
       "        text-align: right;\n",
       "    }\n",
       "</style>\n",
       "<table border=\"1\" class=\"dataframe\">\n",
       "  <thead>\n",
       "    <tr style=\"text-align: right;\">\n",
       "      <th></th>\n",
       "      <th>count</th>\n",
       "      <th>mean</th>\n",
       "      <th>std</th>\n",
       "      <th>min</th>\n",
       "      <th>25%</th>\n",
       "      <th>50%</th>\n",
       "      <th>75%</th>\n",
       "      <th>max</th>\n",
       "    </tr>\n",
       "  </thead>\n",
       "  <tbody>\n",
       "    <tr>\n",
       "      <th>count</th>\n",
       "      <td>1.0</td>\n",
       "      <td>1.000000</td>\n",
       "      <td>1.000000</td>\n",
       "      <td>1.000000</td>\n",
       "      <td>1.00000</td>\n",
       "      <td>1.000000</td>\n",
       "      <td>1.000000</td>\n",
       "      <td>1.000000</td>\n",
       "    </tr>\n",
       "    <tr>\n",
       "      <th>mean</th>\n",
       "      <td>5.0</td>\n",
       "      <td>0.134633</td>\n",
       "      <td>0.043359</td>\n",
       "      <td>0.059447</td>\n",
       "      <td>0.13978</td>\n",
       "      <td>0.146808</td>\n",
       "      <td>0.160542</td>\n",
       "      <td>0.166587</td>\n",
       "    </tr>\n",
       "    <tr>\n",
       "      <th>std</th>\n",
       "      <td>NaN</td>\n",
       "      <td>NaN</td>\n",
       "      <td>NaN</td>\n",
       "      <td>NaN</td>\n",
       "      <td>NaN</td>\n",
       "      <td>NaN</td>\n",
       "      <td>NaN</td>\n",
       "      <td>NaN</td>\n",
       "    </tr>\n",
       "    <tr>\n",
       "      <th>min</th>\n",
       "      <td>5.0</td>\n",
       "      <td>0.134633</td>\n",
       "      <td>0.043359</td>\n",
       "      <td>0.059447</td>\n",
       "      <td>0.13978</td>\n",
       "      <td>0.146808</td>\n",
       "      <td>0.160542</td>\n",
       "      <td>0.166587</td>\n",
       "    </tr>\n",
       "    <tr>\n",
       "      <th>25%</th>\n",
       "      <td>5.0</td>\n",
       "      <td>0.134633</td>\n",
       "      <td>0.043359</td>\n",
       "      <td>0.059447</td>\n",
       "      <td>0.13978</td>\n",
       "      <td>0.146808</td>\n",
       "      <td>0.160542</td>\n",
       "      <td>0.166587</td>\n",
       "    </tr>\n",
       "    <tr>\n",
       "      <th>50%</th>\n",
       "      <td>5.0</td>\n",
       "      <td>0.134633</td>\n",
       "      <td>0.043359</td>\n",
       "      <td>0.059447</td>\n",
       "      <td>0.13978</td>\n",
       "      <td>0.146808</td>\n",
       "      <td>0.160542</td>\n",
       "      <td>0.166587</td>\n",
       "    </tr>\n",
       "    <tr>\n",
       "      <th>75%</th>\n",
       "      <td>5.0</td>\n",
       "      <td>0.134633</td>\n",
       "      <td>0.043359</td>\n",
       "      <td>0.059447</td>\n",
       "      <td>0.13978</td>\n",
       "      <td>0.146808</td>\n",
       "      <td>0.160542</td>\n",
       "      <td>0.166587</td>\n",
       "    </tr>\n",
       "    <tr>\n",
       "      <th>max</th>\n",
       "      <td>5.0</td>\n",
       "      <td>0.134633</td>\n",
       "      <td>0.043359</td>\n",
       "      <td>0.059447</td>\n",
       "      <td>0.13978</td>\n",
       "      <td>0.146808</td>\n",
       "      <td>0.160542</td>\n",
       "      <td>0.166587</td>\n",
       "    </tr>\n",
       "  </tbody>\n",
       "</table>\n",
       "</div>"
      ],
      "text/plain": [
       "       count      mean       std       min      25%       50%       75%  \\\n",
       "count    1.0  1.000000  1.000000  1.000000  1.00000  1.000000  1.000000   \n",
       "mean     5.0  0.134633  0.043359  0.059447  0.13978  0.146808  0.160542   \n",
       "std      NaN       NaN       NaN       NaN      NaN       NaN       NaN   \n",
       "min      5.0  0.134633  0.043359  0.059447  0.13978  0.146808  0.160542   \n",
       "25%      5.0  0.134633  0.043359  0.059447  0.13978  0.146808  0.160542   \n",
       "50%      5.0  0.134633  0.043359  0.059447  0.13978  0.146808  0.160542   \n",
       "75%      5.0  0.134633  0.043359  0.059447  0.13978  0.146808  0.160542   \n",
       "max      5.0  0.134633  0.043359  0.059447  0.13978  0.146808  0.160542   \n",
       "\n",
       "            max  \n",
       "count  1.000000  \n",
       "mean   0.166587  \n",
       "std         NaN  \n",
       "min    0.166587  \n",
       "25%    0.166587  \n",
       "50%    0.166587  \n",
       "75%    0.166587  \n",
       "max    0.166587  "
      ]
     },
     "execution_count": 16,
     "metadata": {},
     "output_type": "execute_result"
    }
   ],
   "source": [
    "result.apply(lambda x: x.describe()) # result.describe()\n"
   ]
  },
  {
   "cell_type": "markdown",
   "id": "673a7e2a",
   "metadata": {},
   "source": [
    "## 禁止分组键"
   ]
  },
  {
   "cell_type": "code",
   "execution_count": 17,
   "id": "67ddf693",
   "metadata": {
    "ExecuteTime": {
     "end_time": "2022-10-13T08:53:33.824151Z",
     "start_time": "2022-10-13T08:53:33.792877Z"
    }
   },
   "outputs": [
    {
     "data": {
      "text/html": [
       "<div>\n",
       "<style scoped>\n",
       "    .dataframe tbody tr th:only-of-type {\n",
       "        vertical-align: middle;\n",
       "    }\n",
       "\n",
       "    .dataframe tbody tr th {\n",
       "        vertical-align: top;\n",
       "    }\n",
       "\n",
       "    .dataframe thead th {\n",
       "        text-align: right;\n",
       "    }\n",
       "</style>\n",
       "<table border=\"1\" class=\"dataframe\">\n",
       "  <thead>\n",
       "    <tr style=\"text-align: right;\">\n",
       "      <th></th>\n",
       "      <th>total_bill</th>\n",
       "      <th>tip</th>\n",
       "      <th>smoker</th>\n",
       "      <th>day</th>\n",
       "      <th>time</th>\n",
       "      <th>size</th>\n",
       "      <th>tip_pct</th>\n",
       "    </tr>\n",
       "  </thead>\n",
       "  <tbody>\n",
       "    <tr>\n",
       "      <th>0</th>\n",
       "      <td>16.99</td>\n",
       "      <td>1.01</td>\n",
       "      <td>No</td>\n",
       "      <td>Sun</td>\n",
       "      <td>Dinner</td>\n",
       "      <td>2</td>\n",
       "      <td>0.059447</td>\n",
       "    </tr>\n",
       "    <tr>\n",
       "      <th>3</th>\n",
       "      <td>23.68</td>\n",
       "      <td>3.31</td>\n",
       "      <td>No</td>\n",
       "      <td>Sun</td>\n",
       "      <td>Dinner</td>\n",
       "      <td>2</td>\n",
       "      <td>0.139780</td>\n",
       "    </tr>\n",
       "    <tr>\n",
       "      <th>4</th>\n",
       "      <td>24.59</td>\n",
       "      <td>3.61</td>\n",
       "      <td>No</td>\n",
       "      <td>Sun</td>\n",
       "      <td>Dinner</td>\n",
       "      <td>4</td>\n",
       "      <td>0.146808</td>\n",
       "    </tr>\n",
       "    <tr>\n",
       "      <th>1</th>\n",
       "      <td>10.34</td>\n",
       "      <td>1.66</td>\n",
       "      <td>No</td>\n",
       "      <td>Sun</td>\n",
       "      <td>Dinner</td>\n",
       "      <td>3</td>\n",
       "      <td>0.160542</td>\n",
       "    </tr>\n",
       "    <tr>\n",
       "      <th>2</th>\n",
       "      <td>21.01</td>\n",
       "      <td>3.50</td>\n",
       "      <td>No</td>\n",
       "      <td>Sun</td>\n",
       "      <td>Dinner</td>\n",
       "      <td>3</td>\n",
       "      <td>0.166587</td>\n",
       "    </tr>\n",
       "  </tbody>\n",
       "</table>\n",
       "</div>"
      ],
      "text/plain": [
       "   total_bill   tip smoker  day    time  size   tip_pct\n",
       "0       16.99  1.01     No  Sun  Dinner     2  0.059447\n",
       "3       23.68  3.31     No  Sun  Dinner     2  0.139780\n",
       "4       24.59  3.61     No  Sun  Dinner     4  0.146808\n",
       "1       10.34  1.66     No  Sun  Dinner     3  0.160542\n",
       "2       21.01  3.50     No  Sun  Dinner     3  0.166587"
      ]
     },
     "execution_count": 17,
     "metadata": {},
     "output_type": "execute_result"
    }
   ],
   "source": [
    "tips.groupby('smoker', group_keys=False).apply(top) # 禁止构成多重索引"
   ]
  },
  {
   "cell_type": "code",
   "execution_count": 18,
   "id": "64642f38",
   "metadata": {
    "ExecuteTime": {
     "end_time": "2022-10-13T08:54:19.876033Z",
     "start_time": "2022-10-13T08:54:19.846762Z"
    }
   },
   "outputs": [
    {
     "data": {
      "text/html": [
       "<div>\n",
       "<style scoped>\n",
       "    .dataframe tbody tr th:only-of-type {\n",
       "        vertical-align: middle;\n",
       "    }\n",
       "\n",
       "    .dataframe tbody tr th {\n",
       "        vertical-align: top;\n",
       "    }\n",
       "\n",
       "    .dataframe thead th {\n",
       "        text-align: right;\n",
       "    }\n",
       "</style>\n",
       "<table border=\"1\" class=\"dataframe\">\n",
       "  <thead>\n",
       "    <tr style=\"text-align: right;\">\n",
       "      <th></th>\n",
       "      <th></th>\n",
       "      <th>total_bill</th>\n",
       "      <th>tip</th>\n",
       "      <th>smoker</th>\n",
       "      <th>day</th>\n",
       "      <th>time</th>\n",
       "      <th>size</th>\n",
       "      <th>tip_pct</th>\n",
       "    </tr>\n",
       "    <tr>\n",
       "      <th>smoker</th>\n",
       "      <th></th>\n",
       "      <th></th>\n",
       "      <th></th>\n",
       "      <th></th>\n",
       "      <th></th>\n",
       "      <th></th>\n",
       "      <th></th>\n",
       "      <th></th>\n",
       "    </tr>\n",
       "  </thead>\n",
       "  <tbody>\n",
       "    <tr>\n",
       "      <th rowspan=\"5\" valign=\"top\">No</th>\n",
       "      <th>0</th>\n",
       "      <td>16.99</td>\n",
       "      <td>1.01</td>\n",
       "      <td>No</td>\n",
       "      <td>Sun</td>\n",
       "      <td>Dinner</td>\n",
       "      <td>2</td>\n",
       "      <td>0.059447</td>\n",
       "    </tr>\n",
       "    <tr>\n",
       "      <th>3</th>\n",
       "      <td>23.68</td>\n",
       "      <td>3.31</td>\n",
       "      <td>No</td>\n",
       "      <td>Sun</td>\n",
       "      <td>Dinner</td>\n",
       "      <td>2</td>\n",
       "      <td>0.139780</td>\n",
       "    </tr>\n",
       "    <tr>\n",
       "      <th>4</th>\n",
       "      <td>24.59</td>\n",
       "      <td>3.61</td>\n",
       "      <td>No</td>\n",
       "      <td>Sun</td>\n",
       "      <td>Dinner</td>\n",
       "      <td>4</td>\n",
       "      <td>0.146808</td>\n",
       "    </tr>\n",
       "    <tr>\n",
       "      <th>1</th>\n",
       "      <td>10.34</td>\n",
       "      <td>1.66</td>\n",
       "      <td>No</td>\n",
       "      <td>Sun</td>\n",
       "      <td>Dinner</td>\n",
       "      <td>3</td>\n",
       "      <td>0.160542</td>\n",
       "    </tr>\n",
       "    <tr>\n",
       "      <th>2</th>\n",
       "      <td>21.01</td>\n",
       "      <td>3.50</td>\n",
       "      <td>No</td>\n",
       "      <td>Sun</td>\n",
       "      <td>Dinner</td>\n",
       "      <td>3</td>\n",
       "      <td>0.166587</td>\n",
       "    </tr>\n",
       "  </tbody>\n",
       "</table>\n",
       "</div>"
      ],
      "text/plain": [
       "          total_bill   tip smoker  day    time  size   tip_pct\n",
       "smoker                                                        \n",
       "No     0       16.99  1.01     No  Sun  Dinner     2  0.059447\n",
       "       3       23.68  3.31     No  Sun  Dinner     2  0.139780\n",
       "       4       24.59  3.61     No  Sun  Dinner     4  0.146808\n",
       "       1       10.34  1.66     No  Sun  Dinner     3  0.160542\n",
       "       2       21.01  3.50     No  Sun  Dinner     3  0.166587"
      ]
     },
     "execution_count": 18,
     "metadata": {},
     "output_type": "execute_result"
    }
   ],
   "source": [
    "# cc：如果不禁止，就构成了多重索引\n",
    "tips.groupby('smoker').apply(top) # 构成多重索引"
   ]
  },
  {
   "cell_type": "markdown",
   "id": "80d9032c",
   "metadata": {},
   "source": [
    "## 分位数和桶分析"
   ]
  },
  {
   "cell_type": "code",
   "execution_count": 19,
   "id": "d7009679",
   "metadata": {
    "ExecuteTime": {
     "end_time": "2022-10-13T08:55:26.551385Z",
     "start_time": "2022-10-13T08:55:26.499048Z"
    }
   },
   "outputs": [
    {
     "data": {
      "text/plain": [
       "0    (-1.435, 0.00305]\n",
       "1    (-1.435, 0.00305]\n",
       "2     (0.00305, 1.442]\n",
       "3    (-1.435, 0.00305]\n",
       "4     (0.00305, 1.442]\n",
       "Name: data1, dtype: category\n",
       "Categories (4, interval[float64]): [(-2.88, -1.435] < (-1.435, 0.00305] < (0.00305, 1.442] < (1.442, 2.88]]"
      ]
     },
     "execution_count": 19,
     "metadata": {},
     "output_type": "execute_result"
    }
   ],
   "source": [
    "frame = DataFrame({'data1': np.random.randn(1000),\n",
    "                   'data2': np.random.randn(1000)})\n",
    "factor = pd.cut(frame.data1, 4) # 切4份\n",
    "factor[:5] # 前5个元素所在区间"
   ]
  },
  {
   "cell_type": "code",
   "execution_count": 20,
   "id": "72eecb0c",
   "metadata": {
    "ExecuteTime": {
     "end_time": "2022-10-13T08:56:43.193998Z",
     "start_time": "2022-10-13T08:56:43.146881Z"
    }
   },
   "outputs": [
    {
     "name": "stdout",
     "output_type": "stream",
     "text": [
      "data1                   \n",
      "(-2.88, -1.435]    min       -2.351596\n",
      "                   max        2.521797\n",
      "                   count     72.000000\n",
      "                   mean       0.163807\n",
      "(-1.435, 0.00305]  min       -2.674210\n",
      "                   max        2.556429\n",
      "                   count    427.000000\n",
      "                   mean      -0.030455\n",
      "(0.00305, 1.442]   min       -2.975735\n",
      "                   max        2.424534\n",
      "                   count    436.000000\n",
      "                   mean       0.005998\n",
      "(1.442, 2.88]      min       -2.574812\n",
      "                   max        2.691533\n",
      "                   count     65.000000\n",
      "                   mean       0.103121\n",
      "Name: data2, dtype: float64\n",
      "                        min       max  count      mean\n",
      "data1                                                 \n",
      "(-2.88, -1.435]   -2.351596  2.521797   72.0  0.163807\n",
      "(-1.435, 0.00305] -2.674210  2.556429  427.0 -0.030455\n",
      "(0.00305, 1.442]  -2.975735  2.424534  436.0  0.005998\n",
      "(1.442, 2.88]     -2.574812  2.691533   65.0  0.103121\n"
     ]
    }
   ],
   "source": [
    "def get_stats(group):\n",
    "    return {'min': group.min(),\n",
    "             'max': group.max(),\n",
    "             'count': group.count(),\n",
    "             'mean': group.mean()}\n",
    "grouped = frame.data2.groupby(factor) # 根据data1的分段，对data2进行分组。\n",
    "# cc：首先，到这一步的用法就很有用了！\n",
    "# factor 是创建好的区间，虽然没有在frame中，但是可以按照factor进行分组；\n",
    "\n",
    "result = grouped.apply(get_stats)\n",
    "print(result)\n",
    "print(result.unstack())"
   ]
  },
  {
   "cell_type": "code",
   "execution_count": 21,
   "id": "760cb185",
   "metadata": {
    "ExecuteTime": {
     "end_time": "2022-10-13T08:59:00.664123Z",
     "start_time": "2022-10-13T08:59:00.637805Z"
    }
   },
   "outputs": [
    {
     "data": {
      "text/plain": [
       "0    E\n",
       "1    E\n",
       "2    H\n",
       "3    A\n",
       "4    G\n",
       "Name: data1, dtype: category\n",
       "Categories (10, object): ['A' < 'B' < 'C' < 'D' ... 'G' < 'H' < 'I' < 'J']"
      ]
     },
     "execution_count": 21,
     "metadata": {},
     "output_type": "execute_result"
    }
   ],
   "source": [
    "grouping = pd.qcut(frame.data1, 10, labels=list('ABCDEFGHIJ')) # False的话就是默认数字编号\n",
    "grouping.head() # 返回每个元素的区间编号"
   ]
  },
  {
   "cell_type": "code",
   "execution_count": 22,
   "id": "0d02511f",
   "metadata": {
    "ExecuteTime": {
     "end_time": "2022-10-13T08:59:20.424545Z",
     "start_time": "2022-10-13T08:59:20.394518Z"
    }
   },
   "outputs": [
    {
     "data": {
      "text/html": [
       "<div>\n",
       "<style scoped>\n",
       "    .dataframe tbody tr th:only-of-type {\n",
       "        vertical-align: middle;\n",
       "    }\n",
       "\n",
       "    .dataframe tbody tr th {\n",
       "        vertical-align: top;\n",
       "    }\n",
       "\n",
       "    .dataframe thead th {\n",
       "        text-align: right;\n",
       "    }\n",
       "</style>\n",
       "<table border=\"1\" class=\"dataframe\">\n",
       "  <thead>\n",
       "    <tr style=\"text-align: right;\">\n",
       "      <th></th>\n",
       "      <th>min</th>\n",
       "      <th>max</th>\n",
       "      <th>count</th>\n",
       "      <th>mean</th>\n",
       "    </tr>\n",
       "    <tr>\n",
       "      <th>data1</th>\n",
       "      <th></th>\n",
       "      <th></th>\n",
       "      <th></th>\n",
       "      <th></th>\n",
       "    </tr>\n",
       "  </thead>\n",
       "  <tbody>\n",
       "    <tr>\n",
       "      <th>A</th>\n",
       "      <td>-2.351596</td>\n",
       "      <td>2.521797</td>\n",
       "      <td>100.0</td>\n",
       "      <td>0.018743</td>\n",
       "    </tr>\n",
       "    <tr>\n",
       "      <th>B</th>\n",
       "      <td>-2.637367</td>\n",
       "      <td>2.556429</td>\n",
       "      <td>100.0</td>\n",
       "      <td>0.045279</td>\n",
       "    </tr>\n",
       "    <tr>\n",
       "      <th>C</th>\n",
       "      <td>-2.674210</td>\n",
       "      <td>2.040353</td>\n",
       "      <td>100.0</td>\n",
       "      <td>0.126277</td>\n",
       "    </tr>\n",
       "    <tr>\n",
       "      <th>D</th>\n",
       "      <td>-2.497992</td>\n",
       "      <td>1.999256</td>\n",
       "      <td>100.0</td>\n",
       "      <td>-0.206787</td>\n",
       "    </tr>\n",
       "    <tr>\n",
       "      <th>E</th>\n",
       "      <td>-2.398990</td>\n",
       "      <td>2.518462</td>\n",
       "      <td>100.0</td>\n",
       "      <td>0.005545</td>\n",
       "    </tr>\n",
       "    <tr>\n",
       "      <th>F</th>\n",
       "      <td>-2.180804</td>\n",
       "      <td>2.424534</td>\n",
       "      <td>100.0</td>\n",
       "      <td>0.085148</td>\n",
       "    </tr>\n",
       "    <tr>\n",
       "      <th>G</th>\n",
       "      <td>-2.207227</td>\n",
       "      <td>2.367427</td>\n",
       "      <td>100.0</td>\n",
       "      <td>0.063048</td>\n",
       "    </tr>\n",
       "    <tr>\n",
       "      <th>H</th>\n",
       "      <td>-2.975735</td>\n",
       "      <td>2.044182</td>\n",
       "      <td>100.0</td>\n",
       "      <td>-0.141416</td>\n",
       "    </tr>\n",
       "    <tr>\n",
       "      <th>I</th>\n",
       "      <td>-2.054868</td>\n",
       "      <td>2.339424</td>\n",
       "      <td>100.0</td>\n",
       "      <td>0.081223</td>\n",
       "    </tr>\n",
       "    <tr>\n",
       "      <th>J</th>\n",
       "      <td>-2.574812</td>\n",
       "      <td>2.691533</td>\n",
       "      <td>100.0</td>\n",
       "      <td>0.004016</td>\n",
       "    </tr>\n",
       "  </tbody>\n",
       "</table>\n",
       "</div>"
      ],
      "text/plain": [
       "            min       max  count      mean\n",
       "data1                                     \n",
       "A     -2.351596  2.521797  100.0  0.018743\n",
       "B     -2.637367  2.556429  100.0  0.045279\n",
       "C     -2.674210  2.040353  100.0  0.126277\n",
       "D     -2.497992  1.999256  100.0 -0.206787\n",
       "E     -2.398990  2.518462  100.0  0.005545\n",
       "F     -2.180804  2.424534  100.0  0.085148\n",
       "G     -2.207227  2.367427  100.0  0.063048\n",
       "H     -2.975735  2.044182  100.0 -0.141416\n",
       "I     -2.054868  2.339424  100.0  0.081223\n",
       "J     -2.574812  2.691533  100.0  0.004016"
      ]
     },
     "execution_count": 22,
     "metadata": {},
     "output_type": "execute_result"
    }
   ],
   "source": [
    "grouped = frame.data2.groupby(grouping)\n",
    "grouped.apply(get_stats).unstack()"
   ]
  },
  {
   "cell_type": "markdown",
   "id": "ce8456e0",
   "metadata": {},
   "source": [
    "## 用特定于分组的值填充缺失值"
   ]
  },
  {
   "cell_type": "code",
   "execution_count": 23,
   "id": "00051265",
   "metadata": {
    "ExecuteTime": {
     "end_time": "2022-10-13T08:59:54.161740Z",
     "start_time": "2022-10-13T08:59:54.147892Z"
    }
   },
   "outputs": [
    {
     "data": {
      "text/plain": [
       "0    0.691767\n",
       "1    0.685475\n",
       "2    0.691767\n",
       "3    0.666042\n",
       "4    0.691767\n",
       "5    0.723786\n",
       "dtype: float64"
      ]
     },
     "execution_count": 23,
     "metadata": {},
     "output_type": "execute_result"
    }
   ],
   "source": [
    "s = Series(np.random.randn(6))\n",
    "s[::2] = np.nan\n",
    "s.fillna(s.mean()) # 用平均数填充缺失值"
   ]
  },
  {
   "cell_type": "code",
   "execution_count": 24,
   "id": "15acc769",
   "metadata": {
    "ExecuteTime": {
     "end_time": "2022-10-13T09:00:17.815561Z",
     "start_time": "2022-10-13T09:00:17.801798Z"
    }
   },
   "outputs": [
    {
     "data": {
      "text/plain": [
       "Ohio          0.057784\n",
       "New York      0.975776\n",
       "Vermont            NaN\n",
       "Florida       1.087341\n",
       "Oregon       -0.609988\n",
       "Nevada             NaN\n",
       "California   -0.259613\n",
       "Idaho              NaN\n",
       "dtype: float64"
      ]
     },
     "execution_count": 24,
     "metadata": {},
     "output_type": "execute_result"
    }
   ],
   "source": [
    "states = ['Ohio', 'New York', 'Vermont', 'Florida', 'Oregon', 'Nevada', 'California', 'Idaho']\n",
    "group_key = ['East'] * 4 + ['West'] * 4 # 前4个东部州，后4个西部州。\n",
    "data = Series(np.random.randn(8), index=states)\n",
    "data[['Vermont', 'Nevada', 'Idaho']] = np.nan\n",
    "data"
   ]
  },
  {
   "cell_type": "code",
   "execution_count": 25,
   "id": "dd6ce16a",
   "metadata": {
    "ExecuteTime": {
     "end_time": "2022-10-13T09:00:54.651665Z",
     "start_time": "2022-10-13T09:00:54.641335Z"
    }
   },
   "outputs": [
    {
     "data": {
      "text/plain": [
       "East    0.706967\n",
       "West   -0.434800\n",
       "dtype: float64"
      ]
     },
     "execution_count": 25,
     "metadata": {},
     "output_type": "execute_result"
    }
   ],
   "source": [
    "data.groupby(group_key).mean() # 非NA求平均值\n"
   ]
  },
  {
   "cell_type": "code",
   "execution_count": 26,
   "id": "3e5a9dfa",
   "metadata": {
    "ExecuteTime": {
     "end_time": "2022-10-13T09:01:27.918771Z",
     "start_time": "2022-10-13T09:01:27.906292Z"
    }
   },
   "outputs": [
    {
     "data": {
      "text/plain": [
       "Ohio          0.057784\n",
       "New York      0.975776\n",
       "Vermont       0.706967\n",
       "Florida       1.087341\n",
       "Oregon       -0.609988\n",
       "Nevada       -0.434800\n",
       "California   -0.259613\n",
       "Idaho        -0.434800\n",
       "dtype: float64"
      ]
     },
     "execution_count": 26,
     "metadata": {},
     "output_type": "execute_result"
    }
   ],
   "source": [
    "fill_mean = lambda g: g.fillna(g.mean()) # cc：fill_mean 为一个function\n",
    "data.groupby(group_key).apply(fill_mean) # 分组之后用每组的平均值填充"
   ]
  },
  {
   "cell_type": "code",
   "execution_count": 28,
   "id": "446d3a18",
   "metadata": {
    "ExecuteTime": {
     "end_time": "2022-10-13T09:03:33.730410Z",
     "start_time": "2022-10-13T09:03:33.717786Z"
    }
   },
   "outputs": [
    {
     "data": {
      "text/plain": [
       "Ohio          0.057784\n",
       "New York      0.975776\n",
       "Vermont       0.500000\n",
       "Florida       1.087341\n",
       "Oregon       -0.609988\n",
       "Nevada       -1.000000\n",
       "California   -0.259613\n",
       "Idaho        -1.000000\n",
       "dtype: float64"
      ]
     },
     "execution_count": 28,
     "metadata": {},
     "output_type": "execute_result"
    }
   ],
   "source": [
    "fill_values = {'East': 0.5, 'West': -1} # 指定填充值\n",
    "fill_func = lambda g: g.fillna(fill_values[g.name])\n",
    "data.groupby(group_key).apply(fill_func)"
   ]
  },
  {
   "cell_type": "markdown",
   "id": "52e097e4",
   "metadata": {},
   "source": [
    "## 随机采样和排列"
   ]
  },
  {
   "cell_type": "code",
   "execution_count": 30,
   "id": "3a702848",
   "metadata": {
    "ExecuteTime": {
     "end_time": "2022-10-14T01:14:48.902664Z",
     "start_time": "2022-10-14T01:14:48.846569Z"
    }
   },
   "outputs": [
    {
     "data": {
      "text/plain": [
       "AH    1\n",
       "2H    2\n",
       "3H    3\n",
       "4H    4\n",
       "5H    5\n",
       "dtype: int64"
      ]
     },
     "execution_count": 30,
     "metadata": {},
     "output_type": "execute_result"
    }
   ],
   "source": [
    "# 红桃（Hearts）、黑桃（Spades）、梅花（Clubs）、方片（Diamonds）\n",
    "suits = ['H', 'S', 'C', 'D']\n",
    "card_val = (list(range(1, 11)) + [10] * 3) * 4 # Python3下range是生成器，必须用list显示展开。\n",
    "base_names = ['A'] + list(range(2, 11)) + ['J', 'K', 'Q']\n",
    "cards = []\n",
    "for suit in ['H', 'S', 'C', 'D']:\n",
    "    cards.extend(str(num) + suit for num in base_names)\n",
    "deck = Series(card_val, index=cards)\n",
    "deck.head() # 牌面数组"
   ]
  },
  {
   "cell_type": "code",
   "execution_count": 33,
   "id": "f724e232",
   "metadata": {
    "ExecuteTime": {
     "end_time": "2022-10-14T01:20:10.117937Z",
     "start_time": "2022-10-14T01:20:10.063061Z"
    }
   },
   "outputs": [
    {
     "data": {
      "text/plain": [
       "6H     6\n",
       "5S     5\n",
       "4S     4\n",
       "JD    10\n",
       "KD    10\n",
       "dtype: int64"
      ]
     },
     "execution_count": 33,
     "metadata": {},
     "output_type": "execute_result"
    }
   ],
   "source": [
    "def draw(deck, n=5): # 随机抽n张\n",
    "    return deck.take(np.random.permutation(len(deck))[:n])\n",
    "draw(deck)\n",
    "\n",
    "# cc：又遇到这个写法了：np.random.permutation(len(deck))，作用是：随机排列一个序列，返回一个排列的序列"
   ]
  },
  {
   "cell_type": "code",
   "execution_count": 34,
   "id": "c77dc8b1",
   "metadata": {
    "ExecuteTime": {
     "end_time": "2022-10-14T01:20:46.175557Z",
     "start_time": "2022-10-14T01:20:46.118033Z"
    }
   },
   "outputs": [
    {
     "data": {
      "text/plain": [
       "C  8C      8\n",
       "   7C      7\n",
       "D  2D      2\n",
       "   5D      5\n",
       "H  JH     10\n",
       "   9H      9\n",
       "S  JS     10\n",
       "   10S    10\n",
       "dtype: int64"
      ]
     },
     "execution_count": 34,
     "metadata": {},
     "output_type": "execute_result"
    }
   ],
   "source": [
    "# 每种花色中随机抽取两张牌\n",
    "get_suit = lambda card: card[-1]\n",
    "deck.groupby(get_suit).apply(draw, n=2) # 默认根据索引排序，索引的最后一个字符是花色。\n",
    "\n",
    "# cc：这也太。。。厉害了！？？？？"
   ]
  },
  {
   "cell_type": "code",
   "execution_count": 38,
   "id": "c5520082",
   "metadata": {
    "ExecuteTime": {
     "end_time": "2022-10-14T01:28:13.969292Z",
     "start_time": "2022-10-14T01:28:13.944566Z"
    }
   },
   "outputs": [
    {
     "data": {
      "text/plain": [
       "6C      6\n",
       "QC     10\n",
       "6D      6\n",
       "KD     10\n",
       "6H      6\n",
       "10H    10\n",
       "8S      8\n",
       "3S      3\n",
       "dtype: int64"
      ]
     },
     "execution_count": 38,
     "metadata": {},
     "output_type": "execute_result"
    }
   ],
   "source": [
    "deck.groupby(get_suit, group_keys=False).apply(draw, n=2) # 效果一样，但是不用多重索引。\n"
   ]
  },
  {
   "cell_type": "markdown",
   "id": "5cb6c204",
   "metadata": {},
   "source": [
    "## 分组加权平均数和相关系数"
   ]
  },
  {
   "cell_type": "code",
   "execution_count": 39,
   "id": "7b187a6c",
   "metadata": {
    "ExecuteTime": {
     "end_time": "2022-10-14T01:28:50.829439Z",
     "start_time": "2022-10-14T01:28:50.779642Z"
    }
   },
   "outputs": [
    {
     "data": {
      "text/html": [
       "<div>\n",
       "<style scoped>\n",
       "    .dataframe tbody tr th:only-of-type {\n",
       "        vertical-align: middle;\n",
       "    }\n",
       "\n",
       "    .dataframe tbody tr th {\n",
       "        vertical-align: top;\n",
       "    }\n",
       "\n",
       "    .dataframe thead th {\n",
       "        text-align: right;\n",
       "    }\n",
       "</style>\n",
       "<table border=\"1\" class=\"dataframe\">\n",
       "  <thead>\n",
       "    <tr style=\"text-align: right;\">\n",
       "      <th></th>\n",
       "      <th>category</th>\n",
       "      <th>data</th>\n",
       "      <th>weights</th>\n",
       "    </tr>\n",
       "  </thead>\n",
       "  <tbody>\n",
       "    <tr>\n",
       "      <th>0</th>\n",
       "      <td>a</td>\n",
       "      <td>-2.426934</td>\n",
       "      <td>0.090998</td>\n",
       "    </tr>\n",
       "    <tr>\n",
       "      <th>1</th>\n",
       "      <td>a</td>\n",
       "      <td>0.654896</td>\n",
       "      <td>0.808360</td>\n",
       "    </tr>\n",
       "    <tr>\n",
       "      <th>2</th>\n",
       "      <td>a</td>\n",
       "      <td>0.407956</td>\n",
       "      <td>0.888513</td>\n",
       "    </tr>\n",
       "    <tr>\n",
       "      <th>3</th>\n",
       "      <td>a</td>\n",
       "      <td>0.888946</td>\n",
       "      <td>0.036545</td>\n",
       "    </tr>\n",
       "    <tr>\n",
       "      <th>4</th>\n",
       "      <td>b</td>\n",
       "      <td>-0.828638</td>\n",
       "      <td>0.376539</td>\n",
       "    </tr>\n",
       "    <tr>\n",
       "      <th>5</th>\n",
       "      <td>b</td>\n",
       "      <td>1.090013</td>\n",
       "      <td>0.612026</td>\n",
       "    </tr>\n",
       "    <tr>\n",
       "      <th>6</th>\n",
       "      <td>b</td>\n",
       "      <td>0.581775</td>\n",
       "      <td>0.769727</td>\n",
       "    </tr>\n",
       "    <tr>\n",
       "      <th>7</th>\n",
       "      <td>b</td>\n",
       "      <td>-1.070719</td>\n",
       "      <td>0.051034</td>\n",
       "    </tr>\n",
       "  </tbody>\n",
       "</table>\n",
       "</div>"
      ],
      "text/plain": [
       "  category      data   weights\n",
       "0        a -2.426934  0.090998\n",
       "1        a  0.654896  0.808360\n",
       "2        a  0.407956  0.888513\n",
       "3        a  0.888946  0.036545\n",
       "4        b -0.828638  0.376539\n",
       "5        b  1.090013  0.612026\n",
       "6        b  0.581775  0.769727\n",
       "7        b -1.070719  0.051034"
      ]
     },
     "execution_count": 39,
     "metadata": {},
     "output_type": "execute_result"
    }
   ],
   "source": [
    "df = DataFrame({'category': ['a', 'a', 'a', 'a', 'b', 'b', 'b', 'b'],\n",
    "                'data': np.random.randn(8),\n",
    "                'weights': np.random.rand(8)})\n",
    "df"
   ]
  },
  {
   "cell_type": "code",
   "execution_count": 40,
   "id": "dd341ff6",
   "metadata": {
    "ExecuteTime": {
     "end_time": "2022-10-14T01:28:59.949008Z",
     "start_time": "2022-10-14T01:28:59.938211Z"
    }
   },
   "outputs": [],
   "source": [
    "grouped = df.groupby('category')\n"
   ]
  },
  {
   "cell_type": "code",
   "execution_count": 41,
   "id": "b19aa0a2",
   "metadata": {
    "ExecuteTime": {
     "end_time": "2022-10-14T01:30:14.048684Z",
     "start_time": "2022-10-14T01:30:13.988539Z"
    }
   },
   "outputs": [
    {
     "data": {
      "text/plain": [
       "category\n",
       "a    0.385607\n",
       "b    0.413561\n",
       "dtype: float64"
      ]
     },
     "execution_count": 41,
     "metadata": {},
     "output_type": "execute_result"
    }
   ],
   "source": [
    "get_wavg = lambda g: np.average(g['data'], weights=g['weights']) # 求加权平均，weights自动归一化处理。\n",
    "grouped.apply(get_wavg) # 分组计算"
   ]
  },
  {
   "cell_type": "code",
   "execution_count": 50,
   "id": "e63b0f25",
   "metadata": {
    "ExecuteTime": {
     "end_time": "2022-10-14T01:41:21.241691Z",
     "start_time": "2022-10-14T01:41:21.166929Z"
    }
   },
   "outputs": [
    {
     "name": "stdout",
     "output_type": "stream",
     "text": [
      "<class 'pandas.core.frame.DataFrame'>\n",
      "DatetimeIndex: 5472 entries, 1990-02-01 to 2011-10-14\n",
      "Data columns (total 9 columns):\n",
      " #   Column  Non-Null Count  Dtype  \n",
      "---  ------  --------------  -----  \n",
      " 0   AA      5472 non-null   float64\n",
      " 1   AAPL    5472 non-null   float64\n",
      " 2   GE      5472 non-null   float64\n",
      " 3   IBM     5472 non-null   float64\n",
      " 4   JNJ     5472 non-null   float64\n",
      " 5   MSFT    5472 non-null   float64\n",
      " 6   PEP     5471 non-null   float64\n",
      " 7   SPX     5472 non-null   float64\n",
      " 8   XOM     5472 non-null   float64\n",
      "dtypes: float64(9)\n",
      "memory usage: 427.5 KB\n"
     ]
    }
   ],
   "source": [
    "close_px = pd.read_csv('data/stock_px.csv', parse_dates=True, index_col=0)\n",
    "close_px.info()"
   ]
  },
  {
   "cell_type": "code",
   "execution_count": 51,
   "id": "c5d9f78f",
   "metadata": {
    "ExecuteTime": {
     "end_time": "2022-10-14T01:41:27.743678Z",
     "start_time": "2022-10-14T01:41:27.685767Z"
    }
   },
   "outputs": [
    {
     "data": {
      "text/html": [
       "<div>\n",
       "<style scoped>\n",
       "    .dataframe tbody tr th:only-of-type {\n",
       "        vertical-align: middle;\n",
       "    }\n",
       "\n",
       "    .dataframe tbody tr th {\n",
       "        vertical-align: top;\n",
       "    }\n",
       "\n",
       "    .dataframe thead th {\n",
       "        text-align: right;\n",
       "    }\n",
       "</style>\n",
       "<table border=\"1\" class=\"dataframe\">\n",
       "  <thead>\n",
       "    <tr style=\"text-align: right;\">\n",
       "      <th></th>\n",
       "      <th>AA</th>\n",
       "      <th>AAPL</th>\n",
       "      <th>GE</th>\n",
       "      <th>IBM</th>\n",
       "      <th>JNJ</th>\n",
       "      <th>MSFT</th>\n",
       "      <th>PEP</th>\n",
       "      <th>SPX</th>\n",
       "      <th>XOM</th>\n",
       "    </tr>\n",
       "  </thead>\n",
       "  <tbody>\n",
       "    <tr>\n",
       "      <th>1990-02-01</th>\n",
       "      <td>4.98</td>\n",
       "      <td>7.86</td>\n",
       "      <td>2.87</td>\n",
       "      <td>16.79</td>\n",
       "      <td>4.27</td>\n",
       "      <td>0.51</td>\n",
       "      <td>6.04</td>\n",
       "      <td>328.79</td>\n",
       "      <td>6.12</td>\n",
       "    </tr>\n",
       "    <tr>\n",
       "      <th>1990-02-02</th>\n",
       "      <td>5.04</td>\n",
       "      <td>8.00</td>\n",
       "      <td>2.87</td>\n",
       "      <td>16.89</td>\n",
       "      <td>4.37</td>\n",
       "      <td>0.51</td>\n",
       "      <td>6.09</td>\n",
       "      <td>330.92</td>\n",
       "      <td>6.24</td>\n",
       "    </tr>\n",
       "    <tr>\n",
       "      <th>1990-02-05</th>\n",
       "      <td>5.07</td>\n",
       "      <td>8.18</td>\n",
       "      <td>2.87</td>\n",
       "      <td>17.32</td>\n",
       "      <td>4.34</td>\n",
       "      <td>0.51</td>\n",
       "      <td>6.05</td>\n",
       "      <td>331.85</td>\n",
       "      <td>6.25</td>\n",
       "    </tr>\n",
       "    <tr>\n",
       "      <th>1990-02-06</th>\n",
       "      <td>5.01</td>\n",
       "      <td>8.12</td>\n",
       "      <td>2.88</td>\n",
       "      <td>17.56</td>\n",
       "      <td>4.32</td>\n",
       "      <td>0.51</td>\n",
       "      <td>6.15</td>\n",
       "      <td>329.66</td>\n",
       "      <td>6.23</td>\n",
       "    </tr>\n",
       "    <tr>\n",
       "      <th>1990-02-07</th>\n",
       "      <td>5.04</td>\n",
       "      <td>7.77</td>\n",
       "      <td>2.91</td>\n",
       "      <td>17.93</td>\n",
       "      <td>4.38</td>\n",
       "      <td>0.51</td>\n",
       "      <td>6.17</td>\n",
       "      <td>333.75</td>\n",
       "      <td>6.33</td>\n",
       "    </tr>\n",
       "  </tbody>\n",
       "</table>\n",
       "</div>"
      ],
      "text/plain": [
       "              AA  AAPL    GE    IBM   JNJ  MSFT   PEP     SPX   XOM\n",
       "1990-02-01  4.98  7.86  2.87  16.79  4.27  0.51  6.04  328.79  6.12\n",
       "1990-02-02  5.04  8.00  2.87  16.89  4.37  0.51  6.09  330.92  6.24\n",
       "1990-02-05  5.07  8.18  2.87  17.32  4.34  0.51  6.05  331.85  6.25\n",
       "1990-02-06  5.01  8.12  2.88  17.56  4.32  0.51  6.15  329.66  6.23\n",
       "1990-02-07  5.04  7.77  2.91  17.93  4.38  0.51  6.17  333.75  6.33"
      ]
     },
     "execution_count": 51,
     "metadata": {},
     "output_type": "execute_result"
    }
   ],
   "source": [
    "close_px.head()\n"
   ]
  },
  {
   "cell_type": "code",
   "execution_count": 52,
   "id": "4b58b51f",
   "metadata": {
    "ExecuteTime": {
     "end_time": "2022-10-14T01:41:29.300173Z",
     "start_time": "2022-10-14T01:41:29.197509Z"
    }
   },
   "outputs": [
    {
     "data": {
      "text/html": [
       "<div>\n",
       "<style scoped>\n",
       "    .dataframe tbody tr th:only-of-type {\n",
       "        vertical-align: middle;\n",
       "    }\n",
       "\n",
       "    .dataframe tbody tr th {\n",
       "        vertical-align: top;\n",
       "    }\n",
       "\n",
       "    .dataframe thead th {\n",
       "        text-align: right;\n",
       "    }\n",
       "</style>\n",
       "<table border=\"1\" class=\"dataframe\">\n",
       "  <thead>\n",
       "    <tr style=\"text-align: right;\">\n",
       "      <th></th>\n",
       "      <th>AA</th>\n",
       "      <th>AAPL</th>\n",
       "      <th>GE</th>\n",
       "      <th>IBM</th>\n",
       "      <th>JNJ</th>\n",
       "      <th>MSFT</th>\n",
       "      <th>PEP</th>\n",
       "      <th>SPX</th>\n",
       "      <th>XOM</th>\n",
       "    </tr>\n",
       "  </thead>\n",
       "  <tbody>\n",
       "    <tr>\n",
       "      <th>1990-02-01</th>\n",
       "      <td>NaN</td>\n",
       "      <td>NaN</td>\n",
       "      <td>NaN</td>\n",
       "      <td>NaN</td>\n",
       "      <td>NaN</td>\n",
       "      <td>NaN</td>\n",
       "      <td>NaN</td>\n",
       "      <td>NaN</td>\n",
       "      <td>NaN</td>\n",
       "    </tr>\n",
       "    <tr>\n",
       "      <th>1990-02-02</th>\n",
       "      <td>0.012048</td>\n",
       "      <td>0.017812</td>\n",
       "      <td>0.000000</td>\n",
       "      <td>0.005956</td>\n",
       "      <td>0.023419</td>\n",
       "      <td>0.000000</td>\n",
       "      <td>0.008278</td>\n",
       "      <td>0.006478</td>\n",
       "      <td>0.019608</td>\n",
       "    </tr>\n",
       "    <tr>\n",
       "      <th>1990-02-05</th>\n",
       "      <td>0.005952</td>\n",
       "      <td>0.022500</td>\n",
       "      <td>0.000000</td>\n",
       "      <td>0.025459</td>\n",
       "      <td>-0.006865</td>\n",
       "      <td>0.000000</td>\n",
       "      <td>-0.006568</td>\n",
       "      <td>0.002810</td>\n",
       "      <td>0.001603</td>\n",
       "    </tr>\n",
       "    <tr>\n",
       "      <th>1990-02-06</th>\n",
       "      <td>-0.011834</td>\n",
       "      <td>-0.007335</td>\n",
       "      <td>0.003484</td>\n",
       "      <td>0.013857</td>\n",
       "      <td>-0.004608</td>\n",
       "      <td>0.000000</td>\n",
       "      <td>0.016529</td>\n",
       "      <td>-0.006599</td>\n",
       "      <td>-0.003200</td>\n",
       "    </tr>\n",
       "    <tr>\n",
       "      <th>1990-02-07</th>\n",
       "      <td>0.005988</td>\n",
       "      <td>-0.043103</td>\n",
       "      <td>0.010417</td>\n",
       "      <td>0.021071</td>\n",
       "      <td>0.013889</td>\n",
       "      <td>0.000000</td>\n",
       "      <td>0.003252</td>\n",
       "      <td>0.012407</td>\n",
       "      <td>0.016051</td>\n",
       "    </tr>\n",
       "    <tr>\n",
       "      <th>...</th>\n",
       "      <td>...</td>\n",
       "      <td>...</td>\n",
       "      <td>...</td>\n",
       "      <td>...</td>\n",
       "      <td>...</td>\n",
       "      <td>...</td>\n",
       "      <td>...</td>\n",
       "      <td>...</td>\n",
       "      <td>...</td>\n",
       "    </tr>\n",
       "    <tr>\n",
       "      <th>2011-10-10</th>\n",
       "      <td>0.039135</td>\n",
       "      <td>0.051406</td>\n",
       "      <td>0.041290</td>\n",
       "      <td>0.023192</td>\n",
       "      <td>0.020592</td>\n",
       "      <td>0.026286</td>\n",
       "      <td>0.013930</td>\n",
       "      <td>0.034125</td>\n",
       "      <td>0.036977</td>\n",
       "    </tr>\n",
       "    <tr>\n",
       "      <th>2011-10-11</th>\n",
       "      <td>0.020813</td>\n",
       "      <td>0.029526</td>\n",
       "      <td>0.000000</td>\n",
       "      <td>-0.008681</td>\n",
       "      <td>-0.007295</td>\n",
       "      <td>0.002227</td>\n",
       "      <td>-0.014870</td>\n",
       "      <td>0.000544</td>\n",
       "      <td>-0.000131</td>\n",
       "    </tr>\n",
       "    <tr>\n",
       "      <th>2011-10-12</th>\n",
       "      <td>-0.024272</td>\n",
       "      <td>0.004747</td>\n",
       "      <td>0.016109</td>\n",
       "      <td>0.006054</td>\n",
       "      <td>0.005785</td>\n",
       "      <td>-0.001481</td>\n",
       "      <td>0.028712</td>\n",
       "      <td>0.009795</td>\n",
       "      <td>0.011669</td>\n",
       "    </tr>\n",
       "    <tr>\n",
       "      <th>2011-10-13</th>\n",
       "      <td>0.004975</td>\n",
       "      <td>0.015515</td>\n",
       "      <td>-0.010976</td>\n",
       "      <td>0.003761</td>\n",
       "      <td>-0.001554</td>\n",
       "      <td>0.008160</td>\n",
       "      <td>-0.005423</td>\n",
       "      <td>-0.002974</td>\n",
       "      <td>-0.010238</td>\n",
       "    </tr>\n",
       "    <tr>\n",
       "      <th>2011-10-14</th>\n",
       "      <td>0.015842</td>\n",
       "      <td>0.033225</td>\n",
       "      <td>0.023428</td>\n",
       "      <td>0.019859</td>\n",
       "      <td>0.007629</td>\n",
       "      <td>0.003311</td>\n",
       "      <td>-0.001924</td>\n",
       "      <td>0.017380</td>\n",
       "      <td>0.022784</td>\n",
       "    </tr>\n",
       "  </tbody>\n",
       "</table>\n",
       "<p>5472 rows × 9 columns</p>\n",
       "</div>"
      ],
      "text/plain": [
       "                  AA      AAPL        GE       IBM       JNJ      MSFT  \\\n",
       "1990-02-01       NaN       NaN       NaN       NaN       NaN       NaN   \n",
       "1990-02-02  0.012048  0.017812  0.000000  0.005956  0.023419  0.000000   \n",
       "1990-02-05  0.005952  0.022500  0.000000  0.025459 -0.006865  0.000000   \n",
       "1990-02-06 -0.011834 -0.007335  0.003484  0.013857 -0.004608  0.000000   \n",
       "1990-02-07  0.005988 -0.043103  0.010417  0.021071  0.013889  0.000000   \n",
       "...              ...       ...       ...       ...       ...       ...   \n",
       "2011-10-10  0.039135  0.051406  0.041290  0.023192  0.020592  0.026286   \n",
       "2011-10-11  0.020813  0.029526  0.000000 -0.008681 -0.007295  0.002227   \n",
       "2011-10-12 -0.024272  0.004747  0.016109  0.006054  0.005785 -0.001481   \n",
       "2011-10-13  0.004975  0.015515 -0.010976  0.003761 -0.001554  0.008160   \n",
       "2011-10-14  0.015842  0.033225  0.023428  0.019859  0.007629  0.003311   \n",
       "\n",
       "                 PEP       SPX       XOM  \n",
       "1990-02-01       NaN       NaN       NaN  \n",
       "1990-02-02  0.008278  0.006478  0.019608  \n",
       "1990-02-05 -0.006568  0.002810  0.001603  \n",
       "1990-02-06  0.016529 -0.006599 -0.003200  \n",
       "1990-02-07  0.003252  0.012407  0.016051  \n",
       "...              ...       ...       ...  \n",
       "2011-10-10  0.013930  0.034125  0.036977  \n",
       "2011-10-11 -0.014870  0.000544 -0.000131  \n",
       "2011-10-12  0.028712  0.009795  0.011669  \n",
       "2011-10-13 -0.005423 -0.002974 -0.010238  \n",
       "2011-10-14 -0.001924  0.017380  0.022784  \n",
       "\n",
       "[5472 rows x 9 columns]"
      ]
     },
     "execution_count": 52,
     "metadata": {},
     "output_type": "execute_result"
    }
   ],
   "source": [
    "close_px.pct_change()\n",
    "# cc：\n",
    "# 表示当前元素与先前元素的相差百分比，当然指定periods=n,表示当前元素与先前n 个元素的相差百分比。"
   ]
  },
  {
   "cell_type": "code",
   "execution_count": 53,
   "id": "56d53331",
   "metadata": {
    "ExecuteTime": {
     "end_time": "2022-10-14T01:41:31.659641Z",
     "start_time": "2022-10-14T01:41:31.391607Z"
    }
   },
   "outputs": [
    {
     "data": {
      "text/html": [
       "<div>\n",
       "<style scoped>\n",
       "    .dataframe tbody tr th:only-of-type {\n",
       "        vertical-align: middle;\n",
       "    }\n",
       "\n",
       "    .dataframe tbody tr th {\n",
       "        vertical-align: top;\n",
       "    }\n",
       "\n",
       "    .dataframe thead th {\n",
       "        text-align: right;\n",
       "    }\n",
       "</style>\n",
       "<table border=\"1\" class=\"dataframe\">\n",
       "  <thead>\n",
       "    <tr style=\"text-align: right;\">\n",
       "      <th></th>\n",
       "      <th>AA</th>\n",
       "      <th>AAPL</th>\n",
       "      <th>GE</th>\n",
       "      <th>IBM</th>\n",
       "      <th>JNJ</th>\n",
       "      <th>MSFT</th>\n",
       "      <th>PEP</th>\n",
       "      <th>SPX</th>\n",
       "      <th>XOM</th>\n",
       "    </tr>\n",
       "  </thead>\n",
       "  <tbody>\n",
       "    <tr>\n",
       "      <th>1990</th>\n",
       "      <td>0.595024</td>\n",
       "      <td>0.545067</td>\n",
       "      <td>0.752187</td>\n",
       "      <td>0.738361</td>\n",
       "      <td>0.801145</td>\n",
       "      <td>0.586691</td>\n",
       "      <td>0.783168</td>\n",
       "      <td>1.0</td>\n",
       "      <td>0.517586</td>\n",
       "    </tr>\n",
       "    <tr>\n",
       "      <th>1991</th>\n",
       "      <td>0.453574</td>\n",
       "      <td>0.365315</td>\n",
       "      <td>0.759607</td>\n",
       "      <td>0.557046</td>\n",
       "      <td>0.646401</td>\n",
       "      <td>0.524225</td>\n",
       "      <td>0.641775</td>\n",
       "      <td>1.0</td>\n",
       "      <td>0.569335</td>\n",
       "    </tr>\n",
       "    <tr>\n",
       "      <th>1992</th>\n",
       "      <td>0.398180</td>\n",
       "      <td>0.498732</td>\n",
       "      <td>0.632685</td>\n",
       "      <td>0.262232</td>\n",
       "      <td>0.515740</td>\n",
       "      <td>0.492345</td>\n",
       "      <td>0.473871</td>\n",
       "      <td>1.0</td>\n",
       "      <td>0.318408</td>\n",
       "    </tr>\n",
       "    <tr>\n",
       "      <th>1993</th>\n",
       "      <td>0.259069</td>\n",
       "      <td>0.238578</td>\n",
       "      <td>0.447257</td>\n",
       "      <td>0.211269</td>\n",
       "      <td>0.451503</td>\n",
       "      <td>0.425377</td>\n",
       "      <td>0.385089</td>\n",
       "      <td>1.0</td>\n",
       "      <td>0.318952</td>\n",
       "    </tr>\n",
       "    <tr>\n",
       "      <th>1994</th>\n",
       "      <td>0.428549</td>\n",
       "      <td>0.268420</td>\n",
       "      <td>0.572996</td>\n",
       "      <td>0.385162</td>\n",
       "      <td>0.372962</td>\n",
       "      <td>0.436585</td>\n",
       "      <td>0.450516</td>\n",
       "      <td>1.0</td>\n",
       "      <td>0.395078</td>\n",
       "    </tr>\n",
       "    <tr>\n",
       "      <th>1995</th>\n",
       "      <td>0.291532</td>\n",
       "      <td>0.161829</td>\n",
       "      <td>0.519126</td>\n",
       "      <td>0.416390</td>\n",
       "      <td>0.315733</td>\n",
       "      <td>0.453660</td>\n",
       "      <td>0.413144</td>\n",
       "      <td>1.0</td>\n",
       "      <td>0.368752</td>\n",
       "    </tr>\n",
       "    <tr>\n",
       "      <th>1996</th>\n",
       "      <td>0.292344</td>\n",
       "      <td>0.191482</td>\n",
       "      <td>0.750724</td>\n",
       "      <td>0.388497</td>\n",
       "      <td>0.569232</td>\n",
       "      <td>0.564015</td>\n",
       "      <td>0.421477</td>\n",
       "      <td>1.0</td>\n",
       "      <td>0.538736</td>\n",
       "    </tr>\n",
       "    <tr>\n",
       "      <th>1997</th>\n",
       "      <td>0.564427</td>\n",
       "      <td>0.211435</td>\n",
       "      <td>0.827512</td>\n",
       "      <td>0.646823</td>\n",
       "      <td>0.703538</td>\n",
       "      <td>0.606171</td>\n",
       "      <td>0.509344</td>\n",
       "      <td>1.0</td>\n",
       "      <td>0.695653</td>\n",
       "    </tr>\n",
       "    <tr>\n",
       "      <th>1998</th>\n",
       "      <td>0.533802</td>\n",
       "      <td>0.379883</td>\n",
       "      <td>0.815243</td>\n",
       "      <td>0.623982</td>\n",
       "      <td>0.591988</td>\n",
       "      <td>0.698773</td>\n",
       "      <td>0.494213</td>\n",
       "      <td>1.0</td>\n",
       "      <td>0.369264</td>\n",
       "    </tr>\n",
       "    <tr>\n",
       "      <th>1999</th>\n",
       "      <td>0.099033</td>\n",
       "      <td>0.425584</td>\n",
       "      <td>0.710928</td>\n",
       "      <td>0.486167</td>\n",
       "      <td>0.517061</td>\n",
       "      <td>0.631315</td>\n",
       "      <td>0.336593</td>\n",
       "      <td>1.0</td>\n",
       "      <td>0.315383</td>\n",
       "    </tr>\n",
       "    <tr>\n",
       "      <th>2000</th>\n",
       "      <td>0.265359</td>\n",
       "      <td>0.440161</td>\n",
       "      <td>0.610362</td>\n",
       "      <td>0.445114</td>\n",
       "      <td>0.189765</td>\n",
       "      <td>0.538005</td>\n",
       "      <td>0.077525</td>\n",
       "      <td>1.0</td>\n",
       "      <td>0.084163</td>\n",
       "    </tr>\n",
       "    <tr>\n",
       "      <th>2001</th>\n",
       "      <td>0.624069</td>\n",
       "      <td>0.577152</td>\n",
       "      <td>0.794632</td>\n",
       "      <td>0.696038</td>\n",
       "      <td>0.111493</td>\n",
       "      <td>0.696447</td>\n",
       "      <td>0.133975</td>\n",
       "      <td>1.0</td>\n",
       "      <td>0.336869</td>\n",
       "    </tr>\n",
       "    <tr>\n",
       "      <th>2002</th>\n",
       "      <td>0.748021</td>\n",
       "      <td>0.580548</td>\n",
       "      <td>0.822373</td>\n",
       "      <td>0.716490</td>\n",
       "      <td>0.584758</td>\n",
       "      <td>0.784728</td>\n",
       "      <td>0.487211</td>\n",
       "      <td>1.0</td>\n",
       "      <td>0.759933</td>\n",
       "    </tr>\n",
       "    <tr>\n",
       "      <th>2003</th>\n",
       "      <td>0.690466</td>\n",
       "      <td>0.545582</td>\n",
       "      <td>0.777643</td>\n",
       "      <td>0.741775</td>\n",
       "      <td>0.562399</td>\n",
       "      <td>0.750534</td>\n",
       "      <td>0.541487</td>\n",
       "      <td>1.0</td>\n",
       "      <td>0.662775</td>\n",
       "    </tr>\n",
       "    <tr>\n",
       "      <th>2004</th>\n",
       "      <td>0.591485</td>\n",
       "      <td>0.374283</td>\n",
       "      <td>0.728626</td>\n",
       "      <td>0.601740</td>\n",
       "      <td>0.354690</td>\n",
       "      <td>0.588531</td>\n",
       "      <td>0.466854</td>\n",
       "      <td>1.0</td>\n",
       "      <td>0.557742</td>\n",
       "    </tr>\n",
       "    <tr>\n",
       "      <th>2005</th>\n",
       "      <td>0.564267</td>\n",
       "      <td>0.467540</td>\n",
       "      <td>0.675637</td>\n",
       "      <td>0.516846</td>\n",
       "      <td>0.444728</td>\n",
       "      <td>0.562374</td>\n",
       "      <td>0.489559</td>\n",
       "      <td>1.0</td>\n",
       "      <td>0.631010</td>\n",
       "    </tr>\n",
       "    <tr>\n",
       "      <th>2006</th>\n",
       "      <td>0.487638</td>\n",
       "      <td>0.428267</td>\n",
       "      <td>0.612388</td>\n",
       "      <td>0.598636</td>\n",
       "      <td>0.394026</td>\n",
       "      <td>0.406126</td>\n",
       "      <td>0.335054</td>\n",
       "      <td>1.0</td>\n",
       "      <td>0.518514</td>\n",
       "    </tr>\n",
       "    <tr>\n",
       "      <th>2007</th>\n",
       "      <td>0.642427</td>\n",
       "      <td>0.508118</td>\n",
       "      <td>0.796945</td>\n",
       "      <td>0.603906</td>\n",
       "      <td>0.568423</td>\n",
       "      <td>0.658770</td>\n",
       "      <td>0.651911</td>\n",
       "      <td>1.0</td>\n",
       "      <td>0.786264</td>\n",
       "    </tr>\n",
       "    <tr>\n",
       "      <th>2008</th>\n",
       "      <td>0.781057</td>\n",
       "      <td>0.681434</td>\n",
       "      <td>0.777337</td>\n",
       "      <td>0.833074</td>\n",
       "      <td>0.801005</td>\n",
       "      <td>0.804626</td>\n",
       "      <td>0.709264</td>\n",
       "      <td>1.0</td>\n",
       "      <td>0.828303</td>\n",
       "    </tr>\n",
       "    <tr>\n",
       "      <th>2009</th>\n",
       "      <td>0.735642</td>\n",
       "      <td>0.707103</td>\n",
       "      <td>0.713086</td>\n",
       "      <td>0.684513</td>\n",
       "      <td>0.603146</td>\n",
       "      <td>0.654902</td>\n",
       "      <td>0.541474</td>\n",
       "      <td>1.0</td>\n",
       "      <td>0.797921</td>\n",
       "    </tr>\n",
       "    <tr>\n",
       "      <th>2010</th>\n",
       "      <td>0.745700</td>\n",
       "      <td>0.710105</td>\n",
       "      <td>0.822285</td>\n",
       "      <td>0.783638</td>\n",
       "      <td>0.689896</td>\n",
       "      <td>0.730118</td>\n",
       "      <td>0.626655</td>\n",
       "      <td>1.0</td>\n",
       "      <td>0.839057</td>\n",
       "    </tr>\n",
       "    <tr>\n",
       "      <th>2011</th>\n",
       "      <td>0.882045</td>\n",
       "      <td>0.691931</td>\n",
       "      <td>0.864595</td>\n",
       "      <td>0.802730</td>\n",
       "      <td>0.752379</td>\n",
       "      <td>0.800996</td>\n",
       "      <td>0.592029</td>\n",
       "      <td>1.0</td>\n",
       "      <td>0.859975</td>\n",
       "    </tr>\n",
       "  </tbody>\n",
       "</table>\n",
       "</div>"
      ],
      "text/plain": [
       "            AA      AAPL        GE       IBM       JNJ      MSFT       PEP  \\\n",
       "1990  0.595024  0.545067  0.752187  0.738361  0.801145  0.586691  0.783168   \n",
       "1991  0.453574  0.365315  0.759607  0.557046  0.646401  0.524225  0.641775   \n",
       "1992  0.398180  0.498732  0.632685  0.262232  0.515740  0.492345  0.473871   \n",
       "1993  0.259069  0.238578  0.447257  0.211269  0.451503  0.425377  0.385089   \n",
       "1994  0.428549  0.268420  0.572996  0.385162  0.372962  0.436585  0.450516   \n",
       "1995  0.291532  0.161829  0.519126  0.416390  0.315733  0.453660  0.413144   \n",
       "1996  0.292344  0.191482  0.750724  0.388497  0.569232  0.564015  0.421477   \n",
       "1997  0.564427  0.211435  0.827512  0.646823  0.703538  0.606171  0.509344   \n",
       "1998  0.533802  0.379883  0.815243  0.623982  0.591988  0.698773  0.494213   \n",
       "1999  0.099033  0.425584  0.710928  0.486167  0.517061  0.631315  0.336593   \n",
       "2000  0.265359  0.440161  0.610362  0.445114  0.189765  0.538005  0.077525   \n",
       "2001  0.624069  0.577152  0.794632  0.696038  0.111493  0.696447  0.133975   \n",
       "2002  0.748021  0.580548  0.822373  0.716490  0.584758  0.784728  0.487211   \n",
       "2003  0.690466  0.545582  0.777643  0.741775  0.562399  0.750534  0.541487   \n",
       "2004  0.591485  0.374283  0.728626  0.601740  0.354690  0.588531  0.466854   \n",
       "2005  0.564267  0.467540  0.675637  0.516846  0.444728  0.562374  0.489559   \n",
       "2006  0.487638  0.428267  0.612388  0.598636  0.394026  0.406126  0.335054   \n",
       "2007  0.642427  0.508118  0.796945  0.603906  0.568423  0.658770  0.651911   \n",
       "2008  0.781057  0.681434  0.777337  0.833074  0.801005  0.804626  0.709264   \n",
       "2009  0.735642  0.707103  0.713086  0.684513  0.603146  0.654902  0.541474   \n",
       "2010  0.745700  0.710105  0.822285  0.783638  0.689896  0.730118  0.626655   \n",
       "2011  0.882045  0.691931  0.864595  0.802730  0.752379  0.800996  0.592029   \n",
       "\n",
       "      SPX       XOM  \n",
       "1990  1.0  0.517586  \n",
       "1991  1.0  0.569335  \n",
       "1992  1.0  0.318408  \n",
       "1993  1.0  0.318952  \n",
       "1994  1.0  0.395078  \n",
       "1995  1.0  0.368752  \n",
       "1996  1.0  0.538736  \n",
       "1997  1.0  0.695653  \n",
       "1998  1.0  0.369264  \n",
       "1999  1.0  0.315383  \n",
       "2000  1.0  0.084163  \n",
       "2001  1.0  0.336869  \n",
       "2002  1.0  0.759933  \n",
       "2003  1.0  0.662775  \n",
       "2004  1.0  0.557742  \n",
       "2005  1.0  0.631010  \n",
       "2006  1.0  0.518514  \n",
       "2007  1.0  0.786264  \n",
       "2008  1.0  0.828303  \n",
       "2009  1.0  0.797921  \n",
       "2010  1.0  0.839057  \n",
       "2011  1.0  0.859975  "
      ]
     },
     "execution_count": 53,
     "metadata": {},
     "output_type": "execute_result"
    }
   ],
   "source": [
    "rets = close_px.pct_change().dropna() # 扔掉有空数据的行\n",
    "spx_corr = lambda x: x.corrwith(x['SPX']) # 与SPX的相关系数\n",
    "by_year = rets.groupby(lambda x: x.year) # 指定用那个函数去做group\n",
    "by_year.apply(spx_corr) # 按年分组并计算与SPX的相关系数"
   ]
  },
  {
   "cell_type": "code",
   "execution_count": 54,
   "id": "7c302529",
   "metadata": {
    "ExecuteTime": {
     "end_time": "2022-10-14T01:41:35.041181Z",
     "start_time": "2022-10-14T01:41:34.992536Z"
    }
   },
   "outputs": [
    {
     "data": {
      "text/plain": [
       "1990    0.408271\n",
       "1991    0.266807\n",
       "1992    0.450592\n",
       "1993    0.236917\n",
       "1994    0.361638\n",
       "1995    0.258642\n",
       "1996    0.147539\n",
       "1997    0.196144\n",
       "1998    0.364106\n",
       "1999    0.329484\n",
       "2000    0.275298\n",
       "2001    0.563156\n",
       "2002    0.571435\n",
       "2003    0.486262\n",
       "2004    0.259024\n",
       "2005    0.300093\n",
       "2006    0.161735\n",
       "2007    0.417738\n",
       "2008    0.611901\n",
       "2009    0.432738\n",
       "2010    0.571946\n",
       "2011    0.581987\n",
       "dtype: float64"
      ]
     },
     "execution_count": 54,
     "metadata": {},
     "output_type": "execute_result"
    }
   ],
   "source": [
    "by_year.apply(lambda g: g['AAPL'].corr(g['MSFT'])) # 计算两个股票之间的相关系数\n"
   ]
  },
  {
   "cell_type": "markdown",
   "id": "755422e3",
   "metadata": {},
   "source": [
    "## 面向分组的线性回归"
   ]
  },
  {
   "cell_type": "code",
   "execution_count": 55,
   "id": "06fd0d0d",
   "metadata": {
    "ExecuteTime": {
     "end_time": "2022-10-14T01:41:37.423008Z",
     "start_time": "2022-10-14T01:41:37.254479Z"
    }
   },
   "outputs": [
    {
     "data": {
      "text/html": [
       "<div>\n",
       "<style scoped>\n",
       "    .dataframe tbody tr th:only-of-type {\n",
       "        vertical-align: middle;\n",
       "    }\n",
       "\n",
       "    .dataframe tbody tr th {\n",
       "        vertical-align: top;\n",
       "    }\n",
       "\n",
       "    .dataframe thead th {\n",
       "        text-align: right;\n",
       "    }\n",
       "</style>\n",
       "<table border=\"1\" class=\"dataframe\">\n",
       "  <thead>\n",
       "    <tr style=\"text-align: right;\">\n",
       "      <th></th>\n",
       "      <th>SPX</th>\n",
       "      <th>intercept</th>\n",
       "    </tr>\n",
       "  </thead>\n",
       "  <tbody>\n",
       "    <tr>\n",
       "      <th>1990</th>\n",
       "      <td>1.512772</td>\n",
       "      <td>0.001395</td>\n",
       "    </tr>\n",
       "    <tr>\n",
       "      <th>1991</th>\n",
       "      <td>1.187351</td>\n",
       "      <td>0.000396</td>\n",
       "    </tr>\n",
       "    <tr>\n",
       "      <th>1992</th>\n",
       "      <td>1.832427</td>\n",
       "      <td>0.000164</td>\n",
       "    </tr>\n",
       "    <tr>\n",
       "      <th>1993</th>\n",
       "      <td>1.390470</td>\n",
       "      <td>-0.002657</td>\n",
       "    </tr>\n",
       "    <tr>\n",
       "      <th>1994</th>\n",
       "      <td>1.190277</td>\n",
       "      <td>0.001617</td>\n",
       "    </tr>\n",
       "    <tr>\n",
       "      <th>1995</th>\n",
       "      <td>0.858818</td>\n",
       "      <td>-0.001423</td>\n",
       "    </tr>\n",
       "    <tr>\n",
       "      <th>1996</th>\n",
       "      <td>0.829389</td>\n",
       "      <td>-0.001791</td>\n",
       "    </tr>\n",
       "    <tr>\n",
       "      <th>1997</th>\n",
       "      <td>0.749928</td>\n",
       "      <td>-0.001901</td>\n",
       "    </tr>\n",
       "    <tr>\n",
       "      <th>1998</th>\n",
       "      <td>1.164582</td>\n",
       "      <td>0.004075</td>\n",
       "    </tr>\n",
       "    <tr>\n",
       "      <th>1999</th>\n",
       "      <td>1.384989</td>\n",
       "      <td>0.003273</td>\n",
       "    </tr>\n",
       "    <tr>\n",
       "      <th>2000</th>\n",
       "      <td>1.733802</td>\n",
       "      <td>-0.002523</td>\n",
       "    </tr>\n",
       "    <tr>\n",
       "      <th>2001</th>\n",
       "      <td>1.676128</td>\n",
       "      <td>0.003122</td>\n",
       "    </tr>\n",
       "    <tr>\n",
       "      <th>2002</th>\n",
       "      <td>1.080795</td>\n",
       "      <td>-0.000219</td>\n",
       "    </tr>\n",
       "    <tr>\n",
       "      <th>2003</th>\n",
       "      <td>1.187770</td>\n",
       "      <td>0.000690</td>\n",
       "    </tr>\n",
       "    <tr>\n",
       "      <th>2004</th>\n",
       "      <td>1.363463</td>\n",
       "      <td>0.004201</td>\n",
       "    </tr>\n",
       "    <tr>\n",
       "      <th>2005</th>\n",
       "      <td>1.766415</td>\n",
       "      <td>0.003246</td>\n",
       "    </tr>\n",
       "    <tr>\n",
       "      <th>2006</th>\n",
       "      <td>1.645496</td>\n",
       "      <td>0.000080</td>\n",
       "    </tr>\n",
       "    <tr>\n",
       "      <th>2007</th>\n",
       "      <td>1.198761</td>\n",
       "      <td>0.003438</td>\n",
       "    </tr>\n",
       "    <tr>\n",
       "      <th>2008</th>\n",
       "      <td>0.968016</td>\n",
       "      <td>-0.001110</td>\n",
       "    </tr>\n",
       "    <tr>\n",
       "      <th>2009</th>\n",
       "      <td>0.879103</td>\n",
       "      <td>0.002954</td>\n",
       "    </tr>\n",
       "    <tr>\n",
       "      <th>2010</th>\n",
       "      <td>1.052608</td>\n",
       "      <td>0.001261</td>\n",
       "    </tr>\n",
       "    <tr>\n",
       "      <th>2011</th>\n",
       "      <td>0.806605</td>\n",
       "      <td>0.001514</td>\n",
       "    </tr>\n",
       "  </tbody>\n",
       "</table>\n",
       "</div>"
      ],
      "text/plain": [
       "           SPX  intercept\n",
       "1990  1.512772   0.001395\n",
       "1991  1.187351   0.000396\n",
       "1992  1.832427   0.000164\n",
       "1993  1.390470  -0.002657\n",
       "1994  1.190277   0.001617\n",
       "1995  0.858818  -0.001423\n",
       "1996  0.829389  -0.001791\n",
       "1997  0.749928  -0.001901\n",
       "1998  1.164582   0.004075\n",
       "1999  1.384989   0.003273\n",
       "2000  1.733802  -0.002523\n",
       "2001  1.676128   0.003122\n",
       "2002  1.080795  -0.000219\n",
       "2003  1.187770   0.000690\n",
       "2004  1.363463   0.004201\n",
       "2005  1.766415   0.003246\n",
       "2006  1.645496   0.000080\n",
       "2007  1.198761   0.003438\n",
       "2008  0.968016  -0.001110\n",
       "2009  0.879103   0.002954\n",
       "2010  1.052608   0.001261\n",
       "2011  0.806605   0.001514"
      ]
     },
     "execution_count": 55,
     "metadata": {},
     "output_type": "execute_result"
    }
   ],
   "source": [
    "def regress(data, yvar, xvars):\n",
    "    y= data[yvar]\n",
    "    x = data[xvars]\n",
    "    x['intercept'] = 1.\n",
    "    result = sm.OLS(y, x).fit()\n",
    "    return result.params\n",
    "\n",
    "by_year.apply(regress, 'AAPL', ['SPX'])"
   ]
  },
  {
   "cell_type": "code",
   "execution_count": null,
   "id": "fc127235",
   "metadata": {},
   "outputs": [],
   "source": []
  },
  {
   "cell_type": "code",
   "execution_count": null,
   "id": "5c4e3da1",
   "metadata": {},
   "outputs": [],
   "source": []
  },
  {
   "cell_type": "code",
   "execution_count": null,
   "id": "915bd2e9",
   "metadata": {},
   "outputs": [],
   "source": []
  },
  {
   "cell_type": "code",
   "execution_count": null,
   "id": "ea91137f",
   "metadata": {},
   "outputs": [],
   "source": []
  },
  {
   "cell_type": "code",
   "execution_count": null,
   "id": "db5bfae9",
   "metadata": {},
   "outputs": [],
   "source": []
  },
  {
   "cell_type": "code",
   "execution_count": null,
   "id": "7230d05f",
   "metadata": {},
   "outputs": [],
   "source": []
  },
  {
   "cell_type": "code",
   "execution_count": null,
   "id": "c0ff3348",
   "metadata": {},
   "outputs": [],
   "source": []
  },
  {
   "cell_type": "code",
   "execution_count": null,
   "id": "252352a1",
   "metadata": {},
   "outputs": [],
   "source": []
  }
 ],
 "metadata": {
  "kernelspec": {
   "display_name": "Python 3",
   "language": "python",
   "name": "python3"
  },
  "language_info": {
   "codemirror_mode": {
    "name": "ipython",
    "version": 3
   },
   "file_extension": ".py",
   "mimetype": "text/x-python",
   "name": "python",
   "nbconvert_exporter": "python",
   "pygments_lexer": "ipython3",
   "version": "3.8.8"
  }
 },
 "nbformat": 4,
 "nbformat_minor": 5
}
