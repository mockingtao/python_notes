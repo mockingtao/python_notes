{
 "cells": [
  {
   "cell_type": "markdown",
   "id": "9204e814",
   "metadata": {
    "ExecuteTime": {
     "end_time": "2022-10-12T03:10:04.813968Z",
     "start_time": "2022-10-12T03:10:04.794194Z"
    }
   },
   "source": [
    "# NA处理方法\n",
    "- `dropna`：根据各标签的值中是否存在缺少数据对轴标签进行过滤，可通过阈值调节对缺失值的容忍度。\n",
    "- `fillna`：用指定值或插值方法（ffill或bfill）填充缺失数据\n",
    "- `isnull`：返回一个含有布尔值的对象，这些布尔值表示哪些是缺失值/NaN，该对象的类型与源类型一样。\n",
    "- `notnull`：isnull的否定式"
   ]
  },
  {
   "cell_type": "code",
   "execution_count": 5,
   "id": "00f658c2",
   "metadata": {
    "ExecuteTime": {
     "end_time": "2022-10-12T03:10:19.823708Z",
     "start_time": "2022-10-12T03:10:19.819457Z"
    }
   },
   "outputs": [],
   "source": [
    "import numpy as np\n",
    "import pandas as pd\n",
    "from numpy import nan as NA\n",
    "from pandas import DataFrame\n",
    "from pandas import Series"
   ]
  },
  {
   "cell_type": "code",
   "execution_count": 2,
   "id": "9ff33a7b",
   "metadata": {
    "ExecuteTime": {
     "end_time": "2022-10-12T03:07:43.265836Z",
     "start_time": "2022-10-12T03:07:43.255569Z"
    }
   },
   "outputs": [
    {
     "name": "stdout",
     "output_type": "stream",
     "text": [
      "0     aardvark\n",
      "1    artichoke\n",
      "2          NaN\n",
      "3      avocado\n",
      "dtype: object\n",
      "0    False\n",
      "1    False\n",
      "2     True\n",
      "3    False\n",
      "dtype: bool\n"
     ]
    }
   ],
   "source": [
    "string_data = Series(['aardvark', 'artichoke', np.nan, 'avocado'])\n",
    "print(string_data)\n",
    "print(string_data.isnull())"
   ]
  },
  {
   "cell_type": "code",
   "execution_count": 3,
   "id": "264d0441",
   "metadata": {
    "ExecuteTime": {
     "end_time": "2022-10-12T03:08:07.977237Z",
     "start_time": "2022-10-12T03:08:07.966850Z"
    }
   },
   "outputs": [
    {
     "name": "stdout",
     "output_type": "stream",
     "text": [
      "0     True\n",
      "1    False\n",
      "2     True\n",
      "3    False\n",
      "dtype: bool\n"
     ]
    }
   ],
   "source": [
    "string_data[0] = None # None与NaN等价\n",
    "print(string_data.isnull())"
   ]
  },
  {
   "cell_type": "markdown",
   "id": "9e085fd1",
   "metadata": {},
   "source": [
    "## 滤除缺失数据"
   ]
  },
  {
   "cell_type": "code",
   "execution_count": 6,
   "id": "2dde69ee",
   "metadata": {
    "ExecuteTime": {
     "end_time": "2022-10-12T03:10:59.038739Z",
     "start_time": "2022-10-12T03:10:59.019746Z"
    }
   },
   "outputs": [
    {
     "data": {
      "text/plain": [
       "0    1.0\n",
       "2    3.5\n",
       "4    7.0\n",
       "dtype: float64"
      ]
     },
     "execution_count": 6,
     "metadata": {},
     "output_type": "execute_result"
    }
   ],
   "source": [
    "data = Series([1, NA, 3.5, NA, 7])\n",
    "data.dropna()"
   ]
  },
  {
   "cell_type": "code",
   "execution_count": 7,
   "id": "d9ea739b",
   "metadata": {
    "ExecuteTime": {
     "end_time": "2022-10-12T03:11:07.577189Z",
     "start_time": "2022-10-12T03:11:07.566977Z"
    }
   },
   "outputs": [
    {
     "data": {
      "text/plain": [
       "0    1.0\n",
       "2    3.5\n",
       "4    7.0\n",
       "dtype: float64"
      ]
     },
     "execution_count": 7,
     "metadata": {},
     "output_type": "execute_result"
    }
   ],
   "source": [
    " data[data.notnull()] # 与dropna等价\n"
   ]
  },
  {
   "cell_type": "code",
   "execution_count": 8,
   "id": "29f90bb3",
   "metadata": {
    "ExecuteTime": {
     "end_time": "2022-10-12T03:11:15.194534Z",
     "start_time": "2022-10-12T03:11:15.155935Z"
    }
   },
   "outputs": [
    {
     "data": {
      "text/html": [
       "<div>\n",
       "<style scoped>\n",
       "    .dataframe tbody tr th:only-of-type {\n",
       "        vertical-align: middle;\n",
       "    }\n",
       "\n",
       "    .dataframe tbody tr th {\n",
       "        vertical-align: top;\n",
       "    }\n",
       "\n",
       "    .dataframe thead th {\n",
       "        text-align: right;\n",
       "    }\n",
       "</style>\n",
       "<table border=\"1\" class=\"dataframe\">\n",
       "  <thead>\n",
       "    <tr style=\"text-align: right;\">\n",
       "      <th></th>\n",
       "      <th>0</th>\n",
       "      <th>1</th>\n",
       "      <th>2</th>\n",
       "    </tr>\n",
       "  </thead>\n",
       "  <tbody>\n",
       "    <tr>\n",
       "      <th>0</th>\n",
       "      <td>1.0</td>\n",
       "      <td>6.5</td>\n",
       "      <td>3.0</td>\n",
       "    </tr>\n",
       "  </tbody>\n",
       "</table>\n",
       "</div>"
      ],
      "text/plain": [
       "     0    1    2\n",
       "0  1.0  6.5  3.0"
      ]
     },
     "execution_count": 8,
     "metadata": {},
     "output_type": "execute_result"
    }
   ],
   "source": [
    "data = DataFrame([[1., 6.5, 3.],\n",
    "                  [1., NA, NA],\n",
    "                  [NA, NA, NA],\n",
    "                  [NA, 6.5, 3.]])\n",
    "data.dropna() # 默认一行里只要有1个元素是NA就放弃"
   ]
  },
  {
   "cell_type": "code",
   "execution_count": 9,
   "id": "ac0012ad",
   "metadata": {
    "ExecuteTime": {
     "end_time": "2022-10-12T03:11:23.866601Z",
     "start_time": "2022-10-12T03:11:23.852582Z"
    }
   },
   "outputs": [
    {
     "data": {
      "text/html": [
       "<div>\n",
       "<style scoped>\n",
       "    .dataframe tbody tr th:only-of-type {\n",
       "        vertical-align: middle;\n",
       "    }\n",
       "\n",
       "    .dataframe tbody tr th {\n",
       "        vertical-align: top;\n",
       "    }\n",
       "\n",
       "    .dataframe thead th {\n",
       "        text-align: right;\n",
       "    }\n",
       "</style>\n",
       "<table border=\"1\" class=\"dataframe\">\n",
       "  <thead>\n",
       "    <tr style=\"text-align: right;\">\n",
       "      <th></th>\n",
       "      <th>0</th>\n",
       "      <th>1</th>\n",
       "      <th>2</th>\n",
       "    </tr>\n",
       "  </thead>\n",
       "  <tbody>\n",
       "    <tr>\n",
       "      <th>0</th>\n",
       "      <td>1.0</td>\n",
       "      <td>6.5</td>\n",
       "      <td>3.0</td>\n",
       "    </tr>\n",
       "    <tr>\n",
       "      <th>1</th>\n",
       "      <td>1.0</td>\n",
       "      <td>NaN</td>\n",
       "      <td>NaN</td>\n",
       "    </tr>\n",
       "    <tr>\n",
       "      <th>3</th>\n",
       "      <td>NaN</td>\n",
       "      <td>6.5</td>\n",
       "      <td>3.0</td>\n",
       "    </tr>\n",
       "  </tbody>\n",
       "</table>\n",
       "</div>"
      ],
      "text/plain": [
       "     0    1    2\n",
       "0  1.0  6.5  3.0\n",
       "1  1.0  NaN  NaN\n",
       "3  NaN  6.5  3.0"
      ]
     },
     "execution_count": 9,
     "metadata": {},
     "output_type": "execute_result"
    }
   ],
   "source": [
    "data.dropna(how='all') # 只有一行的所有元素是NA才放弃\n"
   ]
  },
  {
   "cell_type": "code",
   "execution_count": 10,
   "id": "06def79f",
   "metadata": {
    "ExecuteTime": {
     "end_time": "2022-10-12T03:11:32.845228Z",
     "start_time": "2022-10-12T03:11:32.820192Z"
    }
   },
   "outputs": [
    {
     "data": {
      "text/html": [
       "<div>\n",
       "<style scoped>\n",
       "    .dataframe tbody tr th:only-of-type {\n",
       "        vertical-align: middle;\n",
       "    }\n",
       "\n",
       "    .dataframe tbody tr th {\n",
       "        vertical-align: top;\n",
       "    }\n",
       "\n",
       "    .dataframe thead th {\n",
       "        text-align: right;\n",
       "    }\n",
       "</style>\n",
       "<table border=\"1\" class=\"dataframe\">\n",
       "  <thead>\n",
       "    <tr style=\"text-align: right;\">\n",
       "      <th></th>\n",
       "      <th>0</th>\n",
       "      <th>1</th>\n",
       "      <th>2</th>\n",
       "      <th>4</th>\n",
       "    </tr>\n",
       "  </thead>\n",
       "  <tbody>\n",
       "    <tr>\n",
       "      <th>0</th>\n",
       "      <td>1.0</td>\n",
       "      <td>6.5</td>\n",
       "      <td>3.0</td>\n",
       "      <td>NaN</td>\n",
       "    </tr>\n",
       "    <tr>\n",
       "      <th>1</th>\n",
       "      <td>1.0</td>\n",
       "      <td>NaN</td>\n",
       "      <td>NaN</td>\n",
       "      <td>NaN</td>\n",
       "    </tr>\n",
       "    <tr>\n",
       "      <th>2</th>\n",
       "      <td>NaN</td>\n",
       "      <td>NaN</td>\n",
       "      <td>NaN</td>\n",
       "      <td>NaN</td>\n",
       "    </tr>\n",
       "    <tr>\n",
       "      <th>3</th>\n",
       "      <td>NaN</td>\n",
       "      <td>6.5</td>\n",
       "      <td>3.0</td>\n",
       "      <td>NaN</td>\n",
       "    </tr>\n",
       "  </tbody>\n",
       "</table>\n",
       "</div>"
      ],
      "text/plain": [
       "     0    1    2   4\n",
       "0  1.0  6.5  3.0 NaN\n",
       "1  1.0  NaN  NaN NaN\n",
       "2  NaN  NaN  NaN NaN\n",
       "3  NaN  6.5  3.0 NaN"
      ]
     },
     "execution_count": 10,
     "metadata": {},
     "output_type": "execute_result"
    }
   ],
   "source": [
    "data[4] = NA # 添加全部值为NA的一列\n",
    "data"
   ]
  },
  {
   "cell_type": "code",
   "execution_count": 11,
   "id": "e4f23a37",
   "metadata": {
    "ExecuteTime": {
     "end_time": "2022-10-12T03:11:41.281335Z",
     "start_time": "2022-10-12T03:11:41.263627Z"
    }
   },
   "outputs": [
    {
     "data": {
      "text/html": [
       "<div>\n",
       "<style scoped>\n",
       "    .dataframe tbody tr th:only-of-type {\n",
       "        vertical-align: middle;\n",
       "    }\n",
       "\n",
       "    .dataframe tbody tr th {\n",
       "        vertical-align: top;\n",
       "    }\n",
       "\n",
       "    .dataframe thead th {\n",
       "        text-align: right;\n",
       "    }\n",
       "</style>\n",
       "<table border=\"1\" class=\"dataframe\">\n",
       "  <thead>\n",
       "    <tr style=\"text-align: right;\">\n",
       "      <th></th>\n",
       "      <th>0</th>\n",
       "      <th>1</th>\n",
       "      <th>2</th>\n",
       "    </tr>\n",
       "  </thead>\n",
       "  <tbody>\n",
       "    <tr>\n",
       "      <th>0</th>\n",
       "      <td>1.0</td>\n",
       "      <td>6.5</td>\n",
       "      <td>3.0</td>\n",
       "    </tr>\n",
       "    <tr>\n",
       "      <th>1</th>\n",
       "      <td>1.0</td>\n",
       "      <td>NaN</td>\n",
       "      <td>NaN</td>\n",
       "    </tr>\n",
       "    <tr>\n",
       "      <th>2</th>\n",
       "      <td>NaN</td>\n",
       "      <td>NaN</td>\n",
       "      <td>NaN</td>\n",
       "    </tr>\n",
       "    <tr>\n",
       "      <th>3</th>\n",
       "      <td>NaN</td>\n",
       "      <td>6.5</td>\n",
       "      <td>3.0</td>\n",
       "    </tr>\n",
       "  </tbody>\n",
       "</table>\n",
       "</div>"
      ],
      "text/plain": [
       "     0    1    2\n",
       "0  1.0  6.5  3.0\n",
       "1  1.0  NaN  NaN\n",
       "2  NaN  NaN  NaN\n",
       "3  NaN  6.5  3.0"
      ]
     },
     "execution_count": 11,
     "metadata": {},
     "output_type": "execute_result"
    }
   ],
   "source": [
    "data.dropna(axis=1, how='all') # 如果某列值全部为NA则删除\n"
   ]
  },
  {
   "cell_type": "code",
   "execution_count": 12,
   "id": "4bb324c7",
   "metadata": {
    "ExecuteTime": {
     "end_time": "2022-10-12T03:11:50.805309Z",
     "start_time": "2022-10-12T03:11:50.789355Z"
    }
   },
   "outputs": [
    {
     "data": {
      "text/html": [
       "<div>\n",
       "<style scoped>\n",
       "    .dataframe tbody tr th:only-of-type {\n",
       "        vertical-align: middle;\n",
       "    }\n",
       "\n",
       "    .dataframe tbody tr th {\n",
       "        vertical-align: top;\n",
       "    }\n",
       "\n",
       "    .dataframe thead th {\n",
       "        text-align: right;\n",
       "    }\n",
       "</style>\n",
       "<table border=\"1\" class=\"dataframe\">\n",
       "  <thead>\n",
       "    <tr style=\"text-align: right;\">\n",
       "      <th></th>\n",
       "      <th>0</th>\n",
       "      <th>1</th>\n",
       "      <th>2</th>\n",
       "    </tr>\n",
       "  </thead>\n",
       "  <tbody>\n",
       "    <tr>\n",
       "      <th>0</th>\n",
       "      <td>-0.891035</td>\n",
       "      <td>NaN</td>\n",
       "      <td>NaN</td>\n",
       "    </tr>\n",
       "    <tr>\n",
       "      <th>1</th>\n",
       "      <td>0.506011</td>\n",
       "      <td>NaN</td>\n",
       "      <td>NaN</td>\n",
       "    </tr>\n",
       "    <tr>\n",
       "      <th>2</th>\n",
       "      <td>0.066039</td>\n",
       "      <td>NaN</td>\n",
       "      <td>-1.206720</td>\n",
       "    </tr>\n",
       "    <tr>\n",
       "      <th>3</th>\n",
       "      <td>1.880245</td>\n",
       "      <td>-0.629245</td>\n",
       "      <td>-0.144750</td>\n",
       "    </tr>\n",
       "    <tr>\n",
       "      <th>4</th>\n",
       "      <td>-1.104875</td>\n",
       "      <td>-0.859150</td>\n",
       "      <td>0.893818</td>\n",
       "    </tr>\n",
       "    <tr>\n",
       "      <th>5</th>\n",
       "      <td>-1.200204</td>\n",
       "      <td>0.197270</td>\n",
       "      <td>0.317234</td>\n",
       "    </tr>\n",
       "    <tr>\n",
       "      <th>6</th>\n",
       "      <td>-0.114731</td>\n",
       "      <td>0.033390</td>\n",
       "      <td>1.148724</td>\n",
       "    </tr>\n",
       "  </tbody>\n",
       "</table>\n",
       "</div>"
      ],
      "text/plain": [
       "          0         1         2\n",
       "0 -0.891035       NaN       NaN\n",
       "1  0.506011       NaN       NaN\n",
       "2  0.066039       NaN -1.206720\n",
       "3  1.880245 -0.629245 -0.144750\n",
       "4 -1.104875 -0.859150  0.893818\n",
       "5 -1.200204  0.197270  0.317234\n",
       "6 -0.114731  0.033390  1.148724"
      ]
     },
     "execution_count": 12,
     "metadata": {},
     "output_type": "execute_result"
    }
   ],
   "source": [
    "df = DataFrame(np.random.randn(7, 3))\n",
    "df.iloc[:3, 1] = NA # 前3行的第2列\n",
    "df.iloc[:2, 2] = NA # 前2行的第3列\n",
    "df"
   ]
  },
  {
   "cell_type": "code",
   "execution_count": 13,
   "id": "0363c237",
   "metadata": {
    "ExecuteTime": {
     "end_time": "2022-10-12T03:12:01.020598Z",
     "start_time": "2022-10-12T03:12:00.999196Z"
    }
   },
   "outputs": [
    {
     "data": {
      "text/html": [
       "<div>\n",
       "<style scoped>\n",
       "    .dataframe tbody tr th:only-of-type {\n",
       "        vertical-align: middle;\n",
       "    }\n",
       "\n",
       "    .dataframe tbody tr th {\n",
       "        vertical-align: top;\n",
       "    }\n",
       "\n",
       "    .dataframe thead th {\n",
       "        text-align: right;\n",
       "    }\n",
       "</style>\n",
       "<table border=\"1\" class=\"dataframe\">\n",
       "  <thead>\n",
       "    <tr style=\"text-align: right;\">\n",
       "      <th></th>\n",
       "      <th>0</th>\n",
       "      <th>1</th>\n",
       "      <th>2</th>\n",
       "    </tr>\n",
       "  </thead>\n",
       "  <tbody>\n",
       "    <tr>\n",
       "      <th>2</th>\n",
       "      <td>0.066039</td>\n",
       "      <td>NaN</td>\n",
       "      <td>-1.206720</td>\n",
       "    </tr>\n",
       "    <tr>\n",
       "      <th>3</th>\n",
       "      <td>1.880245</td>\n",
       "      <td>-0.629245</td>\n",
       "      <td>-0.144750</td>\n",
       "    </tr>\n",
       "    <tr>\n",
       "      <th>4</th>\n",
       "      <td>-1.104875</td>\n",
       "      <td>-0.859150</td>\n",
       "      <td>0.893818</td>\n",
       "    </tr>\n",
       "    <tr>\n",
       "      <th>5</th>\n",
       "      <td>-1.200204</td>\n",
       "      <td>0.197270</td>\n",
       "      <td>0.317234</td>\n",
       "    </tr>\n",
       "    <tr>\n",
       "      <th>6</th>\n",
       "      <td>-0.114731</td>\n",
       "      <td>0.033390</td>\n",
       "      <td>1.148724</td>\n",
       "    </tr>\n",
       "  </tbody>\n",
       "</table>\n",
       "</div>"
      ],
      "text/plain": [
       "          0         1         2\n",
       "2  0.066039       NaN -1.206720\n",
       "3  1.880245 -0.629245 -0.144750\n",
       "4 -1.104875 -0.859150  0.893818\n",
       "5 -1.200204  0.197270  0.317234\n",
       "6 -0.114731  0.033390  1.148724"
      ]
     },
     "execution_count": 13,
     "metadata": {},
     "output_type": "execute_result"
    }
   ],
   "source": [
    "df.dropna(thresh=2) # 每行至少有几个不为NA的数\n"
   ]
  },
  {
   "cell_type": "markdown",
   "id": "216dcdcb",
   "metadata": {},
   "source": [
    "## 填充缺失数据"
   ]
  },
  {
   "cell_type": "markdown",
   "id": "6510091f",
   "metadata": {},
   "source": [
    "###  fill_na函数的参数\n",
    "- `value`：用于填充缺失值的标量值或字典对象\n",
    "- `method`：插值方式，默认为ffill。\n",
    "- `axis`：待填充的轴，默认axis=0。\n",
    "- `inplace`：修改调用者对象而不产生副本\n",
    "- `limit`：可以连续填充的最大数量"
   ]
  },
  {
   "cell_type": "code",
   "execution_count": 14,
   "id": "75847795",
   "metadata": {
    "ExecuteTime": {
     "end_time": "2022-10-12T03:12:28.749345Z",
     "start_time": "2022-10-12T03:12:28.736294Z"
    }
   },
   "outputs": [
    {
     "data": {
      "text/html": [
       "<div>\n",
       "<style scoped>\n",
       "    .dataframe tbody tr th:only-of-type {\n",
       "        vertical-align: middle;\n",
       "    }\n",
       "\n",
       "    .dataframe tbody tr th {\n",
       "        vertical-align: top;\n",
       "    }\n",
       "\n",
       "    .dataframe thead th {\n",
       "        text-align: right;\n",
       "    }\n",
       "</style>\n",
       "<table border=\"1\" class=\"dataframe\">\n",
       "  <thead>\n",
       "    <tr style=\"text-align: right;\">\n",
       "      <th></th>\n",
       "      <th>0</th>\n",
       "      <th>1</th>\n",
       "      <th>2</th>\n",
       "    </tr>\n",
       "  </thead>\n",
       "  <tbody>\n",
       "    <tr>\n",
       "      <th>0</th>\n",
       "      <td>-0.891035</td>\n",
       "      <td>0.000000</td>\n",
       "      <td>0.000000</td>\n",
       "    </tr>\n",
       "    <tr>\n",
       "      <th>1</th>\n",
       "      <td>0.506011</td>\n",
       "      <td>0.000000</td>\n",
       "      <td>0.000000</td>\n",
       "    </tr>\n",
       "    <tr>\n",
       "      <th>2</th>\n",
       "      <td>0.066039</td>\n",
       "      <td>0.000000</td>\n",
       "      <td>-1.206720</td>\n",
       "    </tr>\n",
       "    <tr>\n",
       "      <th>3</th>\n",
       "      <td>1.880245</td>\n",
       "      <td>-0.629245</td>\n",
       "      <td>-0.144750</td>\n",
       "    </tr>\n",
       "    <tr>\n",
       "      <th>4</th>\n",
       "      <td>-1.104875</td>\n",
       "      <td>-0.859150</td>\n",
       "      <td>0.893818</td>\n",
       "    </tr>\n",
       "    <tr>\n",
       "      <th>5</th>\n",
       "      <td>-1.200204</td>\n",
       "      <td>0.197270</td>\n",
       "      <td>0.317234</td>\n",
       "    </tr>\n",
       "    <tr>\n",
       "      <th>6</th>\n",
       "      <td>-0.114731</td>\n",
       "      <td>0.033390</td>\n",
       "      <td>1.148724</td>\n",
       "    </tr>\n",
       "  </tbody>\n",
       "</table>\n",
       "</div>"
      ],
      "text/plain": [
       "          0         1         2\n",
       "0 -0.891035  0.000000  0.000000\n",
       "1  0.506011  0.000000  0.000000\n",
       "2  0.066039  0.000000 -1.206720\n",
       "3  1.880245 -0.629245 -0.144750\n",
       "4 -1.104875 -0.859150  0.893818\n",
       "5 -1.200204  0.197270  0.317234\n",
       "6 -0.114731  0.033390  1.148724"
      ]
     },
     "execution_count": 14,
     "metadata": {},
     "output_type": "execute_result"
    }
   ],
   "source": [
    "df.fillna(0)\n"
   ]
  },
  {
   "cell_type": "code",
   "execution_count": 15,
   "id": "1438df11",
   "metadata": {
    "ExecuteTime": {
     "end_time": "2022-10-12T03:13:06.225892Z",
     "start_time": "2022-10-12T03:13:06.213131Z"
    }
   },
   "outputs": [
    {
     "data": {
      "text/html": [
       "<div>\n",
       "<style scoped>\n",
       "    .dataframe tbody tr th:only-of-type {\n",
       "        vertical-align: middle;\n",
       "    }\n",
       "\n",
       "    .dataframe tbody tr th {\n",
       "        vertical-align: top;\n",
       "    }\n",
       "\n",
       "    .dataframe thead th {\n",
       "        text-align: right;\n",
       "    }\n",
       "</style>\n",
       "<table border=\"1\" class=\"dataframe\">\n",
       "  <thead>\n",
       "    <tr style=\"text-align: right;\">\n",
       "      <th></th>\n",
       "      <th>0</th>\n",
       "      <th>1</th>\n",
       "      <th>2</th>\n",
       "    </tr>\n",
       "  </thead>\n",
       "  <tbody>\n",
       "    <tr>\n",
       "      <th>0</th>\n",
       "      <td>-0.891035</td>\n",
       "      <td>0.500000</td>\n",
       "      <td>-1.000000</td>\n",
       "    </tr>\n",
       "    <tr>\n",
       "      <th>1</th>\n",
       "      <td>0.506011</td>\n",
       "      <td>0.500000</td>\n",
       "      <td>-1.000000</td>\n",
       "    </tr>\n",
       "    <tr>\n",
       "      <th>2</th>\n",
       "      <td>0.066039</td>\n",
       "      <td>0.500000</td>\n",
       "      <td>-1.206720</td>\n",
       "    </tr>\n",
       "    <tr>\n",
       "      <th>3</th>\n",
       "      <td>1.880245</td>\n",
       "      <td>-0.629245</td>\n",
       "      <td>-0.144750</td>\n",
       "    </tr>\n",
       "    <tr>\n",
       "      <th>4</th>\n",
       "      <td>-1.104875</td>\n",
       "      <td>-0.859150</td>\n",
       "      <td>0.893818</td>\n",
       "    </tr>\n",
       "    <tr>\n",
       "      <th>5</th>\n",
       "      <td>-1.200204</td>\n",
       "      <td>0.197270</td>\n",
       "      <td>0.317234</td>\n",
       "    </tr>\n",
       "    <tr>\n",
       "      <th>6</th>\n",
       "      <td>-0.114731</td>\n",
       "      <td>0.033390</td>\n",
       "      <td>1.148724</td>\n",
       "    </tr>\n",
       "  </tbody>\n",
       "</table>\n",
       "</div>"
      ],
      "text/plain": [
       "          0         1         2\n",
       "0 -0.891035  0.500000 -1.000000\n",
       "1  0.506011  0.500000 -1.000000\n",
       "2  0.066039  0.500000 -1.206720\n",
       "3  1.880245 -0.629245 -0.144750\n",
       "4 -1.104875 -0.859150  0.893818\n",
       "5 -1.200204  0.197270  0.317234\n",
       "6 -0.114731  0.033390  1.148724"
      ]
     },
     "execution_count": 15,
     "metadata": {},
     "output_type": "execute_result"
    }
   ],
   "source": [
    "df.fillna({1: 0.5, 2: -1}) # 针对不同列上的NA填充，因为axis默认为0。\n",
    "# cc： 这个地方可以关注一下，不同列填充的不同；"
   ]
  },
  {
   "cell_type": "code",
   "execution_count": 16,
   "id": "03335764",
   "metadata": {
    "ExecuteTime": {
     "end_time": "2022-10-12T03:13:24.851981Z",
     "start_time": "2022-10-12T03:13:24.839683Z"
    }
   },
   "outputs": [
    {
     "data": {
      "text/html": [
       "<div>\n",
       "<style scoped>\n",
       "    .dataframe tbody tr th:only-of-type {\n",
       "        vertical-align: middle;\n",
       "    }\n",
       "\n",
       "    .dataframe tbody tr th {\n",
       "        vertical-align: top;\n",
       "    }\n",
       "\n",
       "    .dataframe thead th {\n",
       "        text-align: right;\n",
       "    }\n",
       "</style>\n",
       "<table border=\"1\" class=\"dataframe\">\n",
       "  <thead>\n",
       "    <tr style=\"text-align: right;\">\n",
       "      <th></th>\n",
       "      <th>0</th>\n",
       "      <th>1</th>\n",
       "      <th>2</th>\n",
       "    </tr>\n",
       "  </thead>\n",
       "  <tbody>\n",
       "    <tr>\n",
       "      <th>0</th>\n",
       "      <td>-0.891035</td>\n",
       "      <td>66.660000</td>\n",
       "      <td>66.660000</td>\n",
       "    </tr>\n",
       "    <tr>\n",
       "      <th>1</th>\n",
       "      <td>0.506011</td>\n",
       "      <td>66.660000</td>\n",
       "      <td>66.660000</td>\n",
       "    </tr>\n",
       "    <tr>\n",
       "      <th>2</th>\n",
       "      <td>0.066039</td>\n",
       "      <td>66.660000</td>\n",
       "      <td>-1.206720</td>\n",
       "    </tr>\n",
       "    <tr>\n",
       "      <th>3</th>\n",
       "      <td>1.880245</td>\n",
       "      <td>-0.629245</td>\n",
       "      <td>-0.144750</td>\n",
       "    </tr>\n",
       "    <tr>\n",
       "      <th>4</th>\n",
       "      <td>-1.104875</td>\n",
       "      <td>-0.859150</td>\n",
       "      <td>0.893818</td>\n",
       "    </tr>\n",
       "    <tr>\n",
       "      <th>5</th>\n",
       "      <td>-1.200204</td>\n",
       "      <td>0.197270</td>\n",
       "      <td>0.317234</td>\n",
       "    </tr>\n",
       "    <tr>\n",
       "      <th>6</th>\n",
       "      <td>-0.114731</td>\n",
       "      <td>0.033390</td>\n",
       "      <td>1.148724</td>\n",
       "    </tr>\n",
       "  </tbody>\n",
       "</table>\n",
       "</div>"
      ],
      "text/plain": [
       "          0          1          2\n",
       "0 -0.891035  66.660000  66.660000\n",
       "1  0.506011  66.660000  66.660000\n",
       "2  0.066039  66.660000  -1.206720\n",
       "3  1.880245  -0.629245  -0.144750\n",
       "4 -1.104875  -0.859150   0.893818\n",
       "5 -1.200204   0.197270   0.317234\n",
       "6 -0.114731   0.033390   1.148724"
      ]
     },
     "execution_count": 16,
     "metadata": {},
     "output_type": "execute_result"
    }
   ],
   "source": [
    "df.fillna(66.66, inplace=True) # 原地填充\n",
    "df"
   ]
  },
  {
   "cell_type": "code",
   "execution_count": 17,
   "id": "6d29d2b5",
   "metadata": {
    "ExecuteTime": {
     "end_time": "2022-10-12T03:13:39.936539Z",
     "start_time": "2022-10-12T03:13:39.922413Z"
    }
   },
   "outputs": [
    {
     "data": {
      "text/html": [
       "<div>\n",
       "<style scoped>\n",
       "    .dataframe tbody tr th:only-of-type {\n",
       "        vertical-align: middle;\n",
       "    }\n",
       "\n",
       "    .dataframe tbody tr th {\n",
       "        vertical-align: top;\n",
       "    }\n",
       "\n",
       "    .dataframe thead th {\n",
       "        text-align: right;\n",
       "    }\n",
       "</style>\n",
       "<table border=\"1\" class=\"dataframe\">\n",
       "  <thead>\n",
       "    <tr style=\"text-align: right;\">\n",
       "      <th></th>\n",
       "      <th>0</th>\n",
       "      <th>1</th>\n",
       "      <th>2</th>\n",
       "    </tr>\n",
       "  </thead>\n",
       "  <tbody>\n",
       "    <tr>\n",
       "      <th>0</th>\n",
       "      <td>-1.028405</td>\n",
       "      <td>-1.103961</td>\n",
       "      <td>1.209232</td>\n",
       "    </tr>\n",
       "    <tr>\n",
       "      <th>1</th>\n",
       "      <td>0.508349</td>\n",
       "      <td>-0.613103</td>\n",
       "      <td>-0.890073</td>\n",
       "    </tr>\n",
       "    <tr>\n",
       "      <th>2</th>\n",
       "      <td>1.463845</td>\n",
       "      <td>NaN</td>\n",
       "      <td>1.163836</td>\n",
       "    </tr>\n",
       "    <tr>\n",
       "      <th>3</th>\n",
       "      <td>-0.083223</td>\n",
       "      <td>NaN</td>\n",
       "      <td>1.701088</td>\n",
       "    </tr>\n",
       "    <tr>\n",
       "      <th>4</th>\n",
       "      <td>1.602262</td>\n",
       "      <td>NaN</td>\n",
       "      <td>NaN</td>\n",
       "    </tr>\n",
       "    <tr>\n",
       "      <th>5</th>\n",
       "      <td>0.239848</td>\n",
       "      <td>NaN</td>\n",
       "      <td>NaN</td>\n",
       "    </tr>\n",
       "  </tbody>\n",
       "</table>\n",
       "</div>"
      ],
      "text/plain": [
       "          0         1         2\n",
       "0 -1.028405 -1.103961  1.209232\n",
       "1  0.508349 -0.613103 -0.890073\n",
       "2  1.463845       NaN  1.163836\n",
       "3 -0.083223       NaN  1.701088\n",
       "4  1.602262       NaN       NaN\n",
       "5  0.239848       NaN       NaN"
      ]
     },
     "execution_count": 17,
     "metadata": {},
     "output_type": "execute_result"
    }
   ],
   "source": [
    "df = DataFrame(np.random.randn(6, 3))\n",
    "df.iloc[2:, 1] = NA # 第2行及以后行的第1列\n",
    "df.iloc[4:, 2] = NA # 第2行及以后行的第2列\n",
    "df"
   ]
  },
  {
   "cell_type": "code",
   "execution_count": 18,
   "id": "aafe0a7e",
   "metadata": {
    "ExecuteTime": {
     "end_time": "2022-10-12T03:13:48.144489Z",
     "start_time": "2022-10-12T03:13:48.130093Z"
    }
   },
   "outputs": [
    {
     "data": {
      "text/html": [
       "<div>\n",
       "<style scoped>\n",
       "    .dataframe tbody tr th:only-of-type {\n",
       "        vertical-align: middle;\n",
       "    }\n",
       "\n",
       "    .dataframe tbody tr th {\n",
       "        vertical-align: top;\n",
       "    }\n",
       "\n",
       "    .dataframe thead th {\n",
       "        text-align: right;\n",
       "    }\n",
       "</style>\n",
       "<table border=\"1\" class=\"dataframe\">\n",
       "  <thead>\n",
       "    <tr style=\"text-align: right;\">\n",
       "      <th></th>\n",
       "      <th>0</th>\n",
       "      <th>1</th>\n",
       "      <th>2</th>\n",
       "    </tr>\n",
       "  </thead>\n",
       "  <tbody>\n",
       "    <tr>\n",
       "      <th>0</th>\n",
       "      <td>-1.028405</td>\n",
       "      <td>-1.103961</td>\n",
       "      <td>1.209232</td>\n",
       "    </tr>\n",
       "    <tr>\n",
       "      <th>1</th>\n",
       "      <td>0.508349</td>\n",
       "      <td>-0.613103</td>\n",
       "      <td>-0.890073</td>\n",
       "    </tr>\n",
       "    <tr>\n",
       "      <th>2</th>\n",
       "      <td>1.463845</td>\n",
       "      <td>-0.613103</td>\n",
       "      <td>1.163836</td>\n",
       "    </tr>\n",
       "    <tr>\n",
       "      <th>3</th>\n",
       "      <td>-0.083223</td>\n",
       "      <td>-0.613103</td>\n",
       "      <td>1.701088</td>\n",
       "    </tr>\n",
       "    <tr>\n",
       "      <th>4</th>\n",
       "      <td>1.602262</td>\n",
       "      <td>-0.613103</td>\n",
       "      <td>1.701088</td>\n",
       "    </tr>\n",
       "    <tr>\n",
       "      <th>5</th>\n",
       "      <td>0.239848</td>\n",
       "      <td>-0.613103</td>\n",
       "      <td>1.701088</td>\n",
       "    </tr>\n",
       "  </tbody>\n",
       "</table>\n",
       "</div>"
      ],
      "text/plain": [
       "          0         1         2\n",
       "0 -1.028405 -1.103961  1.209232\n",
       "1  0.508349 -0.613103 -0.890073\n",
       "2  1.463845 -0.613103  1.163836\n",
       "3 -0.083223 -0.613103  1.701088\n",
       "4  1.602262 -0.613103  1.701088\n",
       "5  0.239848 -0.613103  1.701088"
      ]
     },
     "execution_count": 18,
     "metadata": {},
     "output_type": "execute_result"
    }
   ],
   "source": [
    "df.fillna(method='ffill') # 用上一行对应位置的值填充\n"
   ]
  },
  {
   "cell_type": "code",
   "execution_count": 19,
   "id": "ff4eb627",
   "metadata": {
    "ExecuteTime": {
     "end_time": "2022-10-12T03:13:55.861632Z",
     "start_time": "2022-10-12T03:13:55.847738Z"
    }
   },
   "outputs": [
    {
     "data": {
      "text/html": [
       "<div>\n",
       "<style scoped>\n",
       "    .dataframe tbody tr th:only-of-type {\n",
       "        vertical-align: middle;\n",
       "    }\n",
       "\n",
       "    .dataframe tbody tr th {\n",
       "        vertical-align: top;\n",
       "    }\n",
       "\n",
       "    .dataframe thead th {\n",
       "        text-align: right;\n",
       "    }\n",
       "</style>\n",
       "<table border=\"1\" class=\"dataframe\">\n",
       "  <thead>\n",
       "    <tr style=\"text-align: right;\">\n",
       "      <th></th>\n",
       "      <th>0</th>\n",
       "      <th>1</th>\n",
       "      <th>2</th>\n",
       "    </tr>\n",
       "  </thead>\n",
       "  <tbody>\n",
       "    <tr>\n",
       "      <th>0</th>\n",
       "      <td>-1.028405</td>\n",
       "      <td>-1.103961</td>\n",
       "      <td>1.209232</td>\n",
       "    </tr>\n",
       "    <tr>\n",
       "      <th>1</th>\n",
       "      <td>0.508349</td>\n",
       "      <td>-0.613103</td>\n",
       "      <td>-0.890073</td>\n",
       "    </tr>\n",
       "    <tr>\n",
       "      <th>2</th>\n",
       "      <td>1.463845</td>\n",
       "      <td>-0.613103</td>\n",
       "      <td>1.163836</td>\n",
       "    </tr>\n",
       "    <tr>\n",
       "      <th>3</th>\n",
       "      <td>-0.083223</td>\n",
       "      <td>-0.613103</td>\n",
       "      <td>1.701088</td>\n",
       "    </tr>\n",
       "    <tr>\n",
       "      <th>4</th>\n",
       "      <td>1.602262</td>\n",
       "      <td>NaN</td>\n",
       "      <td>1.701088</td>\n",
       "    </tr>\n",
       "    <tr>\n",
       "      <th>5</th>\n",
       "      <td>0.239848</td>\n",
       "      <td>NaN</td>\n",
       "      <td>1.701088</td>\n",
       "    </tr>\n",
       "  </tbody>\n",
       "</table>\n",
       "</div>"
      ],
      "text/plain": [
       "          0         1         2\n",
       "0 -1.028405 -1.103961  1.209232\n",
       "1  0.508349 -0.613103 -0.890073\n",
       "2  1.463845 -0.613103  1.163836\n",
       "3 -0.083223 -0.613103  1.701088\n",
       "4  1.602262       NaN  1.701088\n",
       "5  0.239848       NaN  1.701088"
      ]
     },
     "execution_count": 19,
     "metadata": {},
     "output_type": "execute_result"
    }
   ],
   "source": [
    "df.fillna(method='ffill', limit=2) # 最多填充2个元素，剩下的不管了。\n"
   ]
  },
  {
   "cell_type": "code",
   "execution_count": 20,
   "id": "5784125a",
   "metadata": {
    "ExecuteTime": {
     "end_time": "2022-10-12T03:14:04.727046Z",
     "start_time": "2022-10-12T03:14:04.715298Z"
    }
   },
   "outputs": [
    {
     "data": {
      "text/plain": [
       "0    1.000000\n",
       "1    3.833333\n",
       "2    3.500000\n",
       "3    3.833333\n",
       "4    7.000000\n",
       "dtype: float64"
      ]
     },
     "execution_count": 20,
     "metadata": {},
     "output_type": "execute_result"
    }
   ],
   "source": [
    "data = Series([1., NA, 3.5, NA, 7])\n",
    "data.fillna(data.mean()) # 使用平均值填充"
   ]
  },
  {
   "cell_type": "code",
   "execution_count": null,
   "id": "8742e05c",
   "metadata": {},
   "outputs": [],
   "source": []
  }
 ],
 "metadata": {
  "kernelspec": {
   "display_name": "Python 3",
   "language": "python",
   "name": "python3"
  },
  "language_info": {
   "codemirror_mode": {
    "name": "ipython",
    "version": 3
   },
   "file_extension": ".py",
   "mimetype": "text/x-python",
   "name": "python",
   "nbconvert_exporter": "python",
   "pygments_lexer": "ipython3",
   "version": "3.8.8"
  }
 },
 "nbformat": 4,
 "nbformat_minor": 5
}
