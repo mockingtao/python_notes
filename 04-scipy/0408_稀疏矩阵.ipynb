{
 "cells": [
  {
   "cell_type": "markdown",
   "metadata": {},
   "source": [
    "# 稀疏矩阵"
   ]
  },
  {
   "cell_type": "markdown",
   "metadata": {},
   "source": [
    "`Scipy` 提供了稀疏矩阵的支持（`scipy.sparse`）。\n",
    "\n",
    "稀疏矩阵主要使用 位置 + 值 的方法来存储矩阵的非零元素，根据存储和使用方式的不同，有如下几种类型的稀疏矩阵：\n",
    "\n",
    "类型|描述\n",
    "---|----\n",
    "`bsr_matrix(arg1[, shape, dtype, copy, blocksize])`\t| Block Sparse Row matrix\n",
    "`coo_matrix(arg1[, shape, dtype, copy])`\t| A sparse matrix in COOrdinate format.\n",
    "`csc_matrix(arg1[, shape, dtype, copy])`\t| Compressed Sparse Column matrix\n",
    "`csr_matrix(arg1[, shape, dtype, copy])`\t| Compressed Sparse Row matrix\n",
    "`dia_matrix(arg1[, shape, dtype, copy])`\t| Sparse matrix with DIAgonal storage\n",
    "`dok_matrix(arg1[, shape, dtype, copy])`\t| Dictionary Of Keys based sparse matrix.\n",
    "`lil_matrix(arg1[, shape, dtype, copy])`\t| Row-based linked list sparse matrix\n",
    "\n",
    "在这些存储格式中：\n",
    "\n",
    "- COO 格式在构建矩阵时比较高效\n",
    "- CSC 和 CSR 格式在乘法计算时比较高效"
   ]
  },
  {
   "cell_type": "markdown",
   "metadata": {},
   "source": [
    "## 构建稀疏矩阵"
   ]
  },
  {
   "cell_type": "code",
   "execution_count": 1,
   "metadata": {
    "ExecuteTime": {
     "end_time": "2022-09-16T09:53:42.725106Z",
     "start_time": "2022-09-16T09:53:41.648394Z"
    }
   },
   "outputs": [],
   "source": [
    "from scipy.sparse import *\n",
    "import numpy as np"
   ]
  },
  {
   "cell_type": "markdown",
   "metadata": {},
   "source": [
    "创建一个空的稀疏矩阵："
   ]
  },
  {
   "cell_type": "code",
   "execution_count": 2,
   "metadata": {
    "scrolled": true
   },
   "outputs": [
    {
     "data": {
      "text/plain": [
       "<2x3 sparse matrix of type '<type 'numpy.float64'>'\n",
       "\twith 0 stored elements in COOrdinate format>"
      ]
     },
     "execution_count": 2,
     "metadata": {},
     "output_type": "execute_result"
    }
   ],
   "source": [
    "coo_matrix((2,3))"
   ]
  },
  {
   "cell_type": "code",
   "execution_count": 2,
   "metadata": {
    "ExecuteTime": {
     "end_time": "2022-09-16T09:53:50.684173Z",
     "start_time": "2022-09-16T09:53:50.675206Z"
    }
   },
   "outputs": [
    {
     "data": {
      "text/plain": [
       "<2x3 sparse matrix of type '<class 'numpy.float64'>'\n",
       "\twith 0 stored elements in COOrdinate format>"
      ]
     },
     "execution_count": 2,
     "metadata": {},
     "output_type": "execute_result"
    }
   ],
   "source": [
    "# cc\n",
    "coo_matrix((2,3))"
   ]
  },
  {
   "cell_type": "markdown",
   "metadata": {},
   "source": [
    "也可以使用一个已有的矩阵或数组或列表中创建新矩阵："
   ]
  },
  {
   "cell_type": "code",
   "execution_count": 3,
   "metadata": {},
   "outputs": [
    {
     "name": "stdout",
     "output_type": "stream",
     "text": [
      "  (0, 0)\t1\n",
      "  (0, 1)\t2\n",
      "  (1, 2)\t3\n",
      "  (2, 0)\t4\n",
      "  (2, 2)\t5\n"
     ]
    }
   ],
   "source": [
    "A = coo_matrix([[1,2,0],[0,0,3],[4,0,5]])\n",
    "print A"
   ]
  },
  {
   "cell_type": "code",
   "execution_count": 3,
   "metadata": {
    "ExecuteTime": {
     "end_time": "2022-09-16T09:54:11.263617Z",
     "start_time": "2022-09-16T09:54:11.258887Z"
    }
   },
   "outputs": [
    {
     "name": "stdout",
     "output_type": "stream",
     "text": [
      "  (0, 0)\t1\n",
      "  (0, 1)\t2\n",
      "  (1, 2)\t3\n",
      "  (2, 0)\t4\n",
      "  (2, 2)\t5\n"
     ]
    }
   ],
   "source": [
    "# cc\n",
    "A = coo_matrix([[1,2,0],[0,0,3],[4,0,5]])\n",
    "print(A)"
   ]
  },
  {
   "cell_type": "code",
   "execution_count": 5,
   "metadata": {
    "ExecuteTime": {
     "end_time": "2022-09-16T09:54:36.154459Z",
     "start_time": "2022-09-16T09:54:36.147821Z"
    },
    "scrolled": true
   },
   "outputs": [
    {
     "name": "stdout",
     "output_type": "stream",
     "text": [
      " coo_matrix(arg1, shape=None, dtype=None, copy=False)\n",
      "\n",
      "A sparse matrix in COOrdinate format.\n",
      "\n",
      "Also known as the 'ijv' or 'triplet' format.\n",
      "\n",
      "This can be instantiated in several ways:\n",
      "    coo_matrix(D)\n",
      "        with a dense matrix D\n",
      "\n",
      "    coo_matrix(S)\n",
      "        with another sparse matrix S (equivalent to S.tocoo())\n",
      "\n",
      "    coo_matrix((M, N), [dtype])\n",
      "        to construct an empty matrix with shape (M, N)\n",
      "        dtype is optional, defaulting to dtype='d'.\n",
      "\n",
      "    coo_matrix((data, (i, j)), [shape=(M, N)])\n",
      "        to construct from three arrays:\n",
      "            1. data[:]   the entries of the matrix, in any order\n",
      "            2. i[:]      the row indices of the matrix entries\n",
      "            3. j[:]      the column indices of the matrix entries\n",
      "\n",
      "        Where ``A[i[k], j[k]] = data[k]``.  When shape is not\n",
      "        specified, it is inferred from the index arrays\n",
      "\n",
      "Attributes\n",
      "----------\n",
      "dtype : dtype\n",
      "    Data type of the matrix\n",
      "shape : 2-tuple\n",
      "    Shape of the matrix\n",
      "ndim : int\n",
      "    Number of dimensions (this is always 2)\n",
      "nnz\n",
      "    Number of stored values, including explicit zeros\n",
      "data\n",
      "    COO format data array of the matrix\n",
      "row\n",
      "    COO format row index array of the matrix\n",
      "col\n",
      "    COO format column index array of the matrix\n",
      "\n",
      "Notes\n",
      "-----\n",
      "\n",
      "Sparse matrices can be used in arithmetic operations: they support\n",
      "addition, subtraction, multiplication, division, and matrix power.\n",
      "\n",
      "Advantages of the COO format\n",
      "    - facilitates fast conversion among sparse formats\n",
      "    - permits duplicate entries (see example)\n",
      "    - very fast conversion to and from CSR/CSC formats\n",
      "\n",
      "Disadvantages of the COO format\n",
      "    - does not directly support:\n",
      "        + arithmetic operations\n",
      "        + slicing\n",
      "\n",
      "Intended Usage\n",
      "    - COO is a fast format for constructing sparse matrices\n",
      "    - Once a matrix has been constructed, convert to CSR or\n",
      "      CSC format for fast arithmetic and matrix vector operations\n",
      "    - By default when converting to CSR or CSC format, duplicate (i,j)\n",
      "      entries will be summed together.  This facilitates efficient\n",
      "      construction of finite element matrices and the like. (see example)\n",
      "\n",
      "Examples\n",
      "--------\n",
      "\n",
      ">>> # Constructing an empty matrix\n",
      ">>> from scipy.sparse import coo_matrix\n",
      ">>> coo_matrix((3, 4), dtype=np.int8).toarray()\n",
      "array([[0, 0, 0, 0],\n",
      "       [0, 0, 0, 0],\n",
      "       [0, 0, 0, 0]], dtype=int8)\n",
      "\n",
      ">>> # Constructing a matrix using ijv format\n",
      ">>> row  = np.array([0, 3, 1, 0])\n",
      ">>> col  = np.array([0, 3, 1, 2])\n",
      ">>> data = np.array([4, 5, 7, 9])\n",
      ">>> coo_matrix((data, (row, col)), shape=(4, 4)).toarray()\n",
      "array([[4, 0, 9, 0],\n",
      "       [0, 7, 0, 0],\n",
      "       [0, 0, 0, 0],\n",
      "       [0, 0, 0, 5]])\n",
      "\n",
      ">>> # Constructing a matrix with duplicate indices\n",
      ">>> row  = np.array([0, 0, 1, 3, 1, 0, 0])\n",
      ">>> col  = np.array([0, 2, 1, 3, 1, 0, 0])\n",
      ">>> data = np.array([1, 1, 1, 1, 1, 1, 1])\n",
      ">>> coo = coo_matrix((data, (row, col)), shape=(4, 4))\n",
      ">>> # Duplicate indices are maintained until implicitly or explicitly summed\n",
      ">>> np.max(coo.data)\n",
      "1\n",
      ">>> coo.toarray()\n",
      "array([[3, 0, 1, 0],\n",
      "       [0, 2, 0, 0],\n",
      "       [0, 0, 0, 0],\n",
      "       [0, 0, 0, 1]])\n",
      "\n",
      "\n",
      "Methods:\n",
      "\n",
      "  arcsin  --  Element-wise arcsin.\n",
      "  arcsinh  --  Element-wise arcsinh.\n",
      "  arctan  --  Element-wise arctan.\n",
      "  arctanh  --  Element-wise arctanh.\n",
      "  argmax  --  Return indices of maximum elements along an axis.\n",
      "  argmin  --  Return indices of minimum elements along an axis.\n",
      "  asformat  --  Return this matrix in the passed format.\n",
      "  asfptype  --  Upcast matrix to a floating point format (if necessary)\n",
      "  astype  --  Cast the matrix elements to a specified type.\n",
      "  ceil  --  Element-wise ceil.\n",
      "  conj  --  Element-wise complex conjugation.\n",
      "  conjugate  --  Element-wise complex conjugation.\n",
      "  copy  --  Returns a copy of this matrix.\n",
      "  count_nonzero  --  Number of non-zero entries, equivalent to\n",
      "  deg2rad  --  Element-wise deg2rad.\n",
      "  diagonal  --  Returns the kth diagonal of the matrix.\n",
      "  dot  --  Ordinary dot product\n",
      "  eliminate_zeros  --  Remove zero entries from the matrix\n",
      "  expm1  --  Element-wise expm1.\n",
      "  floor  --  Element-wise floor.\n",
      "  getH  --  Return the Hermitian transpose of this matrix.\n",
      "  get_shape  --  Get shape of a matrix.\n",
      "  getcol  --  \n",
      "  getformat  --  Format of a matrix representation as a string.\n",
      "  getmaxprint  --  Maximum number of elements to display when printed.\n",
      "  getnnz  --  Number of stored values, including explicit zeros.\n",
      "  getrow  --  \n",
      "  log1p  --  Element-wise log1p.\n",
      "  max  --  \n",
      "  maximum  --  Element-wise maximum between this and another matrix.\n",
      "  mean  --  Compute the arithmetic mean along the specified axis.\n",
      "  min  --  \n",
      "  minimum  --  Element-wise minimum between this and another matrix.\n",
      "  multiply  --  Point-wise multiplication by another matrix\n",
      "  nonzero  --  nonzero indices\n",
      "  power  --  This function performs element-wise power.\n",
      "  rad2deg  --  Element-wise rad2deg.\n",
      "  reshape  --  reshape(self, shape, order='C', copy=False)\n",
      "  resize  --  Resize the matrix in-place to dimensions given by ``shape``\n",
      "  rint  --  Element-wise rint.\n",
      "  set_shape  --  See `reshape`.\n",
      "  setdiag  --  Set diagonal or off-diagonal elements of the array.\n",
      "  sign  --  Element-wise sign.\n",
      "  sin  --  Element-wise sin.\n",
      "  sinh  --  Element-wise sinh.\n",
      "  sqrt  --  Element-wise sqrt.\n",
      "  sum  --  Sum the matrix elements over a given axis.\n",
      "  sum_duplicates  --  Eliminate duplicate matrix entries by adding them together\n",
      "  tan  --  Element-wise tan.\n",
      "  tanh  --  Element-wise tanh.\n",
      "  toarray  --  See the docstring for `spmatrix.toarray`.\n",
      "  tobsr  --  Convert this matrix to Block Sparse Row format.\n",
      "  tocoo  --  Convert this matrix to COOrdinate format.\n",
      "  tocsc  --  Convert this matrix to Compressed Sparse Column format\n",
      "  tocsr  --  Convert this matrix to Compressed Sparse Row format\n",
      "  todense  --  Return a dense matrix representation of this matrix.\n",
      "  todia  --  Convert this matrix to sparse DIAgonal format.\n",
      "  todok  --  Convert this matrix to Dictionary Of Keys format.\n",
      "  tolil  --  Convert this matrix to List of Lists format.\n",
      "  transpose  --  Reverses the dimensions of the sparse matrix.\n",
      "  trunc  --  Element-wise trunc.\n"
     ]
    }
   ],
   "source": [
    "np.info(coo_matrix)"
   ]
  },
  {
   "cell_type": "markdown",
   "metadata": {},
   "source": [
    "不同格式的稀疏矩阵可以相互转化："
   ]
  },
  {
   "cell_type": "code",
   "execution_count": 4,
   "metadata": {},
   "outputs": [
    {
     "data": {
      "text/plain": [
       "scipy.sparse.coo.coo_matrix"
      ]
     },
     "execution_count": 4,
     "metadata": {},
     "output_type": "execute_result"
    }
   ],
   "source": [
    "type(A)"
   ]
  },
  {
   "cell_type": "code",
   "execution_count": 5,
   "metadata": {},
   "outputs": [
    {
     "data": {
      "text/plain": [
       "scipy.sparse.csr.csr_matrix"
      ]
     },
     "execution_count": 5,
     "metadata": {},
     "output_type": "execute_result"
    }
   ],
   "source": [
    "B = A.tocsr()\n",
    "type(B)"
   ]
  },
  {
   "cell_type": "code",
   "execution_count": 9,
   "metadata": {
    "ExecuteTime": {
     "end_time": "2022-09-16T09:56:54.711014Z",
     "start_time": "2022-09-16T09:56:54.707735Z"
    }
   },
   "outputs": [
    {
     "name": "stdout",
     "output_type": "stream",
     "text": [
      "  (0, 0)\t1\n",
      "  (0, 1)\t2\n",
      "  (1, 2)\t3\n",
      "  (2, 0)\t4\n",
      "  (2, 2)\t5\n",
      "<class 'scipy.sparse.csr.csr_matrix'>\n"
     ]
    }
   ],
   "source": [
    "# cc\n",
    "B = A.tocsr()\n",
    "print(B)\n",
    "print(type(B))"
   ]
  },
  {
   "cell_type": "markdown",
   "metadata": {},
   "source": [
    "可以转化为普通矩阵："
   ]
  },
  {
   "cell_type": "code",
   "execution_count": 6,
   "metadata": {},
   "outputs": [
    {
     "data": {
      "text/plain": [
       "matrix([[1, 2, 0],\n",
       "        [0, 0, 3],\n",
       "        [4, 0, 5]])"
      ]
     },
     "execution_count": 6,
     "metadata": {},
     "output_type": "execute_result"
    }
   ],
   "source": [
    "C = A.todense()\n",
    "C"
   ]
  },
  {
   "cell_type": "code",
   "execution_count": 10,
   "metadata": {
    "ExecuteTime": {
     "end_time": "2022-09-16T09:57:12.447824Z",
     "start_time": "2022-09-16T09:57:12.444303Z"
    }
   },
   "outputs": [
    {
     "data": {
      "text/plain": [
       "matrix([[1, 2, 0],\n",
       "        [0, 0, 3],\n",
       "        [4, 0, 5]])"
      ]
     },
     "execution_count": 10,
     "metadata": {},
     "output_type": "execute_result"
    }
   ],
   "source": [
    "# cc\n",
    "C = A.todense()\n",
    "C"
   ]
  },
  {
   "cell_type": "markdown",
   "metadata": {},
   "source": [
    "与向量的乘法："
   ]
  },
  {
   "cell_type": "code",
   "execution_count": 7,
   "metadata": {},
   "outputs": [
    {
     "data": {
      "text/plain": [
       "array([ 1, -3, -1])"
      ]
     },
     "execution_count": 7,
     "metadata": {},
     "output_type": "execute_result"
    }
   ],
   "source": [
    "v = np.array([1,0,-1])\n",
    "A.dot(v)"
   ]
  },
  {
   "cell_type": "markdown",
   "metadata": {},
   "source": [
    "还可以传入一个 `(data, (row, col))` 的元组来构建稀疏矩阵："
   ]
  },
  {
   "cell_type": "code",
   "execution_count": 8,
   "metadata": {
    "collapsed": true
   },
   "outputs": [],
   "source": [
    "I = np.array([0,3,1,0])\n",
    "J = np.array([0,3,1,2])\n",
    "V = np.array([4,5,7,9])\n",
    "A = coo_matrix((V,(I,J)),shape=(4,4))"
   ]
  },
  {
   "cell_type": "code",
   "execution_count": 9,
   "metadata": {},
   "outputs": [
    {
     "name": "stdout",
     "output_type": "stream",
     "text": [
      "  (0, 0)\t4\n",
      "  (3, 3)\t5\n",
      "  (1, 1)\t7\n",
      "  (0, 2)\t9\n"
     ]
    }
   ],
   "source": [
    "print A"
   ]
  },
  {
   "cell_type": "markdown",
   "metadata": {},
   "source": [
    "COO 格式的稀疏矩阵在构建的时候只是简单的将坐标和值加到后面，对于重复的坐标不进行处理："
   ]
  },
  {
   "cell_type": "code",
   "execution_count": 10,
   "metadata": {},
   "outputs": [
    {
     "name": "stdout",
     "output_type": "stream",
     "text": [
      "  (0, 0)\t1\n",
      "  (0, 2)\t1\n",
      "  (1, 1)\t1\n",
      "  (3, 3)\t1\n",
      "  (1, 1)\t1\n",
      "  (0, 0)\t1\n",
      "  (0, 0)\t1\n"
     ]
    }
   ],
   "source": [
    "I = np.array([0,0,1,3,1,0,0])\n",
    "J = np.array([0,2,1,3,1,0,0])\n",
    "V = np.array([1,1,1,1,1,1,1])\n",
    "B = coo_matrix((V,(I,J)),shape=(4,4))\n",
    "print B"
   ]
  },
  {
   "cell_type": "markdown",
   "metadata": {},
   "source": [
    "转换成 CSR 格式会自动将相同坐标的值合并："
   ]
  },
  {
   "cell_type": "code",
   "execution_count": 11,
   "metadata": {},
   "outputs": [
    {
     "name": "stdout",
     "output_type": "stream",
     "text": [
      "  (0, 0)\t3\n",
      "  (0, 2)\t1\n",
      "  (1, 1)\t2\n",
      "  (3, 3)\t1\n"
     ]
    }
   ],
   "source": [
    "C = B.tocsr()\n",
    "print C"
   ]
  },
  {
   "cell_type": "markdown",
   "metadata": {},
   "source": [
    "## 求解微分方程"
   ]
  },
  {
   "cell_type": "code",
   "execution_count": 12,
   "metadata": {
    "collapsed": true
   },
   "outputs": [],
   "source": [
    "from scipy.sparse import lil_matrix\n",
    "from scipy.sparse.linalg import spsolve\n",
    "from numpy.linalg import solve, norm\n",
    "from numpy.random import rand"
   ]
  },
  {
   "cell_type": "markdown",
   "metadata": {},
   "source": [
    "构建 `1000 x 1000` 的稀疏矩阵："
   ]
  },
  {
   "cell_type": "code",
   "execution_count": 13,
   "metadata": {
    "collapsed": true
   },
   "outputs": [],
   "source": [
    "A = lil_matrix((1000, 1000))\n",
    "A[0, :100] = rand(100)\n",
    "A[1, 100:200] = A[0, :100]\n",
    "A.setdiag(rand(1000))"
   ]
  },
  {
   "cell_type": "markdown",
   "metadata": {},
   "source": [
    "转化为 CSR 之后，用 `spsolve` 求解 $Ax=b$："
   ]
  },
  {
   "cell_type": "code",
   "execution_count": 14,
   "metadata": {
    "collapsed": true
   },
   "outputs": [],
   "source": [
    "A = A.tocsr()\n",
    "b = rand(1000)\n",
    "x = spsolve(A, b)"
   ]
  },
  {
   "cell_type": "markdown",
   "metadata": {},
   "source": [
    "转化成正常数组之后求解："
   ]
  },
  {
   "cell_type": "code",
   "execution_count": 15,
   "metadata": {
    "collapsed": true
   },
   "outputs": [],
   "source": [
    "x_ = solve(A.toarray(), b)"
   ]
  },
  {
   "cell_type": "markdown",
   "metadata": {},
   "source": [
    "查看误差："
   ]
  },
  {
   "cell_type": "code",
   "execution_count": 16,
   "metadata": {},
   "outputs": [
    {
     "data": {
      "text/plain": [
       "6.4310987107687431e-13"
      ]
     },
     "execution_count": 16,
     "metadata": {},
     "output_type": "execute_result"
    }
   ],
   "source": [
    "err = norm(x-x_)\n",
    "err"
   ]
  },
  {
   "cell_type": "markdown",
   "metadata": {},
   "source": [
    "## sparse.find 函数"
   ]
  },
  {
   "cell_type": "markdown",
   "metadata": {},
   "source": [
    "返回一个三元组，表示稀疏矩阵中非零元素的 `(row, col, value)`："
   ]
  },
  {
   "cell_type": "code",
   "execution_count": 17,
   "metadata": {},
   "outputs": [
    {
     "name": "stdout",
     "output_type": "stream",
     "text": [
      "[0 0 1 3] [0 2 1 3] [3 1 2 1]\n"
     ]
    }
   ],
   "source": [
    "from scipy import sparse\n",
    "\n",
    "row, col, val = sparse.find(C)\n",
    "print row, col, val"
   ]
  },
  {
   "cell_type": "markdown",
   "metadata": {},
   "source": [
    "## sparse.issparse 函数"
   ]
  },
  {
   "cell_type": "markdown",
   "metadata": {},
   "source": [
    "查看一个对象是否为稀疏矩阵："
   ]
  },
  {
   "cell_type": "code",
   "execution_count": 18,
   "metadata": {},
   "outputs": [
    {
     "data": {
      "text/plain": [
       "True"
      ]
     },
     "execution_count": 18,
     "metadata": {},
     "output_type": "execute_result"
    }
   ],
   "source": [
    "sparse.issparse(B)"
   ]
  },
  {
   "cell_type": "markdown",
   "metadata": {},
   "source": [
    "或者"
   ]
  },
  {
   "cell_type": "code",
   "execution_count": 19,
   "metadata": {},
   "outputs": [
    {
     "data": {
      "text/plain": [
       "False"
      ]
     },
     "execution_count": 19,
     "metadata": {},
     "output_type": "execute_result"
    }
   ],
   "source": [
    "sparse.isspmatrix(B.todense())"
   ]
  },
  {
   "cell_type": "markdown",
   "metadata": {},
   "source": [
    "还可以查询是否为指定格式的稀疏矩阵："
   ]
  },
  {
   "cell_type": "code",
   "execution_count": 20,
   "metadata": {},
   "outputs": [
    {
     "data": {
      "text/plain": [
       "True"
      ]
     },
     "execution_count": 20,
     "metadata": {},
     "output_type": "execute_result"
    }
   ],
   "source": [
    "sparse.isspmatrix_coo(B)"
   ]
  },
  {
   "cell_type": "code",
   "execution_count": 21,
   "metadata": {},
   "outputs": [
    {
     "data": {
      "text/plain": [
       "False"
      ]
     },
     "execution_count": 21,
     "metadata": {},
     "output_type": "execute_result"
    }
   ],
   "source": [
    "sparse.isspmatrix_csr(B)"
   ]
  }
 ],
 "metadata": {
  "kernelspec": {
   "display_name": "Python 3",
   "language": "python",
   "name": "python3"
  },
  "language_info": {
   "codemirror_mode": {
    "name": "ipython",
    "version": 3
   },
   "file_extension": ".py",
   "mimetype": "text/x-python",
   "name": "python",
   "nbconvert_exporter": "python",
   "pygments_lexer": "ipython3",
   "version": "3.8.8"
  }
 },
 "nbformat": 4,
 "nbformat_minor": 1
}
