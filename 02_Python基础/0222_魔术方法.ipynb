{
 "cells": [
  {
   "cell_type": "markdown",
   "id": "0fb2cf1d",
   "metadata": {},
   "source": [
    "### 常见魔术方法\n",
    "\n",
    "\n",
    "%pylab ： 导入matplotlib 和 numpy\n",
    "\n",
    "%matplotlib inline：内嵌绘图，并且可以省略掉plt.show()这一步。\n",
    "\n",
    "%precision 3 ：全局小数点精度调整为3位\n",
    "\n"
   ]
  },
  {
   "cell_type": "code",
   "execution_count": null,
   "id": "f77edcc1",
   "metadata": {},
   "outputs": [],
   "source": []
  }
 ],
 "metadata": {
  "kernelspec": {
   "display_name": "Python 3",
   "language": "python",
   "name": "python3"
  },
  "language_info": {
   "codemirror_mode": {
    "name": "ipython",
    "version": 3
   },
   "file_extension": ".py",
   "mimetype": "text/x-python",
   "name": "python",
   "nbconvert_exporter": "python",
   "pygments_lexer": "ipython3",
   "version": "3.8.8"
  },
  "toc": {
   "base_numbering": 1,
   "nav_menu": {},
   "number_sections": true,
   "sideBar": true,
   "skip_h1_title": false,
   "title_cell": "Table of Contents",
   "title_sidebar": "Contents",
   "toc_cell": false,
   "toc_position": {},
   "toc_section_display": true,
   "toc_window_display": false
  }
 },
 "nbformat": 4,
 "nbformat_minor": 5
}
