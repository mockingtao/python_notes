{
 "cells": [
  {
   "cell_type": "markdown",
   "id": "4be3ee99",
   "metadata": {},
   "source": [
    "# 时间序列基础"
   ]
  },
  {
   "cell_type": "code",
   "execution_count": 4,
   "id": "6cd31589",
   "metadata": {
    "ExecuteTime": {
     "end_time": "2023-01-20T01:35:07.076574Z",
     "start_time": "2023-01-20T01:35:05.910582Z"
    }
   },
   "outputs": [],
   "source": [
    "import numpy as np\n",
    "import pandas as pd\n",
    "from datetime import datetime\n",
    "from datetime import timedelta\n",
    "from dateutil.parser import parse\n",
    "from pandas import DataFrame, Series"
   ]
  },
  {
   "cell_type": "code",
   "execution_count": 2,
   "id": "1941d48e",
   "metadata": {
    "ExecuteTime": {
     "end_time": "2022-10-14T03:42:23.677073Z",
     "start_time": "2022-10-14T03:42:23.563301Z"
    }
   },
   "outputs": [
    {
     "name": "stdout",
     "output_type": "stream",
     "text": [
      "<class 'pandas.core.series.Series'>\n",
      "<class 'pandas.core.indexes.datetimes.DatetimeIndex'>\n"
     ]
    },
    {
     "data": {
      "text/plain": [
       "2011-01-02    1.046782\n",
       "2011-01-05   -0.750990\n",
       "2011-01-07   -0.553274\n",
       "2011-01-08    0.906677\n",
       "2011-01-10   -0.503824\n",
       "2011-01-12   -0.386186\n",
       "dtype: float64"
      ]
     },
     "execution_count": 2,
     "metadata": {},
     "output_type": "execute_result"
    }
   ],
   "source": [
    "dates = [datetime(2011, 1, 2),\n",
    "         datetime(2011, 1, 5),\n",
    "         datetime(2011, 1, 7),\n",
    "         datetime(2011, 1, 8),\n",
    "         datetime(2011, 1, 10),\n",
    "         datetime(2011, 1, 12)]\n",
    "ts = Series(np.random.randn(6), index=dates)\n",
    "print(type(ts)) # 注意，和书上说的TimeSeries不一样。\n",
    "print(type(ts.index))\n",
    "ts"
   ]
  },
  {
   "cell_type": "code",
   "execution_count": 5,
   "id": "6660845c",
   "metadata": {
    "ExecuteTime": {
     "end_time": "2022-10-14T03:44:46.763371Z",
     "start_time": "2022-10-14T03:44:46.715218Z"
    }
   },
   "outputs": [
    {
     "data": {
      "text/plain": [
       "2011-01-02    1.046782\n",
       "2011-01-07   -0.553274\n",
       "2011-01-10   -0.503824\n",
       "dtype: float64"
      ]
     },
     "execution_count": 5,
     "metadata": {},
     "output_type": "execute_result"
    }
   ],
   "source": [
    "ts[::2] "
   ]
  },
  {
   "cell_type": "code",
   "execution_count": 4,
   "id": "3563ca0a",
   "metadata": {
    "ExecuteTime": {
     "end_time": "2022-10-14T03:44:30.269867Z",
     "start_time": "2022-10-14T03:44:30.209867Z"
    }
   },
   "outputs": [
    {
     "data": {
      "text/plain": [
       "2011-01-02    2.093565\n",
       "2011-01-05         NaN\n",
       "2011-01-07   -1.106548\n",
       "2011-01-08         NaN\n",
       "2011-01-10   -1.007648\n",
       "2011-01-12         NaN\n",
       "dtype: float64"
      ]
     },
     "execution_count": 4,
     "metadata": {},
     "output_type": "execute_result"
    }
   ],
   "source": [
    "ts + ts[::2] # 无法对齐的地方自动填充NA，且用+计算时，nan+1 = nan\n"
   ]
  },
  {
   "cell_type": "code",
   "execution_count": 6,
   "id": "ea6edf57",
   "metadata": {
    "ExecuteTime": {
     "end_time": "2022-10-14T03:45:26.122585Z",
     "start_time": "2022-10-14T03:45:26.088991Z"
    }
   },
   "outputs": [
    {
     "data": {
      "text/plain": [
       "dtype('<M8[ns]')"
      ]
     },
     "execution_count": 6,
     "metadata": {},
     "output_type": "execute_result"
    }
   ],
   "source": [
    "ts.index.dtype # 以ns为单位保存时间戳\n"
   ]
  },
  {
   "cell_type": "code",
   "execution_count": 7,
   "id": "a05f5812",
   "metadata": {
    "ExecuteTime": {
     "end_time": "2022-10-14T03:45:33.228795Z",
     "start_time": "2022-10-14T03:45:33.193559Z"
    }
   },
   "outputs": [
    {
     "data": {
      "text/plain": [
       "Timestamp('2011-01-02 00:00:00')"
      ]
     },
     "execution_count": 7,
     "metadata": {},
     "output_type": "execute_result"
    }
   ],
   "source": [
    "stamp = ts.index[0]\n",
    "stamp"
   ]
  },
  {
   "cell_type": "markdown",
   "id": "46ec9765",
   "metadata": {},
   "source": [
    "## 索引、选取、子集构造"
   ]
  },
  {
   "cell_type": "code",
   "execution_count": 13,
   "id": "14842145",
   "metadata": {
    "ExecuteTime": {
     "end_time": "2022-10-14T06:15:14.936413Z",
     "start_time": "2022-10-14T06:15:14.912494Z"
    }
   },
   "outputs": [
    {
     "data": {
      "text/plain": [
       "2011-01-02    1.046782\n",
       "2011-01-05   -0.750990\n",
       "2011-01-07   -0.553274\n",
       "2011-01-08    0.906677\n",
       "2011-01-10   -0.503824\n",
       "2011-01-12   -0.386186\n",
       "dtype: float64"
      ]
     },
     "execution_count": 13,
     "metadata": {},
     "output_type": "execute_result"
    }
   ],
   "source": [
    "ts"
   ]
  },
  {
   "cell_type": "code",
   "execution_count": 14,
   "id": "4847f167",
   "metadata": {
    "ExecuteTime": {
     "end_time": "2022-10-14T06:15:54.556965Z",
     "start_time": "2022-10-14T06:15:54.524777Z"
    }
   },
   "outputs": [
    {
     "name": "stdout",
     "output_type": "stream",
     "text": [
      "-0.5038238867252985\n",
      "-0.5038238867252985\n"
     ]
    }
   ],
   "source": [
    "print(ts['1/10/2011'])\n",
    "print(ts['20110110'])\n",
    "\n",
    "# cc：当字段类型是datetime的时候；可以用不同格式来访问"
   ]
  },
  {
   "cell_type": "markdown",
   "id": "15398b65",
   "metadata": {},
   "source": [
    "### pd.date_range - 时间范围"
   ]
  },
  {
   "cell_type": "code",
   "execution_count": 15,
   "id": "c5cc0f51",
   "metadata": {
    "ExecuteTime": {
     "end_time": "2022-10-14T06:16:02.749198Z",
     "start_time": "2022-10-14T06:16:02.694054Z"
    }
   },
   "outputs": [
    {
     "name": "stdout",
     "output_type": "stream",
     "text": [
      "2000-01-01   -0.179448\n",
      "2000-01-02    0.095848\n",
      "2000-01-03    0.248319\n",
      "2000-01-04   -0.812250\n",
      "2000-01-05   -1.671145\n",
      "Freq: D, dtype: float64\n",
      "2002-09-22   -0.616625\n",
      "2002-09-23    0.701875\n",
      "2002-09-24   -1.682981\n",
      "2002-09-25   -0.191608\n",
      "2002-09-26   -1.456629\n",
      "Freq: D, dtype: float64\n"
     ]
    }
   ],
   "source": [
    "longer_ts = Series(np.random.randn(1000),\n",
    "                   index=pd.date_range('1/1/2000', periods=1000)) # 连续1000天的数据\n",
    "print(longer_ts.head())\n",
    "print(longer_ts.tail())"
   ]
  },
  {
   "cell_type": "markdown",
   "id": "9e568afa",
   "metadata": {},
   "source": [
    "### 时间索引"
   ]
  },
  {
   "cell_type": "code",
   "execution_count": 16,
   "id": "2f89a765",
   "metadata": {
    "ExecuteTime": {
     "end_time": "2022-10-14T06:21:24.467223Z",
     "start_time": "2022-10-14T06:21:24.412550Z"
    }
   },
   "outputs": [
    {
     "data": {
      "text/plain": [
       "2001-01-01    0.658280\n",
       "2001-01-02   -0.997487\n",
       "2001-01-03    1.116950\n",
       "2001-01-04    0.652873\n",
       "2001-01-05    0.051359\n",
       "Freq: D, dtype: float64"
      ]
     },
     "execution_count": 16,
     "metadata": {},
     "output_type": "execute_result"
    }
   ],
   "source": [
    "longer_ts['2001'].head() # 直接选年份\n",
    "\n",
    "# cc：强！"
   ]
  },
  {
   "cell_type": "code",
   "execution_count": 17,
   "id": "3178fb41",
   "metadata": {
    "ExecuteTime": {
     "end_time": "2022-10-14T06:21:49.150768Z",
     "start_time": "2022-10-14T06:21:49.104849Z"
    }
   },
   "outputs": [
    {
     "data": {
      "text/plain": [
       "2001-05-01    0.303465\n",
       "2001-05-02   -1.188541\n",
       "2001-05-03   -0.876990\n",
       "2001-05-04   -1.465803\n",
       "2001-05-05    2.142942\n",
       "Freq: D, dtype: float64"
      ]
     },
     "execution_count": 17,
     "metadata": {},
     "output_type": "execute_result"
    }
   ],
   "source": [
    "longer_ts['2001-05'].head() # 年 + 月\n"
   ]
  },
  {
   "cell_type": "markdown",
   "id": "b1fabd52",
   "metadata": {},
   "source": [
    "### 切片"
   ]
  },
  {
   "cell_type": "code",
   "execution_count": 19,
   "id": "e28b0142",
   "metadata": {
    "ExecuteTime": {
     "end_time": "2022-10-14T06:22:36.789649Z",
     "start_time": "2022-10-14T06:22:36.736035Z"
    }
   },
   "outputs": [
    {
     "data": {
      "text/plain": [
       "2011-01-02    0.892750\n",
       "2011-01-05    0.715010\n",
       "2011-01-07    0.695968\n",
       "2011-01-08   -1.054984\n",
       "2011-01-10    0.992040\n",
       "2011-01-12   -0.458572\n",
       "dtype: float64"
      ]
     },
     "execution_count": 19,
     "metadata": {},
     "output_type": "execute_result"
    }
   ],
   "source": [
    "dates = [datetime(2011, 1, 2),\n",
    "         datetime(2011, 1, 5),\n",
    "         datetime(2011, 1, 7),\n",
    "         datetime(2011, 1, 8),\n",
    "         datetime(2011, 1, 10),\n",
    "         datetime(2011, 1, 12)] # 重新构造一遍，便于查询数据\n",
    "ts = Series(np.random.randn(6), index=dates)\n",
    "ts"
   ]
  },
  {
   "cell_type": "code",
   "execution_count": 20,
   "id": "e0333ac3",
   "metadata": {
    "ExecuteTime": {
     "end_time": "2022-10-14T06:22:38.378369Z",
     "start_time": "2022-10-14T06:22:38.350181Z"
    }
   },
   "outputs": [
    {
     "data": {
      "text/plain": [
       "2011-01-07    0.695968\n",
       "2011-01-08   -1.054984\n",
       "2011-01-10    0.992040\n",
       "2011-01-12   -0.458572\n",
       "dtype: float64"
      ]
     },
     "execution_count": 20,
     "metadata": {},
     "output_type": "execute_result"
    }
   ],
   "source": [
    "ts[datetime(2011, 1, 7):] # 切片返回 2011-01-07 及以后\n"
   ]
  },
  {
   "cell_type": "code",
   "execution_count": 21,
   "id": "b3558008",
   "metadata": {
    "ExecuteTime": {
     "end_time": "2022-10-14T06:23:47.222411Z",
     "start_time": "2022-10-14T06:23:47.172048Z"
    }
   },
   "outputs": [
    {
     "data": {
      "text/plain": [
       "2011-01-07    0.695968\n",
       "2011-01-08   -1.054984\n",
       "2011-01-10    0.992040\n",
       "2011-01-12   -0.458572\n",
       "dtype: float64"
      ]
     },
     "execution_count": 21,
     "metadata": {},
     "output_type": "execute_result"
    }
   ],
   "source": [
    "ts['1/6/2011':'1/20/2011'] # 1/6和1/20不存在没关系，自动会查。\n"
   ]
  },
  {
   "cell_type": "markdown",
   "id": "f7e84780",
   "metadata": {},
   "source": [
    "### ts.truncate - 类似切片做时间"
   ]
  },
  {
   "cell_type": "code",
   "execution_count": 24,
   "id": "96e537f6",
   "metadata": {
    "ExecuteTime": {
     "end_time": "2022-10-14T06:27:19.462278Z",
     "start_time": "2022-10-14T06:27:19.428567Z"
    }
   },
   "outputs": [
    {
     "data": {
      "text/plain": [
       "2011-01-02    0.892750\n",
       "2011-01-05    0.715010\n",
       "2011-01-07    0.695968\n",
       "2011-01-08   -1.054984\n",
       "dtype: float64"
      ]
     },
     "execution_count": 24,
     "metadata": {},
     "output_type": "execute_result"
    }
   ],
   "source": [
    "ts.truncate(after='1/8/2011') # 截取到2011/1/8\n",
    "\n",
    "# cc：和切片一个道理。\n",
    "# 见官方文档：https://pandas.pydata.org/pandas-docs/stable/reference/api/pandas.DataFrame.truncate.html"
   ]
  },
  {
   "cell_type": "code",
   "execution_count": 25,
   "id": "eb437284",
   "metadata": {
    "ExecuteTime": {
     "end_time": "2022-10-14T06:27:40.963138Z",
     "start_time": "2022-10-14T06:27:40.886450Z"
    }
   },
   "outputs": [
    {
     "data": {
      "text/html": [
       "<div>\n",
       "<style scoped>\n",
       "    .dataframe tbody tr th:only-of-type {\n",
       "        vertical-align: middle;\n",
       "    }\n",
       "\n",
       "    .dataframe tbody tr th {\n",
       "        vertical-align: top;\n",
       "    }\n",
       "\n",
       "    .dataframe thead th {\n",
       "        text-align: right;\n",
       "    }\n",
       "</style>\n",
       "<table border=\"1\" class=\"dataframe\">\n",
       "  <thead>\n",
       "    <tr style=\"text-align: right;\">\n",
       "      <th></th>\n",
       "      <th>Colorado</th>\n",
       "      <th>Texas</th>\n",
       "      <th>New York</th>\n",
       "      <th>Ohio</th>\n",
       "    </tr>\n",
       "  </thead>\n",
       "  <tbody>\n",
       "    <tr>\n",
       "      <th>2000-01-05</th>\n",
       "      <td>0.698443</td>\n",
       "      <td>1.208438</td>\n",
       "      <td>-0.186166</td>\n",
       "      <td>-0.603440</td>\n",
       "    </tr>\n",
       "    <tr>\n",
       "      <th>2000-01-12</th>\n",
       "      <td>-0.696785</td>\n",
       "      <td>2.436136</td>\n",
       "      <td>-1.413933</td>\n",
       "      <td>-1.361121</td>\n",
       "    </tr>\n",
       "    <tr>\n",
       "      <th>2000-01-19</th>\n",
       "      <td>-0.831010</td>\n",
       "      <td>0.622417</td>\n",
       "      <td>0.040842</td>\n",
       "      <td>0.617581</td>\n",
       "    </tr>\n",
       "    <tr>\n",
       "      <th>2000-01-26</th>\n",
       "      <td>-0.161445</td>\n",
       "      <td>-0.461966</td>\n",
       "      <td>1.308103</td>\n",
       "      <td>0.310308</td>\n",
       "    </tr>\n",
       "    <tr>\n",
       "      <th>2000-02-02</th>\n",
       "      <td>-2.140641</td>\n",
       "      <td>-0.610529</td>\n",
       "      <td>1.333593</td>\n",
       "      <td>0.516684</td>\n",
       "    </tr>\n",
       "  </tbody>\n",
       "</table>\n",
       "</div>"
      ],
      "text/plain": [
       "            Colorado     Texas  New York      Ohio\n",
       "2000-01-05  0.698443  1.208438 -0.186166 -0.603440\n",
       "2000-01-12 -0.696785  2.436136 -1.413933 -1.361121\n",
       "2000-01-19 -0.831010  0.622417  0.040842  0.617581\n",
       "2000-01-26 -0.161445 -0.461966  1.308103  0.310308\n",
       "2000-02-02 -2.140641 -0.610529  1.333593  0.516684"
      ]
     },
     "execution_count": 25,
     "metadata": {},
     "output_type": "execute_result"
    }
   ],
   "source": [
    "dates = pd.date_range('1/1/2000', periods=100, freq='W-WED')\n",
    "long_df = DataFrame(np.random.randn(100, 4),\n",
    "                    index=dates,\n",
    "                    columns=['Colorado', 'Texas', 'New York', 'Ohio'])\n",
    "long_df.head()"
   ]
  },
  {
   "cell_type": "code",
   "execution_count": 26,
   "id": "7ddaafb9",
   "metadata": {
    "ExecuteTime": {
     "end_time": "2022-10-14T06:28:09.977852Z",
     "start_time": "2022-10-14T06:28:09.948771Z"
    }
   },
   "outputs": [
    {
     "data": {
      "text/html": [
       "<div>\n",
       "<style scoped>\n",
       "    .dataframe tbody tr th:only-of-type {\n",
       "        vertical-align: middle;\n",
       "    }\n",
       "\n",
       "    .dataframe tbody tr th {\n",
       "        vertical-align: top;\n",
       "    }\n",
       "\n",
       "    .dataframe thead th {\n",
       "        text-align: right;\n",
       "    }\n",
       "</style>\n",
       "<table border=\"1\" class=\"dataframe\">\n",
       "  <thead>\n",
       "    <tr style=\"text-align: right;\">\n",
       "      <th></th>\n",
       "      <th>Colorado</th>\n",
       "      <th>Texas</th>\n",
       "      <th>New York</th>\n",
       "      <th>Ohio</th>\n",
       "    </tr>\n",
       "  </thead>\n",
       "  <tbody>\n",
       "    <tr>\n",
       "      <th>2001-05-02</th>\n",
       "      <td>0.555311</td>\n",
       "      <td>-0.503932</td>\n",
       "      <td>0.394058</td>\n",
       "      <td>-1.205138</td>\n",
       "    </tr>\n",
       "    <tr>\n",
       "      <th>2001-05-09</th>\n",
       "      <td>-0.625032</td>\n",
       "      <td>-0.861600</td>\n",
       "      <td>-0.366383</td>\n",
       "      <td>0.296367</td>\n",
       "    </tr>\n",
       "    <tr>\n",
       "      <th>2001-05-16</th>\n",
       "      <td>-0.270204</td>\n",
       "      <td>-0.556950</td>\n",
       "      <td>-0.149391</td>\n",
       "      <td>-0.149297</td>\n",
       "    </tr>\n",
       "    <tr>\n",
       "      <th>2001-05-23</th>\n",
       "      <td>0.277581</td>\n",
       "      <td>1.325862</td>\n",
       "      <td>-0.479486</td>\n",
       "      <td>0.705575</td>\n",
       "    </tr>\n",
       "    <tr>\n",
       "      <th>2001-05-30</th>\n",
       "      <td>-0.273454</td>\n",
       "      <td>0.101053</td>\n",
       "      <td>1.416024</td>\n",
       "      <td>0.056522</td>\n",
       "    </tr>\n",
       "  </tbody>\n",
       "</table>\n",
       "</div>"
      ],
      "text/plain": [
       "            Colorado     Texas  New York      Ohio\n",
       "2001-05-02  0.555311 -0.503932  0.394058 -1.205138\n",
       "2001-05-09 -0.625032 -0.861600 -0.366383  0.296367\n",
       "2001-05-16 -0.270204 -0.556950 -0.149391 -0.149297\n",
       "2001-05-23  0.277581  1.325862 -0.479486  0.705575\n",
       "2001-05-30 -0.273454  0.101053  1.416024  0.056522"
      ]
     },
     "execution_count": 26,
     "metadata": {},
     "output_type": "execute_result"
    }
   ],
   "source": [
    "long_df.loc['5-2001'] # 2001年5月\n"
   ]
  },
  {
   "cell_type": "code",
   "execution_count": 27,
   "id": "a844765d",
   "metadata": {
    "ExecuteTime": {
     "end_time": "2022-10-14T06:28:40.057864Z",
     "start_time": "2022-10-14T06:28:40.035873Z"
    }
   },
   "outputs": [
    {
     "name": "stderr",
     "output_type": "stream",
     "text": [
      "<ipython-input-27-3f713bcead65>:1: FutureWarning: Indexing a DataFrame with a datetimelike index using a single string to slice the rows, like `frame[string]`, is deprecated and will be removed in a future version. Use `frame.loc[string]` instead.\n",
      "  long_df['5-2001']\n"
     ]
    },
    {
     "data": {
      "text/html": [
       "<div>\n",
       "<style scoped>\n",
       "    .dataframe tbody tr th:only-of-type {\n",
       "        vertical-align: middle;\n",
       "    }\n",
       "\n",
       "    .dataframe tbody tr th {\n",
       "        vertical-align: top;\n",
       "    }\n",
       "\n",
       "    .dataframe thead th {\n",
       "        text-align: right;\n",
       "    }\n",
       "</style>\n",
       "<table border=\"1\" class=\"dataframe\">\n",
       "  <thead>\n",
       "    <tr style=\"text-align: right;\">\n",
       "      <th></th>\n",
       "      <th>Colorado</th>\n",
       "      <th>Texas</th>\n",
       "      <th>New York</th>\n",
       "      <th>Ohio</th>\n",
       "    </tr>\n",
       "  </thead>\n",
       "  <tbody>\n",
       "    <tr>\n",
       "      <th>2001-05-02</th>\n",
       "      <td>0.555311</td>\n",
       "      <td>-0.503932</td>\n",
       "      <td>0.394058</td>\n",
       "      <td>-1.205138</td>\n",
       "    </tr>\n",
       "    <tr>\n",
       "      <th>2001-05-09</th>\n",
       "      <td>-0.625032</td>\n",
       "      <td>-0.861600</td>\n",
       "      <td>-0.366383</td>\n",
       "      <td>0.296367</td>\n",
       "    </tr>\n",
       "    <tr>\n",
       "      <th>2001-05-16</th>\n",
       "      <td>-0.270204</td>\n",
       "      <td>-0.556950</td>\n",
       "      <td>-0.149391</td>\n",
       "      <td>-0.149297</td>\n",
       "    </tr>\n",
       "    <tr>\n",
       "      <th>2001-05-23</th>\n",
       "      <td>0.277581</td>\n",
       "      <td>1.325862</td>\n",
       "      <td>-0.479486</td>\n",
       "      <td>0.705575</td>\n",
       "    </tr>\n",
       "    <tr>\n",
       "      <th>2001-05-30</th>\n",
       "      <td>-0.273454</td>\n",
       "      <td>0.101053</td>\n",
       "      <td>1.416024</td>\n",
       "      <td>0.056522</td>\n",
       "    </tr>\n",
       "  </tbody>\n",
       "</table>\n",
       "</div>"
      ],
      "text/plain": [
       "            Colorado     Texas  New York      Ohio\n",
       "2001-05-02  0.555311 -0.503932  0.394058 -1.205138\n",
       "2001-05-09 -0.625032 -0.861600 -0.366383  0.296367\n",
       "2001-05-16 -0.270204 -0.556950 -0.149391 -0.149297\n",
       "2001-05-23  0.277581  1.325862 -0.479486  0.705575\n",
       "2001-05-30 -0.273454  0.101053  1.416024  0.056522"
      ]
     },
     "execution_count": 27,
     "metadata": {},
     "output_type": "execute_result"
    }
   ],
   "source": [
    "long_df['5-2001'] # cc：虽然这种方式也可以，但是见warning，建议还是用上面的方式；\n",
    "# （这是对DataFrame的要求，对Series就没有这个要求了！）"
   ]
  },
  {
   "cell_type": "markdown",
   "id": "6c789c15",
   "metadata": {},
   "source": [
    "## 带有重复索引的时间序列"
   ]
  },
  {
   "cell_type": "code",
   "execution_count": 30,
   "id": "d1a60428",
   "metadata": {
    "ExecuteTime": {
     "end_time": "2022-10-14T06:31:00.256528Z",
     "start_time": "2022-10-14T06:31:00.222340Z"
    }
   },
   "outputs": [
    {
     "data": {
      "text/plain": [
       "2000-01-01    0\n",
       "2000-01-02    1\n",
       "2000-01-02    2\n",
       "2000-01-02    3\n",
       "2000-01-03    4\n",
       "dtype: int64"
      ]
     },
     "execution_count": 30,
     "metadata": {},
     "output_type": "execute_result"
    }
   ],
   "source": [
    "dates = pd.DatetimeIndex(['1/1/2000',\n",
    "                          '1/2/2000',\n",
    "                          '1/2/2000',\n",
    "                          '1/2/2000',\n",
    "                          '1/3/2000'])\n",
    "dup_ts = Series(np.arange(5), index=dates)\n",
    "dup_ts"
   ]
  },
  {
   "cell_type": "code",
   "execution_count": 31,
   "id": "da0daad5",
   "metadata": {
    "ExecuteTime": {
     "end_time": "2022-10-14T06:31:09.945747Z",
     "start_time": "2022-10-14T06:31:09.936275Z"
    }
   },
   "outputs": [
    {
     "data": {
      "text/plain": [
       "False"
      ]
     },
     "execution_count": 31,
     "metadata": {},
     "output_type": "execute_result"
    }
   ],
   "source": [
    "dup_ts.index.is_unique\n"
   ]
  },
  {
   "cell_type": "code",
   "execution_count": 32,
   "id": "ae690e77",
   "metadata": {
    "ExecuteTime": {
     "end_time": "2022-10-14T06:31:22.827164Z",
     "start_time": "2022-10-14T06:31:22.799600Z"
    }
   },
   "outputs": [
    {
     "data": {
      "text/plain": [
       "4"
      ]
     },
     "execution_count": 32,
     "metadata": {},
     "output_type": "execute_result"
    }
   ],
   "source": [
    "dup_ts['1/3/2000'] # 不重复\n"
   ]
  },
  {
   "cell_type": "code",
   "execution_count": 33,
   "id": "4b939a58",
   "metadata": {
    "ExecuteTime": {
     "end_time": "2022-10-14T06:31:29.225662Z",
     "start_time": "2022-10-14T06:31:29.180373Z"
    }
   },
   "outputs": [
    {
     "data": {
      "text/plain": [
       "2000-01-02    1\n",
       "2000-01-02    2\n",
       "2000-01-02    3\n",
       "dtype: int64"
      ]
     },
     "execution_count": 33,
     "metadata": {},
     "output_type": "execute_result"
    }
   ],
   "source": [
    "dup_ts['1/2/2000'] # 重复\n"
   ]
  },
  {
   "cell_type": "code",
   "execution_count": 5,
   "id": "b7f773e4",
   "metadata": {
    "ExecuteTime": {
     "end_time": "2023-01-20T01:35:13.439584Z",
     "start_time": "2023-01-20T01:35:13.384841Z"
    }
   },
   "outputs": [],
   "source": [
    "# 查看相关参数\n",
    "DataFrame.groupby?"
   ]
  },
  {
   "cell_type": "code",
   "execution_count": 35,
   "id": "930d42c3",
   "metadata": {
    "ExecuteTime": {
     "end_time": "2022-10-14T06:32:12.976392Z",
     "start_time": "2022-10-14T06:32:12.943206Z"
    }
   },
   "outputs": [
    {
     "name": "stdout",
     "output_type": "stream",
     "text": [
      "2000-01-01    0\n",
      "2000-01-02    2\n",
      "2000-01-03    4\n",
      "dtype: int64\n",
      "2000-01-01    1\n",
      "2000-01-02    3\n",
      "2000-01-03    1\n",
      "dtype: int64\n"
     ]
    }
   ],
   "source": [
    "grouped = dup_ts.groupby(level=0)\n",
    "# 参数level：\n",
    "# If the axis is a MultiIndex (hierarchical), group by a particular level or levels.\n",
    "# 如果轴是 MultiIndex (分层) ，则按特定级别进行分组。\n",
    "print(grouped.mean())\n",
    "print(grouped.count())\n"
   ]
  },
  {
   "cell_type": "code",
   "execution_count": null,
   "id": "924ca3b5",
   "metadata": {},
   "outputs": [],
   "source": []
  },
  {
   "cell_type": "code",
   "execution_count": null,
   "id": "caa9a326",
   "metadata": {},
   "outputs": [],
   "source": []
  },
  {
   "cell_type": "code",
   "execution_count": null,
   "id": "d921e193",
   "metadata": {},
   "outputs": [],
   "source": []
  },
  {
   "cell_type": "code",
   "execution_count": null,
   "id": "8482514b",
   "metadata": {},
   "outputs": [],
   "source": []
  },
  {
   "cell_type": "code",
   "execution_count": null,
   "id": "7b1558e3",
   "metadata": {},
   "outputs": [],
   "source": []
  },
  {
   "cell_type": "code",
   "execution_count": null,
   "id": "544b9b15",
   "metadata": {},
   "outputs": [],
   "source": []
  },
  {
   "cell_type": "code",
   "execution_count": null,
   "id": "03724f65",
   "metadata": {},
   "outputs": [],
   "source": []
  },
  {
   "cell_type": "code",
   "execution_count": null,
   "id": "8779e734",
   "metadata": {},
   "outputs": [],
   "source": []
  },
  {
   "cell_type": "code",
   "execution_count": null,
   "id": "f49f5ce2",
   "metadata": {},
   "outputs": [],
   "source": []
  }
 ],
 "metadata": {
  "kernelspec": {
   "display_name": "Python 3",
   "language": "python",
   "name": "python3"
  },
  "language_info": {
   "codemirror_mode": {
    "name": "ipython",
    "version": 3
   },
   "file_extension": ".py",
   "mimetype": "text/x-python",
   "name": "python",
   "nbconvert_exporter": "python",
   "pygments_lexer": "ipython3",
   "version": "3.8.8"
  },
  "toc": {
   "base_numbering": 1,
   "nav_menu": {},
   "number_sections": true,
   "sideBar": true,
   "skip_h1_title": false,
   "title_cell": "Table of Contents",
   "title_sidebar": "Contents",
   "toc_cell": false,
   "toc_position": {
    "height": "calc(100% - 180px)",
    "left": "10px",
    "top": "150px",
    "width": "247px"
   },
   "toc_section_display": true,
   "toc_window_display": true
  }
 },
 "nbformat": 4,
 "nbformat_minor": 5
}
