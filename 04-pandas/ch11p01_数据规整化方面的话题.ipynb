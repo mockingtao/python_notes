{
 "cells": [
  {
   "cell_type": "code",
   "execution_count": 1,
   "id": "627d7efe",
   "metadata": {
    "ExecuteTime": {
     "end_time": "2022-10-15T07:09:13.202436Z",
     "start_time": "2022-10-15T07:09:11.204628Z"
    }
   },
   "outputs": [],
   "source": [
    "import numpy as np\n",
    "import pandas as pd\n",
    "from datetime import time\n",
    "from pandas import DataFrame, Series"
   ]
  },
  {
   "cell_type": "markdown",
   "id": "394440aa",
   "metadata": {},
   "source": [
    "## 时间序列以及截面对齐"
   ]
  },
  {
   "cell_type": "code",
   "execution_count": 3,
   "id": "b875cdf6",
   "metadata": {
    "ExecuteTime": {
     "end_time": "2022-10-15T07:11:36.841188Z",
     "start_time": "2022-10-15T07:11:36.788297Z"
    }
   },
   "outputs": [
    {
     "name": "stdout",
     "output_type": "stream",
     "text": [
      "            AAPL  MSFT   XOM    IBM     SPX\n",
      "1990-02-01  7.86  0.51  6.12  16.79  328.79\n",
      "1990-02-02  8.00  0.51  6.24  16.89  330.92\n",
      "1990-02-05  8.18  0.51  6.25  17.32  331.85\n",
      "1990-02-06  8.12  0.51  6.23  17.56  329.66\n",
      "1990-02-07  7.77  0.51  6.33  17.93  333.75\n",
      "              AAPL   MSFT    XOM     IBM      SPX\n",
      "2011-10-10  388.81  26.94  76.28  186.62  1194.89\n",
      "2011-10-11  400.29  27.00  76.27  185.00  1195.54\n",
      "2011-10-12  402.19  26.96  77.16  186.12  1207.25\n",
      "2011-10-13  408.43  27.18  76.37  186.82  1203.66\n",
      "2011-10-14  422.00  27.27  78.11  190.53  1224.58\n"
     ]
    }
   ],
   "source": [
    "close_px_all = pd.read_csv('data/stock_px.csv', parse_dates=True, index_col=0)\n",
    "close_px = close_px_all[['AAPL', 'MSFT', 'XOM', 'IBM', 'SPX']]\n",
    "print(close_px.head())\n",
    "print(close_px.tail())"
   ]
  },
  {
   "cell_type": "code",
   "execution_count": 9,
   "id": "54005d18",
   "metadata": {
    "ExecuteTime": {
     "end_time": "2022-10-15T07:14:40.817863Z",
     "start_time": "2022-10-15T07:14:40.788901Z"
    }
   },
   "outputs": [
    {
     "data": {
      "text/html": [
       "<div>\n",
       "<style scoped>\n",
       "    .dataframe tbody tr th:only-of-type {\n",
       "        vertical-align: middle;\n",
       "    }\n",
       "\n",
       "    .dataframe tbody tr th {\n",
       "        vertical-align: top;\n",
       "    }\n",
       "\n",
       "    .dataframe thead th {\n",
       "        text-align: right;\n",
       "    }\n",
       "</style>\n",
       "<table border=\"1\" class=\"dataframe\">\n",
       "  <thead>\n",
       "    <tr style=\"text-align: right;\">\n",
       "      <th></th>\n",
       "      <th>AAPL</th>\n",
       "      <th>MSFT</th>\n",
       "      <th>XOM</th>\n",
       "      <th>IBM</th>\n",
       "      <th>SPX</th>\n",
       "    </tr>\n",
       "  </thead>\n",
       "  <tbody>\n",
       "    <tr>\n",
       "      <th>1990-02-01</th>\n",
       "      <td>7.86</td>\n",
       "      <td>0.51</td>\n",
       "      <td>6.12</td>\n",
       "      <td>16.79</td>\n",
       "      <td>328.79</td>\n",
       "    </tr>\n",
       "    <tr>\n",
       "      <th>1990-02-02</th>\n",
       "      <td>8.00</td>\n",
       "      <td>0.51</td>\n",
       "      <td>6.24</td>\n",
       "      <td>16.89</td>\n",
       "      <td>330.92</td>\n",
       "    </tr>\n",
       "    <tr>\n",
       "      <th>1990-02-05</th>\n",
       "      <td>8.18</td>\n",
       "      <td>0.51</td>\n",
       "      <td>6.25</td>\n",
       "      <td>17.32</td>\n",
       "      <td>331.85</td>\n",
       "    </tr>\n",
       "    <tr>\n",
       "      <th>1990-02-06</th>\n",
       "      <td>8.12</td>\n",
       "      <td>0.51</td>\n",
       "      <td>6.23</td>\n",
       "      <td>17.56</td>\n",
       "      <td>329.66</td>\n",
       "    </tr>\n",
       "    <tr>\n",
       "      <th>1990-02-07</th>\n",
       "      <td>7.77</td>\n",
       "      <td>0.51</td>\n",
       "      <td>6.33</td>\n",
       "      <td>17.93</td>\n",
       "      <td>333.75</td>\n",
       "    </tr>\n",
       "    <tr>\n",
       "      <th>...</th>\n",
       "      <td>...</td>\n",
       "      <td>...</td>\n",
       "      <td>...</td>\n",
       "      <td>...</td>\n",
       "      <td>...</td>\n",
       "    </tr>\n",
       "    <tr>\n",
       "      <th>2011-10-10</th>\n",
       "      <td>388.81</td>\n",
       "      <td>26.94</td>\n",
       "      <td>76.28</td>\n",
       "      <td>186.62</td>\n",
       "      <td>1194.89</td>\n",
       "    </tr>\n",
       "    <tr>\n",
       "      <th>2011-10-11</th>\n",
       "      <td>400.29</td>\n",
       "      <td>27.00</td>\n",
       "      <td>76.27</td>\n",
       "      <td>185.00</td>\n",
       "      <td>1195.54</td>\n",
       "    </tr>\n",
       "    <tr>\n",
       "      <th>2011-10-12</th>\n",
       "      <td>402.19</td>\n",
       "      <td>26.96</td>\n",
       "      <td>77.16</td>\n",
       "      <td>186.12</td>\n",
       "      <td>1207.25</td>\n",
       "    </tr>\n",
       "    <tr>\n",
       "      <th>2011-10-13</th>\n",
       "      <td>408.43</td>\n",
       "      <td>27.18</td>\n",
       "      <td>76.37</td>\n",
       "      <td>186.82</td>\n",
       "      <td>1203.66</td>\n",
       "    </tr>\n",
       "    <tr>\n",
       "      <th>2011-10-14</th>\n",
       "      <td>422.00</td>\n",
       "      <td>27.27</td>\n",
       "      <td>78.11</td>\n",
       "      <td>190.53</td>\n",
       "      <td>1224.58</td>\n",
       "    </tr>\n",
       "  </tbody>\n",
       "</table>\n",
       "<p>5472 rows × 5 columns</p>\n",
       "</div>"
      ],
      "text/plain": [
       "              AAPL   MSFT    XOM     IBM      SPX\n",
       "1990-02-01    7.86   0.51   6.12   16.79   328.79\n",
       "1990-02-02    8.00   0.51   6.24   16.89   330.92\n",
       "1990-02-05    8.18   0.51   6.25   17.32   331.85\n",
       "1990-02-06    8.12   0.51   6.23   17.56   329.66\n",
       "1990-02-07    7.77   0.51   6.33   17.93   333.75\n",
       "...            ...    ...    ...     ...      ...\n",
       "2011-10-10  388.81  26.94  76.28  186.62  1194.89\n",
       "2011-10-11  400.29  27.00  76.27  185.00  1195.54\n",
       "2011-10-12  402.19  26.96  77.16  186.12  1207.25\n",
       "2011-10-13  408.43  27.18  76.37  186.82  1203.66\n",
       "2011-10-14  422.00  27.27  78.11  190.53  1224.58\n",
       "\n",
       "[5472 rows x 5 columns]"
      ]
     },
     "execution_count": 9,
     "metadata": {},
     "output_type": "execute_result"
    }
   ],
   "source": [
    "close_px"
   ]
  },
  {
   "cell_type": "code",
   "execution_count": 8,
   "id": "c3db32c8",
   "metadata": {
    "ExecuteTime": {
     "end_time": "2022-10-15T07:13:33.791244Z",
     "start_time": "2022-10-15T07:13:33.749113Z"
    }
   },
   "outputs": [
    {
     "data": {
      "text/html": [
       "<div>\n",
       "<style scoped>\n",
       "    .dataframe tbody tr th:only-of-type {\n",
       "        vertical-align: middle;\n",
       "    }\n",
       "\n",
       "    .dataframe tbody tr th {\n",
       "        vertical-align: top;\n",
       "    }\n",
       "\n",
       "    .dataframe thead th {\n",
       "        text-align: right;\n",
       "    }\n",
       "</style>\n",
       "<table border=\"1\" class=\"dataframe\">\n",
       "  <thead>\n",
       "    <tr style=\"text-align: right;\">\n",
       "      <th></th>\n",
       "      <th>AAPL</th>\n",
       "      <th>MSFT</th>\n",
       "      <th>XOM</th>\n",
       "      <th>SPX</th>\n",
       "    </tr>\n",
       "  </thead>\n",
       "  <tbody>\n",
       "    <tr>\n",
       "      <th>1990-02-01</th>\n",
       "      <td>4193200.0</td>\n",
       "      <td>89193600.0</td>\n",
       "      <td>2916400.0</td>\n",
       "      <td>154580000.0</td>\n",
       "    </tr>\n",
       "    <tr>\n",
       "      <th>1990-02-02</th>\n",
       "      <td>4248800.0</td>\n",
       "      <td>71395200.0</td>\n",
       "      <td>4250000.0</td>\n",
       "      <td>164400000.0</td>\n",
       "    </tr>\n",
       "    <tr>\n",
       "      <th>1990-02-05</th>\n",
       "      <td>3653200.0</td>\n",
       "      <td>59731200.0</td>\n",
       "      <td>5880800.0</td>\n",
       "      <td>130950000.0</td>\n",
       "    </tr>\n",
       "    <tr>\n",
       "      <th>1990-02-06</th>\n",
       "      <td>2640000.0</td>\n",
       "      <td>81964800.0</td>\n",
       "      <td>4750800.0</td>\n",
       "      <td>134070000.0</td>\n",
       "    </tr>\n",
       "    <tr>\n",
       "      <th>1990-02-07</th>\n",
       "      <td>11180800.0</td>\n",
       "      <td>134150400.0</td>\n",
       "      <td>4124800.0</td>\n",
       "      <td>186710000.0</td>\n",
       "    </tr>\n",
       "  </tbody>\n",
       "</table>\n",
       "</div>"
      ],
      "text/plain": [
       "                  AAPL         MSFT        XOM          SPX\n",
       "1990-02-01   4193200.0   89193600.0  2916400.0  154580000.0\n",
       "1990-02-02   4248800.0   71395200.0  4250000.0  164400000.0\n",
       "1990-02-05   3653200.0   59731200.0  5880800.0  130950000.0\n",
       "1990-02-06   2640000.0   81964800.0  4750800.0  134070000.0\n",
       "1990-02-07  11180800.0  134150400.0  4124800.0  186710000.0"
      ]
     },
     "execution_count": 8,
     "metadata": {},
     "output_type": "execute_result"
    }
   ],
   "source": [
    "volume_all = pd.read_csv('data/volume.csv', parse_dates=True, index_col=0)\n",
    "volume = volume_all[['AAPL', 'MSFT', 'XOM', 'SPX']]\n",
    "volume.head()"
   ]
  },
  {
   "cell_type": "code",
   "execution_count": 10,
   "id": "86f566a1",
   "metadata": {
    "ExecuteTime": {
     "end_time": "2022-10-15T07:15:07.146631Z",
     "start_time": "2022-10-15T07:15:07.095744Z"
    }
   },
   "outputs": [
    {
     "data": {
      "text/html": [
       "<div>\n",
       "<style scoped>\n",
       "    .dataframe tbody tr th:only-of-type {\n",
       "        vertical-align: middle;\n",
       "    }\n",
       "\n",
       "    .dataframe tbody tr th {\n",
       "        vertical-align: top;\n",
       "    }\n",
       "\n",
       "    .dataframe thead th {\n",
       "        text-align: right;\n",
       "    }\n",
       "</style>\n",
       "<table border=\"1\" class=\"dataframe\">\n",
       "  <thead>\n",
       "    <tr style=\"text-align: right;\">\n",
       "      <th></th>\n",
       "      <th>AAPL</th>\n",
       "      <th>IBM</th>\n",
       "      <th>MSFT</th>\n",
       "      <th>SPX</th>\n",
       "      <th>XOM</th>\n",
       "    </tr>\n",
       "  </thead>\n",
       "  <tbody>\n",
       "    <tr>\n",
       "      <th>1990-02-01</th>\n",
       "      <td>32958552.0</td>\n",
       "      <td>NaN</td>\n",
       "      <td>45488736.0</td>\n",
       "      <td>5.082436e+10</td>\n",
       "      <td>17848368.0</td>\n",
       "    </tr>\n",
       "    <tr>\n",
       "      <th>1990-02-02</th>\n",
       "      <td>33990400.0</td>\n",
       "      <td>NaN</td>\n",
       "      <td>36411552.0</td>\n",
       "      <td>5.440325e+10</td>\n",
       "      <td>26520000.0</td>\n",
       "    </tr>\n",
       "    <tr>\n",
       "      <th>1990-02-05</th>\n",
       "      <td>29883176.0</td>\n",
       "      <td>NaN</td>\n",
       "      <td>30462912.0</td>\n",
       "      <td>4.345576e+10</td>\n",
       "      <td>36755000.0</td>\n",
       "    </tr>\n",
       "    <tr>\n",
       "      <th>1990-02-06</th>\n",
       "      <td>21436800.0</td>\n",
       "      <td>NaN</td>\n",
       "      <td>41802048.0</td>\n",
       "      <td>4.419752e+10</td>\n",
       "      <td>29597484.0</td>\n",
       "    </tr>\n",
       "    <tr>\n",
       "      <th>1990-02-07</th>\n",
       "      <td>86874816.0</td>\n",
       "      <td>NaN</td>\n",
       "      <td>68416704.0</td>\n",
       "      <td>6.231446e+10</td>\n",
       "      <td>26109984.0</td>\n",
       "    </tr>\n",
       "  </tbody>\n",
       "</table>\n",
       "</div>"
      ],
      "text/plain": [
       "                  AAPL  IBM        MSFT           SPX         XOM\n",
       "1990-02-01  32958552.0  NaN  45488736.0  5.082436e+10  17848368.0\n",
       "1990-02-02  33990400.0  NaN  36411552.0  5.440325e+10  26520000.0\n",
       "1990-02-05  29883176.0  NaN  30462912.0  4.345576e+10  36755000.0\n",
       "1990-02-06  21436800.0  NaN  41802048.0  4.419752e+10  29597484.0\n",
       "1990-02-07  86874816.0  NaN  68416704.0  6.231446e+10  26109984.0"
      ]
     },
     "execution_count": 10,
     "metadata": {},
     "output_type": "execute_result"
    }
   ],
   "source": [
    "(close_px * volume).head() # 自动匹配对应位置，计算当天成交所额。IBM没有就填充NA。\n"
   ]
  },
  {
   "cell_type": "code",
   "execution_count": 11,
   "id": "fb4beee8",
   "metadata": {
    "ExecuteTime": {
     "end_time": "2022-10-15T07:15:39.368157Z",
     "start_time": "2022-10-15T07:15:39.336599Z"
    }
   },
   "outputs": [
    {
     "data": {
      "text/plain": [
       "AAPL      81.246271\n",
       "IBM             NaN\n",
       "MSFT      16.923765\n",
       "SPX     1134.418556\n",
       "XOM       50.520303\n",
       "dtype: float64"
      ]
     },
     "execution_count": 11,
     "metadata": {},
     "output_type": "execute_result"
    }
   ],
   "source": [
    "vwap = (close_px * volume).sum() / volume.sum()\n",
    "vwap"
   ]
  },
  {
   "cell_type": "code",
   "execution_count": 12,
   "id": "9ed98dae",
   "metadata": {
    "ExecuteTime": {
     "end_time": "2022-10-15T07:16:07.653637Z",
     "start_time": "2022-10-15T07:16:07.633497Z"
    }
   },
   "outputs": [
    {
     "data": {
      "text/plain": [
       "AAPL      81.246271\n",
       "MSFT      16.923765\n",
       "SPX     1134.418556\n",
       "XOM       50.520303\n",
       "dtype: float64"
      ]
     },
     "execution_count": 12,
     "metadata": {},
     "output_type": "execute_result"
    }
   ],
   "source": [
    "vwap.dropna()\n"
   ]
  },
  {
   "cell_type": "code",
   "execution_count": 13,
   "id": "77eb7246",
   "metadata": {
    "ExecuteTime": {
     "end_time": "2022-10-15T07:16:30.966711Z",
     "start_time": "2022-10-15T07:16:30.946955Z"
    }
   },
   "outputs": [
    {
     "name": "stdout",
     "output_type": "stream",
     "text": [
      "            AAPL  MSFT   XOM     SPX\n",
      "1990-02-01  7.86  0.51  6.12  328.79\n",
      "1990-02-02  8.00  0.51  6.24  330.92\n",
      "1990-02-05  8.18  0.51  6.25  331.85\n",
      "1990-02-06  8.12  0.51  6.23  329.66\n",
      "1990-02-07  7.77  0.51  6.33  333.75\n",
      "1990-02-08  7.71  0.51  6.35  332.96\n",
      "1990-02-09  8.00  0.52  6.37  333.62\n",
      "1990-02-12  7.94  0.52  6.22  330.08\n",
      "1990-02-13  8.06  0.52  6.23  331.02\n",
      "1990-02-14  8.00  0.52  6.20  332.01\n",
      "                  AAPL         MSFT        XOM          SPX\n",
      "1990-02-01   4193200.0   89193600.0  2916400.0  154580000.0\n",
      "1990-02-02   4248800.0   71395200.0  4250000.0  164400000.0\n",
      "1990-02-05   3653200.0   59731200.0  5880800.0  130950000.0\n",
      "1990-02-06   2640000.0   81964800.0  4750800.0  134070000.0\n",
      "1990-02-07  11180800.0  134150400.0  4124800.0  186710000.0\n",
      "1990-02-08   6680000.0   95225600.0  5651200.0  176240000.0\n",
      "1990-02-09   6004400.0   62380800.0  3384800.0  146910000.0\n",
      "1990-02-12   2695600.0   56086400.0  2698000.0  118390000.0\n",
      "1990-02-13   3653600.0   58752000.0  3564800.0  144490000.0\n",
      "1990-02-14   3448000.0   35868800.0  2830000.0  138530000.0\n"
     ]
    }
   ],
   "source": [
    "tp = close_px.align(volume, join='inner') # 返回与volume对齐的元组\n",
    "# tp[0]是close_px，tp[1]是volume。\n",
    "print(tp[0][:10])\n",
    "print(tp[1][:10])"
   ]
  },
  {
   "cell_type": "code",
   "execution_count": 14,
   "id": "7c9e4336",
   "metadata": {
    "ExecuteTime": {
     "end_time": "2022-10-15T07:26:51.823845Z",
     "start_time": "2022-10-15T07:26:51.791156Z"
    }
   },
   "outputs": [
    {
     "data": {
      "text/html": [
       "<div>\n",
       "<style scoped>\n",
       "    .dataframe tbody tr th:only-of-type {\n",
       "        vertical-align: middle;\n",
       "    }\n",
       "\n",
       "    .dataframe tbody tr th {\n",
       "        vertical-align: top;\n",
       "    }\n",
       "\n",
       "    .dataframe thead th {\n",
       "        text-align: right;\n",
       "    }\n",
       "</style>\n",
       "<table border=\"1\" class=\"dataframe\">\n",
       "  <thead>\n",
       "    <tr style=\"text-align: right;\">\n",
       "      <th></th>\n",
       "      <th>one</th>\n",
       "      <th>two</th>\n",
       "      <th>three</th>\n",
       "    </tr>\n",
       "  </thead>\n",
       "  <tbody>\n",
       "    <tr>\n",
       "      <th>a</th>\n",
       "      <td>0.0</td>\n",
       "      <td>NaN</td>\n",
       "      <td>1.0</td>\n",
       "    </tr>\n",
       "    <tr>\n",
       "      <th>b</th>\n",
       "      <td>1.0</td>\n",
       "      <td>1.0</td>\n",
       "      <td>NaN</td>\n",
       "    </tr>\n",
       "    <tr>\n",
       "      <th>c</th>\n",
       "      <td>2.0</td>\n",
       "      <td>2.0</td>\n",
       "      <td>2.0</td>\n",
       "    </tr>\n",
       "    <tr>\n",
       "      <th>d</th>\n",
       "      <td>NaN</td>\n",
       "      <td>0.0</td>\n",
       "      <td>NaN</td>\n",
       "    </tr>\n",
       "    <tr>\n",
       "      <th>e</th>\n",
       "      <td>NaN</td>\n",
       "      <td>3.0</td>\n",
       "      <td>NaN</td>\n",
       "    </tr>\n",
       "    <tr>\n",
       "      <th>f</th>\n",
       "      <td>NaN</td>\n",
       "      <td>NaN</td>\n",
       "      <td>0.0</td>\n",
       "    </tr>\n",
       "  </tbody>\n",
       "</table>\n",
       "</div>"
      ],
      "text/plain": [
       "   one  two  three\n",
       "a  0.0  NaN    1.0\n",
       "b  1.0  1.0    NaN\n",
       "c  2.0  2.0    2.0\n",
       "d  NaN  0.0    NaN\n",
       "e  NaN  3.0    NaN\n",
       "f  NaN  NaN    0.0"
      ]
     },
     "execution_count": 14,
     "metadata": {},
     "output_type": "execute_result"
    }
   ],
   "source": [
    "s1 = Series(range(3), index=['a', 'b', 'c'])\n",
    "s2 = Series(range(4), index=['d', 'b', 'c', 'e'])\n",
    "s3 = Series(range(3), index=['f', 'a', 'c'])\n",
    "df = DataFrame({'one': s1, 'two': s2, 'three': s3})\n",
    "df"
   ]
  },
  {
   "cell_type": "code",
   "execution_count": 15,
   "id": "c730cab9",
   "metadata": {
    "ExecuteTime": {
     "end_time": "2022-10-15T07:27:51.485502Z",
     "start_time": "2022-10-15T07:27:51.460381Z"
    }
   },
   "outputs": [
    {
     "data": {
      "text/html": [
       "<div>\n",
       "<style scoped>\n",
       "    .dataframe tbody tr th:only-of-type {\n",
       "        vertical-align: middle;\n",
       "    }\n",
       "\n",
       "    .dataframe tbody tr th {\n",
       "        vertical-align: top;\n",
       "    }\n",
       "\n",
       "    .dataframe thead th {\n",
       "        text-align: right;\n",
       "    }\n",
       "</style>\n",
       "<table border=\"1\" class=\"dataframe\">\n",
       "  <thead>\n",
       "    <tr style=\"text-align: right;\">\n",
       "      <th></th>\n",
       "      <th>one</th>\n",
       "      <th>two</th>\n",
       "      <th>three</th>\n",
       "    </tr>\n",
       "  </thead>\n",
       "  <tbody>\n",
       "    <tr>\n",
       "      <th>f</th>\n",
       "      <td>NaN</td>\n",
       "      <td>NaN</td>\n",
       "      <td>0.0</td>\n",
       "    </tr>\n",
       "    <tr>\n",
       "      <th>a</th>\n",
       "      <td>0.0</td>\n",
       "      <td>NaN</td>\n",
       "      <td>1.0</td>\n",
       "    </tr>\n",
       "    <tr>\n",
       "      <th>c</th>\n",
       "      <td>2.0</td>\n",
       "      <td>2.0</td>\n",
       "      <td>2.0</td>\n",
       "    </tr>\n",
       "    <tr>\n",
       "      <th>e</th>\n",
       "      <td>NaN</td>\n",
       "      <td>3.0</td>\n",
       "      <td>NaN</td>\n",
       "    </tr>\n",
       "  </tbody>\n",
       "</table>\n",
       "</div>"
      ],
      "text/plain": [
       "   one  two  three\n",
       "f  NaN  NaN    0.0\n",
       "a  0.0  NaN    1.0\n",
       "c  2.0  2.0    2.0\n",
       "e  NaN  3.0    NaN"
      ]
     },
     "execution_count": 15,
     "metadata": {},
     "output_type": "execute_result"
    }
   ],
   "source": [
    "df = DataFrame({'one': s1, 'two': s2, 'three': s3}, index=list('face')) # 显示定义索引对齐\n",
    "df"
   ]
  },
  {
   "cell_type": "markdown",
   "id": "00f05bab",
   "metadata": {},
   "source": [
    "## 频率不同的时间序列的运算"
   ]
  },
  {
   "cell_type": "code",
   "execution_count": 16,
   "id": "54ff5149",
   "metadata": {
    "ExecuteTime": {
     "end_time": "2022-10-15T07:28:45.749849Z",
     "start_time": "2022-10-15T07:28:45.723755Z"
    }
   },
   "outputs": [
    {
     "data": {
      "text/plain": [
       "2012-06-13   -2.053877\n",
       "2012-06-20    0.734005\n",
       "2012-06-27   -0.847427\n",
       "Freq: W-WED, dtype: float64"
      ]
     },
     "execution_count": 16,
     "metadata": {},
     "output_type": "execute_result"
    }
   ],
   "source": [
    "ts1 = Series(np.random.randn(3),\n",
    "             index=pd.date_range('2012-6-13', periods=3, freq='W-WED'))\n",
    "ts1"
   ]
  },
  {
   "cell_type": "code",
   "execution_count": 17,
   "id": "e2a499ac",
   "metadata": {
    "ExecuteTime": {
     "end_time": "2022-10-15T07:32:56.031422Z",
     "start_time": "2022-10-15T07:32:55.999269Z"
    }
   },
   "outputs": [
    {
     "data": {
      "text/plain": [
       "2012-06-13   -2.053877\n",
       "2012-06-14   -2.053877\n",
       "2012-06-15   -2.053877\n",
       "2012-06-18   -2.053877\n",
       "2012-06-19   -2.053877\n",
       "2012-06-20    0.734005\n",
       "2012-06-21    0.734005\n",
       "2012-06-22    0.734005\n",
       "2012-06-25    0.734005\n",
       "2012-06-26    0.734005\n",
       "2012-06-27   -0.847427\n",
       "Freq: B, dtype: float64"
      ]
     },
     "execution_count": 17,
     "metadata": {},
     "output_type": "execute_result"
    }
   ],
   "source": [
    "ts1 = ts1.resample('B').ffill() # 重新采样，如果没有ffill就需要用ts2.iteritems()遍历访问\n",
    "ts1"
   ]
  },
  {
   "cell_type": "code",
   "execution_count": 18,
   "id": "e97f1b71",
   "metadata": {
    "ExecuteTime": {
     "end_time": "2022-10-15T07:33:11.573985Z",
     "start_time": "2022-10-15T07:33:11.546911Z"
    }
   },
   "outputs": [
    {
     "data": {
      "text/plain": [
       "2012-06-12    0.878601\n",
       "2012-06-17   -2.358855\n",
       "2012-06-18    0.532669\n",
       "2012-06-21    0.308243\n",
       "2012-06-22   -1.335175\n",
       "2012-06-29   -1.661290\n",
       "dtype: float64"
      ]
     },
     "execution_count": 18,
     "metadata": {},
     "output_type": "execute_result"
    }
   ],
   "source": [
    "dates = pd.DatetimeIndex(['2012-6-12',\n",
    "                          '2012-6-17',\n",
    "                          '2012-6-18',\n",
    "                          '2012-6-21',\n",
    "                          '2012-6-22',\n",
    "                          '2012-6-29'])\n",
    "ts2 = Series(np.random.randn(6), index=dates)\n",
    "ts2"
   ]
  },
  {
   "cell_type": "code",
   "execution_count": 19,
   "id": "86a8599f",
   "metadata": {
    "ExecuteTime": {
     "end_time": "2022-10-15T07:33:22.263451Z",
     "start_time": "2022-10-15T07:33:22.235775Z"
    }
   },
   "outputs": [
    {
     "data": {
      "text/plain": [
       "2012-06-12         NaN\n",
       "2012-06-17   -4.412732\n",
       "2012-06-18   -1.521208\n",
       "2012-06-21    1.042248\n",
       "2012-06-22   -0.601170\n",
       "2012-06-29   -2.508717\n",
       "dtype: float64"
      ]
     },
     "execution_count": 19,
     "metadata": {},
     "output_type": "execute_result"
    }
   ],
   "source": [
    "ts2 + ts1.reindex(ts2.index, method='ffill') # ts1的索引先和ts2对齐，然后相加。\n"
   ]
  },
  {
   "cell_type": "markdown",
   "id": "d3241433",
   "metadata": {},
   "source": [
    "## 使用Period"
   ]
  },
  {
   "cell_type": "code",
   "execution_count": 21,
   "id": "f6b25037",
   "metadata": {
    "ExecuteTime": {
     "end_time": "2022-10-15T07:34:52.941254Z",
     "start_time": "2022-10-15T07:34:52.922991Z"
    }
   },
   "outputs": [
    {
     "data": {
      "text/plain": [
       "1984Q2    1.78\n",
       "1984Q3    1.94\n",
       "1984Q4    2.08\n",
       "1985Q1    2.01\n",
       "1985Q2    2.15\n",
       "1985Q3    2.31\n",
       "1985Q4    2.46\n",
       "Freq: Q-SEP, dtype: float64"
      ]
     },
     "execution_count": 21,
     "metadata": {},
     "output_type": "execute_result"
    }
   ],
   "source": [
    "gdp = Series([1.78, 1.94, 2.08, 2.01, 2.15, 2.31, 2.46],\n",
    "             index=pd.period_range('1984Q2', periods=7, freq='Q-SEP'))\n",
    "gdp"
   ]
  },
  {
   "cell_type": "code",
   "execution_count": 22,
   "id": "6b9180fd",
   "metadata": {
    "ExecuteTime": {
     "end_time": "2022-10-15T08:03:03.309852Z",
     "start_time": "2022-10-15T08:03:03.299005Z"
    }
   },
   "outputs": [
    {
     "data": {
      "text/plain": [
       "1982    0.025\n",
       "1983    0.045\n",
       "1984    0.037\n",
       "1985    0.040\n",
       "Freq: A-DEC, dtype: float64"
      ]
     },
     "execution_count": 22,
     "metadata": {},
     "output_type": "execute_result"
    }
   ],
   "source": [
    "infl = Series([0.025, 0.045, 0.037, 0.04],\n",
    "              index=pd.period_range('1982', periods=4, freq='A-DEC'))\n",
    "infl # 显然和gdp的时间频率不一样"
   ]
  },
  {
   "cell_type": "code",
   "execution_count": 26,
   "id": "8ab18272",
   "metadata": {
    "ExecuteTime": {
     "end_time": "2022-10-15T08:09:05.468479Z",
     "start_time": "2022-10-15T08:09:05.459378Z"
    }
   },
   "outputs": [
    {
     "data": {
      "text/plain": [
       "1982Q4    0.025\n",
       "1983Q4    0.045\n",
       "1984Q4    0.037\n",
       "1985Q4    0.040\n",
       "Freq: Q-DEC, dtype: float64"
      ]
     },
     "execution_count": 26,
     "metadata": {},
     "output_type": "execute_result"
    }
   ],
   "source": [
    "infl_q = infl.asfreq('Q-DEC', how='end') # 调整季度\n",
    "infl_q"
   ]
  },
  {
   "cell_type": "code",
   "execution_count": 27,
   "id": "e4ee81af",
   "metadata": {
    "ExecuteTime": {
     "end_time": "2022-10-15T08:09:07.098226Z",
     "start_time": "2022-10-15T08:09:07.088711Z"
    }
   },
   "outputs": [
    {
     "data": {
      "text/plain": [
       "1984Q2    0.045\n",
       "1984Q3    0.045\n",
       "1984Q4    0.037\n",
       "1985Q1    0.037\n",
       "1985Q2    0.037\n",
       "1985Q3    0.037\n",
       "1985Q4    0.040\n",
       "Freq: Q-DEC, dtype: float64"
      ]
     },
     "execution_count": 27,
     "metadata": {},
     "output_type": "execute_result"
    }
   ],
   "source": [
    "infl_q.reindex(gdp.index, method='ffill') # 索引匹配并且填充缺失值\n"
   ]
  },
  {
   "cell_type": "markdown",
   "id": "ee8232ab",
   "metadata": {},
   "source": [
    "## 时间和“最当前”数据选取"
   ]
  },
  {
   "cell_type": "code",
   "execution_count": null,
   "id": "b2c1f098",
   "metadata": {},
   "outputs": [],
   "source": []
  },
  {
   "cell_type": "code",
   "execution_count": null,
   "id": "24e9565e",
   "metadata": {},
   "outputs": [],
   "source": []
  },
  {
   "cell_type": "code",
   "execution_count": null,
   "id": "025d368f",
   "metadata": {},
   "outputs": [],
   "source": []
  },
  {
   "cell_type": "code",
   "execution_count": null,
   "id": "fb00bdd3",
   "metadata": {},
   "outputs": [],
   "source": []
  },
  {
   "cell_type": "code",
   "execution_count": null,
   "id": "fdb4cc88",
   "metadata": {},
   "outputs": [],
   "source": []
  },
  {
   "cell_type": "code",
   "execution_count": null,
   "id": "857c3f12",
   "metadata": {},
   "outputs": [],
   "source": []
  },
  {
   "cell_type": "code",
   "execution_count": null,
   "id": "cf8fa3e0",
   "metadata": {},
   "outputs": [],
   "source": []
  },
  {
   "cell_type": "code",
   "execution_count": null,
   "id": "3778db90",
   "metadata": {},
   "outputs": [],
   "source": []
  },
  {
   "cell_type": "code",
   "execution_count": null,
   "id": "28d14dc3",
   "metadata": {},
   "outputs": [],
   "source": []
  }
 ],
 "metadata": {
  "kernelspec": {
   "display_name": "Python 3",
   "language": "python",
   "name": "python3"
  },
  "language_info": {
   "codemirror_mode": {
    "name": "ipython",
    "version": 3
   },
   "file_extension": ".py",
   "mimetype": "text/x-python",
   "name": "python",
   "nbconvert_exporter": "python",
   "pygments_lexer": "ipython3",
   "version": "3.8.8"
  }
 },
 "nbformat": 4,
 "nbformat_minor": 5
}
