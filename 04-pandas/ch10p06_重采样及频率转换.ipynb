{
 "cells": [
  {
   "cell_type": "markdown",
   "id": "e0e9318d",
   "metadata": {},
   "source": [
    "# 重采样及频率转换"
   ]
  },
  {
   "cell_type": "code",
   "execution_count": 1,
   "id": "90703e43",
   "metadata": {
    "ExecuteTime": {
     "end_time": "2022-10-14T11:38:59.724757Z",
     "start_time": "2022-10-14T11:38:57.566216Z"
    }
   },
   "outputs": [],
   "source": [
    "import numpy as np\n",
    "import pandas as pd\n",
    "from datetime import datetime\n",
    "from datetime import timedelta\n",
    "from dateutil.parser import parse\n",
    "from pandas import DataFrame, Series\n",
    "from pandas.tseries.offsets import Day, Hour, Minute, MonthEnd"
   ]
  },
  {
   "cell_type": "code",
   "execution_count": 2,
   "id": "cef73012",
   "metadata": {
    "ExecuteTime": {
     "end_time": "2022-10-14T11:39:24.115075Z",
     "start_time": "2022-10-14T11:39:24.073750Z"
    }
   },
   "outputs": [
    {
     "data": {
      "text/plain": [
       "2000-01   -0.073327\n",
       "2000-02    0.093245\n",
       "2000-03   -0.368806\n",
       "2000-04    0.493865\n",
       "Freq: M, dtype: float64"
      ]
     },
     "execution_count": 2,
     "metadata": {},
     "output_type": "execute_result"
    }
   ],
   "source": [
    "rng = pd.date_range('1/1/2000', periods=100, freq='D')\n",
    "ts = Series(np.random.randn(len(rng)), index=rng)\n",
    "ts.resample('M', kind='period').mean() # 统计每月平均数，实际上是根据月份做了group。"
   ]
  },
  {
   "cell_type": "markdown",
   "id": "6894894f",
   "metadata": {},
   "source": [
    "### resample方法的参数\n",
    "\n",
    "- freq：\n",
    "- how已经被淘汰。原来的how='mean'写成resample(...).mean()。\n",
    "- axis：\n",
    "- fill_method已经被淘汰。原来的fill_method='...'写成resample(...).ffill()。方法为ffill或bfill，默认不插值。\n",
    "- close：      在降采样中，各时间段的哪一端是闭合的，'right'（默认）或'left'。\n",
    "- label：      在降采样中，如何设置聚合值的标签。'right'（默认）或'left'（面元的右/左边界）。\n",
    "-              例如，9:30到9:35之间的这5分钟会被标记成9:30或9:35。\n",
    "- loffset：    面元标签的时间校正值。比如'-1s'或Second(-1)用于将聚合标签调早1秒。\n",
    "- limit：      在向前或向后填充时，允许填充的最大时期数。默认None。\n",
    "- kind：       聚合到时期（'period'）或时间戳（'timestamp'）,默认聚合到时间序列的索引类型。\n",
    "- convertion： 当重采样时期时，将低频转换到高频采样所采用的约定（'start'或'end'），默认'end'。"
   ]
  },
  {
   "cell_type": "markdown",
   "id": "49c0ba5f",
   "metadata": {},
   "source": [
    "## 降采样"
   ]
  },
  {
   "cell_type": "code",
   "execution_count": 3,
   "id": "ff408583",
   "metadata": {
    "ExecuteTime": {
     "end_time": "2022-10-14T11:48:20.172634Z",
     "start_time": "2022-10-14T11:48:20.151432Z"
    }
   },
   "outputs": [
    {
     "data": {
      "text/plain": [
       "2000-01-01 00:00:00     0\n",
       "2000-01-01 00:01:00     1\n",
       "2000-01-01 00:02:00     2\n",
       "2000-01-01 00:03:00     3\n",
       "2000-01-01 00:04:00     4\n",
       "2000-01-01 00:05:00     5\n",
       "2000-01-01 00:06:00     6\n",
       "2000-01-01 00:07:00     7\n",
       "2000-01-01 00:08:00     8\n",
       "2000-01-01 00:09:00     9\n",
       "2000-01-01 00:10:00    10\n",
       "2000-01-01 00:11:00    11\n",
       "Freq: T, dtype: int64"
      ]
     },
     "execution_count": 3,
     "metadata": {},
     "output_type": "execute_result"
    }
   ],
   "source": [
    "rng = pd.date_range('1/1/2000', periods=12, freq='T') # T是按分钟\n",
    "ts = Series(np.arange(12), index=rng)\n",
    "ts"
   ]
  },
  {
   "cell_type": "code",
   "execution_count": 4,
   "id": "defee265",
   "metadata": {
    "ExecuteTime": {
     "end_time": "2022-10-14T11:48:52.731735Z",
     "start_time": "2022-10-14T11:48:52.655700Z"
    }
   },
   "outputs": [
    {
     "data": {
      "text/plain": [
       "2000-01-01 00:00:00    10\n",
       "2000-01-01 00:05:00    35\n",
       "2000-01-01 00:10:00    21\n",
       "Freq: 5T, dtype: int64"
      ]
     },
     "execution_count": 4,
     "metadata": {},
     "output_type": "execute_result"
    }
   ],
   "source": [
    "ts.resample(Minute(5)).sum() # 等价：ts.resample('5min').sum()\n"
   ]
  },
  {
   "cell_type": "code",
   "execution_count": 5,
   "id": "a76835ab",
   "metadata": {
    "ExecuteTime": {
     "end_time": "2022-10-14T11:49:12.477540Z",
     "start_time": "2022-10-14T11:49:12.454372Z"
    }
   },
   "outputs": [
    {
     "data": {
      "text/plain": [
       "1999-12-31 23:55:00     0\n",
       "2000-01-01 00:00:00    15\n",
       "2000-01-01 00:05:00    40\n",
       "2000-01-01 00:10:00    11\n",
       "Freq: 5T, dtype: int64"
      ]
     },
     "execution_count": 5,
     "metadata": {},
     "output_type": "execute_result"
    }
   ],
   "source": [
    "ts.resample('5min', closed='right').sum() # 比较一下left/right不同结果\n"
   ]
  },
  {
   "cell_type": "code",
   "execution_count": 7,
   "id": "5f0b71a9",
   "metadata": {
    "ExecuteTime": {
     "end_time": "2022-10-14T11:49:46.500252Z",
     "start_time": "2022-10-14T11:49:46.469617Z"
    }
   },
   "outputs": [
    {
     "data": {
      "text/plain": [
       "2000-01-01 00:00:00    10\n",
       "2000-01-01 00:05:00    35\n",
       "2000-01-01 00:10:00    21\n",
       "Freq: 5T, dtype: int64"
      ]
     },
     "execution_count": 7,
     "metadata": {},
     "output_type": "execute_result"
    }
   ],
   "source": [
    "ts.resample('5min', closed='left').sum() # 比较一下left/right不同结果\n"
   ]
  },
  {
   "cell_type": "code",
   "execution_count": 6,
   "id": "adb7a6a8",
   "metadata": {
    "ExecuteTime": {
     "end_time": "2022-10-14T11:49:30.100581Z",
     "start_time": "2022-10-14T11:49:30.081971Z"
    }
   },
   "outputs": [
    {
     "data": {
      "text/plain": [
       "2000-01-01 00:05:00    10\n",
       "2000-01-01 00:10:00    35\n",
       "2000-01-01 00:15:00    21\n",
       "Freq: 5T, dtype: int64"
      ]
     },
     "execution_count": 6,
     "metadata": {},
     "output_type": "execute_result"
    }
   ],
   "source": [
    "ts.resample('5min', closed='left', label='right').sum() # 比较close/label不同组合的结果\n"
   ]
  },
  {
   "cell_type": "code",
   "execution_count": 8,
   "id": "c8053ab7",
   "metadata": {
    "ExecuteTime": {
     "end_time": "2022-10-14T11:50:01.074763Z",
     "start_time": "2022-10-14T11:50:01.029621Z"
    }
   },
   "outputs": [
    {
     "name": "stderr",
     "output_type": "stream",
     "text": [
      "<ipython-input-8-e060dca601dd>:1: FutureWarning: 'loffset' in .resample() and in Grouper() is deprecated.\n",
      "\n",
      ">>> df.resample(freq=\"3s\", loffset=\"8H\")\n",
      "\n",
      "becomes:\n",
      "\n",
      ">>> from pandas.tseries.frequencies import to_offset\n",
      ">>> df = df.resample(freq=\"3s\").mean()\n",
      ">>> df.index = df.index.to_timestamp() + to_offset(\"8H\")\n",
      "\n",
      "  ts.resample('5min', loffset='-1s').sum()\n"
     ]
    },
    {
     "data": {
      "text/plain": [
       "1999-12-31 23:59:59    10\n",
       "2000-01-01 00:04:59    35\n",
       "2000-01-01 00:09:59    21\n",
       "Freq: 5T, dtype: int64"
      ]
     },
     "execution_count": 8,
     "metadata": {},
     "output_type": "execute_result"
    }
   ],
   "source": [
    "ts.resample('5min', loffset='-1s').sum()\n"
   ]
  },
  {
   "cell_type": "markdown",
   "id": "6706117e",
   "metadata": {},
   "source": [
    "## OHLC重采样 Open/High/Low/Close"
   ]
  },
  {
   "cell_type": "code",
   "execution_count": 10,
   "id": "8b9135a7",
   "metadata": {
    "ExecuteTime": {
     "end_time": "2022-10-14T11:53:05.256698Z",
     "start_time": "2022-10-14T11:53:05.248818Z"
    }
   },
   "outputs": [
    {
     "data": {
      "text/plain": [
       "2000-01-01 00:00:00     0\n",
       "2000-01-01 00:01:00     1\n",
       "2000-01-01 00:02:00     2\n",
       "2000-01-01 00:03:00     3\n",
       "2000-01-01 00:04:00     4\n",
       "2000-01-01 00:05:00     5\n",
       "2000-01-01 00:06:00     6\n",
       "2000-01-01 00:07:00     7\n",
       "2000-01-01 00:08:00     8\n",
       "2000-01-01 00:09:00     9\n",
       "2000-01-01 00:10:00    10\n",
       "2000-01-01 00:11:00    11\n",
       "Freq: T, dtype: int64"
      ]
     },
     "execution_count": 10,
     "metadata": {},
     "output_type": "execute_result"
    }
   ],
   "source": [
    "ts"
   ]
  },
  {
   "cell_type": "code",
   "execution_count": 9,
   "id": "80d58781",
   "metadata": {
    "ExecuteTime": {
     "end_time": "2022-10-14T11:52:56.550455Z",
     "start_time": "2022-10-14T11:52:56.522536Z"
    }
   },
   "outputs": [
    {
     "data": {
      "text/html": [
       "<div>\n",
       "<style scoped>\n",
       "    .dataframe tbody tr th:only-of-type {\n",
       "        vertical-align: middle;\n",
       "    }\n",
       "\n",
       "    .dataframe tbody tr th {\n",
       "        vertical-align: top;\n",
       "    }\n",
       "\n",
       "    .dataframe thead th {\n",
       "        text-align: right;\n",
       "    }\n",
       "</style>\n",
       "<table border=\"1\" class=\"dataframe\">\n",
       "  <thead>\n",
       "    <tr style=\"text-align: right;\">\n",
       "      <th></th>\n",
       "      <th>open</th>\n",
       "      <th>high</th>\n",
       "      <th>low</th>\n",
       "      <th>close</th>\n",
       "    </tr>\n",
       "  </thead>\n",
       "  <tbody>\n",
       "    <tr>\n",
       "      <th>2000-01-01 00:00:00</th>\n",
       "      <td>0</td>\n",
       "      <td>4</td>\n",
       "      <td>0</td>\n",
       "      <td>4</td>\n",
       "    </tr>\n",
       "    <tr>\n",
       "      <th>2000-01-01 00:05:00</th>\n",
       "      <td>5</td>\n",
       "      <td>9</td>\n",
       "      <td>5</td>\n",
       "      <td>9</td>\n",
       "    </tr>\n",
       "    <tr>\n",
       "      <th>2000-01-01 00:10:00</th>\n",
       "      <td>10</td>\n",
       "      <td>11</td>\n",
       "      <td>10</td>\n",
       "      <td>11</td>\n",
       "    </tr>\n",
       "  </tbody>\n",
       "</table>\n",
       "</div>"
      ],
      "text/plain": [
       "                     open  high  low  close\n",
       "2000-01-01 00:00:00     0     4    0      4\n",
       "2000-01-01 00:05:00     5     9    5      9\n",
       "2000-01-01 00:10:00    10    11   10     11"
      ]
     },
     "execution_count": 9,
     "metadata": {},
     "output_type": "execute_result"
    }
   ],
   "source": [
    "ts.resample('5min').ohlc() # 其实就是5分钟k线图\n"
   ]
  },
  {
   "cell_type": "markdown",
   "id": "f72b21d3",
   "metadata": {},
   "source": [
    "## 通过groupby进行重采样"
   ]
  },
  {
   "cell_type": "code",
   "execution_count": 11,
   "id": "00ff85cc",
   "metadata": {
    "ExecuteTime": {
     "end_time": "2022-10-14T11:53:49.007435Z",
     "start_time": "2022-10-14T11:53:48.973364Z"
    }
   },
   "outputs": [
    {
     "data": {
      "text/plain": [
       "1    15\n",
       "2    45\n",
       "3    75\n",
       "4    95\n",
       "dtype: int64"
      ]
     },
     "execution_count": 11,
     "metadata": {},
     "output_type": "execute_result"
    }
   ],
   "source": [
    "rng = pd.date_range('1/1/2000', periods=100, freq='D')\n",
    "ts = Series(np.arange(100), index=rng)\n",
    "ts.groupby(lambda x: x.month).mean()"
   ]
  },
  {
   "cell_type": "code",
   "execution_count": 12,
   "id": "88f0cdb4",
   "metadata": {
    "ExecuteTime": {
     "end_time": "2022-10-14T11:54:35.224260Z",
     "start_time": "2022-10-14T11:54:35.204629Z"
    }
   },
   "outputs": [
    {
     "data": {
      "text/plain": [
       "0    47.5\n",
       "1    48.5\n",
       "2    49.5\n",
       "3    50.5\n",
       "4    51.5\n",
       "5    49.0\n",
       "6    50.0\n",
       "dtype: float64"
      ]
     },
     "execution_count": 12,
     "metadata": {},
     "output_type": "execute_result"
    }
   ],
   "source": [
    "ts.groupby(lambda x: x.weekday).mean() # 0是周日\n"
   ]
  },
  {
   "cell_type": "markdown",
   "id": "cd412096",
   "metadata": {
    "ExecuteTime": {
     "end_time": "2022-10-14T11:54:48.307855Z",
     "start_time": "2022-10-14T11:54:48.304449Z"
    }
   },
   "source": [
    "## 升采样和插值"
   ]
  },
  {
   "cell_type": "code",
   "execution_count": 14,
   "id": "ad14c8b8",
   "metadata": {
    "ExecuteTime": {
     "end_time": "2022-10-14T11:54:59.846952Z",
     "start_time": "2022-10-14T11:54:59.778590Z"
    }
   },
   "outputs": [
    {
     "data": {
      "text/html": [
       "<div>\n",
       "<style scoped>\n",
       "    .dataframe tbody tr th:only-of-type {\n",
       "        vertical-align: middle;\n",
       "    }\n",
       "\n",
       "    .dataframe tbody tr th {\n",
       "        vertical-align: top;\n",
       "    }\n",
       "\n",
       "    .dataframe thead th {\n",
       "        text-align: right;\n",
       "    }\n",
       "</style>\n",
       "<table border=\"1\" class=\"dataframe\">\n",
       "  <thead>\n",
       "    <tr style=\"text-align: right;\">\n",
       "      <th></th>\n",
       "      <th>Colorado</th>\n",
       "      <th>Texas</th>\n",
       "      <th>New York</th>\n",
       "      <th>Ohio</th>\n",
       "    </tr>\n",
       "  </thead>\n",
       "  <tbody>\n",
       "    <tr>\n",
       "      <th>2000-01-05</th>\n",
       "      <td>-1.484707</td>\n",
       "      <td>1.261486</td>\n",
       "      <td>0.679905</td>\n",
       "      <td>-1.113999</td>\n",
       "    </tr>\n",
       "    <tr>\n",
       "      <th>2000-01-12</th>\n",
       "      <td>0.729956</td>\n",
       "      <td>-0.381346</td>\n",
       "      <td>1.619778</td>\n",
       "      <td>-0.058862</td>\n",
       "    </tr>\n",
       "  </tbody>\n",
       "</table>\n",
       "</div>"
      ],
      "text/plain": [
       "            Colorado     Texas  New York      Ohio\n",
       "2000-01-05 -1.484707  1.261486  0.679905 -1.113999\n",
       "2000-01-12  0.729956 -0.381346  1.619778 -0.058862"
      ]
     },
     "execution_count": 14,
     "metadata": {},
     "output_type": "execute_result"
    }
   ],
   "source": [
    "frame = DataFrame(np.random.randn(2, 4),\n",
    "                  index=pd.date_range('1/1/2000', periods=2, freq='W-WED'),\n",
    "                  columns=['Colorado', 'Texas', 'New York', 'Ohio'])\n",
    "frame"
   ]
  },
  {
   "cell_type": "code",
   "execution_count": 16,
   "id": "31d41a05",
   "metadata": {
    "ExecuteTime": {
     "end_time": "2022-10-14T11:55:28.607118Z",
     "start_time": "2022-10-14T11:55:28.599313Z"
    }
   },
   "outputs": [
    {
     "data": {
      "text/plain": [
       "<pandas.core.resample.DatetimeIndexResampler object at 0x7fe4d0c1e340>"
      ]
     },
     "execution_count": 16,
     "metadata": {},
     "output_type": "execute_result"
    }
   ],
   "source": [
    "df_daily = frame.resample('D') # 注意警告信息，resample现在生成的是一个延迟计算对象。\n",
    "df_daily"
   ]
  },
  {
   "cell_type": "code",
   "execution_count": 17,
   "id": "11496112",
   "metadata": {
    "ExecuteTime": {
     "end_time": "2022-10-14T11:55:36.477465Z",
     "start_time": "2022-10-14T11:55:36.434601Z"
    }
   },
   "outputs": [
    {
     "name": "stdout",
     "output_type": "stream",
     "text": [
      "(Timestamp('2000-01-05 00:00:00', freq='D'),             Colorado     Texas  New York      Ohio\n",
      "2000-01-05 -1.484707  1.261486  0.679905 -1.113999)\n",
      "(Timestamp('2000-01-06 00:00:00', freq='D'), Empty DataFrame\n",
      "Columns: [Colorado, Texas, New York, Ohio]\n",
      "Index: [])\n",
      "(Timestamp('2000-01-07 00:00:00', freq='D'), Empty DataFrame\n",
      "Columns: [Colorado, Texas, New York, Ohio]\n",
      "Index: [])\n",
      "(Timestamp('2000-01-08 00:00:00', freq='D'), Empty DataFrame\n",
      "Columns: [Colorado, Texas, New York, Ohio]\n",
      "Index: [])\n",
      "(Timestamp('2000-01-09 00:00:00', freq='D'), Empty DataFrame\n",
      "Columns: [Colorado, Texas, New York, Ohio]\n",
      "Index: [])\n",
      "(Timestamp('2000-01-10 00:00:00', freq='D'), Empty DataFrame\n",
      "Columns: [Colorado, Texas, New York, Ohio]\n",
      "Index: [])\n",
      "(Timestamp('2000-01-11 00:00:00', freq='D'), Empty DataFrame\n",
      "Columns: [Colorado, Texas, New York, Ohio]\n",
      "Index: [])\n",
      "(Timestamp('2000-01-12 00:00:00', freq='D'),             Colorado     Texas  New York      Ohio\n",
      "2000-01-12  0.729956 -0.381346  1.619778 -0.058862)\n"
     ]
    }
   ],
   "source": [
    "for i in df_daily:\n",
    "    print(i)"
   ]
  },
  {
   "cell_type": "code",
   "execution_count": 18,
   "id": "e198c485",
   "metadata": {
    "ExecuteTime": {
     "end_time": "2022-10-14T11:55:50.321352Z",
     "start_time": "2022-10-14T11:55:50.292374Z"
    }
   },
   "outputs": [
    {
     "data": {
      "text/html": [
       "<div>\n",
       "<style scoped>\n",
       "    .dataframe tbody tr th:only-of-type {\n",
       "        vertical-align: middle;\n",
       "    }\n",
       "\n",
       "    .dataframe tbody tr th {\n",
       "        vertical-align: top;\n",
       "    }\n",
       "\n",
       "    .dataframe thead th {\n",
       "        text-align: right;\n",
       "    }\n",
       "</style>\n",
       "<table border=\"1\" class=\"dataframe\">\n",
       "  <thead>\n",
       "    <tr style=\"text-align: right;\">\n",
       "      <th></th>\n",
       "      <th>Colorado</th>\n",
       "      <th>Texas</th>\n",
       "      <th>New York</th>\n",
       "      <th>Ohio</th>\n",
       "    </tr>\n",
       "  </thead>\n",
       "  <tbody>\n",
       "    <tr>\n",
       "      <th>2000-01-05</th>\n",
       "      <td>-1.484707</td>\n",
       "      <td>1.261486</td>\n",
       "      <td>0.679905</td>\n",
       "      <td>-1.113999</td>\n",
       "    </tr>\n",
       "    <tr>\n",
       "      <th>2000-01-06</th>\n",
       "      <td>-1.484707</td>\n",
       "      <td>1.261486</td>\n",
       "      <td>0.679905</td>\n",
       "      <td>-1.113999</td>\n",
       "    </tr>\n",
       "    <tr>\n",
       "      <th>2000-01-07</th>\n",
       "      <td>-1.484707</td>\n",
       "      <td>1.261486</td>\n",
       "      <td>0.679905</td>\n",
       "      <td>-1.113999</td>\n",
       "    </tr>\n",
       "    <tr>\n",
       "      <th>2000-01-08</th>\n",
       "      <td>-1.484707</td>\n",
       "      <td>1.261486</td>\n",
       "      <td>0.679905</td>\n",
       "      <td>-1.113999</td>\n",
       "    </tr>\n",
       "    <tr>\n",
       "      <th>2000-01-09</th>\n",
       "      <td>-1.484707</td>\n",
       "      <td>1.261486</td>\n",
       "      <td>0.679905</td>\n",
       "      <td>-1.113999</td>\n",
       "    </tr>\n",
       "    <tr>\n",
       "      <th>2000-01-10</th>\n",
       "      <td>-1.484707</td>\n",
       "      <td>1.261486</td>\n",
       "      <td>0.679905</td>\n",
       "      <td>-1.113999</td>\n",
       "    </tr>\n",
       "    <tr>\n",
       "      <th>2000-01-11</th>\n",
       "      <td>-1.484707</td>\n",
       "      <td>1.261486</td>\n",
       "      <td>0.679905</td>\n",
       "      <td>-1.113999</td>\n",
       "    </tr>\n",
       "    <tr>\n",
       "      <th>2000-01-12</th>\n",
       "      <td>0.729956</td>\n",
       "      <td>-0.381346</td>\n",
       "      <td>1.619778</td>\n",
       "      <td>-0.058862</td>\n",
       "    </tr>\n",
       "  </tbody>\n",
       "</table>\n",
       "</div>"
      ],
      "text/plain": [
       "            Colorado     Texas  New York      Ohio\n",
       "2000-01-05 -1.484707  1.261486  0.679905 -1.113999\n",
       "2000-01-06 -1.484707  1.261486  0.679905 -1.113999\n",
       "2000-01-07 -1.484707  1.261486  0.679905 -1.113999\n",
       "2000-01-08 -1.484707  1.261486  0.679905 -1.113999\n",
       "2000-01-09 -1.484707  1.261486  0.679905 -1.113999\n",
       "2000-01-10 -1.484707  1.261486  0.679905 -1.113999\n",
       "2000-01-11 -1.484707  1.261486  0.679905 -1.113999\n",
       "2000-01-12  0.729956 -0.381346  1.619778 -0.058862"
      ]
     },
     "execution_count": 18,
     "metadata": {},
     "output_type": "execute_result"
    }
   ],
   "source": [
    "df_daily = frame.resample('D', ).ffill() # ffill做填充，所以resample必须先展开计算。\n",
    "df_daily"
   ]
  },
  {
   "cell_type": "code",
   "execution_count": 19,
   "id": "5abfd760",
   "metadata": {
    "ExecuteTime": {
     "end_time": "2022-10-14T11:56:19.301763Z",
     "start_time": "2022-10-14T11:56:19.101817Z"
    }
   },
   "outputs": [
    {
     "ename": "TypeError",
     "evalue": "resample() got an unexpected keyword argument 'limit'",
     "output_type": "error",
     "traceback": [
      "\u001b[0;31m---------------------------------------------------------------------------\u001b[0m",
      "\u001b[0;31mTypeError\u001b[0m                                 Traceback (most recent call last)",
      "\u001b[0;32m<ipython-input-19-74222366ed90>\u001b[0m in \u001b[0;36m<module>\u001b[0;34m\u001b[0m\n\u001b[0;32m----> 1\u001b[0;31m \u001b[0mdf_daily\u001b[0m \u001b[0;34m=\u001b[0m \u001b[0mframe\u001b[0m\u001b[0;34m.\u001b[0m\u001b[0mresample\u001b[0m\u001b[0;34m(\u001b[0m\u001b[0;34m'D'\u001b[0m\u001b[0;34m,\u001b[0m \u001b[0mlimit\u001b[0m\u001b[0;34m=\u001b[0m\u001b[0;36m2\u001b[0m\u001b[0;34m)\u001b[0m\u001b[0;34m.\u001b[0m\u001b[0mffill\u001b[0m\u001b[0;34m(\u001b[0m\u001b[0;34m)\u001b[0m \u001b[0;31m# 最多填充2次\u001b[0m\u001b[0;34m\u001b[0m\u001b[0;34m\u001b[0m\u001b[0m\n\u001b[0m\u001b[1;32m      2\u001b[0m \u001b[0mdf_daily\u001b[0m\u001b[0;34m\u001b[0m\u001b[0;34m\u001b[0m\u001b[0m\n",
      "\u001b[0;31mTypeError\u001b[0m: resample() got an unexpected keyword argument 'limit'"
     ]
    }
   ],
   "source": [
    "df_daily = frame.resample('D', limit=2).ffill() # 最多填充2次\n",
    "df_daily"
   ]
  },
  {
   "cell_type": "markdown",
   "id": "d35aff80",
   "metadata": {},
   "source": [
    "## 通过时期进行重采样"
   ]
  },
  {
   "cell_type": "code",
   "execution_count": 20,
   "id": "7bfacc05",
   "metadata": {
    "ExecuteTime": {
     "end_time": "2022-10-14T11:57:13.508092Z",
     "start_time": "2022-10-14T11:57:13.481018Z"
    }
   },
   "outputs": [
    {
     "data": {
      "text/html": [
       "<div>\n",
       "<style scoped>\n",
       "    .dataframe tbody tr th:only-of-type {\n",
       "        vertical-align: middle;\n",
       "    }\n",
       "\n",
       "    .dataframe tbody tr th {\n",
       "        vertical-align: top;\n",
       "    }\n",
       "\n",
       "    .dataframe thead th {\n",
       "        text-align: right;\n",
       "    }\n",
       "</style>\n",
       "<table border=\"1\" class=\"dataframe\">\n",
       "  <thead>\n",
       "    <tr style=\"text-align: right;\">\n",
       "      <th></th>\n",
       "      <th>Colorado</th>\n",
       "      <th>Texas</th>\n",
       "      <th>New York</th>\n",
       "      <th>Ohio</th>\n",
       "    </tr>\n",
       "  </thead>\n",
       "  <tbody>\n",
       "    <tr>\n",
       "      <th>2000-01</th>\n",
       "      <td>-1.325571</td>\n",
       "      <td>-0.197373</td>\n",
       "      <td>-0.077481</td>\n",
       "      <td>-0.355313</td>\n",
       "    </tr>\n",
       "    <tr>\n",
       "      <th>2000-02</th>\n",
       "      <td>-0.018144</td>\n",
       "      <td>-0.702155</td>\n",
       "      <td>0.770545</td>\n",
       "      <td>-1.395699</td>\n",
       "    </tr>\n",
       "    <tr>\n",
       "      <th>2000-03</th>\n",
       "      <td>1.391254</td>\n",
       "      <td>1.116864</td>\n",
       "      <td>1.226493</td>\n",
       "      <td>-2.265831</td>\n",
       "    </tr>\n",
       "    <tr>\n",
       "      <th>2000-04</th>\n",
       "      <td>-0.311593</td>\n",
       "      <td>0.089910</td>\n",
       "      <td>0.296247</td>\n",
       "      <td>0.886038</td>\n",
       "    </tr>\n",
       "    <tr>\n",
       "      <th>2000-05</th>\n",
       "      <td>0.478372</td>\n",
       "      <td>-0.083319</td>\n",
       "      <td>2.488567</td>\n",
       "      <td>1.150839</td>\n",
       "    </tr>\n",
       "  </tbody>\n",
       "</table>\n",
       "</div>"
      ],
      "text/plain": [
       "         Colorado     Texas  New York      Ohio\n",
       "2000-01 -1.325571 -0.197373 -0.077481 -0.355313\n",
       "2000-02 -0.018144 -0.702155  0.770545 -1.395699\n",
       "2000-03  1.391254  1.116864  1.226493 -2.265831\n",
       "2000-04 -0.311593  0.089910  0.296247  0.886038\n",
       "2000-05  0.478372 -0.083319  2.488567  1.150839"
      ]
     },
     "execution_count": 20,
     "metadata": {},
     "output_type": "execute_result"
    }
   ],
   "source": [
    "frame = DataFrame(np.random.randn(24, 4),\n",
    "                  index=pd.period_range('1-2000', '12-2001', freq='M'),\n",
    "                  columns=['Colorado', 'Texas', 'New York', 'Ohio'])\n",
    "frame.head()"
   ]
  },
  {
   "cell_type": "code",
   "execution_count": 21,
   "id": "1ea0cd3f",
   "metadata": {
    "ExecuteTime": {
     "end_time": "2022-10-14T11:57:20.860783Z",
     "start_time": "2022-10-14T11:57:20.832726Z"
    }
   },
   "outputs": [
    {
     "data": {
      "text/html": [
       "<div>\n",
       "<style scoped>\n",
       "    .dataframe tbody tr th:only-of-type {\n",
       "        vertical-align: middle;\n",
       "    }\n",
       "\n",
       "    .dataframe tbody tr th {\n",
       "        vertical-align: top;\n",
       "    }\n",
       "\n",
       "    .dataframe thead th {\n",
       "        text-align: right;\n",
       "    }\n",
       "</style>\n",
       "<table border=\"1\" class=\"dataframe\">\n",
       "  <thead>\n",
       "    <tr style=\"text-align: right;\">\n",
       "      <th></th>\n",
       "      <th>Colorado</th>\n",
       "      <th>Texas</th>\n",
       "      <th>New York</th>\n",
       "      <th>Ohio</th>\n",
       "    </tr>\n",
       "  </thead>\n",
       "  <tbody>\n",
       "    <tr>\n",
       "      <th>2000</th>\n",
       "      <td>-0.251527</td>\n",
       "      <td>-0.306334</td>\n",
       "      <td>0.170523</td>\n",
       "      <td>-0.294550</td>\n",
       "    </tr>\n",
       "    <tr>\n",
       "      <th>2001</th>\n",
       "      <td>0.258466</td>\n",
       "      <td>-0.081873</td>\n",
       "      <td>-0.183205</td>\n",
       "      <td>-0.235174</td>\n",
       "    </tr>\n",
       "  </tbody>\n",
       "</table>\n",
       "</div>"
      ],
      "text/plain": [
       "      Colorado     Texas  New York      Ohio\n",
       "2000 -0.251527 -0.306334  0.170523 -0.294550\n",
       "2001  0.258466 -0.081873 -0.183205 -0.235174"
      ]
     },
     "execution_count": 21,
     "metadata": {},
     "output_type": "execute_result"
    }
   ],
   "source": [
    "annual_frame = frame.resample('A-DEC').mean()\n",
    "annual_frame"
   ]
  },
  {
   "cell_type": "code",
   "execution_count": 22,
   "id": "9da146b8",
   "metadata": {
    "ExecuteTime": {
     "end_time": "2022-10-14T11:57:28.439838Z",
     "start_time": "2022-10-14T11:57:28.409729Z"
    }
   },
   "outputs": [
    {
     "data": {
      "text/html": [
       "<div>\n",
       "<style scoped>\n",
       "    .dataframe tbody tr th:only-of-type {\n",
       "        vertical-align: middle;\n",
       "    }\n",
       "\n",
       "    .dataframe tbody tr th {\n",
       "        vertical-align: top;\n",
       "    }\n",
       "\n",
       "    .dataframe thead th {\n",
       "        text-align: right;\n",
       "    }\n",
       "</style>\n",
       "<table border=\"1\" class=\"dataframe\">\n",
       "  <thead>\n",
       "    <tr style=\"text-align: right;\">\n",
       "      <th></th>\n",
       "      <th>Colorado</th>\n",
       "      <th>Texas</th>\n",
       "      <th>New York</th>\n",
       "      <th>Ohio</th>\n",
       "    </tr>\n",
       "  </thead>\n",
       "  <tbody>\n",
       "    <tr>\n",
       "      <th>2000</th>\n",
       "      <td>-0.251527</td>\n",
       "      <td>-0.306334</td>\n",
       "      <td>0.170523</td>\n",
       "      <td>-0.294550</td>\n",
       "    </tr>\n",
       "    <tr>\n",
       "      <th>2001</th>\n",
       "      <td>0.258466</td>\n",
       "      <td>-0.081873</td>\n",
       "      <td>-0.183205</td>\n",
       "      <td>-0.235174</td>\n",
       "    </tr>\n",
       "  </tbody>\n",
       "</table>\n",
       "</div>"
      ],
      "text/plain": [
       "      Colorado     Texas  New York      Ohio\n",
       "2000 -0.251527 -0.306334  0.170523 -0.294550\n",
       "2001  0.258466 -0.081873 -0.183205 -0.235174"
      ]
     },
     "execution_count": 22,
     "metadata": {},
     "output_type": "execute_result"
    }
   ],
   "source": [
    "annual_frame.resample('Q-DEC').ffill()\n",
    "annual_frame"
   ]
  },
  {
   "cell_type": "code",
   "execution_count": 23,
   "id": "2a1602c6",
   "metadata": {
    "ExecuteTime": {
     "end_time": "2022-10-14T11:57:38.772559Z",
     "start_time": "2022-10-14T11:57:38.756621Z"
    }
   },
   "outputs": [
    {
     "data": {
      "text/html": [
       "<div>\n",
       "<style scoped>\n",
       "    .dataframe tbody tr th:only-of-type {\n",
       "        vertical-align: middle;\n",
       "    }\n",
       "\n",
       "    .dataframe tbody tr th {\n",
       "        vertical-align: top;\n",
       "    }\n",
       "\n",
       "    .dataframe thead th {\n",
       "        text-align: right;\n",
       "    }\n",
       "</style>\n",
       "<table border=\"1\" class=\"dataframe\">\n",
       "  <thead>\n",
       "    <tr style=\"text-align: right;\">\n",
       "      <th></th>\n",
       "      <th>Colorado</th>\n",
       "      <th>Texas</th>\n",
       "      <th>New York</th>\n",
       "      <th>Ohio</th>\n",
       "    </tr>\n",
       "  </thead>\n",
       "  <tbody>\n",
       "    <tr>\n",
       "      <th>2000</th>\n",
       "      <td>-0.251527</td>\n",
       "      <td>-0.306334</td>\n",
       "      <td>0.170523</td>\n",
       "      <td>-0.294550</td>\n",
       "    </tr>\n",
       "    <tr>\n",
       "      <th>2001</th>\n",
       "      <td>0.258466</td>\n",
       "      <td>-0.081873</td>\n",
       "      <td>-0.183205</td>\n",
       "      <td>-0.235174</td>\n",
       "    </tr>\n",
       "  </tbody>\n",
       "</table>\n",
       "</div>"
      ],
      "text/plain": [
       "      Colorado     Texas  New York      Ohio\n",
       "2000 -0.251527 -0.306334  0.170523 -0.294550\n",
       "2001  0.258466 -0.081873 -0.183205 -0.235174"
      ]
     },
     "execution_count": 23,
     "metadata": {},
     "output_type": "execute_result"
    }
   ],
   "source": [
    "annual_frame.resample('Q-DEC', convention='start').ffill()\n",
    "annual_frame"
   ]
  },
  {
   "cell_type": "code",
   "execution_count": 24,
   "id": "89d9eb18",
   "metadata": {
    "ExecuteTime": {
     "end_time": "2022-10-14T11:57:50.014718Z",
     "start_time": "2022-10-14T11:57:50.010629Z"
    }
   },
   "outputs": [],
   "source": [
    "# 一些讲解：\n",
    "# - 在降采样中，目标频率必须是源频率的子时期（subperiod）。降采样 <-> 高频到低频\n",
    "# - 在升采样中，目标频率必须是源频率的超时期（superperiod）。升采样 <-> 低频到高频\n",
    "# - 如果不满足这些条件，就会引发异常。这主要影响的是按季、年、周计算的频率。\n",
    "#   例如，由Q-MAR定义的时间区间只能升采样为A-MAR、A-JUN、A-SEP、A-DEC等。(有问题自己慢慢琢磨吧...)"
   ]
  },
  {
   "cell_type": "code",
   "execution_count": 25,
   "id": "a4cf5927",
   "metadata": {
    "ExecuteTime": {
     "end_time": "2022-10-14T11:57:59.435201Z",
     "start_time": "2022-10-14T11:57:59.401277Z"
    }
   },
   "outputs": [
    {
     "data": {
      "text/html": [
       "<div>\n",
       "<style scoped>\n",
       "    .dataframe tbody tr th:only-of-type {\n",
       "        vertical-align: middle;\n",
       "    }\n",
       "\n",
       "    .dataframe tbody tr th {\n",
       "        vertical-align: top;\n",
       "    }\n",
       "\n",
       "    .dataframe thead th {\n",
       "        text-align: right;\n",
       "    }\n",
       "</style>\n",
       "<table border=\"1\" class=\"dataframe\">\n",
       "  <thead>\n",
       "    <tr style=\"text-align: right;\">\n",
       "      <th></th>\n",
       "      <th>Colorado</th>\n",
       "      <th>Texas</th>\n",
       "      <th>New York</th>\n",
       "      <th>Ohio</th>\n",
       "    </tr>\n",
       "  </thead>\n",
       "  <tbody>\n",
       "    <tr>\n",
       "      <th>2000Q4</th>\n",
       "      <td>-0.251527</td>\n",
       "      <td>-0.306334</td>\n",
       "      <td>0.170523</td>\n",
       "      <td>-0.294550</td>\n",
       "    </tr>\n",
       "    <tr>\n",
       "      <th>2001Q1</th>\n",
       "      <td>-0.251527</td>\n",
       "      <td>-0.306334</td>\n",
       "      <td>0.170523</td>\n",
       "      <td>-0.294550</td>\n",
       "    </tr>\n",
       "    <tr>\n",
       "      <th>2001Q2</th>\n",
       "      <td>-0.251527</td>\n",
       "      <td>-0.306334</td>\n",
       "      <td>0.170523</td>\n",
       "      <td>-0.294550</td>\n",
       "    </tr>\n",
       "    <tr>\n",
       "      <th>2001Q3</th>\n",
       "      <td>-0.251527</td>\n",
       "      <td>-0.306334</td>\n",
       "      <td>0.170523</td>\n",
       "      <td>-0.294550</td>\n",
       "    </tr>\n",
       "    <tr>\n",
       "      <th>2001Q4</th>\n",
       "      <td>0.258466</td>\n",
       "      <td>-0.081873</td>\n",
       "      <td>-0.183205</td>\n",
       "      <td>-0.235174</td>\n",
       "    </tr>\n",
       "    <tr>\n",
       "      <th>2002Q1</th>\n",
       "      <td>0.258466</td>\n",
       "      <td>-0.081873</td>\n",
       "      <td>-0.183205</td>\n",
       "      <td>-0.235174</td>\n",
       "    </tr>\n",
       "    <tr>\n",
       "      <th>2002Q2</th>\n",
       "      <td>0.258466</td>\n",
       "      <td>-0.081873</td>\n",
       "      <td>-0.183205</td>\n",
       "      <td>-0.235174</td>\n",
       "    </tr>\n",
       "    <tr>\n",
       "      <th>2002Q3</th>\n",
       "      <td>0.258466</td>\n",
       "      <td>-0.081873</td>\n",
       "      <td>-0.183205</td>\n",
       "      <td>-0.235174</td>\n",
       "    </tr>\n",
       "  </tbody>\n",
       "</table>\n",
       "</div>"
      ],
      "text/plain": [
       "        Colorado     Texas  New York      Ohio\n",
       "2000Q4 -0.251527 -0.306334  0.170523 -0.294550\n",
       "2001Q1 -0.251527 -0.306334  0.170523 -0.294550\n",
       "2001Q2 -0.251527 -0.306334  0.170523 -0.294550\n",
       "2001Q3 -0.251527 -0.306334  0.170523 -0.294550\n",
       "2001Q4  0.258466 -0.081873 -0.183205 -0.235174\n",
       "2002Q1  0.258466 -0.081873 -0.183205 -0.235174\n",
       "2002Q2  0.258466 -0.081873 -0.183205 -0.235174\n",
       "2002Q3  0.258466 -0.081873 -0.183205 -0.235174"
      ]
     },
     "execution_count": 25,
     "metadata": {},
     "output_type": "execute_result"
    }
   ],
   "source": [
    "quater_frame = annual_frame.resample('Q-MAR').ffill()\n",
    "quater_frame"
   ]
  },
  {
   "cell_type": "code",
   "execution_count": null,
   "id": "84a63be3",
   "metadata": {},
   "outputs": [],
   "source": []
  },
  {
   "cell_type": "code",
   "execution_count": null,
   "id": "c40649b7",
   "metadata": {},
   "outputs": [],
   "source": []
  },
  {
   "cell_type": "code",
   "execution_count": null,
   "id": "2be654a7",
   "metadata": {},
   "outputs": [],
   "source": []
  }
 ],
 "metadata": {
  "kernelspec": {
   "display_name": "Python 3",
   "language": "python",
   "name": "python3"
  },
  "language_info": {
   "codemirror_mode": {
    "name": "ipython",
    "version": 3
   },
   "file_extension": ".py",
   "mimetype": "text/x-python",
   "name": "python",
   "nbconvert_exporter": "python",
   "pygments_lexer": "ipython3",
   "version": "3.8.8"
  }
 },
 "nbformat": 4,
 "nbformat_minor": 5
}
