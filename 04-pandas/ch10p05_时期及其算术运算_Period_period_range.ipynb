{
 "cells": [
  {
   "cell_type": "markdown",
   "id": "1ddae1da",
   "metadata": {},
   "source": [
    "# 时期及其算术运算"
   ]
  },
  {
   "cell_type": "code",
   "execution_count": 2,
   "id": "9021cf3a",
   "metadata": {
    "ExecuteTime": {
     "end_time": "2022-10-24T08:34:04.772530Z",
     "start_time": "2022-10-24T08:34:02.482946Z"
    }
   },
   "outputs": [],
   "source": [
    "import numpy as np\n",
    "import pandas as pd\n",
    "from datetime import datetime\n",
    "from datetime import timedelta\n",
    "from dateutil.parser import parse\n",
    "from pandas import DataFrame, Series\n",
    "from pandas.tseries.offsets import Day, Hour, Minute, MonthEnd"
   ]
  },
  {
   "cell_type": "code",
   "execution_count": 2,
   "id": "01334628",
   "metadata": {
    "ExecuteTime": {
     "end_time": "2022-10-14T06:57:16.381494Z",
     "start_time": "2022-10-14T06:57:16.333960Z"
    }
   },
   "outputs": [
    {
     "data": {
      "text/plain": [
       "Period('2007', 'A-DEC')"
      ]
     },
     "execution_count": 2,
     "metadata": {},
     "output_type": "execute_result"
    }
   ],
   "source": [
    "p = pd.Period(2007, freq='A-DEC')\n",
    "p"
   ]
  },
  {
   "cell_type": "code",
   "execution_count": 3,
   "id": "7172d441",
   "metadata": {
    "ExecuteTime": {
     "end_time": "2022-10-14T06:57:25.883760Z",
     "start_time": "2022-10-14T06:57:25.828449Z"
    }
   },
   "outputs": [
    {
     "data": {
      "text/plain": [
       "Period('2012', 'A-DEC')"
      ]
     },
     "execution_count": 3,
     "metadata": {},
     "output_type": "execute_result"
    }
   ],
   "source": [
    "p + 5 \n"
   ]
  },
  {
   "cell_type": "code",
   "execution_count": 4,
   "id": "446de065",
   "metadata": {
    "ExecuteTime": {
     "end_time": "2022-10-14T06:58:39.043419Z",
     "start_time": "2022-10-14T06:58:39.005553Z"
    }
   },
   "outputs": [
    {
     "data": {
      "text/plain": [
       "Period('2005', 'A-DEC')"
      ]
     },
     "execution_count": 4,
     "metadata": {},
     "output_type": "execute_result"
    }
   ],
   "source": [
    "p - 2\n"
   ]
  },
  {
   "cell_type": "code",
   "execution_count": 5,
   "id": "8777678e",
   "metadata": {
    "ExecuteTime": {
     "end_time": "2022-10-14T06:58:48.582905Z",
     "start_time": "2022-10-14T06:58:48.549856Z"
    }
   },
   "outputs": [
    {
     "data": {
      "text/plain": [
       "<7 * YearEnds: month=12>"
      ]
     },
     "execution_count": 5,
     "metadata": {},
     "output_type": "execute_result"
    }
   ],
   "source": [
    "pd.Period('2014', freq='A-DEC') - p\n"
   ]
  },
  {
   "cell_type": "code",
   "execution_count": 6,
   "id": "8ed3a9dc",
   "metadata": {
    "ExecuteTime": {
     "end_time": "2022-10-14T06:58:59.336059Z",
     "start_time": "2022-10-14T06:58:59.290075Z"
    }
   },
   "outputs": [
    {
     "data": {
      "text/plain": [
       "PeriodIndex(['2000-01', '2000-02', '2000-03', '2000-04', '2000-05', '2000-06'], dtype='period[M]', freq='M')"
      ]
     },
     "execution_count": 6,
     "metadata": {},
     "output_type": "execute_result"
    }
   ],
   "source": [
    "rng = pd.period_range('1/1/2000', '6/30/2000', freq='M')\n",
    "rng"
   ]
  },
  {
   "cell_type": "code",
   "execution_count": 7,
   "id": "2a9fa0b7",
   "metadata": {
    "ExecuteTime": {
     "end_time": "2022-10-14T06:59:09.042844Z",
     "start_time": "2022-10-14T06:59:08.994660Z"
    }
   },
   "outputs": [
    {
     "data": {
      "text/plain": [
       "2000-01   -0.068650\n",
       "2000-02   -0.410605\n",
       "2000-03   -0.026792\n",
       "2000-04   -0.813343\n",
       "2000-05   -0.686088\n",
       "2000-06   -0.316644\n",
       "Freq: M, dtype: float64"
      ]
     },
     "execution_count": 7,
     "metadata": {},
     "output_type": "execute_result"
    }
   ],
   "source": [
    "Series(np.random.randn(6), index=rng)\n"
   ]
  },
  {
   "cell_type": "code",
   "execution_count": 8,
   "id": "a0b7b480",
   "metadata": {
    "ExecuteTime": {
     "end_time": "2022-10-14T06:59:27.619109Z",
     "start_time": "2022-10-14T06:59:27.592197Z"
    }
   },
   "outputs": [
    {
     "data": {
      "text/plain": [
       "PeriodIndex(['2001Q3', '2002Q2', '2003Q1'], dtype='period[Q-DEC]', freq='Q-DEC')"
      ]
     },
     "execution_count": 8,
     "metadata": {},
     "output_type": "execute_result"
    }
   ],
   "source": [
    "values = ['2001Q3', '2002Q2', '2003Q1']\n",
    "index = pd.PeriodIndex(values, freq='Q-DEC')\n",
    "index"
   ]
  },
  {
   "cell_type": "markdown",
   "id": "1c59e7ab",
   "metadata": {},
   "source": [
    "## 时期的频率转换"
   ]
  },
  {
   "cell_type": "code",
   "execution_count": 9,
   "id": "8d4e2492",
   "metadata": {
    "ExecuteTime": {
     "end_time": "2022-10-14T06:59:56.038129Z",
     "start_time": "2022-10-14T06:59:56.005815Z"
    }
   },
   "outputs": [],
   "source": [
    "p = pd.Period('2007', freq='A-DEC')\n"
   ]
  },
  {
   "cell_type": "code",
   "execution_count": 10,
   "id": "cafb5fbb",
   "metadata": {
    "ExecuteTime": {
     "end_time": "2022-10-14T07:00:03.070259Z",
     "start_time": "2022-10-14T07:00:03.034896Z"
    }
   },
   "outputs": [
    {
     "data": {
      "text/plain": [
       "Period('2007-01', 'M')"
      ]
     },
     "execution_count": 10,
     "metadata": {},
     "output_type": "execute_result"
    }
   ],
   "source": [
    "p.asfreq('M', how='start')\n"
   ]
  },
  {
   "cell_type": "code",
   "execution_count": 11,
   "id": "e5a879a4",
   "metadata": {
    "ExecuteTime": {
     "end_time": "2022-10-14T07:01:08.386785Z",
     "start_time": "2022-10-14T07:01:08.356970Z"
    }
   },
   "outputs": [
    {
     "data": {
      "text/plain": [
       "Period('2007-12', 'M')"
      ]
     },
     "execution_count": 11,
     "metadata": {},
     "output_type": "execute_result"
    }
   ],
   "source": [
    "p.asfreq('M', how='end')\n"
   ]
  },
  {
   "cell_type": "code",
   "execution_count": 12,
   "id": "0e761f41",
   "metadata": {
    "ExecuteTime": {
     "end_time": "2022-10-14T07:01:17.315729Z",
     "start_time": "2022-10-14T07:01:17.276664Z"
    }
   },
   "outputs": [
    {
     "data": {
      "text/plain": [
       "Timestamp('2006-07-01 00:00:00')"
      ]
     },
     "execution_count": 12,
     "metadata": {},
     "output_type": "execute_result"
    }
   ],
   "source": [
    "p = pd.Period('2007', freq='A-JUN') # 截至到2007/6/30的一年时间\n",
    "p.start_time"
   ]
  },
  {
   "cell_type": "code",
   "execution_count": 13,
   "id": "5767fbbd",
   "metadata": {
    "ExecuteTime": {
     "end_time": "2022-10-14T07:01:44.167630Z",
     "start_time": "2022-10-14T07:01:44.129598Z"
    }
   },
   "outputs": [
    {
     "data": {
      "text/plain": [
       "Period('2006-07', 'M')"
      ]
     },
     "execution_count": 13,
     "metadata": {},
     "output_type": "execute_result"
    }
   ],
   "source": [
    "p.asfreq('M', 'start')\n",
    "\n",
    "# cc：所以，在年度上，以月为步长，开始月为2006年7月\n"
   ]
  },
  {
   "cell_type": "code",
   "execution_count": 14,
   "id": "8a6e2694",
   "metadata": {
    "ExecuteTime": {
     "end_time": "2022-10-14T07:04:02.532023Z",
     "start_time": "2022-10-14T07:04:02.492728Z"
    }
   },
   "outputs": [
    {
     "data": {
      "text/plain": [
       "Period('2007-06', 'M')"
      ]
     },
     "execution_count": 14,
     "metadata": {},
     "output_type": "execute_result"
    }
   ],
   "source": [
    "p.asfreq('M', 'end')\n"
   ]
  },
  {
   "cell_type": "code",
   "execution_count": 16,
   "id": "1cf4945d",
   "metadata": {
    "ExecuteTime": {
     "end_time": "2022-10-14T07:04:57.525721Z",
     "start_time": "2022-10-14T07:04:57.494656Z"
    }
   },
   "outputs": [
    {
     "data": {
      "text/plain": [
       "Period('2007-08', 'M')"
      ]
     },
     "execution_count": 16,
     "metadata": {},
     "output_type": "execute_result"
    }
   ],
   "source": [
    "p = pd.Period('2007-08', 'M')\n",
    "p.asfreq('A-JUN')\n",
    "p"
   ]
  },
  {
   "cell_type": "code",
   "execution_count": 17,
   "id": "95771589",
   "metadata": {
    "ExecuteTime": {
     "end_time": "2022-10-14T07:05:23.888693Z",
     "start_time": "2022-10-14T07:05:23.851425Z"
    }
   },
   "outputs": [
    {
     "data": {
      "text/plain": [
       "2006    1.330618\n",
       "2007   -0.646707\n",
       "2008    0.785307\n",
       "2009   -0.543137\n",
       "Freq: A-DEC, dtype: float64"
      ]
     },
     "execution_count": 17,
     "metadata": {},
     "output_type": "execute_result"
    }
   ],
   "source": [
    "rng = pd.period_range('2006', '2009', freq='A-DEC')\n",
    "ts = Series(np.random.randn(len(rng)), index=rng)\n",
    "ts"
   ]
  },
  {
   "cell_type": "code",
   "execution_count": 18,
   "id": "e0e757bd",
   "metadata": {
    "ExecuteTime": {
     "end_time": "2022-10-14T07:05:41.810709Z",
     "start_time": "2022-10-14T07:05:41.781400Z"
    }
   },
   "outputs": [
    {
     "data": {
      "text/plain": [
       "2006-01    1.330618\n",
       "2007-01   -0.646707\n",
       "2008-01    0.785307\n",
       "2009-01   -0.543137\n",
       "Freq: M, dtype: float64"
      ]
     },
     "execution_count": 18,
     "metadata": {},
     "output_type": "execute_result"
    }
   ],
   "source": [
    "ts.asfreq('M', how='start')\n"
   ]
  },
  {
   "cell_type": "code",
   "execution_count": 19,
   "id": "ff05832b",
   "metadata": {
    "ExecuteTime": {
     "end_time": "2022-10-14T07:05:54.951701Z",
     "start_time": "2022-10-14T07:05:54.918865Z"
    }
   },
   "outputs": [
    {
     "data": {
      "text/plain": [
       "2006-12-29    1.330618\n",
       "2007-12-31   -0.646707\n",
       "2008-12-31    0.785307\n",
       "2009-12-31   -0.543137\n",
       "Freq: B, dtype: float64"
      ]
     },
     "execution_count": 19,
     "metadata": {},
     "output_type": "execute_result"
    }
   ],
   "source": [
    "ts.asfreq('B', how='end') # 每年最后一个工作日\n"
   ]
  },
  {
   "cell_type": "markdown",
   "id": "ad023edb",
   "metadata": {},
   "source": [
    "## 按季度计算的时期频率"
   ]
  },
  {
   "cell_type": "code",
   "execution_count": 20,
   "id": "a75efb80",
   "metadata": {
    "ExecuteTime": {
     "end_time": "2022-10-14T07:06:28.448957Z",
     "start_time": "2022-10-14T07:06:28.403362Z"
    }
   },
   "outputs": [
    {
     "data": {
      "text/plain": [
       "Period('2012Q4', 'Q-JAN')"
      ]
     },
     "execution_count": 20,
     "metadata": {},
     "output_type": "execute_result"
    }
   ],
   "source": [
    "# Q代表季度为单位（开始时间要减去1个季度，Q4请忽略，这里没卵用。），\n",
    "# JAN代表1月，结合Q，取1/31。\n",
    "p = pd.Period('2012Q4', freq='Q-JAN')\n",
    "p"
   ]
  },
  {
   "cell_type": "code",
   "execution_count": 21,
   "id": "ec21e193",
   "metadata": {
    "ExecuteTime": {
     "end_time": "2022-10-14T07:07:30.948620Z",
     "start_time": "2022-10-14T07:07:30.932811Z"
    }
   },
   "outputs": [
    {
     "data": {
      "text/plain": [
       "Period('2011-11-01', 'D')"
      ]
     },
     "execution_count": 21,
     "metadata": {},
     "output_type": "execute_result"
    }
   ],
   "source": [
    "p.asfreq('D', 'start')\n"
   ]
  },
  {
   "cell_type": "code",
   "execution_count": 22,
   "id": "3f75445a",
   "metadata": {
    "ExecuteTime": {
     "end_time": "2022-10-14T07:08:09.281902Z",
     "start_time": "2022-10-14T07:08:09.250782Z"
    }
   },
   "outputs": [
    {
     "data": {
      "text/plain": [
       "Period('2012-01-31', 'D')"
      ]
     },
     "execution_count": 22,
     "metadata": {},
     "output_type": "execute_result"
    }
   ],
   "source": [
    "p.asfreq('D', 'end')\n"
   ]
  },
  {
   "cell_type": "code",
   "execution_count": 23,
   "id": "693720da",
   "metadata": {
    "ExecuteTime": {
     "end_time": "2022-10-14T07:08:17.545128Z",
     "start_time": "2022-10-14T07:08:17.502559Z"
    }
   },
   "outputs": [
    {
     "data": {
      "text/plain": [
       "Period('2012-01-31', 'B')"
      ]
     },
     "execution_count": 23,
     "metadata": {},
     "output_type": "execute_result"
    }
   ],
   "source": [
    "p.asfreq('B', 'e')\n"
   ]
  },
  {
   "cell_type": "code",
   "execution_count": 24,
   "id": "824a4832",
   "metadata": {
    "ExecuteTime": {
     "end_time": "2022-10-14T07:08:50.441822Z",
     "start_time": "2022-10-14T07:08:50.403309Z"
    }
   },
   "outputs": [
    {
     "data": {
      "text/plain": [
       "Period('2012-01-30 16:00', 'T')"
      ]
     },
     "execution_count": 24,
     "metadata": {},
     "output_type": "execute_result"
    }
   ],
   "source": [
    "# 2012/01/30\n",
    "# 频率变成分钟\n",
    "# 再加16小时\n",
    "p4pm = (p.asfreq('B', 'e') - 1).asfreq('T', 's') + 16 * 60\n",
    "p4pm"
   ]
  },
  {
   "cell_type": "code",
   "execution_count": 25,
   "id": "b401abad",
   "metadata": {
    "ExecuteTime": {
     "end_time": "2022-10-14T07:08:57.965936Z",
     "start_time": "2022-10-14T07:08:57.856384Z"
    }
   },
   "outputs": [
    {
     "data": {
      "text/plain": [
       "2011Q3    0\n",
       "2011Q4    1\n",
       "2012Q1    2\n",
       "2012Q2    3\n",
       "2012Q3    4\n",
       "2012Q4    5\n",
       "Freq: Q-JAN, dtype: int64"
      ]
     },
     "execution_count": 25,
     "metadata": {},
     "output_type": "execute_result"
    }
   ],
   "source": [
    "rng = pd.period_range('2011Q3', '2012Q4', freq='Q-JAN') # 以Q为单位\n",
    "ts = Series(np.arange(len(rng)), index=rng)\n",
    "ts"
   ]
  },
  {
   "cell_type": "code",
   "execution_count": 26,
   "id": "92d455bf",
   "metadata": {
    "ExecuteTime": {
     "end_time": "2022-10-14T07:09:05.524005Z",
     "start_time": "2022-10-14T07:09:05.476720Z"
    }
   },
   "outputs": [
    {
     "data": {
      "text/plain": [
       "2010-10-28 16:00:00    0\n",
       "2011-01-28 16:00:00    1\n",
       "2011-04-28 16:00:00    2\n",
       "2011-07-28 16:00:00    3\n",
       "2011-10-28 16:00:00    4\n",
       "2012-01-30 16:00:00    5\n",
       "dtype: int64"
      ]
     },
     "execution_count": 26,
     "metadata": {},
     "output_type": "execute_result"
    }
   ],
   "source": [
    "new_rng = (rng.asfreq('B', 'e') - 1).asfreq('T', 's') + 16 * 60 # 最后一个工作日减1的下午4点\n",
    "ts.index = new_rng.to_timestamp()\n",
    "ts"
   ]
  },
  {
   "cell_type": "markdown",
   "id": "edff14e5",
   "metadata": {},
   "source": [
    "## 将Timestamp转换为Period（及其反向过程）"
   ]
  },
  {
   "cell_type": "code",
   "execution_count": 28,
   "id": "39fffbe0",
   "metadata": {
    "ExecuteTime": {
     "end_time": "2022-10-14T07:09:34.864655Z",
     "start_time": "2022-10-14T07:09:34.821878Z"
    }
   },
   "outputs": [
    {
     "data": {
      "text/plain": [
       "2000-01-31   -0.742597\n",
       "2000-02-29   -0.591384\n",
       "2000-03-31    0.421001\n",
       "Freq: M, dtype: float64"
      ]
     },
     "execution_count": 28,
     "metadata": {},
     "output_type": "execute_result"
    }
   ],
   "source": [
    "rng = pd.date_range('1/1/2000', periods=3, freq='M')\n",
    "ts = Series(np.random.randn(3), index=rng)\n",
    "pts = ts.to_period()\n",
    "ts"
   ]
  },
  {
   "cell_type": "code",
   "execution_count": 29,
   "id": "c933bd84",
   "metadata": {
    "ExecuteTime": {
     "end_time": "2022-10-14T07:09:46.083794Z",
     "start_time": "2022-10-14T07:09:46.011015Z"
    }
   },
   "outputs": [
    {
     "name": "stdout",
     "output_type": "stream",
     "text": [
      "<class 'pandas.core.series.Series'>\n"
     ]
    },
    {
     "data": {
      "text/plain": [
       "2000-01   -0.742597\n",
       "2000-02   -0.591384\n",
       "2000-03    0.421001\n",
       "Freq: M, dtype: float64"
      ]
     },
     "execution_count": 29,
     "metadata": {},
     "output_type": "execute_result"
    }
   ],
   "source": [
    "print(type(pts))\n",
    "pts # 因为rng是以月为单位，to_period以后把日省略。"
   ]
  },
  {
   "cell_type": "code",
   "execution_count": 3,
   "id": "f3a9cb8b",
   "metadata": {
    "ExecuteTime": {
     "end_time": "2022-10-24T08:34:21.172911Z",
     "start_time": "2022-10-24T08:34:21.148609Z"
    }
   },
   "outputs": [
    {
     "name": "stdout",
     "output_type": "stream",
     "text": [
      "2000-01-29    0.888721\n",
      "2000-01-30    0.736044\n",
      "2000-01-31   -1.538739\n",
      "2000-02-01    0.271469\n",
      "2000-02-02   -0.456637\n",
      "2000-02-03    0.663493\n",
      "Freq: D, dtype: float64\n",
      "2000-01    0.888721\n",
      "2000-01    0.736044\n",
      "2000-01   -1.538739\n",
      "2000-02    0.271469\n",
      "2000-02   -0.456637\n",
      "2000-02    0.663493\n",
      "Freq: M, dtype: float64\n"
     ]
    }
   ],
   "source": [
    "rng = pd.date_range('1/29/2000', periods=6, freq='D')\n",
    "ts2 = Series(np.random.randn(6), index=rng)\n",
    "print(ts2)\n",
    "print(ts2.to_period('M'))"
   ]
  },
  {
   "cell_type": "code",
   "execution_count": 31,
   "id": "14463970",
   "metadata": {
    "ExecuteTime": {
     "end_time": "2022-10-14T07:10:42.054480Z",
     "start_time": "2022-10-14T07:10:42.012868Z"
    }
   },
   "outputs": [
    {
     "data": {
      "text/plain": [
       "2000-01   -0.742597\n",
       "2000-02   -0.591384\n",
       "2000-03    0.421001\n",
       "Freq: M, dtype: float64"
      ]
     },
     "execution_count": 31,
     "metadata": {},
     "output_type": "execute_result"
    }
   ],
   "source": [
    "pts = ts.to_period()\n",
    "pts"
   ]
  },
  {
   "cell_type": "code",
   "execution_count": 32,
   "id": "cc9003c5",
   "metadata": {
    "ExecuteTime": {
     "end_time": "2022-10-14T07:10:53.746438Z",
     "start_time": "2022-10-14T07:10:53.694154Z"
    }
   },
   "outputs": [
    {
     "data": {
      "text/plain": [
       "2000-01-31 23:59:59.999999999   -0.742597\n",
       "2000-02-29 23:59:59.999999999   -0.591384\n",
       "2000-03-31 23:59:59.999999999    0.421001\n",
       "dtype: float64"
      ]
     },
     "execution_count": 32,
     "metadata": {},
     "output_type": "execute_result"
    }
   ],
   "source": [
    "pts.to_timestamp(how='end') # 还原到timestamp\n"
   ]
  },
  {
   "cell_type": "markdown",
   "id": "d7e9a2c7",
   "metadata": {},
   "source": [
    "## 通过数组创建PeriodIndex"
   ]
  },
  {
   "cell_type": "code",
   "execution_count": 33,
   "id": "f197e6f8",
   "metadata": {
    "ExecuteTime": {
     "end_time": "2022-10-14T07:11:20.467967Z",
     "start_time": "2022-10-14T07:11:20.388808Z"
    }
   },
   "outputs": [
    {
     "data": {
      "text/html": [
       "<div>\n",
       "<style scoped>\n",
       "    .dataframe tbody tr th:only-of-type {\n",
       "        vertical-align: middle;\n",
       "    }\n",
       "\n",
       "    .dataframe tbody tr th {\n",
       "        vertical-align: top;\n",
       "    }\n",
       "\n",
       "    .dataframe thead th {\n",
       "        text-align: right;\n",
       "    }\n",
       "</style>\n",
       "<table border=\"1\" class=\"dataframe\">\n",
       "  <thead>\n",
       "    <tr style=\"text-align: right;\">\n",
       "      <th></th>\n",
       "      <th>year</th>\n",
       "      <th>quarter</th>\n",
       "      <th>realgdp</th>\n",
       "      <th>realcons</th>\n",
       "      <th>realinv</th>\n",
       "      <th>realgovt</th>\n",
       "      <th>realdpi</th>\n",
       "      <th>cpi</th>\n",
       "      <th>m1</th>\n",
       "      <th>tbilrate</th>\n",
       "      <th>unemp</th>\n",
       "      <th>pop</th>\n",
       "      <th>infl</th>\n",
       "      <th>realint</th>\n",
       "    </tr>\n",
       "  </thead>\n",
       "  <tbody>\n",
       "    <tr>\n",
       "      <th>0</th>\n",
       "      <td>1959.0</td>\n",
       "      <td>1.0</td>\n",
       "      <td>2710.349</td>\n",
       "      <td>1707.4</td>\n",
       "      <td>286.898</td>\n",
       "      <td>470.045</td>\n",
       "      <td>1886.9</td>\n",
       "      <td>28.98</td>\n",
       "      <td>139.7</td>\n",
       "      <td>2.82</td>\n",
       "      <td>5.8</td>\n",
       "      <td>177.146</td>\n",
       "      <td>0.00</td>\n",
       "      <td>0.00</td>\n",
       "    </tr>\n",
       "    <tr>\n",
       "      <th>1</th>\n",
       "      <td>1959.0</td>\n",
       "      <td>2.0</td>\n",
       "      <td>2778.801</td>\n",
       "      <td>1733.7</td>\n",
       "      <td>310.859</td>\n",
       "      <td>481.301</td>\n",
       "      <td>1919.7</td>\n",
       "      <td>29.15</td>\n",
       "      <td>141.7</td>\n",
       "      <td>3.08</td>\n",
       "      <td>5.1</td>\n",
       "      <td>177.830</td>\n",
       "      <td>2.34</td>\n",
       "      <td>0.74</td>\n",
       "    </tr>\n",
       "    <tr>\n",
       "      <th>2</th>\n",
       "      <td>1959.0</td>\n",
       "      <td>3.0</td>\n",
       "      <td>2775.488</td>\n",
       "      <td>1751.8</td>\n",
       "      <td>289.226</td>\n",
       "      <td>491.260</td>\n",
       "      <td>1916.4</td>\n",
       "      <td>29.35</td>\n",
       "      <td>140.5</td>\n",
       "      <td>3.82</td>\n",
       "      <td>5.3</td>\n",
       "      <td>178.657</td>\n",
       "      <td>2.74</td>\n",
       "      <td>1.09</td>\n",
       "    </tr>\n",
       "    <tr>\n",
       "      <th>3</th>\n",
       "      <td>1959.0</td>\n",
       "      <td>4.0</td>\n",
       "      <td>2785.204</td>\n",
       "      <td>1753.7</td>\n",
       "      <td>299.356</td>\n",
       "      <td>484.052</td>\n",
       "      <td>1931.3</td>\n",
       "      <td>29.37</td>\n",
       "      <td>140.0</td>\n",
       "      <td>4.33</td>\n",
       "      <td>5.6</td>\n",
       "      <td>179.386</td>\n",
       "      <td>0.27</td>\n",
       "      <td>4.06</td>\n",
       "    </tr>\n",
       "    <tr>\n",
       "      <th>4</th>\n",
       "      <td>1960.0</td>\n",
       "      <td>1.0</td>\n",
       "      <td>2847.699</td>\n",
       "      <td>1770.5</td>\n",
       "      <td>331.722</td>\n",
       "      <td>462.199</td>\n",
       "      <td>1955.5</td>\n",
       "      <td>29.54</td>\n",
       "      <td>139.6</td>\n",
       "      <td>3.50</td>\n",
       "      <td>5.2</td>\n",
       "      <td>180.007</td>\n",
       "      <td>2.31</td>\n",
       "      <td>1.19</td>\n",
       "    </tr>\n",
       "  </tbody>\n",
       "</table>\n",
       "</div>"
      ],
      "text/plain": [
       "     year  quarter   realgdp  realcons  realinv  realgovt  realdpi    cpi  \\\n",
       "0  1959.0      1.0  2710.349    1707.4  286.898   470.045   1886.9  28.98   \n",
       "1  1959.0      2.0  2778.801    1733.7  310.859   481.301   1919.7  29.15   \n",
       "2  1959.0      3.0  2775.488    1751.8  289.226   491.260   1916.4  29.35   \n",
       "3  1959.0      4.0  2785.204    1753.7  299.356   484.052   1931.3  29.37   \n",
       "4  1960.0      1.0  2847.699    1770.5  331.722   462.199   1955.5  29.54   \n",
       "\n",
       "      m1  tbilrate  unemp      pop  infl  realint  \n",
       "0  139.7      2.82    5.8  177.146  0.00     0.00  \n",
       "1  141.7      3.08    5.1  177.830  2.34     0.74  \n",
       "2  140.5      3.82    5.3  178.657  2.74     1.09  \n",
       "3  140.0      4.33    5.6  179.386  0.27     4.06  \n",
       "4  139.6      3.50    5.2  180.007  2.31     1.19  "
      ]
     },
     "execution_count": 33,
     "metadata": {},
     "output_type": "execute_result"
    }
   ],
   "source": [
    "data = pd.read_csv('data/macrodata.csv')\n",
    "data.head()"
   ]
  },
  {
   "cell_type": "code",
   "execution_count": 34,
   "id": "93ca9649",
   "metadata": {
    "ExecuteTime": {
     "end_time": "2022-10-14T07:11:32.667980Z",
     "start_time": "2022-10-14T07:11:32.612199Z"
    }
   },
   "outputs": [
    {
     "data": {
      "text/plain": [
       "PeriodIndex(['1959Q1', '1959Q2', '1959Q3', '1959Q4', '1960Q1', '1960Q2',\n",
       "             '1960Q3', '1960Q4', '1961Q1', '1961Q2',\n",
       "             ...\n",
       "             '2007Q2', '2007Q3', '2007Q4', '2008Q1', '2008Q2', '2008Q3',\n",
       "             '2008Q4', '2009Q1', '2009Q2', '2009Q3'],\n",
       "            dtype='period[Q-DEC]', length=203, freq='Q-DEC')"
      ]
     },
     "execution_count": 34,
     "metadata": {},
     "output_type": "execute_result"
    }
   ],
   "source": [
    "index = pd.PeriodIndex(year=data.year, quarter=data.quarter, freq='Q-DEC') # 根据年份和季度构造索引，12/31为年度结束日。\n",
    "index"
   ]
  },
  {
   "cell_type": "code",
   "execution_count": 35,
   "id": "f79c5ee9",
   "metadata": {
    "ExecuteTime": {
     "end_time": "2022-10-14T07:12:00.501838Z",
     "start_time": "2022-10-14T07:12:00.482845Z"
    }
   },
   "outputs": [
    {
     "name": "stdout",
     "output_type": "stream",
     "text": [
      "1959Q1    0.00\n",
      "1959Q2    2.34\n",
      "1959Q3    2.74\n",
      "1959Q4    0.27\n",
      "1960Q1    2.31\n",
      "Freq: Q-DEC, Name: infl, dtype: float64\n",
      "2008Q3   -3.16\n",
      "2008Q4   -8.79\n",
      "2009Q1    0.94\n",
      "2009Q2    3.37\n",
      "2009Q3    3.56\n",
      "Freq: Q-DEC, Name: infl, dtype: float64\n"
     ]
    }
   ],
   "source": [
    "data.index = index\n",
    "print(data.infl.head())\n",
    "print(data.infl.tail())"
   ]
  }
 ],
 "metadata": {
  "kernelspec": {
   "display_name": "Python 3",
   "language": "python",
   "name": "python3"
  },
  "language_info": {
   "codemirror_mode": {
    "name": "ipython",
    "version": 3
   },
   "file_extension": ".py",
   "mimetype": "text/x-python",
   "name": "python",
   "nbconvert_exporter": "python",
   "pygments_lexer": "ipython3",
   "version": "3.8.8"
  },
  "toc": {
   "base_numbering": 1,
   "nav_menu": {},
   "number_sections": true,
   "sideBar": true,
   "skip_h1_title": false,
   "title_cell": "Table of Contents",
   "title_sidebar": "Contents",
   "toc_cell": false,
   "toc_position": {
    "height": "calc(100% - 180px)",
    "left": "10px",
    "top": "150px",
    "width": "275.339px"
   },
   "toc_section_display": true,
   "toc_window_display": true
  }
 },
 "nbformat": 4,
 "nbformat_minor": 5
}
