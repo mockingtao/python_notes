{
 "cells": [
  {
   "cell_type": "code",
   "execution_count": 5,
   "id": "e5d5f0e9",
   "metadata": {
    "ExecuteTime": {
     "end_time": "2023-01-17T01:35:37.682705Z",
     "start_time": "2023-01-17T01:35:36.269380Z"
    }
   },
   "outputs": [],
   "source": [
    "import numpy as np\n",
    "import pandas as pd\n",
    "from pandas import DataFrame\n",
    "from pandas import Series\n",
    "import re"
   ]
  },
  {
   "cell_type": "code",
   "execution_count": 9,
   "id": "3212a1f4",
   "metadata": {
    "ExecuteTime": {
     "end_time": "2023-01-17T01:43:01.623999Z",
     "start_time": "2023-01-17T01:43:01.621169Z"
    }
   },
   "outputs": [],
   "source": [
    "from IPython.core.interactiveshell import InteractiveShell\n",
    "InteractiveShell.ast_node_interactivity = \"all\"\n"
   ]
  },
  {
   "cell_type": "markdown",
   "id": "a02b0d27",
   "metadata": {},
   "source": [
    "# 字符串对象方法\n",
    "\n",
    "- count\n",
    "- startswith/endswith\n",
    "- join\n",
    "- index\n",
    "- find\n",
    "- rfind\n",
    "- replace\n",
    "- strip/lstrip/rstrip\n",
    "- split\n",
    "- lower/upper\n",
    "- ljust/rjust\n",
    "..."
   ]
  },
  {
   "cell_type": "markdown",
   "id": "8384a777",
   "metadata": {},
   "source": [
    "## string.split()"
   ]
  },
  {
   "cell_type": "code",
   "execution_count": 2,
   "id": "e8e7c2b0",
   "metadata": {
    "ExecuteTime": {
     "end_time": "2022-10-13T02:28:12.460633Z",
     "start_time": "2022-10-13T02:28:12.432808Z"
    }
   },
   "outputs": [
    {
     "data": {
      "text/plain": [
       "['a', 'b', '  guido']"
      ]
     },
     "execution_count": 2,
     "metadata": {},
     "output_type": "execute_result"
    }
   ],
   "source": [
    "val = 'a,b,  guido'\n",
    "val.split(',')"
   ]
  },
  {
   "cell_type": "markdown",
   "id": "8d8626e2",
   "metadata": {
    "ExecuteTime": {
     "end_time": "2023-01-17T01:30:22.623507Z",
     "start_time": "2023-01-17T01:30:22.620631Z"
    }
   },
   "source": [
    "## string.strip()"
   ]
  },
  {
   "cell_type": "code",
   "execution_count": 3,
   "id": "30f3ca43",
   "metadata": {
    "ExecuteTime": {
     "end_time": "2022-10-13T02:28:28.087029Z",
     "start_time": "2022-10-13T02:28:28.066156Z"
    }
   },
   "outputs": [
    {
     "data": {
      "text/plain": [
       "['a', 'b', 'guido']"
      ]
     },
     "execution_count": 3,
     "metadata": {},
     "output_type": "execute_result"
    }
   ],
   "source": [
    "pieces = [x.strip() for x in val.split(',')] # strip过滤字符串前后的不可见字符\n",
    "pieces"
   ]
  },
  {
   "cell_type": "markdown",
   "id": "c12165bf",
   "metadata": {},
   "source": [
    "## string + string"
   ]
  },
  {
   "cell_type": "code",
   "execution_count": 4,
   "id": "fcde1a82",
   "metadata": {
    "ExecuteTime": {
     "end_time": "2022-10-13T02:28:41.017060Z",
     "start_time": "2022-10-13T02:28:40.999881Z"
    }
   },
   "outputs": [
    {
     "data": {
      "text/plain": [
       "'a::b::guido'"
      ]
     },
     "execution_count": 4,
     "metadata": {},
     "output_type": "execute_result"
    }
   ],
   "source": [
    "first, second, third = pieces\n",
    "first + '::' + second + '::' + third"
   ]
  },
  {
   "cell_type": "markdown",
   "id": "891b6406",
   "metadata": {},
   "source": [
    "## string.join()"
   ]
  },
  {
   "cell_type": "code",
   "execution_count": 5,
   "id": "fc5d5a06",
   "metadata": {
    "ExecuteTime": {
     "end_time": "2022-10-13T02:28:49.637541Z",
     "start_time": "2022-10-13T02:28:49.625091Z"
    }
   },
   "outputs": [
    {
     "data": {
      "text/plain": [
       "'a::b::guido'"
      ]
     },
     "execution_count": 5,
     "metadata": {},
     "output_type": "execute_result"
    }
   ],
   "source": [
    "'::'.join(pieces) # cc：这个用法挺常用的。"
   ]
  },
  {
   "cell_type": "code",
   "execution_count": 6,
   "id": "07fac953",
   "metadata": {
    "ExecuteTime": {
     "end_time": "2022-10-13T02:29:12.044620Z",
     "start_time": "2022-10-13T02:29:12.035059Z"
    }
   },
   "outputs": [
    {
     "data": {
      "text/plain": [
       "True"
      ]
     },
     "execution_count": 6,
     "metadata": {},
     "output_type": "execute_result"
    }
   ],
   "source": [
    "'guido' in val # 判断sub string是否存在"
   ]
  },
  {
   "cell_type": "markdown",
   "id": "96ef15ed",
   "metadata": {
    "ExecuteTime": {
     "end_time": "2023-01-17T01:32:18.272593Z",
     "start_time": "2023-01-17T01:32:18.269911Z"
    }
   },
   "source": [
    "## string.index()"
   ]
  },
  {
   "cell_type": "code",
   "execution_count": 8,
   "id": "ca9ad8e6",
   "metadata": {
    "ExecuteTime": {
     "end_time": "2022-10-13T07:00:56.621420Z",
     "start_time": "2022-10-13T07:00:56.608560Z"
    }
   },
   "outputs": [
    {
     "data": {
      "text/plain": [
       "1"
      ]
     },
     "execution_count": 8,
     "metadata": {},
     "output_type": "execute_result"
    }
   ],
   "source": [
    "val.index(',') # 第一次出现的索引位置，与find不同，找不到就抛出异常。\n"
   ]
  },
  {
   "cell_type": "markdown",
   "id": "23c99786",
   "metadata": {
    "ExecuteTime": {
     "end_time": "2023-01-17T01:32:43.883220Z",
     "start_time": "2023-01-17T01:32:43.880451Z"
    }
   },
   "source": [
    "## string.find()"
   ]
  },
  {
   "cell_type": "code",
   "execution_count": 9,
   "id": "09973713",
   "metadata": {
    "ExecuteTime": {
     "end_time": "2022-10-13T07:01:06.690717Z",
     "start_time": "2022-10-13T07:01:06.671549Z"
    }
   },
   "outputs": [
    {
     "data": {
      "text/plain": [
       "-1"
      ]
     },
     "execution_count": 9,
     "metadata": {},
     "output_type": "execute_result"
    }
   ],
   "source": [
    "val.find(':') # 找不到返回-1\n"
   ]
  },
  {
   "cell_type": "markdown",
   "id": "897cb953",
   "metadata": {},
   "source": [
    "## string.count()"
   ]
  },
  {
   "cell_type": "code",
   "execution_count": 10,
   "id": "88d64d30",
   "metadata": {
    "ExecuteTime": {
     "end_time": "2022-10-13T07:01:14.752429Z",
     "start_time": "2022-10-13T07:01:14.741334Z"
    }
   },
   "outputs": [
    {
     "data": {
      "text/plain": [
       "2"
      ]
     },
     "execution_count": 10,
     "metadata": {},
     "output_type": "execute_result"
    }
   ],
   "source": [
    " val.count(',') # 计算某个字符出现次数\n"
   ]
  },
  {
   "cell_type": "markdown",
   "id": "dd1ab463",
   "metadata": {},
   "source": [
    "## string.replace()"
   ]
  },
  {
   "cell_type": "code",
   "execution_count": 11,
   "id": "d975a378",
   "metadata": {
    "ExecuteTime": {
     "end_time": "2022-10-13T07:01:27.157583Z",
     "start_time": "2022-10-13T07:01:27.142930Z"
    }
   },
   "outputs": [
    {
     "name": "stdout",
     "output_type": "stream",
     "text": [
      "a::b::  guido\n",
      "ab  guido\n"
     ]
    }
   ],
   "source": [
    "print(val.replace(',', '::')) # 替换\n",
    "print(val.replace(',', ''))"
   ]
  },
  {
   "cell_type": "markdown",
   "id": "4918e2e5",
   "metadata": {},
   "source": [
    "## 正则表达式"
   ]
  },
  {
   "cell_type": "code",
   "execution_count": 7,
   "id": "890e1c70",
   "metadata": {
    "ExecuteTime": {
     "end_time": "2023-01-17T01:37:47.411782Z",
     "start_time": "2023-01-17T01:37:47.407795Z"
    }
   },
   "outputs": [
    {
     "data": {
      "text/plain": [
       "['foo', 'bar', 'baz', 'qux']"
      ]
     },
     "execution_count": 7,
     "metadata": {},
     "output_type": "execute_result"
    }
   ],
   "source": [
    "text = \"foo   bar\\t baz  \\tqux\"\n",
    "re.split('\\s+', text)\n",
    "# cc：这个正则挺有用，排除字符串“异常字段”，并顺便split成列表。"
   ]
  },
  {
   "cell_type": "code",
   "execution_count": 15,
   "id": "3dedde60",
   "metadata": {
    "ExecuteTime": {
     "end_time": "2022-10-13T07:05:08.711515Z",
     "start_time": "2022-10-13T07:05:08.702571Z"
    }
   },
   "outputs": [
    {
     "data": {
      "text/plain": [
       "['foo', 'bar', 'baz', 'qux']"
      ]
     },
     "execution_count": 15,
     "metadata": {},
     "output_type": "execute_result"
    }
   ],
   "source": [
    "regex = re.compile('\\s+')\n",
    "regex.split(text)"
   ]
  },
  {
   "cell_type": "code",
   "execution_count": 16,
   "id": "386988c9",
   "metadata": {
    "ExecuteTime": {
     "end_time": "2022-10-13T07:05:25.667503Z",
     "start_time": "2022-10-13T07:05:25.659426Z"
    }
   },
   "outputs": [
    {
     "data": {
      "text/plain": [
       "['   ', '\\t ', '  \\t']"
      ]
     },
     "execution_count": 16,
     "metadata": {},
     "output_type": "execute_result"
    }
   ],
   "source": [
    "regex.findall(text) # 找到所有匹配'\\s+'的内容\n"
   ]
  },
  {
   "cell_type": "code",
   "execution_count": 17,
   "id": "b6daee64",
   "metadata": {
    "ExecuteTime": {
     "end_time": "2022-10-13T07:06:06.555714Z",
     "start_time": "2022-10-13T07:06:06.544374Z"
    }
   },
   "outputs": [
    {
     "data": {
      "text/plain": [
       "['dave@google.com', 'steve@gmail.com', 'rob@gmail.com', 'ryan@yahoo.com']"
      ]
     },
     "execution_count": 17,
     "metadata": {},
     "output_type": "execute_result"
    }
   ],
   "source": [
    "text = \"\"\"Dave dave@google.com\n",
    "Steve steve@gmail.com\n",
    "Rob rob@gmail.com\n",
    "Ryan ryan@yahoo.com\n",
    "\"\"\"\n",
    "pattern = r'[A-Z0-9._%+-]+@[A-Z0-9.-]+\\.[A-Z]{2,4}'\n",
    "regex = re.compile(pattern, flags=re.IGNORECASE) # 忽略大小写\n",
    "regex.findall(text)"
   ]
  },
  {
   "cell_type": "code",
   "execution_count": 18,
   "id": "1a210dc2",
   "metadata": {
    "ExecuteTime": {
     "end_time": "2022-10-13T07:06:32.000007Z",
     "start_time": "2022-10-13T07:06:31.988234Z"
    }
   },
   "outputs": [
    {
     "name": "stdout",
     "output_type": "stream",
     "text": [
      "<re.Match object; span=(5, 20), match='dave@google.com'>\n"
     ]
    },
    {
     "data": {
      "text/plain": [
       "'dave@google.com'"
      ]
     },
     "execution_count": 18,
     "metadata": {},
     "output_type": "execute_result"
    }
   ],
   "source": [
    "m = regex.search(text)\n",
    "print(m)\n",
    "text[m.start():m.end()]"
   ]
  },
  {
   "cell_type": "code",
   "execution_count": 19,
   "id": "4ceaaf5d",
   "metadata": {
    "ExecuteTime": {
     "end_time": "2022-10-13T07:08:31.471581Z",
     "start_time": "2022-10-13T07:08:31.466007Z"
    }
   },
   "outputs": [
    {
     "name": "stdout",
     "output_type": "stream",
     "text": [
      "None\n"
     ]
    }
   ],
   "source": [
    "print(regex.match(text)) # 返回None，因为它只匹配出现在字符串开头的模式。\n"
   ]
  },
  {
   "cell_type": "code",
   "execution_count": 20,
   "id": "6d50dad3",
   "metadata": {
    "ExecuteTime": {
     "end_time": "2022-10-13T07:08:38.473338Z",
     "start_time": "2022-10-13T07:08:38.467525Z"
    }
   },
   "outputs": [
    {
     "name": "stdout",
     "output_type": "stream",
     "text": [
      "Dave REDACTED\n",
      "Steve REDACTED\n",
      "Rob REDACTED\n",
      "Ryan REDACTED\n",
      "\n"
     ]
    }
   ],
   "source": [
    "print(regex.sub('REDACTED', text)) # 匹配到的模式替换为指定字符串\n"
   ]
  },
  {
   "cell_type": "code",
   "execution_count": 21,
   "id": "9d5328bb",
   "metadata": {
    "ExecuteTime": {
     "end_time": "2022-10-13T07:08:46.178806Z",
     "start_time": "2022-10-13T07:08:46.167383Z"
    }
   },
   "outputs": [
    {
     "data": {
      "text/plain": [
       "('wesm', 'bright', 'net')"
      ]
     },
     "execution_count": 21,
     "metadata": {},
     "output_type": "execute_result"
    }
   ],
   "source": [
    "pattern = r'([A-Z0-9._%+-]+)@([A-Z0-9.-]+)\\.([A-Z]{2,4})' # 用()包含group\n",
    "regex = re.compile(pattern, flags=re.IGNORECASE)\n",
    "m = regex.match('wesm@bright.net')\n",
    "m.groups()"
   ]
  },
  {
   "cell_type": "markdown",
   "id": "e02dc46c",
   "metadata": {},
   "source": [
    "# pandas中矢量化的字符串函数"
   ]
  },
  {
   "cell_type": "markdown",
   "id": "deedba17",
   "metadata": {},
   "source": [
    "## 函数汇总\n",
    "- cat\n",
    "- contains\n",
    "- count\n",
    "- endswith/startswith\n",
    "- findall\n",
    "- get\n",
    "- join\n",
    "- len\n",
    "- lower/upper\n",
    "- match\n",
    "- pad\n",
    "- center\n",
    "- repeat\n",
    "- replace\n",
    "- slice\n",
    "- split\n",
    "- strip/lstrip/rstrip"
   ]
  },
  {
   "cell_type": "markdown",
   "id": "958f7429",
   "metadata": {},
   "source": [
    "## Series.str.contains"
   ]
  },
  {
   "cell_type": "code",
   "execution_count": 10,
   "id": "081bb38b",
   "metadata": {
    "ExecuteTime": {
     "end_time": "2023-01-17T01:43:10.417922Z",
     "start_time": "2023-01-17T01:43:10.408676Z"
    }
   },
   "outputs": [
    {
     "data": {
      "text/plain": [
       "Dave     dave@google.com\n",
       "Steve    steve@gmail.com\n",
       "Rob        rob@gmail.com\n",
       "Wes                  NaN\n",
       "dtype: object"
      ]
     },
     "execution_count": 10,
     "metadata": {},
     "output_type": "execute_result"
    },
    {
     "data": {
      "text/plain": [
       "Dave     False\n",
       "Steve     True\n",
       "Rob       True\n",
       "Wes        NaN\n",
       "dtype: object"
      ]
     },
     "execution_count": 10,
     "metadata": {},
     "output_type": "execute_result"
    }
   ],
   "source": [
    "data = {'Dave': 'dave@google.com',\n",
    "        'Steve': 'steve@gmail.com',\n",
    "        'Rob': 'rob@gmail.com',\n",
    "        'Wes': np.nan}\n",
    "data = Series(data)\n",
    "data\n",
    "data.str.contains('gmail')"
   ]
  },
  {
   "cell_type": "markdown",
   "id": "03276053",
   "metadata": {},
   "source": [
    "## Series.str.findall"
   ]
  },
  {
   "cell_type": "code",
   "execution_count": 25,
   "id": "a5c55e5f",
   "metadata": {
    "ExecuteTime": {
     "end_time": "2022-10-13T07:10:13.749558Z",
     "start_time": "2022-10-13T07:10:13.739160Z"
    }
   },
   "outputs": [
    {
     "data": {
      "text/plain": [
       "Dave     [(dave, google, com)]\n",
       "Steve    [(steve, gmail, com)]\n",
       "Rob        [(rob, gmail, com)]\n",
       "Wes                        NaN\n",
       "dtype: object"
      ]
     },
     "execution_count": 25,
     "metadata": {},
     "output_type": "execute_result"
    }
   ],
   "source": [
    "# findall 直接找出匹配的正则\n",
    "pattern = '([A-Z0-9._%+-]+)@([A-Z0-9.-]+)\\\\.([A-Z]{2,4})'\n",
    "data.str.findall(pattern, flags=re.IGNORECASE)"
   ]
  },
  {
   "cell_type": "markdown",
   "id": "6219080b",
   "metadata": {
    "ExecuteTime": {
     "end_time": "2023-01-17T01:45:40.641749Z",
     "start_time": "2023-01-17T01:45:40.639771Z"
    }
   },
   "source": [
    "## Series.str.match"
   ]
  },
  {
   "cell_type": "code",
   "execution_count": 26,
   "id": "5bf0b84f",
   "metadata": {
    "ExecuteTime": {
     "end_time": "2022-10-13T07:10:26.098383Z",
     "start_time": "2022-10-13T07:10:26.089138Z"
    }
   },
   "outputs": [
    {
     "data": {
      "text/plain": [
       "Dave     True\n",
       "Steve    True\n",
       "Rob      True\n",
       "Wes       NaN\n",
       "dtype: object"
      ]
     },
     "execution_count": 26,
     "metadata": {},
     "output_type": "execute_result"
    }
   ],
   "source": [
    "# match找到后返回bool类型\n",
    "matches = data.str.match(pattern, flags=re.IGNORECASE)\n",
    "matches # 原教材与现状不一致，matches反映每一个key是否匹配。"
   ]
  },
  {
   "cell_type": "code",
   "execution_count": 27,
   "id": "d5e3c66f",
   "metadata": {
    "ExecuteTime": {
     "end_time": "2022-10-13T07:10:34.787871Z",
     "start_time": "2022-10-13T07:10:34.776520Z"
    }
   },
   "outputs": [
    {
     "data": {
      "text/plain": [
       "Dave     dave@\n",
       "Steve    steve\n",
       "Rob      rob@g\n",
       "Wes        NaN\n",
       "dtype: object"
      ]
     },
     "execution_count": 27,
     "metadata": {},
     "output_type": "execute_result"
    }
   ],
   "source": [
    "data.str[:5] # 字符串统一切片"
   ]
  },
  {
   "cell_type": "code",
   "execution_count": null,
   "id": "9953974b",
   "metadata": {},
   "outputs": [],
   "source": []
  }
 ],
 "metadata": {
  "kernelspec": {
   "display_name": "Python 3",
   "language": "python",
   "name": "python3"
  },
  "language_info": {
   "codemirror_mode": {
    "name": "ipython",
    "version": 3
   },
   "file_extension": ".py",
   "mimetype": "text/x-python",
   "name": "python",
   "nbconvert_exporter": "python",
   "pygments_lexer": "ipython3",
   "version": "3.8.8"
  },
  "toc": {
   "base_numbering": 1,
   "nav_menu": {},
   "number_sections": true,
   "sideBar": true,
   "skip_h1_title": false,
   "title_cell": "Table of Contents",
   "title_sidebar": "Contents",
   "toc_cell": false,
   "toc_position": {},
   "toc_section_display": true,
   "toc_window_display": true
  }
 },
 "nbformat": 4,
 "nbformat_minor": 5
}
