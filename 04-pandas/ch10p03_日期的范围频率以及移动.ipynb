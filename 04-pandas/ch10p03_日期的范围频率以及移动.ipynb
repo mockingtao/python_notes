{
 "cells": [
  {
   "cell_type": "markdown",
   "id": "cd7be00f",
   "metadata": {},
   "source": [
    "# 日期的范围、频率以及移动"
   ]
  },
  {
   "cell_type": "code",
   "execution_count": 1,
   "id": "c031587d",
   "metadata": {
    "ExecuteTime": {
     "end_time": "2022-10-14T06:33:18.296227Z",
     "start_time": "2022-10-14T06:33:15.724955Z"
    }
   },
   "outputs": [],
   "source": [
    "import numpy as np\n",
    "import pandas as pd\n",
    "from datetime import datetime\n",
    "from datetime import timedelta\n",
    "from dateutil.parser import parse\n",
    "from pandas import DataFrame, Series\n",
    "from pandas.tseries.offsets import Day, Hour, Minute, MonthEnd"
   ]
  },
  {
   "cell_type": "code",
   "execution_count": 9,
   "id": "3a3dc75a",
   "metadata": {
    "ExecuteTime": {
     "end_time": "2022-10-14T06:36:51.896900Z",
     "start_time": "2022-10-14T06:36:51.858850Z"
    }
   },
   "outputs": [
    {
     "data": {
      "text/plain": [
       "2011-01-02   -0.898493\n",
       "2011-01-05   -0.042470\n",
       "2011-01-07   -0.196897\n",
       "2011-01-08   -0.937957\n",
       "2011-01-10    1.979414\n",
       "2011-01-12   -1.508051\n",
       "dtype: float64"
      ]
     },
     "execution_count": 9,
     "metadata": {},
     "output_type": "execute_result"
    }
   ],
   "source": [
    "dates = [datetime(2011, 1, 2),\n",
    "         datetime(2011, 1, 5),\n",
    "         datetime(2011, 1, 7),\n",
    "         datetime(2011, 1, 8),\n",
    "         datetime(2011, 1, 10),\n",
    "         datetime(2011, 1, 12)]\n",
    "ts = Series(np.random.randn(6), index=dates)\n",
    "ts"
   ]
  },
  {
   "cell_type": "code",
   "execution_count": 4,
   "id": "9d8f95a2",
   "metadata": {
    "ExecuteTime": {
     "end_time": "2022-10-14T06:34:37.331319Z",
     "start_time": "2022-10-14T06:34:37.274031Z"
    }
   },
   "outputs": [
    {
     "name": "stdout",
     "output_type": "stream",
     "text": [
      "2011-01-02 00:00:00 2011-01-02   -0.100168\n",
      "dtype: float64\n",
      "2011-01-03 00:00:00 Series([], dtype: float64)\n",
      "2011-01-04 00:00:00 Series([], dtype: float64)\n",
      "2011-01-05 00:00:00 2011-01-05   -0.669363\n",
      "dtype: float64\n",
      "2011-01-06 00:00:00 Series([], dtype: float64)\n",
      "2011-01-07 00:00:00 2011-01-07   -0.554793\n",
      "dtype: float64\n",
      "2011-01-08 00:00:00 2011-01-08    0.004142\n",
      "dtype: float64\n",
      "2011-01-09 00:00:00 Series([], dtype: float64)\n",
      "2011-01-10 00:00:00 2011-01-10    0.069639\n",
      "dtype: float64\n",
      "2011-01-11 00:00:00 Series([], dtype: float64)\n",
      "2011-01-12 00:00:00 2011-01-12   -0.931133\n",
      "dtype: float64\n"
     ]
    }
   ],
   "source": [
    "for k, v in ts.resample('D'): # 按日重新采样，填充进去的日期设置为NA。\n",
    "    print(k, v)\n"
   ]
  },
  {
   "cell_type": "markdown",
   "id": "0c6d330f",
   "metadata": {},
   "source": [
    "## 生成日期范围"
   ]
  },
  {
   "cell_type": "code",
   "execution_count": 11,
   "id": "e69950f0",
   "metadata": {
    "ExecuteTime": {
     "end_time": "2022-10-14T06:37:52.682092Z",
     "start_time": "2022-10-14T06:37:52.640882Z"
    }
   },
   "outputs": [
    {
     "data": {
      "text/plain": [
       "DatetimeIndex(['2012-04-01', '2012-04-02', '2012-04-03', '2012-04-04',\n",
       "               '2012-04-05', '2012-04-06', '2012-04-07', '2012-04-08',\n",
       "               '2012-04-09', '2012-04-10', '2012-04-11', '2012-04-12',\n",
       "               '2012-04-13', '2012-04-14', '2012-04-15', '2012-04-16',\n",
       "               '2012-04-17', '2012-04-18', '2012-04-19', '2012-04-20',\n",
       "               '2012-04-21', '2012-04-22', '2012-04-23', '2012-04-24',\n",
       "               '2012-04-25', '2012-04-26', '2012-04-27', '2012-04-28',\n",
       "               '2012-04-29', '2012-04-30', '2012-05-01', '2012-05-02',\n",
       "               '2012-05-03', '2012-05-04', '2012-05-05', '2012-05-06',\n",
       "               '2012-05-07', '2012-05-08', '2012-05-09', '2012-05-10',\n",
       "               '2012-05-11', '2012-05-12', '2012-05-13', '2012-05-14',\n",
       "               '2012-05-15', '2012-05-16', '2012-05-17', '2012-05-18',\n",
       "               '2012-05-19', '2012-05-20', '2012-05-21', '2012-05-22',\n",
       "               '2012-05-23', '2012-05-24', '2012-05-25', '2012-05-26',\n",
       "               '2012-05-27', '2012-05-28', '2012-05-29', '2012-05-30',\n",
       "               '2012-05-31', '2012-06-01'],\n",
       "              dtype='datetime64[ns]', freq='D')"
      ]
     },
     "execution_count": 11,
     "metadata": {},
     "output_type": "execute_result"
    }
   ],
   "source": [
    "index = pd.date_range('4/1/2012', '6/1/2012')\n",
    "index"
   ]
  },
  {
   "cell_type": "code",
   "execution_count": 12,
   "id": "c7e80798",
   "metadata": {
    "ExecuteTime": {
     "end_time": "2022-10-14T06:38:06.092303Z",
     "start_time": "2022-10-14T06:38:06.042117Z"
    }
   },
   "outputs": [
    {
     "data": {
      "text/plain": [
       "DatetimeIndex(['2012-04-01', '2012-04-02', '2012-04-03', '2012-04-04',\n",
       "               '2012-04-05', '2012-04-06', '2012-04-07', '2012-04-08',\n",
       "               '2012-04-09', '2012-04-10', '2012-04-11', '2012-04-12',\n",
       "               '2012-04-13', '2012-04-14', '2012-04-15', '2012-04-16',\n",
       "               '2012-04-17', '2012-04-18', '2012-04-19', '2012-04-20'],\n",
       "              dtype='datetime64[ns]', freq='D')"
      ]
     },
     "execution_count": 12,
     "metadata": {},
     "output_type": "execute_result"
    }
   ],
   "source": [
    "pd.date_range(start='4/1/2012', periods=20) # 20天\n"
   ]
  },
  {
   "cell_type": "code",
   "execution_count": 13,
   "id": "6e872ad0",
   "metadata": {
    "ExecuteTime": {
     "end_time": "2022-10-14T06:38:17.229897Z",
     "start_time": "2022-10-14T06:38:17.195641Z"
    }
   },
   "outputs": [
    {
     "data": {
      "text/plain": [
       "DatetimeIndex(['2012-05-13', '2012-05-14', '2012-05-15', '2012-05-16',\n",
       "               '2012-05-17', '2012-05-18', '2012-05-19', '2012-05-20',\n",
       "               '2012-05-21', '2012-05-22', '2012-05-23', '2012-05-24',\n",
       "               '2012-05-25', '2012-05-26', '2012-05-27', '2012-05-28',\n",
       "               '2012-05-29', '2012-05-30', '2012-05-31', '2012-06-01'],\n",
       "              dtype='datetime64[ns]', freq='D')"
      ]
     },
     "execution_count": 13,
     "metadata": {},
     "output_type": "execute_result"
    }
   ],
   "source": [
    "pd.date_range(end='6/1/2012', periods=20) # 20天，方向向前\n"
   ]
  },
  {
   "cell_type": "code",
   "execution_count": 14,
   "id": "cbd5a50c",
   "metadata": {
    "ExecuteTime": {
     "end_time": "2022-10-14T06:38:27.359352Z",
     "start_time": "2022-10-14T06:38:27.300356Z"
    }
   },
   "outputs": [
    {
     "data": {
      "text/plain": [
       "DatetimeIndex(['2000-01-31', '2000-02-29', '2000-03-31', '2000-04-28',\n",
       "               '2000-05-31', '2000-06-30', '2000-07-31', '2000-08-31',\n",
       "               '2000-09-29', '2000-10-31', '2000-11-30'],\n",
       "              dtype='datetime64[ns]', freq='BM')"
      ]
     },
     "execution_count": 14,
     "metadata": {},
     "output_type": "execute_result"
    }
   ],
   "source": [
    "pd.date_range('1/1/2000', '12/1/2000', freq='BM') # BM = business end of month，结果调整到月底\n"
   ]
  },
  {
   "cell_type": "code",
   "execution_count": 15,
   "id": "aecc43a6",
   "metadata": {
    "ExecuteTime": {
     "end_time": "2022-10-14T06:38:53.460083Z",
     "start_time": "2022-10-14T06:38:53.421303Z"
    }
   },
   "outputs": [
    {
     "data": {
      "text/plain": [
       "DatetimeIndex(['2012-05-02 12:56:31', '2012-05-03 12:56:31',\n",
       "               '2012-05-04 12:56:31', '2012-05-05 12:56:31',\n",
       "               '2012-05-06 12:56:31'],\n",
       "              dtype='datetime64[ns]', freq='D')"
      ]
     },
     "execution_count": 15,
     "metadata": {},
     "output_type": "execute_result"
    }
   ],
   "source": [
    "pd.date_range('5/2/2012 12:56:31', periods=5) # 时分秒保留\n"
   ]
  },
  {
   "cell_type": "code",
   "execution_count": 16,
   "id": "f12f8fc6",
   "metadata": {
    "ExecuteTime": {
     "end_time": "2022-10-14T06:39:16.854021Z",
     "start_time": "2022-10-14T06:39:16.841146Z"
    }
   },
   "outputs": [
    {
     "data": {
      "text/plain": [
       "DatetimeIndex(['2012-05-02', '2012-05-03', '2012-05-04', '2012-05-05',\n",
       "               '2012-05-06'],\n",
       "              dtype='datetime64[ns]', freq='D')"
      ]
     },
     "execution_count": 16,
     "metadata": {},
     "output_type": "execute_result"
    }
   ],
   "source": [
    "pd.date_range('5/2/2012 12:56:31', periods=5, normalize=True) # 时分秒被和谐\n"
   ]
  },
  {
   "cell_type": "markdown",
   "id": "cd89597b",
   "metadata": {},
   "source": [
    "## 频率和日期偏移量"
   ]
  },
  {
   "cell_type": "code",
   "execution_count": 18,
   "id": "7d0b9d51",
   "metadata": {
    "ExecuteTime": {
     "end_time": "2022-10-14T06:39:55.390520Z",
     "start_time": "2022-10-14T06:39:55.368577Z"
    }
   },
   "outputs": [],
   "source": [
    "hour = Hour()\n",
    "four_hours = Hour(4)\n"
   ]
  },
  {
   "cell_type": "code",
   "execution_count": 21,
   "id": "71b71966",
   "metadata": {
    "ExecuteTime": {
     "end_time": "2022-10-14T06:40:39.156098Z",
     "start_time": "2022-10-14T06:40:39.111774Z"
    }
   },
   "outputs": [
    {
     "data": {
      "text/plain": [
       "DatetimeIndex(['2000-01-01 00:00:00', '2000-01-01 04:00:00',\n",
       "               '2000-01-01 08:00:00', '2000-01-01 12:00:00',\n",
       "               '2000-01-01 16:00:00', '2000-01-01 20:00:00',\n",
       "               '2000-01-02 00:00:00', '2000-01-02 04:00:00',\n",
       "               '2000-01-02 08:00:00', '2000-01-02 12:00:00',\n",
       "               '2000-01-02 16:00:00', '2000-01-02 20:00:00',\n",
       "               '2000-01-03 00:00:00', '2000-01-03 04:00:00',\n",
       "               '2000-01-03 08:00:00', '2000-01-03 12:00:00',\n",
       "               '2000-01-03 16:00:00', '2000-01-03 20:00:00'],\n",
       "              dtype='datetime64[ns]', freq='4H')"
      ]
     },
     "execution_count": 21,
     "metadata": {},
     "output_type": "execute_result"
    }
   ],
   "source": [
    "pd.date_range('1/1/2000', '1/3/2000 23:59', freq='4h') # 以4小时为间隔单位,两边闭区间。如果右面是1/4/2000 00:00，那么符合生成条件。\n"
   ]
  },
  {
   "cell_type": "code",
   "execution_count": 22,
   "id": "c7a8f0e6",
   "metadata": {
    "ExecuteTime": {
     "end_time": "2022-10-14T06:41:15.770217Z",
     "start_time": "2022-10-14T06:41:15.733504Z"
    }
   },
   "outputs": [
    {
     "data": {
      "text/plain": [
       "<150 * Minutes>"
      ]
     },
     "execution_count": 22,
     "metadata": {},
     "output_type": "execute_result"
    }
   ],
   "source": [
    "Hour(2) + Minute(30)\n"
   ]
  },
  {
   "cell_type": "code",
   "execution_count": 23,
   "id": "c5ede590",
   "metadata": {
    "ExecuteTime": {
     "end_time": "2022-10-14T06:41:27.847724Z",
     "start_time": "2022-10-14T06:41:27.806530Z"
    }
   },
   "outputs": [
    {
     "data": {
      "text/plain": [
       "DatetimeIndex(['2000-01-01 00:00:00', '2000-01-01 01:30:00',\n",
       "               '2000-01-01 03:00:00', '2000-01-01 04:30:00',\n",
       "               '2000-01-01 06:00:00', '2000-01-01 07:30:00',\n",
       "               '2000-01-01 09:00:00', '2000-01-01 10:30:00',\n",
       "               '2000-01-01 12:00:00', '2000-01-01 13:30:00'],\n",
       "              dtype='datetime64[ns]', freq='90T')"
      ]
     },
     "execution_count": 23,
     "metadata": {},
     "output_type": "execute_result"
    }
   ],
   "source": [
    "pd.date_range('1/1/2000', periods=10, freq='1h30min')\n"
   ]
  },
  {
   "cell_type": "markdown",
   "id": "35ed1644",
   "metadata": {},
   "source": [
    "### 时间序列基础频率\n",
    "\n",
    "- `D`：       每日\n",
    "- `B`：       每工作日\n",
    "- `H`：       每小时\n",
    "- `T/min`：   每分钟\n",
    "- `S`：       每秒\n",
    "- `L/ms`：    每毫秒\n",
    "- `U`：       每微秒\n",
    "- `M`：       每月最后一个日历日\n",
    "- `BM`：      每月最后一个工作日\n",
    "- `MS`：      每月第一个日历日\n",
    "- `BNS`：     每月第一个工作日\n",
    "- `W-MON`：   每月从指定的星期几开始算起\n",
    "- `WOM-1MON`：产生每月的第一、第二、第x周的周几。WOM-3FRI表示每月第三个星期五。\n",
    "- `Q-JAN`：   对于以指定月份结束的年度，每季度最后一月的最后一个日历日。\n",
    "- `BQ-JAN`：  对于以指定月份结束的年度，每季度最后一月的最后一个工作日。\n",
    "- `QS-JAN`：  对于以指定月份结束的年度，每季度最后一月的第一个日历日。\n",
    "- `BQS-JAN`： 对于以指定月份结束的年度，每季度最后一月的第一个工作日。\n",
    "- `A-JAN`：   每年指定月份的最后一个日历日 \n",
    "- `BA-JAN`：  每年指定月份的最后一个工作日\n",
    "- `AS-JAN`：  每年指定月份的第一个日历日\n",
    "- `BAS-JAN`： 每年指定月份的第一个工作日\n"
   ]
  },
  {
   "cell_type": "markdown",
   "id": "b29f7115",
   "metadata": {},
   "source": [
    "## WOM日期（Week Of Month）"
   ]
  },
  {
   "cell_type": "code",
   "execution_count": 24,
   "id": "ea3059c9",
   "metadata": {
    "ExecuteTime": {
     "end_time": "2022-10-14T06:43:48.006292Z",
     "start_time": "2022-10-14T06:43:47.958214Z"
    }
   },
   "outputs": [
    {
     "data": {
      "text/plain": [
       "DatetimeIndex(['2017-10-20', '2017-11-17', '2017-12-15'], dtype='datetime64[ns]', freq='WOM-3FRI')"
      ]
     },
     "execution_count": 24,
     "metadata": {},
     "output_type": "execute_result"
    }
   ],
   "source": [
    "rng = pd.date_range('10/1/2017', '12/31/2017', freq='WOM-3FRI') # 每月的第三个周五\n",
    "rng"
   ]
  },
  {
   "cell_type": "markdown",
   "id": "1a1891b7",
   "metadata": {},
   "source": [
    "## 移动（超前和滞后）数据"
   ]
  },
  {
   "cell_type": "code",
   "execution_count": 25,
   "id": "8ab16083",
   "metadata": {
    "ExecuteTime": {
     "end_time": "2022-10-14T06:44:39.923027Z",
     "start_time": "2022-10-14T06:44:39.854464Z"
    }
   },
   "outputs": [
    {
     "data": {
      "text/plain": [
       "2000-01-31    1.325051\n",
       "2000-02-29   -1.895597\n",
       "2000-03-31   -0.774225\n",
       "2000-04-30   -1.099923\n",
       "Freq: M, dtype: float64"
      ]
     },
     "execution_count": 25,
     "metadata": {},
     "output_type": "execute_result"
    }
   ],
   "source": [
    "ts = Series(np.random.randn(4),\n",
    "            index=pd.date_range('1/1/2000', periods=4, freq='M'))\n",
    "ts"
   ]
  },
  {
   "cell_type": "code",
   "execution_count": 26,
   "id": "04e66c6b",
   "metadata": {
    "ExecuteTime": {
     "end_time": "2022-10-14T06:45:24.717648Z",
     "start_time": "2022-10-14T06:45:24.667350Z"
    }
   },
   "outputs": [
    {
     "data": {
      "text/plain": [
       "2000-01-31         NaN\n",
       "2000-02-29         NaN\n",
       "2000-03-31    1.325051\n",
       "2000-04-30   -1.895597\n",
       "Freq: M, dtype: float64"
      ]
     },
     "execution_count": 26,
     "metadata": {},
     "output_type": "execute_result"
    }
   ],
   "source": [
    "ts.shift(2) # 数据整体往后推2步， key不动。\n"
   ]
  },
  {
   "cell_type": "code",
   "execution_count": 27,
   "id": "61fa844c",
   "metadata": {
    "ExecuteTime": {
     "end_time": "2022-10-14T06:45:50.533927Z",
     "start_time": "2022-10-14T06:45:50.487571Z"
    }
   },
   "outputs": [
    {
     "data": {
      "text/plain": [
       "2000-01-31   -0.774225\n",
       "2000-02-29   -1.099923\n",
       "2000-03-31         NaN\n",
       "2000-04-30         NaN\n",
       "Freq: M, dtype: float64"
      ]
     },
     "execution_count": 27,
     "metadata": {},
     "output_type": "execute_result"
    }
   ],
   "source": [
    "ts.shift(-2)\n"
   ]
  },
  {
   "cell_type": "code",
   "execution_count": 28,
   "id": "5693d559",
   "metadata": {
    "ExecuteTime": {
     "end_time": "2022-10-14T06:46:07.284231Z",
     "start_time": "2022-10-14T06:46:07.214153Z"
    }
   },
   "outputs": [
    {
     "data": {
      "text/plain": [
       "2000-01-31         NaN\n",
       "2000-02-29   -2.430584\n",
       "2000-03-31   -0.591566\n",
       "2000-04-30    0.420675\n",
       "Freq: M, dtype: float64"
      ]
     },
     "execution_count": 28,
     "metadata": {},
     "output_type": "execute_result"
    }
   ],
   "source": [
    "ts / ts.shift(1) - 1 # 相对于前一条记录的变化率，比如股票涨跌幅。\n",
    "\n",
    "# cc：等价于 (ts - ts.shift(1)) / ts.shift(1)"
   ]
  },
  {
   "cell_type": "code",
   "execution_count": 29,
   "id": "07b9c105",
   "metadata": {
    "ExecuteTime": {
     "end_time": "2022-10-14T06:47:51.342341Z",
     "start_time": "2022-10-14T06:47:51.315308Z"
    }
   },
   "outputs": [
    {
     "data": {
      "text/plain": [
       "2000-03-31    1.325051\n",
       "2000-04-30   -1.895597\n",
       "2000-05-31   -0.774225\n",
       "2000-06-30   -1.099923\n",
       "Freq: M, dtype: float64"
      ]
     },
     "execution_count": 29,
     "metadata": {},
     "output_type": "execute_result"
    }
   ],
   "source": [
    "ts.shift(2, freq='M') # 指定freq后调整key，加2个月。\n"
   ]
  },
  {
   "cell_type": "code",
   "execution_count": 32,
   "id": "4e3654b7",
   "metadata": {
    "ExecuteTime": {
     "end_time": "2022-10-14T06:48:42.548534Z",
     "start_time": "2022-10-14T06:48:42.509577Z"
    }
   },
   "outputs": [
    {
     "data": {
      "text/plain": [
       "2000-02-03    1.325051\n",
       "2000-03-03   -1.895597\n",
       "2000-04-03   -0.774225\n",
       "2000-05-03   -1.099923\n",
       "dtype: float64"
      ]
     },
     "execution_count": 32,
     "metadata": {},
     "output_type": "execute_result"
    }
   ],
   "source": [
    "ts.shift(3, freq='D') # 在原ts每个日期时间戳基础上偏移3天\n"
   ]
  },
  {
   "cell_type": "code",
   "execution_count": 35,
   "id": "60fbe7bd",
   "metadata": {
    "ExecuteTime": {
     "end_time": "2022-10-14T06:49:50.893511Z",
     "start_time": "2022-10-14T06:49:50.861289Z"
    }
   },
   "outputs": [
    {
     "data": {
      "text/plain": [
       "2000-02-03    1.325051\n",
       "2000-03-03   -1.895597\n",
       "2000-04-03   -0.774225\n",
       "2000-05-03   -1.099923\n",
       "dtype: float64"
      ]
     },
     "execution_count": 35,
     "metadata": {},
     "output_type": "execute_result"
    }
   ],
   "source": [
    "ts.shift(1, freq='3D') # 3D等价3天\n"
   ]
  },
  {
   "cell_type": "markdown",
   "id": "492db8ec",
   "metadata": {},
   "source": [
    "## 通过偏移量对日期进行位移"
   ]
  },
  {
   "cell_type": "code",
   "execution_count": 36,
   "id": "a8857667",
   "metadata": {
    "ExecuteTime": {
     "end_time": "2022-10-14T06:50:18.740351Z",
     "start_time": "2022-10-14T06:50:18.716351Z"
    }
   },
   "outputs": [
    {
     "data": {
      "text/plain": [
       "Timestamp('2011-11-20 00:00:00')"
      ]
     },
     "execution_count": 36,
     "metadata": {},
     "output_type": "execute_result"
    }
   ],
   "source": [
    "now = datetime(2011, 11, 17)\n",
    "now + 3 * Day()"
   ]
  },
  {
   "cell_type": "code",
   "execution_count": 37,
   "id": "455a81ee",
   "metadata": {
    "ExecuteTime": {
     "end_time": "2022-10-14T06:50:26.417815Z",
     "start_time": "2022-10-14T06:50:26.379094Z"
    }
   },
   "outputs": [
    {
     "data": {
      "text/plain": [
       "Timestamp('2011-11-30 00:00:00')"
      ]
     },
     "execution_count": 37,
     "metadata": {},
     "output_type": "execute_result"
    }
   ],
   "source": [
    "now + MonthEnd() # 移动到月底\n"
   ]
  },
  {
   "cell_type": "code",
   "execution_count": 38,
   "id": "8f00f279",
   "metadata": {
    "ExecuteTime": {
     "end_time": "2022-10-14T06:50:35.309196Z",
     "start_time": "2022-10-14T06:50:35.260844Z"
    }
   },
   "outputs": [
    {
     "data": {
      "text/plain": [
       "Timestamp('2011-12-31 00:00:00')"
      ]
     },
     "execution_count": 38,
     "metadata": {},
     "output_type": "execute_result"
    }
   ],
   "source": [
    "now + MonthEnd(2) # 推到下个月月底\n"
   ]
  },
  {
   "cell_type": "code",
   "execution_count": 39,
   "id": "e81bf3a1",
   "metadata": {
    "ExecuteTime": {
     "end_time": "2022-10-14T06:50:50.468650Z",
     "start_time": "2022-10-14T06:50:50.438576Z"
    }
   },
   "outputs": [
    {
     "name": "stdout",
     "output_type": "stream",
     "text": [
      "2011-11-30 00:00:00\n",
      "2011-10-31 00:00:00\n"
     ]
    }
   ],
   "source": [
    "offset = MonthEnd()\n",
    "print(offset.rollforward(now)) # 等价now + MonthEnd()\n",
    "print(offset.rollback(now)) # 移动到now之前那个月的月底"
   ]
  },
  {
   "cell_type": "code",
   "execution_count": 41,
   "id": "7b3455f0",
   "metadata": {
    "ExecuteTime": {
     "end_time": "2022-10-14T06:52:28.113103Z",
     "start_time": "2022-10-14T06:52:28.071344Z"
    }
   },
   "outputs": [
    {
     "data": {
      "text/plain": [
       "2000-01-15    0.369232\n",
       "2000-01-19    1.330381\n",
       "2000-01-23    0.536198\n",
       "2000-01-27   -0.535385\n",
       "2000-01-31   -0.897669\n",
       "2000-02-04   -0.916960\n",
       "2000-02-08   -0.530554\n",
       "2000-02-12    0.036835\n",
       "2000-02-16    0.738474\n",
       "2000-02-20   -1.173877\n",
       "2000-02-24   -1.805578\n",
       "2000-02-28   -1.191742\n",
       "2000-03-03    0.902833\n",
       "2000-03-07   -0.004377\n",
       "2000-03-11   -0.957413\n",
       "2000-03-15    0.981054\n",
       "2000-03-19    1.141097\n",
       "2000-03-23   -0.295033\n",
       "2000-03-27   -0.709023\n",
       "2000-03-31    0.134466\n",
       "Freq: 4D, dtype: float64"
      ]
     },
     "execution_count": 41,
     "metadata": {},
     "output_type": "execute_result"
    }
   ],
   "source": [
    "ts = Series(np.random.randn(20),\n",
    "            index=pd.date_range('1/15/2000', periods=20, freq='4d'))\n",
    "ts"
   ]
  },
  {
   "cell_type": "code",
   "execution_count": 42,
   "id": "e4fe1f4f",
   "metadata": {
    "ExecuteTime": {
     "end_time": "2022-10-14T06:52:31.452664Z",
     "start_time": "2022-10-14T06:52:31.412542Z"
    }
   },
   "outputs": [
    {
     "data": {
      "text/plain": [
       "2000-01-31    0.160552\n",
       "2000-02-29   -0.691915\n",
       "2000-03-31    0.149201\n",
       "dtype: float64"
      ]
     },
     "execution_count": 42,
     "metadata": {},
     "output_type": "execute_result"
    }
   ],
   "source": [
    "ts.groupby(offset.rollforward).mean() # 根据rollforward的结果分组并统计\n",
    "# cc：牛拜拜！！"
   ]
  },
  {
   "cell_type": "code",
   "execution_count": 43,
   "id": "af1acc82",
   "metadata": {
    "ExecuteTime": {
     "end_time": "2022-10-14T06:53:05.680817Z",
     "start_time": "2022-10-14T06:53:05.625020Z"
    }
   },
   "outputs": [
    {
     "ename": "TypeError",
     "evalue": "resample() got an unexpected keyword argument 'how'",
     "output_type": "error",
     "traceback": [
      "\u001b[0;31m---------------------------------------------------------------------------\u001b[0m",
      "\u001b[0;31mTypeError\u001b[0m                                 Traceback (most recent call last)",
      "\u001b[0;32m<ipython-input-43-73d148e61070>\u001b[0m in \u001b[0;36m<module>\u001b[0;34m\u001b[0m\n\u001b[0;32m----> 1\u001b[0;31m \u001b[0mts\u001b[0m\u001b[0;34m.\u001b[0m\u001b[0mresample\u001b[0m\u001b[0;34m(\u001b[0m\u001b[0;34m'M'\u001b[0m\u001b[0;34m,\u001b[0m \u001b[0mhow\u001b[0m\u001b[0;34m=\u001b[0m\u001b[0;34m'mean'\u001b[0m\u001b[0;34m)\u001b[0m \u001b[0;31m# 更粗暴直接的做法\u001b[0m\u001b[0;34m\u001b[0m\u001b[0;34m\u001b[0m\u001b[0m\n\u001b[0m",
      "\u001b[0;31mTypeError\u001b[0m: resample() got an unexpected keyword argument 'how'"
     ]
    }
   ],
   "source": [
    "ts.resample('M', how='mean') # 更粗暴直接的做法\n",
    "\n",
    "# cc：报错的原因是函数resample的‘how’参数已经不适用了，可以将resample(how='mean')改成resample.mean()的形式"
   ]
  },
  {
   "cell_type": "code",
   "execution_count": 44,
   "id": "fa906a80",
   "metadata": {
    "ExecuteTime": {
     "end_time": "2022-10-14T06:54:39.337985Z",
     "start_time": "2022-10-14T06:54:39.271585Z"
    }
   },
   "outputs": [
    {
     "data": {
      "text/plain": [
       "2000-01-31    0.160552\n",
       "2000-02-29   -0.691915\n",
       "2000-03-31    0.149201\n",
       "Freq: M, dtype: float64"
      ]
     },
     "execution_count": 44,
     "metadata": {},
     "output_type": "execute_result"
    }
   ],
   "source": [
    "ts.resample('M').mean()"
   ]
  },
  {
   "cell_type": "code",
   "execution_count": null,
   "id": "43d5f773",
   "metadata": {},
   "outputs": [],
   "source": []
  },
  {
   "cell_type": "code",
   "execution_count": null,
   "id": "2c63836e",
   "metadata": {},
   "outputs": [],
   "source": []
  },
  {
   "cell_type": "code",
   "execution_count": null,
   "id": "ce504989",
   "metadata": {},
   "outputs": [],
   "source": []
  },
  {
   "cell_type": "code",
   "execution_count": null,
   "id": "d184a67a",
   "metadata": {},
   "outputs": [],
   "source": []
  },
  {
   "cell_type": "code",
   "execution_count": null,
   "id": "14a4e6ea",
   "metadata": {},
   "outputs": [],
   "source": []
  },
  {
   "cell_type": "code",
   "execution_count": null,
   "id": "6bd3f8ba",
   "metadata": {},
   "outputs": [],
   "source": []
  }
 ],
 "metadata": {
  "kernelspec": {
   "display_name": "Python 3",
   "language": "python",
   "name": "python3"
  },
  "language_info": {
   "codemirror_mode": {
    "name": "ipython",
    "version": 3
   },
   "file_extension": ".py",
   "mimetype": "text/x-python",
   "name": "python",
   "nbconvert_exporter": "python",
   "pygments_lexer": "ipython3",
   "version": "3.8.8"
  }
 },
 "nbformat": 4,
 "nbformat_minor": 5
}
