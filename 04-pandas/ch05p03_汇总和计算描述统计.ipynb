{
 "cells": [
  {
   "cell_type": "markdown",
   "id": "969848d3",
   "metadata": {
    "ExecuteTime": {
     "end_time": "2022-10-11T08:10:56.344113Z",
     "start_time": "2022-10-11T08:10:55.016417Z"
    }
   },
   "source": [
    "# 汇总和计算描述统计\n"
   ]
  },
  {
   "cell_type": "code",
   "execution_count": 14,
   "id": "33ccaaae",
   "metadata": {
    "ExecuteTime": {
     "end_time": "2022-10-11T08:23:36.758838Z",
     "start_time": "2022-10-11T08:23:36.753083Z"
    }
   },
   "outputs": [],
   "source": [
    "import numpy as np\n",
    "import pandas as pd\n",
    "import tushare as ts\n",
    "from pandas import DataFrame\n",
    "from pandas import Series"
   ]
  },
  {
   "cell_type": "code",
   "execution_count": 5,
   "id": "6f8dff43",
   "metadata": {
    "ExecuteTime": {
     "end_time": "2022-10-11T08:11:05.105431Z",
     "start_time": "2022-10-11T08:11:05.080827Z"
    }
   },
   "outputs": [
    {
     "data": {
      "text/html": [
       "<div>\n",
       "<style scoped>\n",
       "    .dataframe tbody tr th:only-of-type {\n",
       "        vertical-align: middle;\n",
       "    }\n",
       "\n",
       "    .dataframe tbody tr th {\n",
       "        vertical-align: top;\n",
       "    }\n",
       "\n",
       "    .dataframe thead th {\n",
       "        text-align: right;\n",
       "    }\n",
       "</style>\n",
       "<table border=\"1\" class=\"dataframe\">\n",
       "  <thead>\n",
       "    <tr style=\"text-align: right;\">\n",
       "      <th></th>\n",
       "      <th>one</th>\n",
       "      <th>two</th>\n",
       "    </tr>\n",
       "  </thead>\n",
       "  <tbody>\n",
       "    <tr>\n",
       "      <th>a</th>\n",
       "      <td>1.40</td>\n",
       "      <td>NaN</td>\n",
       "    </tr>\n",
       "    <tr>\n",
       "      <th>b</th>\n",
       "      <td>7.10</td>\n",
       "      <td>-4.5</td>\n",
       "    </tr>\n",
       "    <tr>\n",
       "      <th>c</th>\n",
       "      <td>NaN</td>\n",
       "      <td>NaN</td>\n",
       "    </tr>\n",
       "    <tr>\n",
       "      <th>d</th>\n",
       "      <td>0.75</td>\n",
       "      <td>-1.3</td>\n",
       "    </tr>\n",
       "  </tbody>\n",
       "</table>\n",
       "</div>"
      ],
      "text/plain": [
       "    one  two\n",
       "a  1.40  NaN\n",
       "b  7.10 -4.5\n",
       "c   NaN  NaN\n",
       "d  0.75 -1.3"
      ]
     },
     "execution_count": 5,
     "metadata": {},
     "output_type": "execute_result"
    }
   ],
   "source": [
    "df = DataFrame([[1.4, np.nan],\n",
    "                [7.1, -4.5],\n",
    "                [np.nan, np.nan],\n",
    "                [0.75, -1.3]],\n",
    "               index=['a', 'b', 'c', 'd'],\n",
    "               columns=['one', 'two'])\n",
    "df"
   ]
  },
  {
   "cell_type": "code",
   "execution_count": 6,
   "id": "0c5b74af",
   "metadata": {
    "ExecuteTime": {
     "end_time": "2022-10-11T08:11:24.254589Z",
     "start_time": "2022-10-11T08:11:24.240590Z"
    }
   },
   "outputs": [
    {
     "data": {
      "text/plain": [
       "one    9.25\n",
       "two   -5.80\n",
       "dtype: float64"
      ]
     },
     "execution_count": 6,
     "metadata": {},
     "output_type": "execute_result"
    }
   ],
   "source": [
    "df.sum() # 默认沿着行方向，从上到下，也就是对每列求和。\n"
   ]
  },
  {
   "cell_type": "code",
   "execution_count": 7,
   "id": "a3a19339",
   "metadata": {
    "ExecuteTime": {
     "end_time": "2022-10-11T08:11:33.016326Z",
     "start_time": "2022-10-11T08:11:32.977846Z"
    },
    "scrolled": true
   },
   "outputs": [
    {
     "data": {
      "text/plain": [
       "a    1.40\n",
       "b    2.60\n",
       "c    0.00\n",
       "d   -0.55\n",
       "dtype: float64"
      ]
     },
     "execution_count": 7,
     "metadata": {},
     "output_type": "execute_result"
    }
   ],
   "source": [
    "df.sum(axis=1)"
   ]
  },
  {
   "cell_type": "markdown",
   "id": "690dd19d",
   "metadata": {
    "ExecuteTime": {
     "end_time": "2022-10-11T08:12:45.738571Z",
     "start_time": "2022-10-11T08:12:45.726393Z"
    }
   },
   "source": [
    "## 约简方法常用选项"
   ]
  },
  {
   "cell_type": "markdown",
   "id": "cd172944",
   "metadata": {},
   "source": [
    "\n",
    "`axis`：  轴的方向，0=从上到下行方向，1=从左到右列方向。\n",
    "\n",
    "`skipna`：排除缺失值，默认为True。\n",
    "\n",
    "`level`： 如果使用层次化索引（MultiIndex），则根据level分组约简。"
   ]
  },
  {
   "cell_type": "code",
   "execution_count": 9,
   "id": "74e852b7",
   "metadata": {
    "ExecuteTime": {
     "end_time": "2022-10-11T08:14:26.099665Z",
     "start_time": "2022-10-11T08:14:26.090179Z"
    }
   },
   "outputs": [
    {
     "data": {
      "text/plain": [
       "one    b\n",
       "two    d\n",
       "dtype: object"
      ]
     },
     "execution_count": 9,
     "metadata": {},
     "output_type": "execute_result"
    }
   ],
   "source": [
    "df.idxmax() # 每一列最大元素对应的行索引"
   ]
  },
  {
   "cell_type": "code",
   "execution_count": 10,
   "id": "004e82a8",
   "metadata": {
    "ExecuteTime": {
     "end_time": "2022-10-11T08:15:01.988724Z",
     "start_time": "2022-10-11T08:15:01.974632Z"
    }
   },
   "outputs": [
    {
     "data": {
      "text/html": [
       "<div>\n",
       "<style scoped>\n",
       "    .dataframe tbody tr th:only-of-type {\n",
       "        vertical-align: middle;\n",
       "    }\n",
       "\n",
       "    .dataframe tbody tr th {\n",
       "        vertical-align: top;\n",
       "    }\n",
       "\n",
       "    .dataframe thead th {\n",
       "        text-align: right;\n",
       "    }\n",
       "</style>\n",
       "<table border=\"1\" class=\"dataframe\">\n",
       "  <thead>\n",
       "    <tr style=\"text-align: right;\">\n",
       "      <th></th>\n",
       "      <th>one</th>\n",
       "      <th>two</th>\n",
       "    </tr>\n",
       "  </thead>\n",
       "  <tbody>\n",
       "    <tr>\n",
       "      <th>a</th>\n",
       "      <td>1.40</td>\n",
       "      <td>NaN</td>\n",
       "    </tr>\n",
       "    <tr>\n",
       "      <th>b</th>\n",
       "      <td>8.50</td>\n",
       "      <td>-4.5</td>\n",
       "    </tr>\n",
       "    <tr>\n",
       "      <th>c</th>\n",
       "      <td>NaN</td>\n",
       "      <td>NaN</td>\n",
       "    </tr>\n",
       "    <tr>\n",
       "      <th>d</th>\n",
       "      <td>9.25</td>\n",
       "      <td>-5.8</td>\n",
       "    </tr>\n",
       "  </tbody>\n",
       "</table>\n",
       "</div>"
      ],
      "text/plain": [
       "    one  two\n",
       "a  1.40  NaN\n",
       "b  8.50 -4.5\n",
       "c   NaN  NaN\n",
       "d  9.25 -5.8"
      ]
     },
     "execution_count": 10,
     "metadata": {},
     "output_type": "execute_result"
    }
   ],
   "source": [
    "df.cumsum() # cumsum函数理解，因为默认axis=0，所以沿着行方向。\n",
    "\n",
    "\n",
    "# 对于列one，\n",
    "# one['a'] = 1.4\n",
    "# one['b'] += one['a'] = 1.4 + 7.1 = 8.5\n",
    "# one['c'] = NaN不动\n",
    "# one['d'] += one['b'] = 8.5 + 0.75 = 9.25（因为one['c']为NaN，所以向上找。）"
   ]
  },
  {
   "cell_type": "code",
   "execution_count": 11,
   "id": "3f99e17e",
   "metadata": {
    "ExecuteTime": {
     "end_time": "2022-10-11T08:15:57.594555Z",
     "start_time": "2022-10-11T08:15:57.568168Z"
    }
   },
   "outputs": [
    {
     "data": {
      "text/html": [
       "<div>\n",
       "<style scoped>\n",
       "    .dataframe tbody tr th:only-of-type {\n",
       "        vertical-align: middle;\n",
       "    }\n",
       "\n",
       "    .dataframe tbody tr th {\n",
       "        vertical-align: top;\n",
       "    }\n",
       "\n",
       "    .dataframe thead th {\n",
       "        text-align: right;\n",
       "    }\n",
       "</style>\n",
       "<table border=\"1\" class=\"dataframe\">\n",
       "  <thead>\n",
       "    <tr style=\"text-align: right;\">\n",
       "      <th></th>\n",
       "      <th>one</th>\n",
       "      <th>two</th>\n",
       "    </tr>\n",
       "  </thead>\n",
       "  <tbody>\n",
       "    <tr>\n",
       "      <th>count</th>\n",
       "      <td>3.000000</td>\n",
       "      <td>2.000000</td>\n",
       "    </tr>\n",
       "    <tr>\n",
       "      <th>mean</th>\n",
       "      <td>3.083333</td>\n",
       "      <td>-2.900000</td>\n",
       "    </tr>\n",
       "    <tr>\n",
       "      <th>std</th>\n",
       "      <td>3.493685</td>\n",
       "      <td>2.262742</td>\n",
       "    </tr>\n",
       "    <tr>\n",
       "      <th>min</th>\n",
       "      <td>0.750000</td>\n",
       "      <td>-4.500000</td>\n",
       "    </tr>\n",
       "    <tr>\n",
       "      <th>25%</th>\n",
       "      <td>1.075000</td>\n",
       "      <td>-3.700000</td>\n",
       "    </tr>\n",
       "    <tr>\n",
       "      <th>50%</th>\n",
       "      <td>1.400000</td>\n",
       "      <td>-2.900000</td>\n",
       "    </tr>\n",
       "    <tr>\n",
       "      <th>75%</th>\n",
       "      <td>4.250000</td>\n",
       "      <td>-2.100000</td>\n",
       "    </tr>\n",
       "    <tr>\n",
       "      <th>max</th>\n",
       "      <td>7.100000</td>\n",
       "      <td>-1.300000</td>\n",
       "    </tr>\n",
       "  </tbody>\n",
       "</table>\n",
       "</div>"
      ],
      "text/plain": [
       "            one       two\n",
       "count  3.000000  2.000000\n",
       "mean   3.083333 -2.900000\n",
       "std    3.493685  2.262742\n",
       "min    0.750000 -4.500000\n",
       "25%    1.075000 -3.700000\n",
       "50%    1.400000 -2.900000\n",
       "75%    4.250000 -2.100000\n",
       "max    7.100000 -1.300000"
      ]
     },
     "execution_count": 11,
     "metadata": {},
     "output_type": "execute_result"
    }
   ],
   "source": [
    "df.describe()"
   ]
  },
  {
   "cell_type": "code",
   "execution_count": 12,
   "id": "22d8c2f9",
   "metadata": {
    "ExecuteTime": {
     "end_time": "2022-10-11T08:16:12.645789Z",
     "start_time": "2022-10-11T08:16:12.584457Z"
    }
   },
   "outputs": [
    {
     "data": {
      "text/plain": [
       "count     16\n",
       "unique     3\n",
       "top        a\n",
       "freq       8\n",
       "dtype: object"
      ]
     },
     "execution_count": 12,
     "metadata": {},
     "output_type": "execute_result"
    }
   ],
   "source": [
    "obj = Series(['a', 'a', 'b', 'c'] * 4)\n",
    "obj.describe() # describe可以作用于非数值型"
   ]
  },
  {
   "cell_type": "markdown",
   "id": "d8da7fa0",
   "metadata": {},
   "source": [
    "### 描述和汇总统计"
   ]
  },
  {
   "cell_type": "markdown",
   "id": "18629e07",
   "metadata": {
    "ExecuteTime": {
     "end_time": "2022-10-11T08:18:28.798619Z",
     "start_time": "2022-10-11T08:18:28.790229Z"
    }
   },
   "source": [
    "||作用|\n",
    "|-|-|\n",
    "|1|**基本属性**\n",
    "|`count`|非NA值得数量\n",
    "|`describe`|针对Series和DataFrame列计算汇总统计\n",
    "|`min/max`|最小/最大值\n",
    "|`argmin/argmax`|计算能够获取最小/最大值的索引位置（整数）\n",
    "|`idxmin/idxmax`|计算能够获取最小/最大值的索引值\n",
    "|`quantile`|计算样本的分位数（0到1）\n",
    "|`sum`|求和\n",
    "|`mean`|求平均\n",
    "|`median`|中位数\n",
    "|`mad`|根据平均值计算平均绝对离差\n",
    "|`var`|样本的方差\n",
    "|`std`|样本的标准差\n",
    "|`skew`|样本值的偏度（三阶矩）\n",
    "|`kurt`|样本值的峰度（四阶矩）\n",
    "|`cumsum`|累计和\n",
    "|`cummin/cummax`|累计最小最大值\n",
    "|`cumprod`|累计积\n",
    "|`diff`|计算一阶差分（对时间序列很有用）\n",
    "|`pct_change`|计算百分数变化"
   ]
  },
  {
   "cell_type": "markdown",
   "id": "97383f85",
   "metadata": {},
   "source": [
    "## 相关系数与协方差"
   ]
  },
  {
   "cell_type": "code",
   "execution_count": 15,
   "id": "00784903",
   "metadata": {
    "ExecuteTime": {
     "end_time": "2022-10-11T08:23:48.580089Z",
     "start_time": "2022-10-11T08:23:47.863335Z"
    }
   },
   "outputs": [
    {
     "name": "stdout",
     "output_type": "stream",
     "text": [
      "本接口即将停止更新，请尽快使用Pro版接口：https://tushare.pro/document/2\n",
      "本接口即将停止更新，请尽快使用Pro版接口：https://tushare.pro/document/2\n",
      "本接口即将停止更新，请尽快使用Pro版接口：https://tushare.pro/document/2\n"
     ]
    }
   ],
   "source": [
    "gsyh = ts.get_hist_data('601398',start='2017-01-01',end='2017-06-30') # 工商银行\n",
    "jsyh = ts.get_hist_data('601939',start='2017-01-01',end='2017-06-30') # 建设银行\n",
    "jtyh = ts.get_hist_data('601328',start='2017-01-01',end='2017-06-30') # 交通银行"
   ]
  },
  {
   "cell_type": "code",
   "execution_count": 34,
   "id": "087de178",
   "metadata": {
    "ExecuteTime": {
     "end_time": "2022-10-11T08:47:22.994662Z",
     "start_time": "2022-10-11T08:47:22.985462Z"
    }
   },
   "outputs": [],
   "source": [
    "# cc：以上接口为老接口，现在用不了了。\n",
    "ts.set_token('xxxx') # 可以注册tushare账号，初始化100积分+ 个人资料20 积分，即可有权限访问最基础的数据；\n",
    "pro = ts.pro_api()\n"
   ]
  },
  {
   "cell_type": "code",
   "execution_count": 50,
   "id": "0dc2feab",
   "metadata": {
    "ExecuteTime": {
     "end_time": "2022-10-11T08:51:56.142288Z",
     "start_time": "2022-10-11T08:51:52.175889Z"
    }
   },
   "outputs": [],
   "source": [
    "gsyh = pro.daily(ts_code='601398.SH', start_date='20200101', end_date='20200110')\n",
    "\n",
    "jsyh = pro.daily(ts_code='601939.SH', start_date='20200101', end_date='20200110')\n",
    "\n",
    "jtyh = pro.daily(ts_code='601328.SH', start_date='20200101', end_date='20200110')\n"
   ]
  },
  {
   "cell_type": "code",
   "execution_count": 53,
   "id": "f0225386",
   "metadata": {
    "ExecuteTime": {
     "end_time": "2022-10-11T08:54:17.388426Z",
     "start_time": "2022-10-11T08:54:17.354803Z"
    }
   },
   "outputs": [
    {
     "data": {
      "text/html": [
       "<div>\n",
       "<style scoped>\n",
       "    .dataframe tbody tr th:only-of-type {\n",
       "        vertical-align: middle;\n",
       "    }\n",
       "\n",
       "    .dataframe tbody tr th {\n",
       "        vertical-align: top;\n",
       "    }\n",
       "\n",
       "    .dataframe thead th {\n",
       "        text-align: right;\n",
       "    }\n",
       "</style>\n",
       "<table border=\"1\" class=\"dataframe\">\n",
       "  <thead>\n",
       "    <tr style=\"text-align: right;\">\n",
       "      <th></th>\n",
       "      <th>ts_code</th>\n",
       "      <th>trade_date</th>\n",
       "      <th>open</th>\n",
       "      <th>high</th>\n",
       "      <th>low</th>\n",
       "      <th>close</th>\n",
       "      <th>pre_close</th>\n",
       "      <th>change</th>\n",
       "      <th>pct_chg</th>\n",
       "      <th>vol</th>\n",
       "      <th>amount</th>\n",
       "    </tr>\n",
       "  </thead>\n",
       "  <tbody>\n",
       "    <tr>\n",
       "      <th>0</th>\n",
       "      <td>601398.SH</td>\n",
       "      <td>20200110</td>\n",
       "      <td>5.91</td>\n",
       "      <td>5.93</td>\n",
       "      <td>5.86</td>\n",
       "      <td>5.91</td>\n",
       "      <td>5.91</td>\n",
       "      <td>0.00</td>\n",
       "      <td>0.0000</td>\n",
       "      <td>978377.73</td>\n",
       "      <td>576580.178</td>\n",
       "    </tr>\n",
       "    <tr>\n",
       "      <th>1</th>\n",
       "      <td>601398.SH</td>\n",
       "      <td>20200109</td>\n",
       "      <td>5.95</td>\n",
       "      <td>5.96</td>\n",
       "      <td>5.88</td>\n",
       "      <td>5.91</td>\n",
       "      <td>5.91</td>\n",
       "      <td>0.00</td>\n",
       "      <td>0.0000</td>\n",
       "      <td>1377134.29</td>\n",
       "      <td>813806.686</td>\n",
       "    </tr>\n",
       "    <tr>\n",
       "      <th>2</th>\n",
       "      <td>601398.SH</td>\n",
       "      <td>20200108</td>\n",
       "      <td>5.96</td>\n",
       "      <td>5.97</td>\n",
       "      <td>5.90</td>\n",
       "      <td>5.91</td>\n",
       "      <td>6.01</td>\n",
       "      <td>-0.10</td>\n",
       "      <td>-1.6639</td>\n",
       "      <td>1585590.90</td>\n",
       "      <td>940552.725</td>\n",
       "    </tr>\n",
       "    <tr>\n",
       "      <th>3</th>\n",
       "      <td>601398.SH</td>\n",
       "      <td>20200107</td>\n",
       "      <td>5.98</td>\n",
       "      <td>6.04</td>\n",
       "      <td>5.98</td>\n",
       "      <td>6.01</td>\n",
       "      <td>5.97</td>\n",
       "      <td>0.04</td>\n",
       "      <td>0.6700</td>\n",
       "      <td>1168043.53</td>\n",
       "      <td>701615.827</td>\n",
       "    </tr>\n",
       "    <tr>\n",
       "      <th>4</th>\n",
       "      <td>601398.SH</td>\n",
       "      <td>20200106</td>\n",
       "      <td>5.96</td>\n",
       "      <td>6.05</td>\n",
       "      <td>5.95</td>\n",
       "      <td>5.97</td>\n",
       "      <td>5.99</td>\n",
       "      <td>-0.02</td>\n",
       "      <td>-0.3339</td>\n",
       "      <td>2265097.05</td>\n",
       "      <td>1359917.424</td>\n",
       "    </tr>\n",
       "    <tr>\n",
       "      <th>5</th>\n",
       "      <td>601398.SH</td>\n",
       "      <td>20200103</td>\n",
       "      <td>5.97</td>\n",
       "      <td>6.02</td>\n",
       "      <td>5.96</td>\n",
       "      <td>5.99</td>\n",
       "      <td>5.97</td>\n",
       "      <td>0.02</td>\n",
       "      <td>0.3350</td>\n",
       "      <td>1522130.47</td>\n",
       "      <td>911951.562</td>\n",
       "    </tr>\n",
       "    <tr>\n",
       "      <th>6</th>\n",
       "      <td>601398.SH</td>\n",
       "      <td>20200102</td>\n",
       "      <td>5.92</td>\n",
       "      <td>6.03</td>\n",
       "      <td>5.91</td>\n",
       "      <td>5.97</td>\n",
       "      <td>5.88</td>\n",
       "      <td>0.09</td>\n",
       "      <td>1.5306</td>\n",
       "      <td>2349493.97</td>\n",
       "      <td>1404442.753</td>\n",
       "    </tr>\n",
       "  </tbody>\n",
       "</table>\n",
       "</div>"
      ],
      "text/plain": [
       "     ts_code trade_date  open  high   low  close  pre_close  change  pct_chg  \\\n",
       "0  601398.SH   20200110  5.91  5.93  5.86   5.91       5.91    0.00   0.0000   \n",
       "1  601398.SH   20200109  5.95  5.96  5.88   5.91       5.91    0.00   0.0000   \n",
       "2  601398.SH   20200108  5.96  5.97  5.90   5.91       6.01   -0.10  -1.6639   \n",
       "3  601398.SH   20200107  5.98  6.04  5.98   6.01       5.97    0.04   0.6700   \n",
       "4  601398.SH   20200106  5.96  6.05  5.95   5.97       5.99   -0.02  -0.3339   \n",
       "5  601398.SH   20200103  5.97  6.02  5.96   5.99       5.97    0.02   0.3350   \n",
       "6  601398.SH   20200102  5.92  6.03  5.91   5.97       5.88    0.09   1.5306   \n",
       "\n",
       "          vol       amount  \n",
       "0   978377.73   576580.178  \n",
       "1  1377134.29   813806.686  \n",
       "2  1585590.90   940552.725  \n",
       "3  1168043.53   701615.827  \n",
       "4  2265097.05  1359917.424  \n",
       "5  1522130.47   911951.562  \n",
       "6  2349493.97  1404442.753  "
      ]
     },
     "execution_count": 53,
     "metadata": {},
     "output_type": "execute_result"
    }
   ],
   "source": [
    "gsyh"
   ]
  },
  {
   "cell_type": "code",
   "execution_count": 54,
   "id": "b7aa06cd",
   "metadata": {
    "ExecuteTime": {
     "end_time": "2022-10-11T08:54:38.480872Z",
     "start_time": "2022-10-11T08:54:38.452063Z"
    }
   },
   "outputs": [
    {
     "data": {
      "text/html": [
       "<div>\n",
       "<style scoped>\n",
       "    .dataframe tbody tr th:only-of-type {\n",
       "        vertical-align: middle;\n",
       "    }\n",
       "\n",
       "    .dataframe tbody tr th {\n",
       "        vertical-align: top;\n",
       "    }\n",
       "\n",
       "    .dataframe thead th {\n",
       "        text-align: right;\n",
       "    }\n",
       "</style>\n",
       "<table border=\"1\" class=\"dataframe\">\n",
       "  <thead>\n",
       "    <tr style=\"text-align: right;\">\n",
       "      <th></th>\n",
       "      <th>gsyh</th>\n",
       "      <th>jsyh</th>\n",
       "      <th>jtyh</th>\n",
       "    </tr>\n",
       "  </thead>\n",
       "  <tbody>\n",
       "    <tr>\n",
       "      <th>6</th>\n",
       "      <td>0.09</td>\n",
       "      <td>0.08</td>\n",
       "      <td>0.05</td>\n",
       "    </tr>\n",
       "    <tr>\n",
       "      <th>5</th>\n",
       "      <td>0.02</td>\n",
       "      <td>0.00</td>\n",
       "      <td>0.01</td>\n",
       "    </tr>\n",
       "    <tr>\n",
       "      <th>4</th>\n",
       "      <td>-0.02</td>\n",
       "      <td>-0.07</td>\n",
       "      <td>-0.03</td>\n",
       "    </tr>\n",
       "    <tr>\n",
       "      <th>3</th>\n",
       "      <td>0.04</td>\n",
       "      <td>-0.01</td>\n",
       "      <td>0.03</td>\n",
       "    </tr>\n",
       "    <tr>\n",
       "      <th>2</th>\n",
       "      <td>-0.10</td>\n",
       "      <td>-0.09</td>\n",
       "      <td>-0.05</td>\n",
       "    </tr>\n",
       "  </tbody>\n",
       "</table>\n",
       "</div>"
      ],
      "text/plain": [
       "   gsyh  jsyh  jtyh\n",
       "6  0.09  0.08  0.05\n",
       "5  0.02  0.00  0.01\n",
       "4 -0.02 -0.07 -0.03\n",
       "3  0.04 -0.01  0.03\n",
       "2 -0.10 -0.09 -0.05"
      ]
     },
     "execution_count": 54,
     "metadata": {},
     "output_type": "execute_result"
    }
   ],
   "source": [
    "change_df = DataFrame({'gsyh': gsyh['change'], 'jsyh': jsyh['change'], 'jtyh': jtyh['change']}, \n",
    "                      columns=['gsyh', 'jsyh', 'jtyh'])\n",
    "change_df = change_df.iloc[::-1,]\n",
    "change_df.head()"
   ]
  },
  {
   "cell_type": "code",
   "execution_count": 55,
   "id": "1155d4df",
   "metadata": {
    "ExecuteTime": {
     "end_time": "2022-10-11T08:55:22.109283Z",
     "start_time": "2022-10-11T08:55:22.096243Z"
    }
   },
   "outputs": [
    {
     "data": {
      "text/html": [
       "<div>\n",
       "<style scoped>\n",
       "    .dataframe tbody tr th:only-of-type {\n",
       "        vertical-align: middle;\n",
       "    }\n",
       "\n",
       "    .dataframe tbody tr th {\n",
       "        vertical-align: top;\n",
       "    }\n",
       "\n",
       "    .dataframe thead th {\n",
       "        text-align: right;\n",
       "    }\n",
       "</style>\n",
       "<table border=\"1\" class=\"dataframe\">\n",
       "  <thead>\n",
       "    <tr style=\"text-align: right;\">\n",
       "      <th></th>\n",
       "      <th>gsyh</th>\n",
       "      <th>jsyh</th>\n",
       "      <th>jtyh</th>\n",
       "    </tr>\n",
       "  </thead>\n",
       "  <tbody>\n",
       "    <tr>\n",
       "      <th>gsyh</th>\n",
       "      <td>1.000000</td>\n",
       "      <td>0.884864</td>\n",
       "      <td>0.953617</td>\n",
       "    </tr>\n",
       "    <tr>\n",
       "      <th>jsyh</th>\n",
       "      <td>0.884864</td>\n",
       "      <td>1.000000</td>\n",
       "      <td>0.908790</td>\n",
       "    </tr>\n",
       "    <tr>\n",
       "      <th>jtyh</th>\n",
       "      <td>0.953617</td>\n",
       "      <td>0.908790</td>\n",
       "      <td>1.000000</td>\n",
       "    </tr>\n",
       "  </tbody>\n",
       "</table>\n",
       "</div>"
      ],
      "text/plain": [
       "          gsyh      jsyh      jtyh\n",
       "gsyh  1.000000  0.884864  0.953617\n",
       "jsyh  0.884864  1.000000  0.908790\n",
       "jtyh  0.953617  0.908790  1.000000"
      ]
     },
     "execution_count": 55,
     "metadata": {},
     "output_type": "execute_result"
    }
   ],
   "source": [
    "change_df.corr() # 相关系数矩阵"
   ]
  },
  {
   "cell_type": "code",
   "execution_count": 56,
   "id": "91d80c80",
   "metadata": {
    "ExecuteTime": {
     "end_time": "2022-10-11T09:19:44.248137Z",
     "start_time": "2022-10-11T09:19:44.219853Z"
    }
   },
   "outputs": [
    {
     "data": {
      "text/plain": [
       "gsyh    1.000000\n",
       "jsyh    0.884864\n",
       "jtyh    0.953617\n",
       "dtype: float64"
      ]
     },
     "execution_count": 56,
     "metadata": {},
     "output_type": "execute_result"
    }
   ],
   "source": [
    "change_df.corrwith(change_df.gsyh) # 计算与某一列数据的相关性\n"
   ]
  },
  {
   "cell_type": "markdown",
   "id": "b1c3d8e0",
   "metadata": {},
   "source": [
    "## 唯一值、值计数以及成员资格\n",
    "\n",
    "- `isin`：        计算一个表示“Series各值是否包含于传入的值序列中”的布尔型数组\n",
    "- `unique`：      计算Series中的唯一值数组，按发现的顺序返回。\n",
    "- `value_counts`：返回一个Series，其索引为唯一值，其值为频率，按计数值降序排列。"
   ]
  },
  {
   "cell_type": "code",
   "execution_count": 57,
   "id": "c169fc98",
   "metadata": {
    "ExecuteTime": {
     "end_time": "2022-10-11T09:20:41.693427Z",
     "start_time": "2022-10-11T09:20:41.680307Z"
    }
   },
   "outputs": [
    {
     "data": {
      "text/plain": [
       "array(['c', 'a', 'd', 'b'], dtype=object)"
      ]
     },
     "execution_count": 57,
     "metadata": {},
     "output_type": "execute_result"
    }
   ],
   "source": [
    "obj = Series(['c', 'a', 'd', 'a', 'a', 'b', 'b', 'c', 'c'])\n",
    "uniques = obj.unique()\n",
    "uniques"
   ]
  },
  {
   "cell_type": "code",
   "execution_count": 58,
   "id": "c9c4a35c",
   "metadata": {
    "ExecuteTime": {
     "end_time": "2022-10-11T09:20:47.546954Z",
     "start_time": "2022-10-11T09:20:47.537549Z"
    }
   },
   "outputs": [
    {
     "data": {
      "text/plain": [
       "c    3\n",
       "a    3\n",
       "b    2\n",
       "d    1\n",
       "dtype: int64"
      ]
     },
     "execution_count": 58,
     "metadata": {},
     "output_type": "execute_result"
    }
   ],
   "source": [
    "obj.value_counts() # 计数\n"
   ]
  },
  {
   "cell_type": "code",
   "execution_count": 59,
   "id": "722d5d5e",
   "metadata": {
    "ExecuteTime": {
     "end_time": "2022-10-11T09:20:56.469389Z",
     "start_time": "2022-10-11T09:20:56.460482Z"
    }
   },
   "outputs": [
    {
     "data": {
      "text/plain": [
       "c    3\n",
       "b    2\n",
       "d    1\n",
       "a    3\n",
       "dtype: int64"
      ]
     },
     "execution_count": 59,
     "metadata": {},
     "output_type": "execute_result"
    }
   ],
   "source": [
    "pd.value_counts(obj.values, sort=False) # 统计结果不排序\n"
   ]
  },
  {
   "cell_type": "code",
   "execution_count": null,
   "id": "086c08fd",
   "metadata": {},
   "outputs": [],
   "source": []
  }
 ],
 "metadata": {
  "kernelspec": {
   "display_name": "Python 3",
   "language": "python",
   "name": "python3"
  },
  "language_info": {
   "codemirror_mode": {
    "name": "ipython",
    "version": 3
   },
   "file_extension": ".py",
   "mimetype": "text/x-python",
   "name": "python",
   "nbconvert_exporter": "python",
   "pygments_lexer": "ipython3",
   "version": "3.8.8"
  }
 },
 "nbformat": 4,
 "nbformat_minor": 5
}
